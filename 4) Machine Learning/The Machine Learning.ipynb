{
 "cells": [
  {
   "cell_type": "markdown",
   "id": "70970dbb",
   "metadata": {},
   "source": [
    "# Machine Learning\n",
    "### In this section, we will prepare our database for the machine learning process, perform linear regression, and evaluate performance.\n",
    "#### Written By: Nadav Bitran Numa and Maor Bezalel"
   ]
  },
  {
   "cell_type": "markdown",
   "id": "72cdc783",
   "metadata": {},
   "source": [
    "#### First, we will load the desired modules and datasets"
   ]
  },
  {
   "cell_type": "code",
   "execution_count": 82,
   "id": "5639aa58",
   "metadata": {},
   "outputs": [],
   "source": [
    "import pandas as pd\n",
    "import numpy as np\n",
    "from matplotlib import pyplot as plt \n",
    "\n",
    "from sklearn.model_selection import train_test_split\n",
    "from sklearn.linear_model import LinearRegression,LogisticRegression\n",
    "from sklearn.metrics import r2_score,mean_squared_error,confusion_matrix,f1_score,precision_score,recall_score,accuracy_score,make_scorer\n",
    "from sklearn.model_selection import cross_val_score\n",
    "from sklearn.preprocessing import StandardScaler\n",
    "from sklearn.model_selection import GridSearchCV\n",
    "\n",
    "from sklearn.tree import DecisionTreeClassifier\n",
    "from sklearn.neighbors import KNeighborsClassifier\n",
    "from sklearn.naive_bayes import GaussianNB\n",
    "from sklearn.ensemble import RandomForestClassifier"
   ]
  },
  {
   "cell_type": "code",
   "execution_count": 2,
   "id": "da6218fa",
   "metadata": {},
   "outputs": [],
   "source": [
    "df_Cities = pd.read_csv(\"AllCities.csv\")\n",
    "df_Cities_Env_Avg = pd.read_csv(\"AllCitiesEnvorinment (AverageFill).csv\")"
   ]
  },
  {
   "cell_type": "code",
   "execution_count": 3,
   "id": "f4434871",
   "metadata": {},
   "outputs": [],
   "source": [
    "df_Cities.Property_Type = df_Cities.Property_Type.astype('category')\n",
    "\n",
    "df_Cities.Rooms = df_Cities.Rooms.astype(\"category\")\n",
    "\n",
    "df_Cities.Floor = df_Cities.Floor.astype('category')\n",
    "\n",
    "df_Cities.Square_Meter = df_Cities.Square_Meter.astype(\"float64\")\n",
    "\n",
    "df_Cities.Price = df_Cities.Price.astype('int64')\n",
    "\n",
    "df_Cities['Sale_Date'] = pd.to_datetime(df_Cities['Sale_Date'],format='%Y-%m-%d',errors=\"coerce\")"
   ]
  },
  {
   "cell_type": "markdown",
   "id": "f14c36a5",
   "metadata": {},
   "source": [
    "# "
   ]
  },
  {
   "cell_type": "markdown",
   "id": "ac373bce",
   "metadata": {},
   "source": [
    "# Step 1: Preparing the database\n",
    "### In this part we will prepare the database for machine learning.\n",
    "+ 1) We will remove unwanted columns\n",
    "+ 2) We will unite the information of the two databases we have\n",
    "+ 3) We will perform a final treatment of the data"
   ]
  },
  {
   "cell_type": "markdown",
   "id": "01442d90",
   "metadata": {},
   "source": [
    "# "
   ]
  },
  {
   "cell_type": "markdown",
   "id": "7ceffeb5",
   "metadata": {},
   "source": [
    "**Before we start merging the two databases ,we would like to verify if there is a match between the neighborhood names of the two databases**\n",
    "\n",
    "Explanation why: a situation can arise where the first database will have a neighborhood name without the word שכונת before, while the second database will have a neighborhood name with the word שכונת before.\n",
    "In order to be able to perform the union we will have to make sure that the names are indeed the same\n",
    "\n",
    "Example: \n",
    "\n",
    "in df_Cities ---> **בן גוריון, אילת**\n",
    "\n",
    "in df_Cities_Env_Avg ---> **שכונת בן גוריון, אילת**"
   ]
  },
  {
   "cell_type": "markdown",
   "id": "d0495ec4",
   "metadata": {},
   "source": [
    "In order to find out if such cases exist, we will use the asymmetric difference operation between df_Cities_Env_Avg and df_Cities"
   ]
  },
  {
   "cell_type": "code",
   "execution_count": 4,
   "id": "62ad4d47",
   "metadata": {},
   "outputs": [
    {
     "name": "stdout",
     "output_type": "stream",
     "text": [
      "set_Cities - set_Env :  {'שכונת קרית רבין', 'הדר יוסף', 'הצפון החדש החלק הדרומי', 'שכונת הצפון הישן החלק הדרומי', 'שכונת מרכז העיר', 'שכונת משכנות גבעת זאב', 'שכונת ותיקים', 'יפו העתיקה', 'שכונת התקווה', 'שכונת רובע ט', 'שכונת קריית שרת', 'שכונת נווה שרת', \"שכונת ג'סי כהן\", 'שכונת נווה רמז', 'שכונת הצפון החדש סביבת כיכר המדינה'}\n"
     ]
    }
   ],
   "source": [
    "set_Cities = set(df_Cities.Neighborhood.unique().tolist())\n",
    "set_Env = set(df_Cities_Env_Avg.Neighborhood.unique().tolist())\n",
    "\n",
    "print(\"set_Cities - set_Env : \", set_Cities-set_Env)"
   ]
  },
  {
   "cell_type": "markdown",
   "id": "506e6eca",
   "metadata": {},
   "source": [
    "We have now received two sets of results:\n",
    "The first group: the group of neighborhoods that start with the word שכונת, which we will have to correct.\n",
    "\n",
    "The second group: the group of neighborhoods that do not begin with the word שכונת, we will conclude from this that there are neighborhoods for which we have data in the main database but not in the secondary"
   ]
  },
  {
   "cell_type": "code",
   "execution_count": 5,
   "id": "a750f18d",
   "metadata": {},
   "outputs": [],
   "source": [
    "# Removing the word שכונת in the main dataset\n",
    "updated = [neighborhood[6::] for neighborhood in df_Cities.loc[df_Cities['Neighborhood'].str.startswith('שכונת'),'Neighborhood']]\n",
    "df_Cities.loc[df_Cities['Neighborhood'].str.startswith('שכונת'),'Neighborhood'] = updated\n",
    "\n",
    "# Removing the word שכונת in the second dataset\n",
    "updated_Env = [neighborhood[6::] for neighborhood in df_Cities_Env_Avg.loc[df_Cities_Env_Avg['Neighborhood'].str.startswith('שכונת'),'Neighborhood']]\n",
    "df_Cities_Env_Avg.loc[df_Cities_Env_Avg['Neighborhood'].str.startswith('שכונת'),'Neighborhood'] = updated_Env"
   ]
  },
  {
   "cell_type": "markdown",
   "id": "7f1af082",
   "metadata": {},
   "source": [
    "## 1.1: Removing Unwanted data"
   ]
  },
  {
   "cell_type": "markdown",
   "id": "0f4b7a72",
   "metadata": {},
   "source": [
    "It can be seen that the apartment number column is not relevant information for machine learning, so we will have to get rid of it.\n",
    "In addition, we would like to extract the year of sale from the apartment price date column"
   ]
  },
  {
   "cell_type": "markdown",
   "id": "6a9ad39a",
   "metadata": {},
   "source": [
    "### 1.1.1: Removing Building Number Column"
   ]
  },
  {
   "cell_type": "code",
   "execution_count": 6,
   "id": "d54ab128",
   "metadata": {},
   "outputs": [],
   "source": [
    "df_Cities.drop(columns=\"Building_Number\",inplace=True)"
   ]
  },
  {
   "cell_type": "markdown",
   "id": "933cccdf",
   "metadata": {},
   "source": [
    "### 1.1.2: Extarcting Year Of Sale"
   ]
  },
  {
   "cell_type": "code",
   "execution_count": 7,
   "id": "b6804fab",
   "metadata": {},
   "outputs": [],
   "source": [
    "df_Cities['Sale_Year'] = df_Cities['Sale_Date'].dt.year\n",
    "df_Cities.drop(columns=['Sale_Date'],inplace=True)\n",
    "df_Cities.insert(0, 'Sale_Year', df_Cities.pop('Sale_Year'))"
   ]
  },
  {
   "cell_type": "markdown",
   "id": "13c6bbcf",
   "metadata": {},
   "source": [
    "Before we finish, we will have to ask ourselves: will the data where the name of the street is unknown help us in the machine learning process? And that answer is probably no.\n",
    "Because we want to perform the machine learning process at the apartment level (and not at the neighborhood level) we would like to further divide the street names into categories, as a result all the apartments where the street name is Unknown will be united under one category, which is wrong"
   ]
  },
  {
   "cell_type": "code",
   "execution_count": 8,
   "id": "351a9ac8",
   "metadata": {},
   "outputs": [
    {
     "data": {
      "text/html": [
       "<div>\n",
       "<style scoped>\n",
       "    .dataframe tbody tr th:only-of-type {\n",
       "        vertical-align: middle;\n",
       "    }\n",
       "\n",
       "    .dataframe tbody tr th {\n",
       "        vertical-align: top;\n",
       "    }\n",
       "\n",
       "    .dataframe thead th {\n",
       "        text-align: right;\n",
       "    }\n",
       "</style>\n",
       "<table border=\"1\" class=\"dataframe\">\n",
       "  <thead>\n",
       "    <tr style=\"text-align: right;\">\n",
       "      <th></th>\n",
       "      <th>Sale_Year</th>\n",
       "      <th>City</th>\n",
       "      <th>Neighborhood</th>\n",
       "      <th>Street</th>\n",
       "      <th>Property_Type</th>\n",
       "      <th>Rooms</th>\n",
       "      <th>Floor</th>\n",
       "      <th>Square_Meter</th>\n",
       "      <th>Price</th>\n",
       "    </tr>\n",
       "  </thead>\n",
       "  <tbody>\n",
       "    <tr>\n",
       "      <th>0</th>\n",
       "      <td>2022</td>\n",
       "      <td>אשדוד</td>\n",
       "      <td>הקריה מע\"ר</td>\n",
       "      <td>Unknown</td>\n",
       "      <td>1</td>\n",
       "      <td>5.0</td>\n",
       "      <td>8</td>\n",
       "      <td>227.0</td>\n",
       "      <td>3500000</td>\n",
       "    </tr>\n",
       "    <tr>\n",
       "      <th>1</th>\n",
       "      <td>2022</td>\n",
       "      <td>אשדוד</td>\n",
       "      <td>הקריה מע\"ר</td>\n",
       "      <td>Unknown</td>\n",
       "      <td>1</td>\n",
       "      <td>3.0</td>\n",
       "      <td>3</td>\n",
       "      <td>81.0</td>\n",
       "      <td>2370000</td>\n",
       "    </tr>\n",
       "    <tr>\n",
       "      <th>3</th>\n",
       "      <td>2022</td>\n",
       "      <td>אשדוד</td>\n",
       "      <td>הקריה מע\"ר</td>\n",
       "      <td>Unknown</td>\n",
       "      <td>1</td>\n",
       "      <td>5.0</td>\n",
       "      <td>13</td>\n",
       "      <td>137.0</td>\n",
       "      <td>3550000</td>\n",
       "    </tr>\n",
       "    <tr>\n",
       "      <th>4</th>\n",
       "      <td>2022</td>\n",
       "      <td>אשדוד</td>\n",
       "      <td>הקריה מע\"ר</td>\n",
       "      <td>Unknown</td>\n",
       "      <td>1</td>\n",
       "      <td>3.0</td>\n",
       "      <td>1</td>\n",
       "      <td>77.0</td>\n",
       "      <td>2099000</td>\n",
       "    </tr>\n",
       "    <tr>\n",
       "      <th>5</th>\n",
       "      <td>2022</td>\n",
       "      <td>אשדוד</td>\n",
       "      <td>הקריה מע\"ר</td>\n",
       "      <td>Unknown</td>\n",
       "      <td>1</td>\n",
       "      <td>5.0</td>\n",
       "      <td>3</td>\n",
       "      <td>189.0</td>\n",
       "      <td>3300000</td>\n",
       "    </tr>\n",
       "    <tr>\n",
       "      <th>...</th>\n",
       "      <td>...</td>\n",
       "      <td>...</td>\n",
       "      <td>...</td>\n",
       "      <td>...</td>\n",
       "      <td>...</td>\n",
       "      <td>...</td>\n",
       "      <td>...</td>\n",
       "      <td>...</td>\n",
       "      <td>...</td>\n",
       "    </tr>\n",
       "    <tr>\n",
       "      <th>229101</th>\n",
       "      <td>2013</td>\n",
       "      <td>תל אביב -יפו</td>\n",
       "      <td>מונטיפיורי</td>\n",
       "      <td>Unknown</td>\n",
       "      <td>1</td>\n",
       "      <td>3.0</td>\n",
       "      <td>30</td>\n",
       "      <td>65.0</td>\n",
       "      <td>2135000</td>\n",
       "    </tr>\n",
       "    <tr>\n",
       "      <th>229102</th>\n",
       "      <td>2013</td>\n",
       "      <td>תל אביב -יפו</td>\n",
       "      <td>מונטיפיורי</td>\n",
       "      <td>Unknown</td>\n",
       "      <td>1</td>\n",
       "      <td>3.0</td>\n",
       "      <td>30</td>\n",
       "      <td>68.0</td>\n",
       "      <td>2250000</td>\n",
       "    </tr>\n",
       "    <tr>\n",
       "      <th>229103</th>\n",
       "      <td>2013</td>\n",
       "      <td>תל אביב -יפו</td>\n",
       "      <td>מונטיפיורי</td>\n",
       "      <td>Unknown</td>\n",
       "      <td>1</td>\n",
       "      <td>3.0</td>\n",
       "      <td>30</td>\n",
       "      <td>76.0</td>\n",
       "      <td>2205000</td>\n",
       "    </tr>\n",
       "    <tr>\n",
       "      <th>229104</th>\n",
       "      <td>2013</td>\n",
       "      <td>תל אביב -יפו</td>\n",
       "      <td>מונטיפיורי</td>\n",
       "      <td>Unknown</td>\n",
       "      <td>1</td>\n",
       "      <td>3.0</td>\n",
       "      <td>30</td>\n",
       "      <td>69.0</td>\n",
       "      <td>2250000</td>\n",
       "    </tr>\n",
       "    <tr>\n",
       "      <th>229105</th>\n",
       "      <td>2012</td>\n",
       "      <td>תל אביב -יפו</td>\n",
       "      <td>מונטיפיורי</td>\n",
       "      <td>Unknown</td>\n",
       "      <td>1</td>\n",
       "      <td>3.0</td>\n",
       "      <td>30</td>\n",
       "      <td>72.0</td>\n",
       "      <td>2120000</td>\n",
       "    </tr>\n",
       "  </tbody>\n",
       "</table>\n",
       "<p>25915 rows × 9 columns</p>\n",
       "</div>"
      ],
      "text/plain": [
       "        Sale_Year          City Neighborhood   Street Property_Type Rooms  \\\n",
       "0            2022         אשדוד   הקריה מע\"ר  Unknown             1   5.0   \n",
       "1            2022         אשדוד   הקריה מע\"ר  Unknown             1   3.0   \n",
       "3            2022         אשדוד   הקריה מע\"ר  Unknown             1   5.0   \n",
       "4            2022         אשדוד   הקריה מע\"ר  Unknown             1   3.0   \n",
       "5            2022         אשדוד   הקריה מע\"ר  Unknown             1   5.0   \n",
       "...           ...           ...          ...      ...           ...   ...   \n",
       "229101       2013  תל אביב -יפו   מונטיפיורי  Unknown             1   3.0   \n",
       "229102       2013  תל אביב -יפו   מונטיפיורי  Unknown             1   3.0   \n",
       "229103       2013  תל אביב -יפו   מונטיפיורי  Unknown             1   3.0   \n",
       "229104       2013  תל אביב -יפו   מונטיפיורי  Unknown             1   3.0   \n",
       "229105       2012  תל אביב -יפו   מונטיפיורי  Unknown             1   3.0   \n",
       "\n",
       "       Floor  Square_Meter    Price  \n",
       "0          8         227.0  3500000  \n",
       "1          3          81.0  2370000  \n",
       "3         13         137.0  3550000  \n",
       "4          1          77.0  2099000  \n",
       "5          3         189.0  3300000  \n",
       "...      ...           ...      ...  \n",
       "229101    30          65.0  2135000  \n",
       "229102    30          68.0  2250000  \n",
       "229103    30          76.0  2205000  \n",
       "229104    30          69.0  2250000  \n",
       "229105    30          72.0  2120000  \n",
       "\n",
       "[25915 rows x 9 columns]"
      ]
     },
     "execution_count": 8,
     "metadata": {},
     "output_type": "execute_result"
    }
   ],
   "source": [
    "df_Cities[df_Cities.Street=='Unknown']"
   ]
  },
  {
   "cell_type": "markdown",
   "id": "2a2db611",
   "metadata": {},
   "source": [
    "### 1.1.3: Removing apartments with an unknown street name  "
   ]
  },
  {
   "cell_type": "code",
   "execution_count": 9,
   "id": "2c1771a5",
   "metadata": {},
   "outputs": [],
   "source": [
    "df_Cities.drop(index=df_Cities[df_Cities['Street']=='Unknown'].index,inplace=True)\n",
    "df_Cities.reset_index(drop=True,inplace=True)\n"
   ]
  },
  {
   "cell_type": "markdown",
   "id": "f6635d3c",
   "metadata": {},
   "source": [
    "# "
   ]
  },
  {
   "cell_type": "markdown",
   "id": "9d30b3ce",
   "metadata": {},
   "source": [
    "## 1.2: Uniting the information of the two databases"
   ]
  },
  {
   "cell_type": "markdown",
   "id": "1969f752",
   "metadata": {},
   "source": [
    "This process is complex, because we want to \"replicate\" the values ​​of each row in the second database for a large amount of values ​​that belong to the same neighborhood in the main database.\n",
    "Since there is no specific function that can handle this case for us, we will have to handle it \"manually\" using loops"
   ]
  },
  {
   "cell_type": "code",
   "execution_count": 10,
   "id": "869b2a17",
   "metadata": {},
   "outputs": [],
   "source": [
    "# Adding columns from the second database, and resetting them to NaN values\n",
    "new_columns = df_Cities_Env_Avg.columns[2::]\n",
    "df_Cities[new_columns] = np.nan\n",
    "\n",
    "# Loop through all the neighborhoods in the second database,\n",
    "for row in range(len(df_Cities_Env_Avg)):\n",
    "    \n",
    "    # while transferring the data from there to all the records \n",
    "    # in the main database that belong to that neighborhood\n",
    "    for col in df_Cities_Env_Avg.columns.tolist()[2::]:\n",
    "        \n",
    "        df_Cities.loc[df_Cities.Neighborhood==df_Cities_Env_Avg.loc[row,'Neighborhood'],col] = df_Cities_Env_Avg.loc[row,col]"
   ]
  },
  {
   "cell_type": "markdown",
   "id": "cdb2ee5d",
   "metadata": {},
   "source": [
    "**And it works!**"
   ]
  },
  {
   "cell_type": "code",
   "execution_count": 11,
   "id": "263203f4",
   "metadata": {},
   "outputs": [
    {
     "name": "stdout",
     "output_type": "stream",
     "text": [
      "<class 'pandas.core.frame.DataFrame'>\n",
      "RangeIndex: 203191 entries, 0 to 203190\n",
      "Data columns (total 21 columns):\n",
      " #   Column                               Non-Null Count   Dtype   \n",
      "---  ------                               --------------   -----   \n",
      " 0   Sale_Year                            203191 non-null  int64   \n",
      " 1   City                                 203191 non-null  object  \n",
      " 2   Neighborhood                         203191 non-null  object  \n",
      " 3   Street                               203191 non-null  object  \n",
      " 4   Property_Type                        203191 non-null  category\n",
      " 5   Rooms                                203191 non-null  category\n",
      " 6   Floor                                203191 non-null  category\n",
      " 7   Square_Meter                         203191 non-null  float64 \n",
      " 8   Price                                203191 non-null  int64   \n",
      " 9   Schools                              200147 non-null  float64 \n",
      " 10  Kindergartens_And_Dormitories        200147 non-null  float64 \n",
      " 11  Non_Formal_Educational_Institutions  200147 non-null  float64 \n",
      " 12  Education_Average_Distance           200147 non-null  float64 \n",
      " 13  Green_Areas_SQM                      200147 non-null  float64 \n",
      " 14  Parks_And_Gardens                    200147 non-null  float64 \n",
      " 15  Green_Areas_Average_Distance         200147 non-null  float64 \n",
      " 16  Parks_And_Gardens_Average_Distance   200147 non-null  float64 \n",
      " 17  Public_Institutions                  200147 non-null  float64 \n",
      " 18  Community_Institutions               200147 non-null  float64 \n",
      " 19  Religious_Institutions               200147 non-null  float64 \n",
      " 20  Public_Building_Average_Distance     200147 non-null  float64 \n",
      "dtypes: category(3), float64(13), int64(2), object(3)\n",
      "memory usage: 28.5+ MB\n"
     ]
    }
   ],
   "source": [
    "df_Cities.info()"
   ]
  },
  {
   "cell_type": "markdown",
   "id": "5aedbf1c",
   "metadata": {},
   "source": [
    "### Uniting the information of the two databases - Conclusions:\n",
    "+ We understood the importance of removing the apartments that do not have a street name\n",
    "\n",
    "\n",
    "\n",
    "+ It can be seen that after merging the two databases, there are about 25K missing values ​​in columns 9 to 20. The reason is that these values ​​are probably under a neighborhood that **did not have** such data on the site\n",
    "\n",
    "Therefore, we will have to delete this data in the next step"
   ]
  },
  {
   "cell_type": "markdown",
   "id": "b2268a2d",
   "metadata": {},
   "source": [
    "# "
   ]
  },
  {
   "cell_type": "markdown",
   "id": "d44a3949",
   "metadata": {},
   "source": [
    "## 1.3: Final treatment of the data"
   ]
  },
  {
   "cell_type": "markdown",
   "id": "c5a56bba",
   "metadata": {},
   "source": [
    "### 1.3.1: Converting the city column to a categorical variable with numeric values"
   ]
  },
  {
   "cell_type": "markdown",
   "id": "7e1693f5",
   "metadata": {},
   "source": [
    "**Before**"
   ]
  },
  {
   "cell_type": "code",
   "execution_count": 12,
   "id": "b911816b",
   "metadata": {},
   "outputs": [
    {
     "data": {
      "text/plain": [
       "תל אביב -יפו    63547\n",
       "חולון           27254\n",
       "אשדוד           21091\n",
       "בת ים           20435\n",
       "הרצלייה         12910\n",
       "גבעתיים          9794\n",
       "רעננה            9488\n",
       "הוד השרון        8408\n",
       "ראש העין         7190\n",
       "נס ציונה         5295\n",
       "רמת השרון        5172\n",
       "אור יהודה        4105\n",
       "שדרות            2658\n",
       "אופקים           2523\n",
       "אור עקיבא        1830\n",
       "אילת             1218\n",
       "גבעת זאב          273\n",
       "Name: City, dtype: int64"
      ]
     },
     "execution_count": 12,
     "metadata": {},
     "output_type": "execute_result"
    }
   ],
   "source": [
    "df_Cities.City.value_counts()"
   ]
  },
  {
   "cell_type": "code",
   "execution_count": 13,
   "id": "579ff115",
   "metadata": {},
   "outputs": [],
   "source": [
    "uniques = df_Cities.City.unique()\n",
    "numbers = list(range(len(uniques)))\n",
    "dictionary_rep = dict(zip(uniques,numbers))\n",
    "df_Cities.City.replace(dictionary_rep,inplace=True)"
   ]
  },
  {
   "cell_type": "markdown",
   "id": "f66a5d2b",
   "metadata": {},
   "source": [
    "**After**"
   ]
  },
  {
   "cell_type": "code",
   "execution_count": 14,
   "id": "cdca0c51",
   "metadata": {},
   "outputs": [
    {
     "data": {
      "text/plain": [
       "16    63547\n",
       "7     27254\n",
       "0     21091\n",
       "1     20435\n",
       "5     12910\n",
       "3      9794\n",
       "12     9488\n",
       "6      8408\n",
       "14     7190\n",
       "8      5295\n",
       "13     5172\n",
       "11     4105\n",
       "15     2658\n",
       "9      2523\n",
       "10     1830\n",
       "2      1218\n",
       "4       273\n",
       "Name: City, dtype: int64"
      ]
     },
     "execution_count": 14,
     "metadata": {},
     "output_type": "execute_result"
    }
   ],
   "source": [
    "df_Cities.City.value_counts()"
   ]
  },
  {
   "cell_type": "markdown",
   "id": "cd140985",
   "metadata": {},
   "source": [
    "### 1.3.2:  Converting the neighborhood column to a categorical variable with numeric values"
   ]
  },
  {
   "cell_type": "code",
   "execution_count": 15,
   "id": "f96a2e3b",
   "metadata": {},
   "outputs": [
    {
     "data": {
      "text/plain": [
       "248"
      ]
     },
     "execution_count": 15,
     "metadata": {},
     "output_type": "execute_result"
    }
   ],
   "source": [
    "uniques = df_Cities.Neighborhood.unique()\n",
    "len(uniques)"
   ]
  },
  {
   "cell_type": "markdown",
   "id": "b9f59924",
   "metadata": {},
   "source": [
    "As you can see, there are 248 unique neighborhood names in our database.\n"
   ]
  },
  {
   "cell_type": "markdown",
   "id": "06fec56c",
   "metadata": {},
   "source": [
    "Can we in this case perform the same conversion as we did in the city column?\n",
    "\n",
    "**The answer is no!**\n",
    "\n",
    "Explanation: Imagine that in Eilat there is data on apartments in the Ben Gurion neighborhood,\n",
    "But the Ben Gurion neighborhood is also in Ashdod.\n",
    "If we perform a normal conversion like we did in the city column, a situation will be created where all the data on these two different neighborhoods will be united and sit under the same category.\n",
    "Therefore we will have to perform a more complex conversion, which takes this problem into account and solves it"
   ]
  },
  {
   "cell_type": "code",
   "execution_count": 16,
   "id": "9e78d8f0",
   "metadata": {
    "scrolled": true
   },
   "outputs": [
    {
     "name": "stdout",
     "output_type": "stream",
     "text": [
      "256\n"
     ]
    }
   ],
   "source": [
    "# Creating uniques variable, \n",
    "# that will count all the unique neighborhoods per city\n",
    "uniques = 0\n",
    "\n",
    "# Loop through all the special city names we have\n",
    "for city in df_Cities.City.unique().tolist():\n",
    "    \n",
    "    # temp_unique -  contains all the special neighborhoods in the current city\n",
    "    temp_unique = df_Cities[df_Cities.City==city].Neighborhood.unique().tolist()\n",
    "    # temp_number - Creates serial numbers for neighborhoods in the current city\n",
    "    temp_number = [(x + uniques) for x in list(range(len(temp_unique)))]\n",
    "    \n",
    "    # Combine these two variables into a dictionary data structure\n",
    "    temp_dictionary = dict(zip(temp_unique,temp_number))\n",
    "    \n",
    "    uniques+=len(temp_number)\n",
    "    # Place the serial values for all the values that belong to the current city\n",
    "    df_Cities.loc[df_Cities.City == city, \"Neighborhood\"] = df_Cities.loc[df_Cities.City == city, \"Neighborhood\"].replace(temp_dictionary)\n",
    "    \n",
    "print(uniques)"
   ]
  },
  {
   "cell_type": "markdown",
   "id": "fdcb534b",
   "metadata": {},
   "source": [
    "Now we got 256 special neighborhoods and not 251.\n",
    "It can be concluded from this that there are 5 neighborhoods that appear in at least two different cities, and now they will be cataloged separately"
   ]
  },
  {
   "cell_type": "markdown",
   "id": "a72a9d45",
   "metadata": {},
   "source": [
    "### 1.3.3: Converting the street column to a categorical variable with numeric values"
   ]
  },
  {
   "cell_type": "code",
   "execution_count": 17,
   "id": "4f2e53d3",
   "metadata": {},
   "outputs": [
    {
     "data": {
      "text/plain": [
       "3037"
      ]
     },
     "execution_count": 17,
     "metadata": {},
     "output_type": "execute_result"
    }
   ],
   "source": [
    "uniques = df_Cities.Street.unique()\n",
    "len(uniques)"
   ]
  },
  {
   "cell_type": "markdown",
   "id": "4bbf00e2",
   "metadata": {},
   "source": [
    "As you can see, we have 3037 special streets\n",
    "\n",
    "But, this case is the same as the case in the neighborhoods column!, so we will have to do the same treatment"
   ]
  },
  {
   "cell_type": "code",
   "execution_count": 18,
   "id": "aa52f9ce",
   "metadata": {},
   "outputs": [
    {
     "name": "stdout",
     "output_type": "stream",
     "text": [
      "4795\n"
     ]
    }
   ],
   "source": [
    "uniques = 0\n",
    "for i in df_Cities.City.unique().tolist():\n",
    "    \n",
    "    # temp_unique -  contains all the special streets in the current city\n",
    "    temp_unique = df_Cities[df_Cities.City==i].Street.unique().tolist()\n",
    "    \n",
    "    # temp_number - Creates serial numbers for streets in the current city\n",
    "    temp_number = [(x + uniques) for x in list(range(len(temp_unique)))]\n",
    "    \n",
    "    # Combine these two variables into a dictionary data structure\n",
    "    temp_dictionary = dict(zip(temp_unique,temp_number))\n",
    "    uniques+=len(temp_number)\n",
    "    \n",
    "    # Place the serial values for all the values that belong to the current city\n",
    "    df_Cities.loc[df_Cities.City == i, \"Street\"] = df_Cities.loc[df_Cities.City == i, \"Street\"].replace(temp_dictionary)\n",
    "    \n",
    "print(uniques)"
   ]
  },
  {
   "cell_type": "markdown",
   "id": "4391a228",
   "metadata": {},
   "source": [
    "We received 4795 special streets!\n",
    "This means that we found more than 1500 street names whose names are found in at least 2 different cities.\n",
    "This difference is significant and will help us later"
   ]
  },
  {
   "cell_type": "markdown",
   "id": "91a01b66",
   "metadata": {},
   "source": [
    "Now, we will remove the data on neighborhoods for which there is no information on columns 9-20"
   ]
  },
  {
   "cell_type": "code",
   "execution_count": 176,
   "id": "84d4947f",
   "metadata": {
    "scrolled": true
   },
   "outputs": [],
   "source": [
    "df_Cities.dropna(axis=0,inplace=True)\n",
    "df_Cities.reset_index(drop=True,inplace=True)\n",
    "\n",
    "\n",
    "df_Cities.Neighborhood = df_Cities.Neighborhood.astype('category')\n",
    "df_Cities.Street = df_Cities.Street.astype('category')\n",
    "\n",
    "df_Cities.Rooms = df_Cities.Rooms.astype('int64')\n",
    "df_Cities.Rooms = df_Cities.Rooms.astype('category')\n",
    "\n",
    "df_Cities.Floor = df_Cities.Floor.astype('int64')\n",
    "df_Cities.Floor = df_Cities.Floor.astype('category')\n"
   ]
  },
  {
   "cell_type": "markdown",
   "id": "f9382695",
   "metadata": {},
   "source": [
    "## Feature Engineering"
   ]
  },
  {
   "cell_type": "code",
   "execution_count": 20,
   "id": "ec2bdd2e",
   "metadata": {},
   "outputs": [],
   "source": [
    "df_Cities['Institutions'] = df_Cities['Public_Institutions'] + df_Cities['Community_Institutions'] + df_Cities['Religious_Institutions']\n",
    "df_Cities['Schools_Institutions'] = df_Cities['Schools'] + df_Cities['Non_Formal_Educational_Institutions']\n",
    "df_Cities.drop(columns=['Public_Institutions','Community_Institutions','Religious_Institutions',\n",
    "                       'Schools','Non_Formal_Educational_Institutions',],inplace=True)"
   ]
  },
  {
   "cell_type": "markdown",
   "id": "7c1e4395",
   "metadata": {},
   "source": [
    "# Step 2: The Machine Learning Process"
   ]
  },
  {
   "cell_type": "markdown",
   "id": "a72a19c5",
   "metadata": {},
   "source": [
    "## In this part we will perform the machine learning process\n",
    "+ we will extract the target column from the database\n",
    "+ we will divide the data into train and test in a ratio of 80-20\n",
    "+ we will train the model"
   ]
  },
  {
   "cell_type": "markdown",
   "id": "7efb81d6",
   "metadata": {},
   "source": [
    "## Multiple Linear Regression "
   ]
  },
  {
   "cell_type": "markdown",
   "id": "2de5e508",
   "metadata": {},
   "source": [
    "### 2.0.1: Extracting the target column from the database "
   ]
  },
  {
   "cell_type": "code",
   "execution_count": 163,
   "id": "b79ce220",
   "metadata": {},
   "outputs": [],
   "source": [
    "columns = df_Cities.columns[df_Cities.columns != 'Price']\n",
    "X = df_Cities[columns]\n",
    "y = df_Cities['Price']"
   ]
  },
  {
   "cell_type": "markdown",
   "id": "6356cd77",
   "metadata": {},
   "source": [
    "### 2.0.2: Dividing the data into train and test in a ratio of 80-20"
   ]
  },
  {
   "cell_type": "code",
   "execution_count": 164,
   "id": "8c4c533b",
   "metadata": {},
   "outputs": [],
   "source": [
    "X_train,X_test,Y_train,Y_test = train_test_split(X,y,test_size=0.2)\n",
    "\n",
    "scaler = StandardScaler().fit(X_train)\n",
    "X_train = scaler.transform(X_train)\n",
    "X_test = scaler.transform(X_test)"
   ]
  },
  {
   "cell_type": "markdown",
   "id": "7964f85a",
   "metadata": {},
   "source": [
    "### 2.0.3: Training the model"
   ]
  },
  {
   "cell_type": "code",
   "execution_count": 179,
   "id": "6795cde8",
   "metadata": {},
   "outputs": [
    {
     "name": "stdout",
     "output_type": "stream",
     "text": [
      "First Result: 0.5633260989389982\n"
     ]
    }
   ],
   "source": [
    "model = LinearRegression().fit(X_train,Y_train)\n",
    "y_pred = model.predict(X_test)\n",
    "\n",
    "print(\"First Result:\",r2_score(Y_test,y_pred))"
   ]
  },
  {
   "cell_type": "markdown",
   "id": "8d06d717",
   "metadata": {},
   "source": [
    "### 2.0.4: Performance Evaluation"
   ]
  },
  {
   "cell_type": "code",
   "execution_count": 181,
   "id": "933bf69c",
   "metadata": {},
   "outputs": [
    {
     "name": "stdout",
     "output_type": "stream",
     "text": [
      "SCORE: 0.6608619563949935\n"
     ]
    }
   ],
   "source": [
    "scores = cross_val_score(model, X_train, Y_train, scoring='r2', cv=200)\n",
    "print('SCORE:',max(scores))"
   ]
  },
  {
   "cell_type": "markdown",
   "id": "84223580",
   "metadata": {},
   "source": [
    "**You can see that in the main model we got up to 66% success, which is not bad in relation to housing price forecasting!**"
   ]
  },
  {
   "cell_type": "markdown",
   "id": "dfbe3044",
   "metadata": {},
   "source": [
    "Summary:\n",
    "+ In machine learning, we performed a linear regression to predict apartment prices based on their prices.\n",
    "+ In order to get a general picture of the quality of the model itself, we performed 200-cross-validation.\n",
    "+ We chose a criterion of 200 so that our database is quite large, so we wanted to find the balance between the quality of the performance evaluation and the quality of the data variance when dividing into groups\n",
    "+ These results indicate that predicting apartment prices is definitely not simple, there are many parameters that add to or subtract from the apartment price that are not necessarily in our database, and it will probably be impossible to put the influencing parameters into one database\n",
    "\n",
    "\n",
    "\n",
    "**This model was the main model of our project, now we will move to other models based on additional hypotheses that we wanted to test**"
   ]
  },
  {
   "cell_type": "markdown",
   "id": "9f059a54",
   "metadata": {},
   "source": [
    "# "
   ]
  },
  {
   "cell_type": "markdown",
   "id": "06a5c3ff",
   "metadata": {},
   "source": [
    "# "
   ]
  },
  {
   "cell_type": "markdown",
   "id": "68fd5a96",
   "metadata": {},
   "source": [
    "Now, we will try to build all kinds of models and evaluate their performance.\n",
    "\n",
    "### Logistic Regression Models:\n",
    "+ 1) Prediction if the house has more than a 4 room apartment given the price\n",
    "+ 2) Prediction if the house has more then a 5 room apartment given the square_meter\n",
    "\n",
    "### GNB\\KNN\\DT\\RF Models:\n",
    "+ 3) Predicting how many rooms there are in an apartment given all its data\n",
    "+ 4) Predicting what type of apartment given all its data"
   ]
  },
  {
   "cell_type": "markdown",
   "id": "be8a8fc1",
   "metadata": {},
   "source": [
    "For each model we are going to perform a general performance evaluation, and a specific performance evaluation for one result that we will receive"
   ]
  },
  {
   "cell_type": "markdown",
   "id": "e854b39b",
   "metadata": {},
   "source": [
    "## Extras: Other Models"
   ]
  },
  {
   "cell_type": "markdown",
   "id": "68224084",
   "metadata": {},
   "source": [
    "### First Prediction:"
   ]
  },
  {
   "cell_type": "code",
   "execution_count": 25,
   "id": "e39f9d88",
   "metadata": {},
   "outputs": [],
   "source": [
    "# 2.0.1\n",
    "df_Cities['Above 4 rooms'] = [1 if rooms>=4 else 0 for rooms in df_Cities['Rooms']]\n",
    "X = df_Cities[['Price']]\n",
    "Y = df_Cities['Above 4 rooms']\n",
    "\n",
    "# 2.0.2\n",
    "X_train,X_test,Y_train,Y_test = train_test_split(X,Y,test_size=0.2)\n",
    "\n",
    "scaler = StandardScaler().fit(X_train)\n",
    "X_train = scaler.transform(X_train)\n",
    "X_test = scaler.transform(X_test)\n",
    "\n",
    "# 2.0.3\n",
    "model = LogisticRegression().fit(X_train,Y_train)\n",
    "y_pred = model.predict(X_test)\n",
    "\n",
    "# 2.0.4\n",
    "scores = cross_val_score(model, X_train, Y_train, scoring='f1', cv=20)\n",
    "\n",
    "df_Cities.drop(columns = 'Above 4 rooms',inplace=True)"
   ]
  },
  {
   "cell_type": "markdown",
   "id": "d30ad70e",
   "metadata": {},
   "source": [
    "### Performance Evaluation"
   ]
  },
  {
   "cell_type": "code",
   "execution_count": 26,
   "id": "3d679709",
   "metadata": {},
   "outputs": [
    {
     "name": "stdout",
     "output_type": "stream",
     "text": [
      "SUCCESS RATE: 0.7140861411692278\n",
      "PRECISION RATE: 0.7343430408103633\n",
      "RECALL RATE: 0.6949168164431541\n",
      "CONF MAT:\n"
     ]
    },
    {
     "data": {
      "text/html": [
       "<div>\n",
       "<style scoped>\n",
       "    .dataframe tbody tr th:only-of-type {\n",
       "        vertical-align: middle;\n",
       "    }\n",
       "\n",
       "    .dataframe tbody tr th {\n",
       "        vertical-align: top;\n",
       "    }\n",
       "\n",
       "    .dataframe thead th {\n",
       "        text-align: right;\n",
       "    }\n",
       "</style>\n",
       "<table border=\"1\" class=\"dataframe\">\n",
       "  <thead>\n",
       "    <tr style=\"text-align: right;\">\n",
       "      <th></th>\n",
       "      <th>Actual Above 4</th>\n",
       "      <th>Actual Below 4</th>\n",
       "    </tr>\n",
       "  </thead>\n",
       "  <tbody>\n",
       "    <tr>\n",
       "      <th>Predicted Above 4</th>\n",
       "      <td>12876</td>\n",
       "      <td>5455</td>\n",
       "    </tr>\n",
       "    <tr>\n",
       "      <th>Predicted Below 4</th>\n",
       "      <td>6620</td>\n",
       "      <td>15079</td>\n",
       "    </tr>\n",
       "  </tbody>\n",
       "</table>\n",
       "</div>"
      ],
      "text/plain": [
       "                   Actual Above 4  Actual Below 4\n",
       "Predicted Above 4           12876            5455\n",
       "Predicted Below 4            6620           15079"
      ]
     },
     "execution_count": 26,
     "metadata": {},
     "output_type": "execute_result"
    }
   ],
   "source": [
    "print(\"SUCCESS RATE:\",f1_score(Y_test,y_pred))\n",
    "print(\"PRECISION RATE:\",precision_score(Y_test,y_pred))\n",
    "print(\"RECALL RATE:\",recall_score(Y_test,y_pred))\n",
    "print(\"CONF MAT:\")\n",
    "\n",
    "cm = pd.DataFrame(confusion_matrix(Y_test,y_pred),index=['Predicted Above 4','Predicted Below 4'])\n",
    "cm = cm.rename(columns={0: 'Actual Above 4',1:\"Actual Below 4\"})\n",
    "cm"
   ]
  },
  {
   "cell_type": "markdown",
   "id": "2cb631dd",
   "metadata": {},
   "source": [
    "+ We got about 71 percent success\n",
    "+ Out of about 18K apartments in which the model predicted that they had more than 4 rooms, he was right in only 13K of them. (72%)\n",
    "+ Out of about 19K apartments that have more than 4 rooms, the model selected 13K of them (69%)"
   ]
  },
  {
   "cell_type": "code",
   "execution_count": 27,
   "id": "5404fc77",
   "metadata": {},
   "outputs": [
    {
     "name": "stdout",
     "output_type": "stream",
     "text": [
      "BEST SUCCESS RATE: 0.7182320441988951\n",
      "MEAN SUCCESS RATE: 0.7083373893070604\n"
     ]
    }
   ],
   "source": [
    "print(\"BEST SUCCESS RATE:\",max(scores))\n",
    "print(\"MEAN SUCCESS RATE:\",scores.mean())"
   ]
  },
  {
   "cell_type": "markdown",
   "id": "8bf3b6d0",
   "metadata": {},
   "source": [
    "# "
   ]
  },
  {
   "cell_type": "markdown",
   "id": "57f235ca",
   "metadata": {},
   "source": [
    "### Second Prediction"
   ]
  },
  {
   "cell_type": "code",
   "execution_count": 28,
   "id": "b181871f",
   "metadata": {},
   "outputs": [],
   "source": [
    "df_Cities['Above 4 rooms'] = [1 if rooms>=4 else 0 for rooms in df_Cities['Rooms']]\n",
    "X = df_Cities[['Square_Meter']]\n",
    "Y = df_Cities['Above 4 rooms']\n",
    "\n",
    "X_train,X_test,Y_train,Y_test = train_test_split(X,Y,test_size=0.2)\n",
    "\n",
    "scaler = StandardScaler().fit(X_train)\n",
    "X_train = scaler.transform(X_train)\n",
    "X_test = scaler.transform(X_test)\n",
    "\n",
    "\n",
    "model = LogisticRegression().fit(X_train,Y_train)\n",
    "y_pred = model.predict(X_test)\n",
    "\n",
    "scores = cross_val_score(model, X_train, Y_train, scoring='f1', cv=20)\n",
    "\n",
    "df_Cities.drop(columns = 'Above 4 rooms',inplace=True)"
   ]
  },
  {
   "cell_type": "markdown",
   "id": "414896ad",
   "metadata": {},
   "source": [
    "### Performance Evaluation"
   ]
  },
  {
   "cell_type": "code",
   "execution_count": 29,
   "id": "ad0418ef",
   "metadata": {},
   "outputs": [
    {
     "name": "stdout",
     "output_type": "stream",
     "text": [
      "SUCCESS RATE: 0.9110975724060362\n",
      "PRECISION RATE: 0.9173311942622564\n",
      "RECALL RATE: 0.9049480984964856\n",
      "CONF MAT:\n"
     ]
    },
    {
     "data": {
      "text/html": [
       "<div>\n",
       "<style scoped>\n",
       "    .dataframe tbody tr th:only-of-type {\n",
       "        vertical-align: middle;\n",
       "    }\n",
       "\n",
       "    .dataframe tbody tr th {\n",
       "        vertical-align: top;\n",
       "    }\n",
       "\n",
       "    .dataframe thead th {\n",
       "        text-align: right;\n",
       "    }\n",
       "</style>\n",
       "<table border=\"1\" class=\"dataframe\">\n",
       "  <thead>\n",
       "    <tr style=\"text-align: right;\">\n",
       "      <th></th>\n",
       "      <th>Actual Above 4</th>\n",
       "      <th>Actual Below 4</th>\n",
       "    </tr>\n",
       "  </thead>\n",
       "  <tbody>\n",
       "    <tr>\n",
       "      <th>Predicted Above 4</th>\n",
       "      <td>16795</td>\n",
       "      <td>1752</td>\n",
       "    </tr>\n",
       "    <tr>\n",
       "      <th>Predicted Below 4</th>\n",
       "      <td>2042</td>\n",
       "      <td>19441</td>\n",
       "    </tr>\n",
       "  </tbody>\n",
       "</table>\n",
       "</div>"
      ],
      "text/plain": [
       "                   Actual Above 4  Actual Below 4\n",
       "Predicted Above 4           16795            1752\n",
       "Predicted Below 4            2042           19441"
      ]
     },
     "execution_count": 29,
     "metadata": {},
     "output_type": "execute_result"
    }
   ],
   "source": [
    "print(\"SUCCESS RATE:\",f1_score(Y_test,y_pred))\n",
    "print(\"PRECISION RATE:\",precision_score(Y_test,y_pred))\n",
    "print(\"RECALL RATE:\",recall_score(Y_test,y_pred))\n",
    "print(\"CONF MAT:\")\n",
    "cm = pd.DataFrame(confusion_matrix(Y_test,y_pred),index=['Predicted Above 4','Predicted Below 4'])\n",
    "cm = cm.rename(columns={0: 'Actual Above 4',1:\"Actual Below 4\"})\n",
    "cm"
   ]
  },
  {
   "cell_type": "markdown",
   "id": "b9b2af4f",
   "metadata": {},
   "source": [
    "+ We got about 91 percent success\n",
    "+ Out of about 18K apartments in which the model predicted that they had more than 4 rooms, he was right in 16K of them. (92%)\n",
    "+ Out of about 18K apartments that have more than 4 rooms, the model selected 16K of them (90%)"
   ]
  },
  {
   "cell_type": "code",
   "execution_count": 30,
   "id": "350a5642",
   "metadata": {},
   "outputs": [
    {
     "name": "stdout",
     "output_type": "stream",
     "text": [
      "BEST SUCCESS RATE: 0.9166859523258505\n",
      "MEAN SUCCESS RATE: 0.9126891175982003\n"
     ]
    }
   ],
   "source": [
    "print(\"BEST SUCCESS RATE:\",max(scores))\n",
    "print(\"MEAN SUCCESS RATE:\",scores.mean())"
   ]
  },
  {
   "cell_type": "markdown",
   "id": "f89e826e",
   "metadata": {},
   "source": [
    "# "
   ]
  },
  {
   "cell_type": "markdown",
   "id": "7a17a8c6",
   "metadata": {},
   "source": [
    "### Third Prediction"
   ]
  },
  {
   "cell_type": "code",
   "execution_count": 84,
   "id": "0c9654b5",
   "metadata": {},
   "outputs": [],
   "source": [
    "X = df_Cities[df_Cities.columns[df_Cities.columns!='Rooms']]\n",
    "Y = df_Cities['Rooms']\n",
    "\n",
    "X_train,X_test,Y_train,Y_test = train_test_split(X,Y,test_size=0.2)\n",
    "\n",
    "scaler = StandardScaler().fit(X_train)\n",
    "X_train = scaler.transform(X_train)\n",
    "X_test = scaler.transform(X_test)\n",
    "\n",
    "KNN = KNeighborsClassifier(n_neighbors=10).fit(X_train,Y_train)\n",
    "RandomForest = RandomForestClassifier().fit(X_train,Y_train)\n",
    "GuassianNB = GaussianNB().fit(X_train,Y_train)\n",
    "DT = DecisionTreeClassifier(max_depth=10).fit(X_train,Y_train)\n",
    "\n",
    "KNN_pred = KNN.predict(X_test)\n",
    "RandomForest_pred = RandomForest.predict(X_test)\n",
    "GuassianNB_pred = GuassianNB.predict(X_test)\n",
    "DT_pred = DT.predict(X_test)"
   ]
  },
  {
   "cell_type": "markdown",
   "id": "cfb3e046",
   "metadata": {},
   "source": [
    "#### KNN: "
   ]
  },
  {
   "cell_type": "code",
   "execution_count": 85,
   "id": "d5e07964",
   "metadata": {},
   "outputs": [
    {
     "data": {
      "text/html": [
       "<div>\n",
       "<style scoped>\n",
       "    .dataframe tbody tr th:only-of-type {\n",
       "        vertical-align: middle;\n",
       "    }\n",
       "\n",
       "    .dataframe tbody tr th {\n",
       "        vertical-align: top;\n",
       "    }\n",
       "\n",
       "    .dataframe thead th {\n",
       "        text-align: right;\n",
       "    }\n",
       "</style>\n",
       "<table border=\"1\" class=\"dataframe\">\n",
       "  <thead>\n",
       "    <tr style=\"text-align: right;\">\n",
       "      <th></th>\n",
       "      <th>(Pred , 1,  Rooms)</th>\n",
       "      <th>(Pred , 2,  Rooms)</th>\n",
       "      <th>(Pred , 3,  Rooms)</th>\n",
       "      <th>(Pred , 4,  Rooms)</th>\n",
       "      <th>(Pred , 5,  Rooms)</th>\n",
       "      <th>(Pred , 6,  Rooms)</th>\n",
       "      <th>(Pred , 7,  Rooms)</th>\n",
       "      <th>(Pred , 8,  Rooms)</th>\n",
       "      <th>(Pred , 9,  Rooms)</th>\n",
       "      <th>(Pred , 10,  Rooms)</th>\n",
       "    </tr>\n",
       "  </thead>\n",
       "  <tbody>\n",
       "    <tr>\n",
       "      <th>(Actual , 1,  Rooms)</th>\n",
       "      <td>31</td>\n",
       "      <td>182</td>\n",
       "      <td>17</td>\n",
       "      <td>18</td>\n",
       "      <td>22</td>\n",
       "      <td>8</td>\n",
       "      <td>1</td>\n",
       "      <td>0</td>\n",
       "      <td>0</td>\n",
       "      <td>0</td>\n",
       "    </tr>\n",
       "    <tr>\n",
       "      <th>(Actual , 2,  Rooms)</th>\n",
       "      <td>21</td>\n",
       "      <td>5040</td>\n",
       "      <td>1233</td>\n",
       "      <td>17</td>\n",
       "      <td>3</td>\n",
       "      <td>0</td>\n",
       "      <td>0</td>\n",
       "      <td>0</td>\n",
       "      <td>0</td>\n",
       "      <td>0</td>\n",
       "    </tr>\n",
       "    <tr>\n",
       "      <th>(Actual , 3,  Rooms)</th>\n",
       "      <td>3</td>\n",
       "      <td>1394</td>\n",
       "      <td>8998</td>\n",
       "      <td>1367</td>\n",
       "      <td>34</td>\n",
       "      <td>1</td>\n",
       "      <td>0</td>\n",
       "      <td>0</td>\n",
       "      <td>0</td>\n",
       "      <td>0</td>\n",
       "    </tr>\n",
       "    <tr>\n",
       "      <th>(Actual , 4,  Rooms)</th>\n",
       "      <td>0</td>\n",
       "      <td>23</td>\n",
       "      <td>1819</td>\n",
       "      <td>9348</td>\n",
       "      <td>972</td>\n",
       "      <td>7</td>\n",
       "      <td>0</td>\n",
       "      <td>0</td>\n",
       "      <td>0</td>\n",
       "      <td>0</td>\n",
       "    </tr>\n",
       "    <tr>\n",
       "      <th>(Actual , 5,  Rooms)</th>\n",
       "      <td>0</td>\n",
       "      <td>1</td>\n",
       "      <td>38</td>\n",
       "      <td>1798</td>\n",
       "      <td>5582</td>\n",
       "      <td>271</td>\n",
       "      <td>9</td>\n",
       "      <td>1</td>\n",
       "      <td>0</td>\n",
       "      <td>0</td>\n",
       "    </tr>\n",
       "    <tr>\n",
       "      <th>(Actual , 6,  Rooms)</th>\n",
       "      <td>1</td>\n",
       "      <td>0</td>\n",
       "      <td>4</td>\n",
       "      <td>91</td>\n",
       "      <td>846</td>\n",
       "      <td>523</td>\n",
       "      <td>24</td>\n",
       "      <td>1</td>\n",
       "      <td>0</td>\n",
       "      <td>0</td>\n",
       "    </tr>\n",
       "    <tr>\n",
       "      <th>(Actual , 7,  Rooms)</th>\n",
       "      <td>0</td>\n",
       "      <td>0</td>\n",
       "      <td>1</td>\n",
       "      <td>9</td>\n",
       "      <td>93</td>\n",
       "      <td>90</td>\n",
       "      <td>15</td>\n",
       "      <td>0</td>\n",
       "      <td>0</td>\n",
       "      <td>0</td>\n",
       "    </tr>\n",
       "    <tr>\n",
       "      <th>(Actual , 8,  Rooms)</th>\n",
       "      <td>1</td>\n",
       "      <td>0</td>\n",
       "      <td>0</td>\n",
       "      <td>1</td>\n",
       "      <td>24</td>\n",
       "      <td>24</td>\n",
       "      <td>3</td>\n",
       "      <td>3</td>\n",
       "      <td>0</td>\n",
       "      <td>0</td>\n",
       "    </tr>\n",
       "    <tr>\n",
       "      <th>(Actual , 9,  Rooms)</th>\n",
       "      <td>0</td>\n",
       "      <td>0</td>\n",
       "      <td>0</td>\n",
       "      <td>1</td>\n",
       "      <td>8</td>\n",
       "      <td>5</td>\n",
       "      <td>2</td>\n",
       "      <td>0</td>\n",
       "      <td>0</td>\n",
       "      <td>0</td>\n",
       "    </tr>\n",
       "    <tr>\n",
       "      <th>(Actual , 10,  Rooms)</th>\n",
       "      <td>0</td>\n",
       "      <td>0</td>\n",
       "      <td>0</td>\n",
       "      <td>0</td>\n",
       "      <td>0</td>\n",
       "      <td>1</td>\n",
       "      <td>0</td>\n",
       "      <td>0</td>\n",
       "      <td>0</td>\n",
       "      <td>0</td>\n",
       "    </tr>\n",
       "  </tbody>\n",
       "</table>\n",
       "</div>"
      ],
      "text/plain": [
       "                       (Pred , 1,  Rooms)  (Pred , 2,  Rooms)  \\\n",
       "(Actual , 1,  Rooms)                   31                 182   \n",
       "(Actual , 2,  Rooms)                   21                5040   \n",
       "(Actual , 3,  Rooms)                    3                1394   \n",
       "(Actual , 4,  Rooms)                    0                  23   \n",
       "(Actual , 5,  Rooms)                    0                   1   \n",
       "(Actual , 6,  Rooms)                    1                   0   \n",
       "(Actual , 7,  Rooms)                    0                   0   \n",
       "(Actual , 8,  Rooms)                    1                   0   \n",
       "(Actual , 9,  Rooms)                    0                   0   \n",
       "(Actual , 10,  Rooms)                   0                   0   \n",
       "\n",
       "                       (Pred , 3,  Rooms)  (Pred , 4,  Rooms)  \\\n",
       "(Actual , 1,  Rooms)                   17                  18   \n",
       "(Actual , 2,  Rooms)                 1233                  17   \n",
       "(Actual , 3,  Rooms)                 8998                1367   \n",
       "(Actual , 4,  Rooms)                 1819                9348   \n",
       "(Actual , 5,  Rooms)                   38                1798   \n",
       "(Actual , 6,  Rooms)                    4                  91   \n",
       "(Actual , 7,  Rooms)                    1                   9   \n",
       "(Actual , 8,  Rooms)                    0                   1   \n",
       "(Actual , 9,  Rooms)                    0                   1   \n",
       "(Actual , 10,  Rooms)                   0                   0   \n",
       "\n",
       "                       (Pred , 5,  Rooms)  (Pred , 6,  Rooms)  \\\n",
       "(Actual , 1,  Rooms)                   22                   8   \n",
       "(Actual , 2,  Rooms)                    3                   0   \n",
       "(Actual , 3,  Rooms)                   34                   1   \n",
       "(Actual , 4,  Rooms)                  972                   7   \n",
       "(Actual , 5,  Rooms)                 5582                 271   \n",
       "(Actual , 6,  Rooms)                  846                 523   \n",
       "(Actual , 7,  Rooms)                   93                  90   \n",
       "(Actual , 8,  Rooms)                   24                  24   \n",
       "(Actual , 9,  Rooms)                    8                   5   \n",
       "(Actual , 10,  Rooms)                   0                   1   \n",
       "\n",
       "                       (Pred , 7,  Rooms)  (Pred , 8,  Rooms)  \\\n",
       "(Actual , 1,  Rooms)                    1                   0   \n",
       "(Actual , 2,  Rooms)                    0                   0   \n",
       "(Actual , 3,  Rooms)                    0                   0   \n",
       "(Actual , 4,  Rooms)                    0                   0   \n",
       "(Actual , 5,  Rooms)                    9                   1   \n",
       "(Actual , 6,  Rooms)                   24                   1   \n",
       "(Actual , 7,  Rooms)                   15                   0   \n",
       "(Actual , 8,  Rooms)                    3                   3   \n",
       "(Actual , 9,  Rooms)                    2                   0   \n",
       "(Actual , 10,  Rooms)                   0                   0   \n",
       "\n",
       "                       (Pred , 9,  Rooms)  (Pred , 10,  Rooms)  \n",
       "(Actual , 1,  Rooms)                    0                    0  \n",
       "(Actual , 2,  Rooms)                    0                    0  \n",
       "(Actual , 3,  Rooms)                    0                    0  \n",
       "(Actual , 4,  Rooms)                    0                    0  \n",
       "(Actual , 5,  Rooms)                    0                    0  \n",
       "(Actual , 6,  Rooms)                    0                    0  \n",
       "(Actual , 7,  Rooms)                    0                    0  \n",
       "(Actual , 8,  Rooms)                    0                    0  \n",
       "(Actual , 9,  Rooms)                    0                    0  \n",
       "(Actual , 10,  Rooms)                   0                    0  "
      ]
     },
     "execution_count": 85,
     "metadata": {},
     "output_type": "execute_result"
    }
   ],
   "source": [
    "def get_labels(shape_row,shape_col):\n",
    "    Act = []\n",
    "    Pred = {}\n",
    "    for i in range(1,shape_row+1):\n",
    "        Act.append((\"Actual \",i,' Rooms'))\n",
    "    for i in range(1,shape_col+1):\n",
    "        Pred[i-1] = (\"Pred \",i,' Rooms')\n",
    "    return (Act,Pred)\n",
    "\n",
    "\n",
    "labels=  get_labels(confusion_matrix(Y_test,KNN_pred).shape[0],confusion_matrix(Y_test,KNN_pred).shape[1])\n",
    "cm = pd.DataFrame(confusion_matrix(Y_test,KNN_pred),index=labels[0])\n",
    "cm = cm.rename(columns=labels[1])\n",
    "cm"
   ]
  },
  {
   "cell_type": "code",
   "execution_count": 86,
   "id": "d8d5be4c",
   "metadata": {},
   "outputs": [
    {
     "name": "stdout",
     "output_type": "stream",
     "text": [
      "SCORE:  0.7379465400949288\n"
     ]
    }
   ],
   "source": [
    "print(\"SCORE: \",accuracy_score(Y_test,KNN_pred))"
   ]
  },
  {
   "cell_type": "markdown",
   "id": "b1184a41",
   "metadata": {},
   "source": [
    "#### RandomForest:"
   ]
  },
  {
   "cell_type": "code",
   "execution_count": 87,
   "id": "15c641c2",
   "metadata": {},
   "outputs": [
    {
     "data": {
      "text/html": [
       "<div>\n",
       "<style scoped>\n",
       "    .dataframe tbody tr th:only-of-type {\n",
       "        vertical-align: middle;\n",
       "    }\n",
       "\n",
       "    .dataframe tbody tr th {\n",
       "        vertical-align: top;\n",
       "    }\n",
       "\n",
       "    .dataframe thead th {\n",
       "        text-align: right;\n",
       "    }\n",
       "</style>\n",
       "<table border=\"1\" class=\"dataframe\">\n",
       "  <thead>\n",
       "    <tr style=\"text-align: right;\">\n",
       "      <th></th>\n",
       "      <th>(Pred , 1,  Rooms)</th>\n",
       "      <th>(Pred , 2,  Rooms)</th>\n",
       "      <th>(Pred , 3,  Rooms)</th>\n",
       "      <th>(Pred , 4,  Rooms)</th>\n",
       "      <th>(Pred , 5,  Rooms)</th>\n",
       "      <th>(Pred , 6,  Rooms)</th>\n",
       "      <th>(Pred , 7,  Rooms)</th>\n",
       "      <th>(Pred , 8,  Rooms)</th>\n",
       "      <th>(Pred , 9,  Rooms)</th>\n",
       "      <th>(Pred , 10,  Rooms)</th>\n",
       "    </tr>\n",
       "  </thead>\n",
       "  <tbody>\n",
       "    <tr>\n",
       "      <th>(Actual , 1,  Rooms)</th>\n",
       "      <td>52</td>\n",
       "      <td>154</td>\n",
       "      <td>22</td>\n",
       "      <td>19</td>\n",
       "      <td>26</td>\n",
       "      <td>6</td>\n",
       "      <td>0</td>\n",
       "      <td>0</td>\n",
       "      <td>0</td>\n",
       "      <td>0</td>\n",
       "    </tr>\n",
       "    <tr>\n",
       "      <th>(Actual , 2,  Rooms)</th>\n",
       "      <td>36</td>\n",
       "      <td>5264</td>\n",
       "      <td>999</td>\n",
       "      <td>10</td>\n",
       "      <td>5</td>\n",
       "      <td>0</td>\n",
       "      <td>0</td>\n",
       "      <td>0</td>\n",
       "      <td>0</td>\n",
       "      <td>0</td>\n",
       "    </tr>\n",
       "    <tr>\n",
       "      <th>(Actual , 3,  Rooms)</th>\n",
       "      <td>2</td>\n",
       "      <td>1001</td>\n",
       "      <td>9608</td>\n",
       "      <td>1164</td>\n",
       "      <td>22</td>\n",
       "      <td>0</td>\n",
       "      <td>0</td>\n",
       "      <td>0</td>\n",
       "      <td>0</td>\n",
       "      <td>0</td>\n",
       "    </tr>\n",
       "    <tr>\n",
       "      <th>(Actual , 4,  Rooms)</th>\n",
       "      <td>3</td>\n",
       "      <td>12</td>\n",
       "      <td>1178</td>\n",
       "      <td>10113</td>\n",
       "      <td>858</td>\n",
       "      <td>5</td>\n",
       "      <td>0</td>\n",
       "      <td>0</td>\n",
       "      <td>0</td>\n",
       "      <td>0</td>\n",
       "    </tr>\n",
       "    <tr>\n",
       "      <th>(Actual , 5,  Rooms)</th>\n",
       "      <td>0</td>\n",
       "      <td>0</td>\n",
       "      <td>18</td>\n",
       "      <td>985</td>\n",
       "      <td>6345</td>\n",
       "      <td>332</td>\n",
       "      <td>19</td>\n",
       "      <td>1</td>\n",
       "      <td>0</td>\n",
       "      <td>0</td>\n",
       "    </tr>\n",
       "    <tr>\n",
       "      <th>(Actual , 6,  Rooms)</th>\n",
       "      <td>3</td>\n",
       "      <td>0</td>\n",
       "      <td>2</td>\n",
       "      <td>49</td>\n",
       "      <td>696</td>\n",
       "      <td>705</td>\n",
       "      <td>33</td>\n",
       "      <td>2</td>\n",
       "      <td>0</td>\n",
       "      <td>0</td>\n",
       "    </tr>\n",
       "    <tr>\n",
       "      <th>(Actual , 7,  Rooms)</th>\n",
       "      <td>0</td>\n",
       "      <td>0</td>\n",
       "      <td>1</td>\n",
       "      <td>6</td>\n",
       "      <td>78</td>\n",
       "      <td>91</td>\n",
       "      <td>30</td>\n",
       "      <td>1</td>\n",
       "      <td>1</td>\n",
       "      <td>0</td>\n",
       "    </tr>\n",
       "    <tr>\n",
       "      <th>(Actual , 8,  Rooms)</th>\n",
       "      <td>2</td>\n",
       "      <td>0</td>\n",
       "      <td>0</td>\n",
       "      <td>3</td>\n",
       "      <td>17</td>\n",
       "      <td>25</td>\n",
       "      <td>8</td>\n",
       "      <td>1</td>\n",
       "      <td>0</td>\n",
       "      <td>0</td>\n",
       "    </tr>\n",
       "    <tr>\n",
       "      <th>(Actual , 9,  Rooms)</th>\n",
       "      <td>0</td>\n",
       "      <td>0</td>\n",
       "      <td>0</td>\n",
       "      <td>1</td>\n",
       "      <td>7</td>\n",
       "      <td>2</td>\n",
       "      <td>3</td>\n",
       "      <td>2</td>\n",
       "      <td>1</td>\n",
       "      <td>0</td>\n",
       "    </tr>\n",
       "    <tr>\n",
       "      <th>(Actual , 10,  Rooms)</th>\n",
       "      <td>0</td>\n",
       "      <td>0</td>\n",
       "      <td>0</td>\n",
       "      <td>0</td>\n",
       "      <td>1</td>\n",
       "      <td>0</td>\n",
       "      <td>0</td>\n",
       "      <td>0</td>\n",
       "      <td>0</td>\n",
       "      <td>0</td>\n",
       "    </tr>\n",
       "  </tbody>\n",
       "</table>\n",
       "</div>"
      ],
      "text/plain": [
       "                       (Pred , 1,  Rooms)  (Pred , 2,  Rooms)  \\\n",
       "(Actual , 1,  Rooms)                   52                 154   \n",
       "(Actual , 2,  Rooms)                   36                5264   \n",
       "(Actual , 3,  Rooms)                    2                1001   \n",
       "(Actual , 4,  Rooms)                    3                  12   \n",
       "(Actual , 5,  Rooms)                    0                   0   \n",
       "(Actual , 6,  Rooms)                    3                   0   \n",
       "(Actual , 7,  Rooms)                    0                   0   \n",
       "(Actual , 8,  Rooms)                    2                   0   \n",
       "(Actual , 9,  Rooms)                    0                   0   \n",
       "(Actual , 10,  Rooms)                   0                   0   \n",
       "\n",
       "                       (Pred , 3,  Rooms)  (Pred , 4,  Rooms)  \\\n",
       "(Actual , 1,  Rooms)                   22                  19   \n",
       "(Actual , 2,  Rooms)                  999                  10   \n",
       "(Actual , 3,  Rooms)                 9608                1164   \n",
       "(Actual , 4,  Rooms)                 1178               10113   \n",
       "(Actual , 5,  Rooms)                   18                 985   \n",
       "(Actual , 6,  Rooms)                    2                  49   \n",
       "(Actual , 7,  Rooms)                    1                   6   \n",
       "(Actual , 8,  Rooms)                    0                   3   \n",
       "(Actual , 9,  Rooms)                    0                   1   \n",
       "(Actual , 10,  Rooms)                   0                   0   \n",
       "\n",
       "                       (Pred , 5,  Rooms)  (Pred , 6,  Rooms)  \\\n",
       "(Actual , 1,  Rooms)                   26                   6   \n",
       "(Actual , 2,  Rooms)                    5                   0   \n",
       "(Actual , 3,  Rooms)                   22                   0   \n",
       "(Actual , 4,  Rooms)                  858                   5   \n",
       "(Actual , 5,  Rooms)                 6345                 332   \n",
       "(Actual , 6,  Rooms)                  696                 705   \n",
       "(Actual , 7,  Rooms)                   78                  91   \n",
       "(Actual , 8,  Rooms)                   17                  25   \n",
       "(Actual , 9,  Rooms)                    7                   2   \n",
       "(Actual , 10,  Rooms)                   1                   0   \n",
       "\n",
       "                       (Pred , 7,  Rooms)  (Pred , 8,  Rooms)  \\\n",
       "(Actual , 1,  Rooms)                    0                   0   \n",
       "(Actual , 2,  Rooms)                    0                   0   \n",
       "(Actual , 3,  Rooms)                    0                   0   \n",
       "(Actual , 4,  Rooms)                    0                   0   \n",
       "(Actual , 5,  Rooms)                   19                   1   \n",
       "(Actual , 6,  Rooms)                   33                   2   \n",
       "(Actual , 7,  Rooms)                   30                   1   \n",
       "(Actual , 8,  Rooms)                    8                   1   \n",
       "(Actual , 9,  Rooms)                    3                   2   \n",
       "(Actual , 10,  Rooms)                   0                   0   \n",
       "\n",
       "                       (Pred , 9,  Rooms)  (Pred , 10,  Rooms)  \n",
       "(Actual , 1,  Rooms)                    0                    0  \n",
       "(Actual , 2,  Rooms)                    0                    0  \n",
       "(Actual , 3,  Rooms)                    0                    0  \n",
       "(Actual , 4,  Rooms)                    0                    0  \n",
       "(Actual , 5,  Rooms)                    0                    0  \n",
       "(Actual , 6,  Rooms)                    0                    0  \n",
       "(Actual , 7,  Rooms)                    1                    0  \n",
       "(Actual , 8,  Rooms)                    0                    0  \n",
       "(Actual , 9,  Rooms)                    1                    0  \n",
       "(Actual , 10,  Rooms)                   0                    0  "
      ]
     },
     "execution_count": 87,
     "metadata": {},
     "output_type": "execute_result"
    }
   ],
   "source": [
    "labels=  get_labels(confusion_matrix(Y_test,RandomForest_pred).shape[0],confusion_matrix(Y_test,RandomForest_pred).shape[1])\n",
    "cm = pd.DataFrame(confusion_matrix(Y_test,RandomForest_pred),index=labels[0])\n",
    "cm = cm.rename(columns=labels[1])\n",
    "cm"
   ]
  },
  {
   "cell_type": "code",
   "execution_count": 88,
   "id": "70f490d5",
   "metadata": {},
   "outputs": [
    {
     "name": "stdout",
     "output_type": "stream",
     "text": [
      "SCORE:  0.8023732200849363\n"
     ]
    }
   ],
   "source": [
    "print(\"SCORE: \",accuracy_score(Y_test,RandomForest_pred))"
   ]
  },
  {
   "cell_type": "markdown",
   "id": "285d6046",
   "metadata": {},
   "source": [
    "#### GuassianNB"
   ]
  },
  {
   "cell_type": "code",
   "execution_count": 89,
   "id": "dc797a5a",
   "metadata": {},
   "outputs": [
    {
     "data": {
      "text/html": [
       "<div>\n",
       "<style scoped>\n",
       "    .dataframe tbody tr th:only-of-type {\n",
       "        vertical-align: middle;\n",
       "    }\n",
       "\n",
       "    .dataframe tbody tr th {\n",
       "        vertical-align: top;\n",
       "    }\n",
       "\n",
       "    .dataframe thead th {\n",
       "        text-align: right;\n",
       "    }\n",
       "</style>\n",
       "<table border=\"1\" class=\"dataframe\">\n",
       "  <thead>\n",
       "    <tr style=\"text-align: right;\">\n",
       "      <th></th>\n",
       "      <th>(Pred , 1,  Rooms)</th>\n",
       "      <th>(Pred , 2,  Rooms)</th>\n",
       "      <th>(Pred , 3,  Rooms)</th>\n",
       "      <th>(Pred , 4,  Rooms)</th>\n",
       "      <th>(Pred , 5,  Rooms)</th>\n",
       "      <th>(Pred , 6,  Rooms)</th>\n",
       "      <th>(Pred , 7,  Rooms)</th>\n",
       "      <th>(Pred , 8,  Rooms)</th>\n",
       "      <th>(Pred , 9,  Rooms)</th>\n",
       "      <th>(Pred , 10,  Rooms)</th>\n",
       "    </tr>\n",
       "  </thead>\n",
       "  <tbody>\n",
       "    <tr>\n",
       "      <th>(Actual , 1,  Rooms)</th>\n",
       "      <td>9</td>\n",
       "      <td>186</td>\n",
       "      <td>26</td>\n",
       "      <td>8</td>\n",
       "      <td>25</td>\n",
       "      <td>17</td>\n",
       "      <td>2</td>\n",
       "      <td>6</td>\n",
       "      <td>0</td>\n",
       "      <td>0</td>\n",
       "    </tr>\n",
       "    <tr>\n",
       "      <th>(Actual , 2,  Rooms)</th>\n",
       "      <td>13</td>\n",
       "      <td>5396</td>\n",
       "      <td>776</td>\n",
       "      <td>14</td>\n",
       "      <td>35</td>\n",
       "      <td>79</td>\n",
       "      <td>1</td>\n",
       "      <td>0</td>\n",
       "      <td>0</td>\n",
       "      <td>0</td>\n",
       "    </tr>\n",
       "    <tr>\n",
       "      <th>(Actual , 3,  Rooms)</th>\n",
       "      <td>125</td>\n",
       "      <td>3356</td>\n",
       "      <td>6651</td>\n",
       "      <td>1298</td>\n",
       "      <td>222</td>\n",
       "      <td>141</td>\n",
       "      <td>1</td>\n",
       "      <td>3</td>\n",
       "      <td>0</td>\n",
       "      <td>0</td>\n",
       "    </tr>\n",
       "    <tr>\n",
       "      <th>(Actual , 4,  Rooms)</th>\n",
       "      <td>209</td>\n",
       "      <td>42</td>\n",
       "      <td>3098</td>\n",
       "      <td>7522</td>\n",
       "      <td>1095</td>\n",
       "      <td>184</td>\n",
       "      <td>12</td>\n",
       "      <td>7</td>\n",
       "      <td>0</td>\n",
       "      <td>0</td>\n",
       "    </tr>\n",
       "    <tr>\n",
       "      <th>(Actual , 5,  Rooms)</th>\n",
       "      <td>192</td>\n",
       "      <td>0</td>\n",
       "      <td>79</td>\n",
       "      <td>3379</td>\n",
       "      <td>3418</td>\n",
       "      <td>464</td>\n",
       "      <td>127</td>\n",
       "      <td>41</td>\n",
       "      <td>0</td>\n",
       "      <td>0</td>\n",
       "    </tr>\n",
       "    <tr>\n",
       "      <th>(Actual , 6,  Rooms)</th>\n",
       "      <td>51</td>\n",
       "      <td>0</td>\n",
       "      <td>10</td>\n",
       "      <td>109</td>\n",
       "      <td>675</td>\n",
       "      <td>426</td>\n",
       "      <td>182</td>\n",
       "      <td>37</td>\n",
       "      <td>0</td>\n",
       "      <td>0</td>\n",
       "    </tr>\n",
       "    <tr>\n",
       "      <th>(Actual , 7,  Rooms)</th>\n",
       "      <td>5</td>\n",
       "      <td>0</td>\n",
       "      <td>2</td>\n",
       "      <td>3</td>\n",
       "      <td>41</td>\n",
       "      <td>84</td>\n",
       "      <td>64</td>\n",
       "      <td>9</td>\n",
       "      <td>0</td>\n",
       "      <td>0</td>\n",
       "    </tr>\n",
       "    <tr>\n",
       "      <th>(Actual , 8,  Rooms)</th>\n",
       "      <td>3</td>\n",
       "      <td>0</td>\n",
       "      <td>0</td>\n",
       "      <td>0</td>\n",
       "      <td>7</td>\n",
       "      <td>20</td>\n",
       "      <td>18</td>\n",
       "      <td>8</td>\n",
       "      <td>0</td>\n",
       "      <td>0</td>\n",
       "    </tr>\n",
       "    <tr>\n",
       "      <th>(Actual , 9,  Rooms)</th>\n",
       "      <td>4</td>\n",
       "      <td>0</td>\n",
       "      <td>0</td>\n",
       "      <td>0</td>\n",
       "      <td>3</td>\n",
       "      <td>4</td>\n",
       "      <td>4</td>\n",
       "      <td>1</td>\n",
       "      <td>0</td>\n",
       "      <td>0</td>\n",
       "    </tr>\n",
       "    <tr>\n",
       "      <th>(Actual , 10,  Rooms)</th>\n",
       "      <td>0</td>\n",
       "      <td>0</td>\n",
       "      <td>0</td>\n",
       "      <td>0</td>\n",
       "      <td>0</td>\n",
       "      <td>1</td>\n",
       "      <td>0</td>\n",
       "      <td>0</td>\n",
       "      <td>0</td>\n",
       "      <td>0</td>\n",
       "    </tr>\n",
       "  </tbody>\n",
       "</table>\n",
       "</div>"
      ],
      "text/plain": [
       "                       (Pred , 1,  Rooms)  (Pred , 2,  Rooms)  \\\n",
       "(Actual , 1,  Rooms)                    9                 186   \n",
       "(Actual , 2,  Rooms)                   13                5396   \n",
       "(Actual , 3,  Rooms)                  125                3356   \n",
       "(Actual , 4,  Rooms)                  209                  42   \n",
       "(Actual , 5,  Rooms)                  192                   0   \n",
       "(Actual , 6,  Rooms)                   51                   0   \n",
       "(Actual , 7,  Rooms)                    5                   0   \n",
       "(Actual , 8,  Rooms)                    3                   0   \n",
       "(Actual , 9,  Rooms)                    4                   0   \n",
       "(Actual , 10,  Rooms)                   0                   0   \n",
       "\n",
       "                       (Pred , 3,  Rooms)  (Pred , 4,  Rooms)  \\\n",
       "(Actual , 1,  Rooms)                   26                   8   \n",
       "(Actual , 2,  Rooms)                  776                  14   \n",
       "(Actual , 3,  Rooms)                 6651                1298   \n",
       "(Actual , 4,  Rooms)                 3098                7522   \n",
       "(Actual , 5,  Rooms)                   79                3379   \n",
       "(Actual , 6,  Rooms)                   10                 109   \n",
       "(Actual , 7,  Rooms)                    2                   3   \n",
       "(Actual , 8,  Rooms)                    0                   0   \n",
       "(Actual , 9,  Rooms)                    0                   0   \n",
       "(Actual , 10,  Rooms)                   0                   0   \n",
       "\n",
       "                       (Pred , 5,  Rooms)  (Pred , 6,  Rooms)  \\\n",
       "(Actual , 1,  Rooms)                   25                  17   \n",
       "(Actual , 2,  Rooms)                   35                  79   \n",
       "(Actual , 3,  Rooms)                  222                 141   \n",
       "(Actual , 4,  Rooms)                 1095                 184   \n",
       "(Actual , 5,  Rooms)                 3418                 464   \n",
       "(Actual , 6,  Rooms)                  675                 426   \n",
       "(Actual , 7,  Rooms)                   41                  84   \n",
       "(Actual , 8,  Rooms)                    7                  20   \n",
       "(Actual , 9,  Rooms)                    3                   4   \n",
       "(Actual , 10,  Rooms)                   0                   1   \n",
       "\n",
       "                       (Pred , 7,  Rooms)  (Pred , 8,  Rooms)  \\\n",
       "(Actual , 1,  Rooms)                    2                   6   \n",
       "(Actual , 2,  Rooms)                    1                   0   \n",
       "(Actual , 3,  Rooms)                    1                   3   \n",
       "(Actual , 4,  Rooms)                   12                   7   \n",
       "(Actual , 5,  Rooms)                  127                  41   \n",
       "(Actual , 6,  Rooms)                  182                  37   \n",
       "(Actual , 7,  Rooms)                   64                   9   \n",
       "(Actual , 8,  Rooms)                   18                   8   \n",
       "(Actual , 9,  Rooms)                    4                   1   \n",
       "(Actual , 10,  Rooms)                   0                   0   \n",
       "\n",
       "                       (Pred , 9,  Rooms)  (Pred , 10,  Rooms)  \n",
       "(Actual , 1,  Rooms)                    0                    0  \n",
       "(Actual , 2,  Rooms)                    0                    0  \n",
       "(Actual , 3,  Rooms)                    0                    0  \n",
       "(Actual , 4,  Rooms)                    0                    0  \n",
       "(Actual , 5,  Rooms)                    0                    0  \n",
       "(Actual , 6,  Rooms)                    0                    0  \n",
       "(Actual , 7,  Rooms)                    0                    0  \n",
       "(Actual , 8,  Rooms)                    0                    0  \n",
       "(Actual , 9,  Rooms)                    0                    0  \n",
       "(Actual , 10,  Rooms)                   0                    0  "
      ]
     },
     "execution_count": 89,
     "metadata": {},
     "output_type": "execute_result"
    }
   ],
   "source": [
    "labels=  get_labels(confusion_matrix(Y_test,GuassianNB_pred).shape[0],confusion_matrix(Y_test,GuassianNB_pred).shape[1])\n",
    "cm = pd.DataFrame(confusion_matrix(Y_test,GuassianNB_pred),index=labels[0])\n",
    "cm = cm.rename(columns=labels[1])\n",
    "cm"
   ]
  },
  {
   "cell_type": "code",
   "execution_count": 90,
   "id": "f61e6efe",
   "metadata": {},
   "outputs": [
    {
     "name": "stdout",
     "output_type": "stream",
     "text": [
      "SCORE:  0.5869098176367724\n"
     ]
    }
   ],
   "source": [
    "print(\"SCORE: \",accuracy_score(Y_test,GuassianNB_pred))"
   ]
  },
  {
   "cell_type": "markdown",
   "id": "ab6e3fce",
   "metadata": {},
   "source": [
    "#### Decision Tree"
   ]
  },
  {
   "cell_type": "code",
   "execution_count": 105,
   "id": "42fcca76",
   "metadata": {},
   "outputs": [
    {
     "data": {
      "text/html": [
       "<div>\n",
       "<style scoped>\n",
       "    .dataframe tbody tr th:only-of-type {\n",
       "        vertical-align: middle;\n",
       "    }\n",
       "\n",
       "    .dataframe tbody tr th {\n",
       "        vertical-align: top;\n",
       "    }\n",
       "\n",
       "    .dataframe thead th {\n",
       "        text-align: right;\n",
       "    }\n",
       "</style>\n",
       "<table border=\"1\" class=\"dataframe\">\n",
       "  <thead>\n",
       "    <tr style=\"text-align: right;\">\n",
       "      <th></th>\n",
       "      <th>(Pred , 1,  Rooms)</th>\n",
       "      <th>(Pred , 2,  Rooms)</th>\n",
       "      <th>(Pred , 3,  Rooms)</th>\n",
       "      <th>(Pred , 4,  Rooms)</th>\n",
       "      <th>(Pred , 5,  Rooms)</th>\n",
       "      <th>(Pred , 6,  Rooms)</th>\n",
       "      <th>(Pred , 7,  Rooms)</th>\n",
       "      <th>(Pred , 8,  Rooms)</th>\n",
       "      <th>(Pred , 9,  Rooms)</th>\n",
       "      <th>(Pred , 10,  Rooms)</th>\n",
       "    </tr>\n",
       "  </thead>\n",
       "  <tbody>\n",
       "    <tr>\n",
       "      <th>(Actual , 1,  Rooms)</th>\n",
       "      <td>78</td>\n",
       "      <td>122</td>\n",
       "      <td>33</td>\n",
       "      <td>16</td>\n",
       "      <td>20</td>\n",
       "      <td>7</td>\n",
       "      <td>2</td>\n",
       "      <td>1</td>\n",
       "      <td>0</td>\n",
       "      <td>0</td>\n",
       "    </tr>\n",
       "    <tr>\n",
       "      <th>(Actual , 2,  Rooms)</th>\n",
       "      <td>140</td>\n",
       "      <td>4910</td>\n",
       "      <td>1238</td>\n",
       "      <td>21</td>\n",
       "      <td>4</td>\n",
       "      <td>0</td>\n",
       "      <td>1</td>\n",
       "      <td>0</td>\n",
       "      <td>0</td>\n",
       "      <td>0</td>\n",
       "    </tr>\n",
       "    <tr>\n",
       "      <th>(Actual , 3,  Rooms)</th>\n",
       "      <td>24</td>\n",
       "      <td>1190</td>\n",
       "      <td>9225</td>\n",
       "      <td>1300</td>\n",
       "      <td>54</td>\n",
       "      <td>4</td>\n",
       "      <td>0</td>\n",
       "      <td>0</td>\n",
       "      <td>0</td>\n",
       "      <td>0</td>\n",
       "    </tr>\n",
       "    <tr>\n",
       "      <th>(Actual , 4,  Rooms)</th>\n",
       "      <td>13</td>\n",
       "      <td>38</td>\n",
       "      <td>1505</td>\n",
       "      <td>9500</td>\n",
       "      <td>1064</td>\n",
       "      <td>44</td>\n",
       "      <td>5</td>\n",
       "      <td>0</td>\n",
       "      <td>0</td>\n",
       "      <td>0</td>\n",
       "    </tr>\n",
       "    <tr>\n",
       "      <th>(Actual , 5,  Rooms)</th>\n",
       "      <td>17</td>\n",
       "      <td>0</td>\n",
       "      <td>75</td>\n",
       "      <td>1132</td>\n",
       "      <td>5845</td>\n",
       "      <td>566</td>\n",
       "      <td>55</td>\n",
       "      <td>6</td>\n",
       "      <td>4</td>\n",
       "      <td>0</td>\n",
       "    </tr>\n",
       "    <tr>\n",
       "      <th>(Actual , 6,  Rooms)</th>\n",
       "      <td>7</td>\n",
       "      <td>1</td>\n",
       "      <td>8</td>\n",
       "      <td>54</td>\n",
       "      <td>620</td>\n",
       "      <td>699</td>\n",
       "      <td>80</td>\n",
       "      <td>17</td>\n",
       "      <td>4</td>\n",
       "      <td>0</td>\n",
       "    </tr>\n",
       "    <tr>\n",
       "      <th>(Actual , 7,  Rooms)</th>\n",
       "      <td>0</td>\n",
       "      <td>0</td>\n",
       "      <td>2</td>\n",
       "      <td>6</td>\n",
       "      <td>80</td>\n",
       "      <td>74</td>\n",
       "      <td>39</td>\n",
       "      <td>5</td>\n",
       "      <td>2</td>\n",
       "      <td>0</td>\n",
       "    </tr>\n",
       "    <tr>\n",
       "      <th>(Actual , 8,  Rooms)</th>\n",
       "      <td>1</td>\n",
       "      <td>0</td>\n",
       "      <td>2</td>\n",
       "      <td>1</td>\n",
       "      <td>7</td>\n",
       "      <td>31</td>\n",
       "      <td>8</td>\n",
       "      <td>4</td>\n",
       "      <td>2</td>\n",
       "      <td>0</td>\n",
       "    </tr>\n",
       "    <tr>\n",
       "      <th>(Actual , 9,  Rooms)</th>\n",
       "      <td>0</td>\n",
       "      <td>0</td>\n",
       "      <td>1</td>\n",
       "      <td>0</td>\n",
       "      <td>8</td>\n",
       "      <td>2</td>\n",
       "      <td>3</td>\n",
       "      <td>1</td>\n",
       "      <td>1</td>\n",
       "      <td>0</td>\n",
       "    </tr>\n",
       "    <tr>\n",
       "      <th>(Actual , 10,  Rooms)</th>\n",
       "      <td>0</td>\n",
       "      <td>0</td>\n",
       "      <td>0</td>\n",
       "      <td>0</td>\n",
       "      <td>1</td>\n",
       "      <td>0</td>\n",
       "      <td>0</td>\n",
       "      <td>0</td>\n",
       "      <td>0</td>\n",
       "      <td>0</td>\n",
       "    </tr>\n",
       "  </tbody>\n",
       "</table>\n",
       "</div>"
      ],
      "text/plain": [
       "                       (Pred , 1,  Rooms)  (Pred , 2,  Rooms)  \\\n",
       "(Actual , 1,  Rooms)                   78                 122   \n",
       "(Actual , 2,  Rooms)                  140                4910   \n",
       "(Actual , 3,  Rooms)                   24                1190   \n",
       "(Actual , 4,  Rooms)                   13                  38   \n",
       "(Actual , 5,  Rooms)                   17                   0   \n",
       "(Actual , 6,  Rooms)                    7                   1   \n",
       "(Actual , 7,  Rooms)                    0                   0   \n",
       "(Actual , 8,  Rooms)                    1                   0   \n",
       "(Actual , 9,  Rooms)                    0                   0   \n",
       "(Actual , 10,  Rooms)                   0                   0   \n",
       "\n",
       "                       (Pred , 3,  Rooms)  (Pred , 4,  Rooms)  \\\n",
       "(Actual , 1,  Rooms)                   33                  16   \n",
       "(Actual , 2,  Rooms)                 1238                  21   \n",
       "(Actual , 3,  Rooms)                 9225                1300   \n",
       "(Actual , 4,  Rooms)                 1505                9500   \n",
       "(Actual , 5,  Rooms)                   75                1132   \n",
       "(Actual , 6,  Rooms)                    8                  54   \n",
       "(Actual , 7,  Rooms)                    2                   6   \n",
       "(Actual , 8,  Rooms)                    2                   1   \n",
       "(Actual , 9,  Rooms)                    1                   0   \n",
       "(Actual , 10,  Rooms)                   0                   0   \n",
       "\n",
       "                       (Pred , 5,  Rooms)  (Pred , 6,  Rooms)  \\\n",
       "(Actual , 1,  Rooms)                   20                   7   \n",
       "(Actual , 2,  Rooms)                    4                   0   \n",
       "(Actual , 3,  Rooms)                   54                   4   \n",
       "(Actual , 4,  Rooms)                 1064                  44   \n",
       "(Actual , 5,  Rooms)                 5845                 566   \n",
       "(Actual , 6,  Rooms)                  620                 699   \n",
       "(Actual , 7,  Rooms)                   80                  74   \n",
       "(Actual , 8,  Rooms)                    7                  31   \n",
       "(Actual , 9,  Rooms)                    8                   2   \n",
       "(Actual , 10,  Rooms)                   1                   0   \n",
       "\n",
       "                       (Pred , 7,  Rooms)  (Pred , 8,  Rooms)  \\\n",
       "(Actual , 1,  Rooms)                    2                   1   \n",
       "(Actual , 2,  Rooms)                    1                   0   \n",
       "(Actual , 3,  Rooms)                    0                   0   \n",
       "(Actual , 4,  Rooms)                    5                   0   \n",
       "(Actual , 5,  Rooms)                   55                   6   \n",
       "(Actual , 6,  Rooms)                   80                  17   \n",
       "(Actual , 7,  Rooms)                   39                   5   \n",
       "(Actual , 8,  Rooms)                    8                   4   \n",
       "(Actual , 9,  Rooms)                    3                   1   \n",
       "(Actual , 10,  Rooms)                   0                   0   \n",
       "\n",
       "                       (Pred , 9,  Rooms)  (Pred , 10,  Rooms)  \n",
       "(Actual , 1,  Rooms)                    0                    0  \n",
       "(Actual , 2,  Rooms)                    0                    0  \n",
       "(Actual , 3,  Rooms)                    0                    0  \n",
       "(Actual , 4,  Rooms)                    0                    0  \n",
       "(Actual , 5,  Rooms)                    4                    0  \n",
       "(Actual , 6,  Rooms)                    4                    0  \n",
       "(Actual , 7,  Rooms)                    2                    0  \n",
       "(Actual , 8,  Rooms)                    2                    0  \n",
       "(Actual , 9,  Rooms)                    1                    0  \n",
       "(Actual , 10,  Rooms)                   0                    0  "
      ]
     },
     "execution_count": 105,
     "metadata": {},
     "output_type": "execute_result"
    }
   ],
   "source": [
    "labels=  get_labels(confusion_matrix(Y_test,DT_pred).shape[0],confusion_matrix(Y_test,DT_pred).shape[1])\n",
    "cm = pd.DataFrame(confusion_matrix(Y_test,DT_pred),index=labels[0])\n",
    "cm = cm.rename(columns=labels[1])\n",
    "cm"
   ]
  },
  {
   "cell_type": "code",
   "execution_count": 107,
   "id": "86251aac",
   "metadata": {},
   "outputs": [
    {
     "name": "stdout",
     "output_type": "stream",
     "text": [
      "SCORE:  0.7569572820384711\n"
     ]
    }
   ],
   "source": [
    "print(\"SCORE: \",accuracy_score(Y_test,DT_pred))"
   ]
  },
  {
   "cell_type": "markdown",
   "id": "ae453acc",
   "metadata": {},
   "source": [
    "### Performance Evaluation"
   ]
  },
  {
   "cell_type": "markdown",
   "id": "2fb8006a",
   "metadata": {},
   "source": [
    "**The models with the highest accuracy percentage**:\n",
    "+ 1) RandomForest: 80.23%\n",
    "+ 2) DecisionTree: 75.69%\n",
    "+ 3) KNN: 73.79%\n",
    "+ 4) GNB: 58.69%\n",
    "\n",
    "\n",
    "(Please note that these indices are not precise and constitute only one experiment, with the help of finding the highest hyperparameter with the SearchGridCV function we would get higher accuracy percentages.\n",
    "Since these models are not our main focus in this project, we will be okay with that)"
   ]
  },
  {
   "cell_type": "markdown",
   "id": "e472467e",
   "metadata": {},
   "source": [
    "### Fourth Prediction"
   ]
  },
  {
   "cell_type": "code",
   "execution_count": 109,
   "id": "890cf0b8",
   "metadata": {},
   "outputs": [],
   "source": [
    "X = df_Cities[df_Cities.columns[df_Cities.columns!='Property_Type']]\n",
    "Y = df_Cities['Property_Type']\n",
    "\n",
    "X_train,X_test,Y_train,Y_test = train_test_split(X,Y,test_size=0.2)\n",
    "\n",
    "scaler = StandardScaler().fit(X_train)\n",
    "X_train = scaler.transform(X_train)\n",
    "X_test = scaler.transform(X_test)\n",
    "\n",
    "KNN = KNeighborsClassifier(n_neighbors=10).fit(X_train,Y_train)\n",
    "RandomForest = RandomForestClassifier().fit(X_train,Y_train)\n",
    "GuassianNB = GaussianNB().fit(X_train,Y_train)\n",
    "DT = DecisionTreeClassifier(max_depth=10).fit(X_train,Y_train)\n",
    "\n",
    "KNN_pred = KNN.predict(X_test)\n",
    "RandomForest_pred = RandomForest.predict(X_test)\n",
    "GuassianNB_pred = GuassianNB.predict(X_test)\n",
    "DT_pred = DT.predict(X_test)"
   ]
  },
  {
   "cell_type": "markdown",
   "id": "c93328c4",
   "metadata": {},
   "source": [
    "#### KNN:"
   ]
  },
  {
   "cell_type": "code",
   "execution_count": 126,
   "id": "79aa6a66",
   "metadata": {},
   "outputs": [
    {
     "data": {
      "text/html": [
       "<div>\n",
       "<style scoped>\n",
       "    .dataframe tbody tr th:only-of-type {\n",
       "        vertical-align: middle;\n",
       "    }\n",
       "\n",
       "    .dataframe tbody tr th {\n",
       "        vertical-align: top;\n",
       "    }\n",
       "\n",
       "    .dataframe thead th {\n",
       "        text-align: right;\n",
       "    }\n",
       "</style>\n",
       "<table border=\"1\" class=\"dataframe\">\n",
       "  <thead>\n",
       "    <tr style=\"text-align: right;\">\n",
       "      <th></th>\n",
       "      <th>Pred בית פרטי</th>\n",
       "      <th>Pred דירה בבניין</th>\n",
       "      <th>Pred דירת גג</th>\n",
       "      <th>Pred דירת גן</th>\n",
       "      <th>Pred קוטג</th>\n",
       "    </tr>\n",
       "  </thead>\n",
       "  <tbody>\n",
       "    <tr>\n",
       "      <th>Actual בית פרטי</th>\n",
       "      <td>34</td>\n",
       "      <td>141</td>\n",
       "      <td>0</td>\n",
       "      <td>0</td>\n",
       "      <td>62</td>\n",
       "    </tr>\n",
       "    <tr>\n",
       "      <th>Actual דירה בבניין</th>\n",
       "      <td>19</td>\n",
       "      <td>37702</td>\n",
       "      <td>1</td>\n",
       "      <td>7</td>\n",
       "      <td>247</td>\n",
       "    </tr>\n",
       "    <tr>\n",
       "      <th>Actual דירת גג</th>\n",
       "      <td>0</td>\n",
       "      <td>228</td>\n",
       "      <td>2</td>\n",
       "      <td>0</td>\n",
       "      <td>2</td>\n",
       "    </tr>\n",
       "    <tr>\n",
       "      <th>Actual דירת גן</th>\n",
       "      <td>1</td>\n",
       "      <td>268</td>\n",
       "      <td>0</td>\n",
       "      <td>5</td>\n",
       "      <td>18</td>\n",
       "    </tr>\n",
       "    <tr>\n",
       "      <th>Actual קוטג</th>\n",
       "      <td>12</td>\n",
       "      <td>613</td>\n",
       "      <td>0</td>\n",
       "      <td>5</td>\n",
       "      <td>663</td>\n",
       "    </tr>\n",
       "  </tbody>\n",
       "</table>\n",
       "</div>"
      ],
      "text/plain": [
       "                    Pred בית פרטי  Pred דירה בבניין  Pred דירת גג  \\\n",
       "Actual בית פרטי                34               141             0   \n",
       "Actual דירה בבניין             19             37702             1   \n",
       "Actual דירת גג                  0               228             2   \n",
       "Actual דירת גן                  1               268             0   \n",
       "Actual קוטג                    12               613             0   \n",
       "\n",
       "                    Pred דירת גן  Pred קוטג  \n",
       "Actual בית פרטי                0         62  \n",
       "Actual דירה בבניין             7        247  \n",
       "Actual דירת גג                 0          2  \n",
       "Actual דירת גן                 5         18  \n",
       "Actual קוטג                    5        663  "
      ]
     },
     "execution_count": 126,
     "metadata": {},
     "output_type": "execute_result"
    }
   ],
   "source": [
    "labels = ['Actual בית פרטי','Actual דירה בבניין','Actual דירת גג','Actual דירת גן','Actual קוטג']\n",
    "labels2 = {0:'Pred בית פרטי',\n",
    "          1:'Pred דירה בבניין',\n",
    "          2:'Pred דירת גג',\n",
    "          3: 'Pred דירת גן',\n",
    "          4: 'Pred קוטג'}\n",
    "cm = pd.DataFrame(confusion_matrix(Y_test,KNN_pred),index=labels)\n",
    "cm = cm.rename(columns=labels2)\n",
    "cm"
   ]
  },
  {
   "cell_type": "code",
   "execution_count": 127,
   "id": "a8b2d147",
   "metadata": {},
   "outputs": [
    {
     "name": "stdout",
     "output_type": "stream",
     "text": [
      "SCORE:  0.9594304271796152\n"
     ]
    }
   ],
   "source": [
    "print(\"SCORE: \",accuracy_score(Y_test,KNN_pred))"
   ]
  },
  {
   "cell_type": "markdown",
   "id": "0fdb8289",
   "metadata": {},
   "source": [
    "#### RandomForest"
   ]
  },
  {
   "cell_type": "code",
   "execution_count": 128,
   "id": "bb7131ec",
   "metadata": {},
   "outputs": [
    {
     "data": {
      "text/html": [
       "<div>\n",
       "<style scoped>\n",
       "    .dataframe tbody tr th:only-of-type {\n",
       "        vertical-align: middle;\n",
       "    }\n",
       "\n",
       "    .dataframe tbody tr th {\n",
       "        vertical-align: top;\n",
       "    }\n",
       "\n",
       "    .dataframe thead th {\n",
       "        text-align: right;\n",
       "    }\n",
       "</style>\n",
       "<table border=\"1\" class=\"dataframe\">\n",
       "  <thead>\n",
       "    <tr style=\"text-align: right;\">\n",
       "      <th></th>\n",
       "      <th>Pred בית פרטי</th>\n",
       "      <th>Pred דירה בבניין</th>\n",
       "      <th>Pred דירת גג</th>\n",
       "      <th>Pred דירת גן</th>\n",
       "      <th>Pred קוטג</th>\n",
       "    </tr>\n",
       "  </thead>\n",
       "  <tbody>\n",
       "    <tr>\n",
       "      <th>Actual בית פרטי</th>\n",
       "      <td>49</td>\n",
       "      <td>118</td>\n",
       "      <td>0</td>\n",
       "      <td>2</td>\n",
       "      <td>68</td>\n",
       "    </tr>\n",
       "    <tr>\n",
       "      <th>Actual דירה בבניין</th>\n",
       "      <td>35</td>\n",
       "      <td>37576</td>\n",
       "      <td>23</td>\n",
       "      <td>54</td>\n",
       "      <td>288</td>\n",
       "    </tr>\n",
       "    <tr>\n",
       "      <th>Actual דירת גג</th>\n",
       "      <td>0</td>\n",
       "      <td>225</td>\n",
       "      <td>5</td>\n",
       "      <td>0</td>\n",
       "      <td>2</td>\n",
       "    </tr>\n",
       "    <tr>\n",
       "      <th>Actual דירת גן</th>\n",
       "      <td>1</td>\n",
       "      <td>233</td>\n",
       "      <td>1</td>\n",
       "      <td>35</td>\n",
       "      <td>22</td>\n",
       "    </tr>\n",
       "    <tr>\n",
       "      <th>Actual קוטג</th>\n",
       "      <td>8</td>\n",
       "      <td>460</td>\n",
       "      <td>0</td>\n",
       "      <td>4</td>\n",
       "      <td>821</td>\n",
       "    </tr>\n",
       "  </tbody>\n",
       "</table>\n",
       "</div>"
      ],
      "text/plain": [
       "                    Pred בית פרטי  Pred דירה בבניין  Pred דירת גג  \\\n",
       "Actual בית פרטי                49               118             0   \n",
       "Actual דירה בבניין             35             37576            23   \n",
       "Actual דירת גג                  0               225             5   \n",
       "Actual דירת גן                  1               233             1   \n",
       "Actual קוטג                     8               460             0   \n",
       "\n",
       "                    Pred דירת גן  Pred קוטג  \n",
       "Actual בית פרטי                2         68  \n",
       "Actual דירה בבניין            54        288  \n",
       "Actual דירת גג                 0          2  \n",
       "Actual דירת גן                35         22  \n",
       "Actual קוטג                    4        821  "
      ]
     },
     "execution_count": 128,
     "metadata": {},
     "output_type": "execute_result"
    }
   ],
   "source": [
    "cm = pd.DataFrame(confusion_matrix(Y_test,RandomForest_pred),index=labels)\n",
    "cm = cm.rename(columns=labels2)\n",
    "cm"
   ]
  },
  {
   "cell_type": "code",
   "execution_count": 129,
   "id": "35fc729a",
   "metadata": {},
   "outputs": [
    {
     "name": "stdout",
     "output_type": "stream",
     "text": [
      "SCORE:  0.9614289283037721\n"
     ]
    }
   ],
   "source": [
    "print(\"SCORE: \",accuracy_score(Y_test,RandomForest_pred))"
   ]
  },
  {
   "cell_type": "markdown",
   "id": "b724213a",
   "metadata": {},
   "source": [
    "#### GuassianNB"
   ]
  },
  {
   "cell_type": "code",
   "execution_count": 130,
   "id": "1ec89bea",
   "metadata": {},
   "outputs": [
    {
     "data": {
      "text/html": [
       "<div>\n",
       "<style scoped>\n",
       "    .dataframe tbody tr th:only-of-type {\n",
       "        vertical-align: middle;\n",
       "    }\n",
       "\n",
       "    .dataframe tbody tr th {\n",
       "        vertical-align: top;\n",
       "    }\n",
       "\n",
       "    .dataframe thead th {\n",
       "        text-align: right;\n",
       "    }\n",
       "</style>\n",
       "<table border=\"1\" class=\"dataframe\">\n",
       "  <thead>\n",
       "    <tr style=\"text-align: right;\">\n",
       "      <th></th>\n",
       "      <th>Pred בית פרטי</th>\n",
       "      <th>Pred דירה בבניין</th>\n",
       "      <th>Pred דירת גג</th>\n",
       "      <th>Pred דירת גן</th>\n",
       "      <th>Pred קוטג</th>\n",
       "    </tr>\n",
       "  </thead>\n",
       "  <tbody>\n",
       "    <tr>\n",
       "      <th>Actual בית פרטי</th>\n",
       "      <td>27</td>\n",
       "      <td>112</td>\n",
       "      <td>1</td>\n",
       "      <td>4</td>\n",
       "      <td>93</td>\n",
       "    </tr>\n",
       "    <tr>\n",
       "      <th>Actual דירה בבניין</th>\n",
       "      <td>592</td>\n",
       "      <td>34944</td>\n",
       "      <td>611</td>\n",
       "      <td>430</td>\n",
       "      <td>1399</td>\n",
       "    </tr>\n",
       "    <tr>\n",
       "      <th>Actual דירת גג</th>\n",
       "      <td>4</td>\n",
       "      <td>161</td>\n",
       "      <td>48</td>\n",
       "      <td>3</td>\n",
       "      <td>16</td>\n",
       "    </tr>\n",
       "    <tr>\n",
       "      <th>Actual דירת גן</th>\n",
       "      <td>9</td>\n",
       "      <td>174</td>\n",
       "      <td>1</td>\n",
       "      <td>35</td>\n",
       "      <td>73</td>\n",
       "    </tr>\n",
       "    <tr>\n",
       "      <th>Actual קוטג</th>\n",
       "      <td>29</td>\n",
       "      <td>404</td>\n",
       "      <td>3</td>\n",
       "      <td>14</td>\n",
       "      <td>843</td>\n",
       "    </tr>\n",
       "  </tbody>\n",
       "</table>\n",
       "</div>"
      ],
      "text/plain": [
       "                    Pred בית פרטי  Pred דירה בבניין  Pred דירת גג  \\\n",
       "Actual בית פרטי                27               112             1   \n",
       "Actual דירה בבניין            592             34944           611   \n",
       "Actual דירת גג                  4               161            48   \n",
       "Actual דירת גן                  9               174             1   \n",
       "Actual קוטג                    29               404             3   \n",
       "\n",
       "                    Pred דירת גן  Pred קוטג  \n",
       "Actual בית פרטי                4         93  \n",
       "Actual דירה בבניין           430       1399  \n",
       "Actual דירת גג                 3         16  \n",
       "Actual דירת גן                35         73  \n",
       "Actual קוטג                   14        843  "
      ]
     },
     "execution_count": 130,
     "metadata": {},
     "output_type": "execute_result"
    }
   ],
   "source": [
    "cm = pd.DataFrame(confusion_matrix(Y_test,GuassianNB_pred),index=labels)\n",
    "cm = cm.rename(columns=labels2)\n",
    "cm"
   ]
  },
  {
   "cell_type": "code",
   "execution_count": 131,
   "id": "684eb7fe",
   "metadata": {},
   "outputs": [
    {
     "name": "stdout",
     "output_type": "stream",
     "text": [
      "SCORE:  0.896752435673245\n"
     ]
    }
   ],
   "source": [
    "print(\"SCORE: \",accuracy_score(Y_test,GuassianNB_pred))"
   ]
  },
  {
   "cell_type": "markdown",
   "id": "40336e72",
   "metadata": {},
   "source": [
    "#### Decision Tree"
   ]
  },
  {
   "cell_type": "code",
   "execution_count": 132,
   "id": "290ee872",
   "metadata": {},
   "outputs": [
    {
     "data": {
      "text/html": [
       "<div>\n",
       "<style scoped>\n",
       "    .dataframe tbody tr th:only-of-type {\n",
       "        vertical-align: middle;\n",
       "    }\n",
       "\n",
       "    .dataframe tbody tr th {\n",
       "        vertical-align: top;\n",
       "    }\n",
       "\n",
       "    .dataframe thead th {\n",
       "        text-align: right;\n",
       "    }\n",
       "</style>\n",
       "<table border=\"1\" class=\"dataframe\">\n",
       "  <thead>\n",
       "    <tr style=\"text-align: right;\">\n",
       "      <th></th>\n",
       "      <th>Pred בית פרטי</th>\n",
       "      <th>Pred דירה בבניין</th>\n",
       "      <th>Pred דירת גג</th>\n",
       "      <th>Pred דירת גן</th>\n",
       "      <th>Pred קוטג</th>\n",
       "    </tr>\n",
       "  </thead>\n",
       "  <tbody>\n",
       "    <tr>\n",
       "      <th>Actual בית פרטי</th>\n",
       "      <td>13</td>\n",
       "      <td>151</td>\n",
       "      <td>1</td>\n",
       "      <td>0</td>\n",
       "      <td>72</td>\n",
       "    </tr>\n",
       "    <tr>\n",
       "      <th>Actual דירה בבניין</th>\n",
       "      <td>13</td>\n",
       "      <td>37601</td>\n",
       "      <td>19</td>\n",
       "      <td>15</td>\n",
       "      <td>328</td>\n",
       "    </tr>\n",
       "    <tr>\n",
       "      <th>Actual דירת גג</th>\n",
       "      <td>0</td>\n",
       "      <td>226</td>\n",
       "      <td>4</td>\n",
       "      <td>0</td>\n",
       "      <td>2</td>\n",
       "    </tr>\n",
       "    <tr>\n",
       "      <th>Actual דירת גן</th>\n",
       "      <td>1</td>\n",
       "      <td>252</td>\n",
       "      <td>1</td>\n",
       "      <td>8</td>\n",
       "      <td>30</td>\n",
       "    </tr>\n",
       "    <tr>\n",
       "      <th>Actual קוטג</th>\n",
       "      <td>6</td>\n",
       "      <td>548</td>\n",
       "      <td>0</td>\n",
       "      <td>6</td>\n",
       "      <td>733</td>\n",
       "    </tr>\n",
       "  </tbody>\n",
       "</table>\n",
       "</div>"
      ],
      "text/plain": [
       "                    Pred בית פרטי  Pred דירה בבניין  Pred דירת גג  \\\n",
       "Actual בית פרטי                13               151             1   \n",
       "Actual דירה בבניין             13             37601            19   \n",
       "Actual דירת גג                  0               226             4   \n",
       "Actual דירת גן                  1               252             1   \n",
       "Actual קוטג                     6               548             0   \n",
       "\n",
       "                    Pred דירת גן  Pred קוטג  \n",
       "Actual בית פרטי                0         72  \n",
       "Actual דירה בבניין            15        328  \n",
       "Actual דירת גג                 0          2  \n",
       "Actual דירת גן                 8         30  \n",
       "Actual קוטג                    6        733  "
      ]
     },
     "execution_count": 132,
     "metadata": {},
     "output_type": "execute_result"
    }
   ],
   "source": [
    "cm = pd.DataFrame(confusion_matrix(Y_test,DT_pred),index=labels)\n",
    "cm = cm.rename(columns=labels2)\n",
    "cm"
   ]
  },
  {
   "cell_type": "code",
   "execution_count": 133,
   "id": "9f03478f",
   "metadata": {},
   "outputs": [
    {
     "name": "stdout",
     "output_type": "stream",
     "text": [
      "SCORE:  0.9582563077691731\n"
     ]
    }
   ],
   "source": [
    "print(\"SCORE: \",accuracy_score(Y_test,DT_pred))"
   ]
  },
  {
   "cell_type": "markdown",
   "id": "61329e6b",
   "metadata": {},
   "source": [
    "### Performance Evaluation\n",
    "**The models with the highest accuracy percentage**:\n",
    "+ 1) RandomForest: 96.14%\n",
    "+ 2) DecisionTree: 95.94%\n",
    "+ 3) KNN: 95.82%\n",
    "+ 4) GNB: 89.67%\n",
    "\n",
    "\n",
    "(Please note that these indices are not precise and constitute only one experiment, with the help of finding the highest hyperparameter with the SearchGridCV function we would get higher accuracy percentages.\n",
    "Since these models are not our main focus in this project, we will be okay with that)"
   ]
  }
 ],
 "metadata": {
  "kernelspec": {
   "display_name": "Python 3 (ipykernel)",
   "language": "python",
   "name": "python3"
  },
  "language_info": {
   "codemirror_mode": {
    "name": "ipython",
    "version": 3
   },
   "file_extension": ".py",
   "mimetype": "text/x-python",
   "name": "python",
   "nbconvert_exporter": "python",
   "pygments_lexer": "ipython3",
   "version": "3.9.12"
  }
 },
 "nbformat": 4,
 "nbformat_minor": 5
}
