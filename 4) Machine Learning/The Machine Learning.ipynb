{
 "cells": [
  {
   "cell_type": "markdown",
   "id": "70970dbb",
   "metadata": {},
   "source": [
    "# Machine Learning\n",
    "### In this section, we will prepare our database for the machine learning process, perform linear regression, and evaluate performance.\n",
    "#### Written By: Nadav Bitran Numa and Maor Bezalel"
   ]
  },
  {
   "cell_type": "markdown",
   "id": "72cdc783",
   "metadata": {},
   "source": [
    "#### First, we will load the desired modules and datasets"
   ]
  },
  {
   "cell_type": "code",
   "execution_count": 660,
   "id": "5639aa58",
   "metadata": {},
   "outputs": [],
   "source": [
    "import pandas as pd\n",
    "import numpy as np\n",
    "from matplotlib import pyplot as plt \n",
    "\n",
    "from sklearn.model_selection import train_test_split\n",
    "from sklearn.linear_model import LinearRegression,LogisticRegression\n",
    "from sklearn.metrics import r2_score,mean_squared_error,confusion_matrix,f1_score,precision_score,recall_score,accuracy_score,make_scorer\n",
    "from sklearn.model_selection import cross_val_score\n",
    "from sklearn.preprocessing import StandardScaler,MinMaxScaler\n",
    "from sklearn.model_selection import GridSearchCV\n",
    "\n",
    "from sklearn.tree import DecisionTreeClassifier\n",
    "from sklearn.neighbors import KNeighborsClassifier\n",
    "from sklearn.naive_bayes import GaussianNB\n",
    "from sklearn.ensemble import RandomForestClassifier"
   ]
  },
  {
   "cell_type": "code",
   "execution_count": 661,
   "id": "da6218fa",
   "metadata": {},
   "outputs": [],
   "source": [
    "df_Cities = pd.read_csv(\"AllCities.csv\")\n",
    "df_Cities_Env_Avg = pd.read_csv(\"AllCitiesEnvorinment (AverageFill).csv\")"
   ]
  },
  {
   "cell_type": "code",
   "execution_count": 662,
   "id": "f4434871",
   "metadata": {},
   "outputs": [],
   "source": [
    "df_Cities.Property_Type = df_Cities.Property_Type.astype('category')\n",
    "\n",
    "df_Cities.City = df_Cities.City.astype('category')\n",
    "\n",
    "df_Cities.Rooms = df_Cities.Rooms.astype(\"category\")\n",
    "\n",
    "df_Cities.Floor = df_Cities.Floor.astype('category')\n",
    "\n",
    "df_Cities.Square_Meter = df_Cities.Square_Meter.astype(\"float64\")\n",
    "\n",
    "df_Cities.Price = df_Cities.Price.astype('int64')\n",
    "\n",
    "df_Cities['Sale_Date'] = pd.to_datetime(df_Cities['Sale_Date'],format='%Y-%m-%d',errors=\"coerce\")"
   ]
  },
  {
   "cell_type": "markdown",
   "id": "f14c36a5",
   "metadata": {},
   "source": [
    "# "
   ]
  },
  {
   "cell_type": "markdown",
   "id": "ac373bce",
   "metadata": {},
   "source": [
    "# Step 1: Preparing the database\n",
    "### In this part we will prepare the database for machine learning.\n",
    "+ 1) We will remove unwanted columns\n",
    "+ 2) We will unite the information of the two databases we have\n",
    "+ 3) We will perform a final treatment of the data"
   ]
  },
  {
   "cell_type": "markdown",
   "id": "01442d90",
   "metadata": {},
   "source": [
    "# "
   ]
  },
  {
   "cell_type": "markdown",
   "id": "7ceffeb5",
   "metadata": {},
   "source": [
    "**Before we start merging the two databases ,we would like to verify if there is a match between the neighborhood names of the two databases**\n",
    "\n",
    "Explanation why: a situation can arise where the first database will have a neighborhood name without the word שכונת before, while the second database will have a neighborhood name with the word שכונת before.\n",
    "In order to be able to perform the union we will have to make sure that the names are indeed the same\n",
    "\n",
    "Example: \n",
    "\n",
    "in df_Cities ---> **בן גוריון, אילת**\n",
    "\n",
    "in df_Cities_Env_Avg ---> **שכונת בן גוריון, אילת**"
   ]
  },
  {
   "cell_type": "markdown",
   "id": "d0495ec4",
   "metadata": {},
   "source": [
    "In order to find out if such cases exist, we will use the asymmetric difference operation between df_Cities_Env_Avg and df_Cities"
   ]
  },
  {
   "cell_type": "code",
   "execution_count": 663,
   "id": "62ad4d47",
   "metadata": {},
   "outputs": [
    {
     "name": "stdout",
     "output_type": "stream",
     "text": [
      "set_Cities - set_Env :  {'יפו העתיקה', 'שכונת ותיקים', 'שכונת רובע ט', 'שכונת קרית רבין', 'שכונת קריית שרת', 'שכונת התקווה', 'שכונת משכנות גבעת זאב', 'שכונת מרכז העיר', \"שכונת ג'סי כהן\", 'הדר יוסף', 'שכונת נווה שרת', 'שכונת נווה רמז', 'שכונת הצפון החדש סביבת כיכר המדינה', 'שכונת הצפון הישן החלק הדרומי', 'הצפון החדש החלק הדרומי'}\n"
     ]
    }
   ],
   "source": [
    "set_Cities = set(df_Cities.Neighborhood.unique().tolist())\n",
    "set_Env = set(df_Cities_Env_Avg.Neighborhood.unique().tolist())\n",
    "\n",
    "print(\"set_Cities - set_Env : \", set_Cities-set_Env)"
   ]
  },
  {
   "cell_type": "markdown",
   "id": "506e6eca",
   "metadata": {},
   "source": [
    "We have now received two sets of results:\n",
    "The first group: the group of neighborhoods that start with the word שכונת, which we will have to correct.\n",
    "\n",
    "The second group: the group of neighborhoods that do not begin with the word שכונת, we will conclude from this that there are neighborhoods for which we have data in the main database but not in the secondary"
   ]
  },
  {
   "cell_type": "code",
   "execution_count": 664,
   "id": "a750f18d",
   "metadata": {},
   "outputs": [],
   "source": [
    "# Removing the word שכונת in the main dataset\n",
    "updated = [neighborhood[6::] for neighborhood in df_Cities.loc[df_Cities['Neighborhood'].str.startswith('שכונת'),'Neighborhood']]\n",
    "df_Cities.loc[df_Cities['Neighborhood'].str.startswith('שכונת'),'Neighborhood'] = updated\n",
    "\n",
    "# Removing the word שכונת in the second dataset\n",
    "updated_Env = [neighborhood[6::] for neighborhood in df_Cities_Env_Avg.loc[df_Cities_Env_Avg['Neighborhood'].str.startswith('שכונת'),'Neighborhood']]\n",
    "df_Cities_Env_Avg.loc[df_Cities_Env_Avg['Neighborhood'].str.startswith('שכונת'),'Neighborhood'] = updated_Env"
   ]
  },
  {
   "cell_type": "markdown",
   "id": "7f1af082",
   "metadata": {},
   "source": [
    "## 1.1: Removing Unwanted data"
   ]
  },
  {
   "cell_type": "markdown",
   "id": "0f4b7a72",
   "metadata": {},
   "source": [
    "It can be seen that the apartment number column is not relevant information for machine learning, so we will have to get rid of it.\n",
    "In addition, we would like to extract the year of sale from the apartment price date column"
   ]
  },
  {
   "cell_type": "markdown",
   "id": "6a9ad39a",
   "metadata": {},
   "source": [
    "### 1.1.1: Removing Building Number Column"
   ]
  },
  {
   "cell_type": "code",
   "execution_count": 665,
   "id": "d54ab128",
   "metadata": {},
   "outputs": [],
   "source": [
    "df_Cities.drop(columns=\"Building_Number\",inplace=True)"
   ]
  },
  {
   "cell_type": "markdown",
   "id": "933cccdf",
   "metadata": {},
   "source": [
    "### 1.1.2: Extarcting Year Of Sale"
   ]
  },
  {
   "cell_type": "code",
   "execution_count": 666,
   "id": "b6804fab",
   "metadata": {},
   "outputs": [],
   "source": [
    "df_Cities['Sale_Year'] = df_Cities['Sale_Date'].dt.year\n",
    "df_Cities.drop(columns=['Sale_Date'],inplace=True)\n",
    "df_Cities.insert(0, 'Sale_Year', df_Cities.pop('Sale_Year'))"
   ]
  },
  {
   "cell_type": "markdown",
   "id": "13c6bbcf",
   "metadata": {},
   "source": [
    "Before we finish, we will have to ask ourselves: will the data where the name of the street is unknown help us in the machine learning process? And that answer is probably no.\n",
    "Because we want to perform the machine learning process at the apartment level (and not at the neighborhood level) we would like to further divide the street names into categories, as a result all the apartments where the street name is Unknown will be united under one category, which is wrong"
   ]
  },
  {
   "cell_type": "code",
   "execution_count": 667,
   "id": "351a9ac8",
   "metadata": {},
   "outputs": [
    {
     "data": {
      "text/html": [
       "<div>\n",
       "<style scoped>\n",
       "    .dataframe tbody tr th:only-of-type {\n",
       "        vertical-align: middle;\n",
       "    }\n",
       "\n",
       "    .dataframe tbody tr th {\n",
       "        vertical-align: top;\n",
       "    }\n",
       "\n",
       "    .dataframe thead th {\n",
       "        text-align: right;\n",
       "    }\n",
       "</style>\n",
       "<table border=\"1\" class=\"dataframe\">\n",
       "  <thead>\n",
       "    <tr style=\"text-align: right;\">\n",
       "      <th></th>\n",
       "      <th>Sale_Year</th>\n",
       "      <th>City</th>\n",
       "      <th>Neighborhood</th>\n",
       "      <th>Street</th>\n",
       "      <th>Property_Type</th>\n",
       "      <th>Rooms</th>\n",
       "      <th>Floor</th>\n",
       "      <th>Square_Meter</th>\n",
       "      <th>Price</th>\n",
       "    </tr>\n",
       "  </thead>\n",
       "  <tbody>\n",
       "    <tr>\n",
       "      <th>0</th>\n",
       "      <td>2022</td>\n",
       "      <td>אשדוד</td>\n",
       "      <td>הקריה מע\"ר</td>\n",
       "      <td>Unknown</td>\n",
       "      <td>1</td>\n",
       "      <td>5.0</td>\n",
       "      <td>8</td>\n",
       "      <td>227.0</td>\n",
       "      <td>3500000</td>\n",
       "    </tr>\n",
       "    <tr>\n",
       "      <th>1</th>\n",
       "      <td>2022</td>\n",
       "      <td>אשדוד</td>\n",
       "      <td>הקריה מע\"ר</td>\n",
       "      <td>Unknown</td>\n",
       "      <td>1</td>\n",
       "      <td>3.0</td>\n",
       "      <td>3</td>\n",
       "      <td>81.0</td>\n",
       "      <td>2370000</td>\n",
       "    </tr>\n",
       "    <tr>\n",
       "      <th>3</th>\n",
       "      <td>2022</td>\n",
       "      <td>אשדוד</td>\n",
       "      <td>הקריה מע\"ר</td>\n",
       "      <td>Unknown</td>\n",
       "      <td>1</td>\n",
       "      <td>5.0</td>\n",
       "      <td>13</td>\n",
       "      <td>137.0</td>\n",
       "      <td>3550000</td>\n",
       "    </tr>\n",
       "    <tr>\n",
       "      <th>4</th>\n",
       "      <td>2022</td>\n",
       "      <td>אשדוד</td>\n",
       "      <td>הקריה מע\"ר</td>\n",
       "      <td>Unknown</td>\n",
       "      <td>1</td>\n",
       "      <td>3.0</td>\n",
       "      <td>1</td>\n",
       "      <td>77.0</td>\n",
       "      <td>2099000</td>\n",
       "    </tr>\n",
       "    <tr>\n",
       "      <th>5</th>\n",
       "      <td>2022</td>\n",
       "      <td>אשדוד</td>\n",
       "      <td>הקריה מע\"ר</td>\n",
       "      <td>Unknown</td>\n",
       "      <td>1</td>\n",
       "      <td>5.0</td>\n",
       "      <td>3</td>\n",
       "      <td>189.0</td>\n",
       "      <td>3300000</td>\n",
       "    </tr>\n",
       "    <tr>\n",
       "      <th>...</th>\n",
       "      <td>...</td>\n",
       "      <td>...</td>\n",
       "      <td>...</td>\n",
       "      <td>...</td>\n",
       "      <td>...</td>\n",
       "      <td>...</td>\n",
       "      <td>...</td>\n",
       "      <td>...</td>\n",
       "      <td>...</td>\n",
       "    </tr>\n",
       "    <tr>\n",
       "      <th>229101</th>\n",
       "      <td>2013</td>\n",
       "      <td>תל אביב -יפו</td>\n",
       "      <td>מונטיפיורי</td>\n",
       "      <td>Unknown</td>\n",
       "      <td>1</td>\n",
       "      <td>3.0</td>\n",
       "      <td>30</td>\n",
       "      <td>65.0</td>\n",
       "      <td>2135000</td>\n",
       "    </tr>\n",
       "    <tr>\n",
       "      <th>229102</th>\n",
       "      <td>2013</td>\n",
       "      <td>תל אביב -יפו</td>\n",
       "      <td>מונטיפיורי</td>\n",
       "      <td>Unknown</td>\n",
       "      <td>1</td>\n",
       "      <td>3.0</td>\n",
       "      <td>30</td>\n",
       "      <td>68.0</td>\n",
       "      <td>2250000</td>\n",
       "    </tr>\n",
       "    <tr>\n",
       "      <th>229103</th>\n",
       "      <td>2013</td>\n",
       "      <td>תל אביב -יפו</td>\n",
       "      <td>מונטיפיורי</td>\n",
       "      <td>Unknown</td>\n",
       "      <td>1</td>\n",
       "      <td>3.0</td>\n",
       "      <td>30</td>\n",
       "      <td>76.0</td>\n",
       "      <td>2205000</td>\n",
       "    </tr>\n",
       "    <tr>\n",
       "      <th>229104</th>\n",
       "      <td>2013</td>\n",
       "      <td>תל אביב -יפו</td>\n",
       "      <td>מונטיפיורי</td>\n",
       "      <td>Unknown</td>\n",
       "      <td>1</td>\n",
       "      <td>3.0</td>\n",
       "      <td>30</td>\n",
       "      <td>69.0</td>\n",
       "      <td>2250000</td>\n",
       "    </tr>\n",
       "    <tr>\n",
       "      <th>229105</th>\n",
       "      <td>2012</td>\n",
       "      <td>תל אביב -יפו</td>\n",
       "      <td>מונטיפיורי</td>\n",
       "      <td>Unknown</td>\n",
       "      <td>1</td>\n",
       "      <td>3.0</td>\n",
       "      <td>30</td>\n",
       "      <td>72.0</td>\n",
       "      <td>2120000</td>\n",
       "    </tr>\n",
       "  </tbody>\n",
       "</table>\n",
       "<p>25915 rows × 9 columns</p>\n",
       "</div>"
      ],
      "text/plain": [
       "        Sale_Year          City Neighborhood   Street Property_Type Rooms  \\\n",
       "0            2022         אשדוד   הקריה מע\"ר  Unknown             1   5.0   \n",
       "1            2022         אשדוד   הקריה מע\"ר  Unknown             1   3.0   \n",
       "3            2022         אשדוד   הקריה מע\"ר  Unknown             1   5.0   \n",
       "4            2022         אשדוד   הקריה מע\"ר  Unknown             1   3.0   \n",
       "5            2022         אשדוד   הקריה מע\"ר  Unknown             1   5.0   \n",
       "...           ...           ...          ...      ...           ...   ...   \n",
       "229101       2013  תל אביב -יפו   מונטיפיורי  Unknown             1   3.0   \n",
       "229102       2013  תל אביב -יפו   מונטיפיורי  Unknown             1   3.0   \n",
       "229103       2013  תל אביב -יפו   מונטיפיורי  Unknown             1   3.0   \n",
       "229104       2013  תל אביב -יפו   מונטיפיורי  Unknown             1   3.0   \n",
       "229105       2012  תל אביב -יפו   מונטיפיורי  Unknown             1   3.0   \n",
       "\n",
       "       Floor  Square_Meter    Price  \n",
       "0          8         227.0  3500000  \n",
       "1          3          81.0  2370000  \n",
       "3         13         137.0  3550000  \n",
       "4          1          77.0  2099000  \n",
       "5          3         189.0  3300000  \n",
       "...      ...           ...      ...  \n",
       "229101    30          65.0  2135000  \n",
       "229102    30          68.0  2250000  \n",
       "229103    30          76.0  2205000  \n",
       "229104    30          69.0  2250000  \n",
       "229105    30          72.0  2120000  \n",
       "\n",
       "[25915 rows x 9 columns]"
      ]
     },
     "execution_count": 667,
     "metadata": {},
     "output_type": "execute_result"
    }
   ],
   "source": [
    "df_Cities[df_Cities.Street=='Unknown']"
   ]
  },
  {
   "cell_type": "markdown",
   "id": "2a2db611",
   "metadata": {},
   "source": [
    "### 1.1.3: Removing apartments with an unknown street name  "
   ]
  },
  {
   "cell_type": "code",
   "execution_count": 668,
   "id": "2c1771a5",
   "metadata": {},
   "outputs": [],
   "source": [
    "df_Cities.drop(index=df_Cities[df_Cities['Street']=='Unknown'].index,inplace=True)\n",
    "df_Cities.reset_index(drop=True,inplace=True)\n"
   ]
  },
  {
   "cell_type": "markdown",
   "id": "f6635d3c",
   "metadata": {},
   "source": [
    "# "
   ]
  },
  {
   "cell_type": "markdown",
   "id": "9d30b3ce",
   "metadata": {},
   "source": [
    "## 1.2: Uniting the information of the two databases"
   ]
  },
  {
   "cell_type": "markdown",
   "id": "1969f752",
   "metadata": {},
   "source": [
    "This process is complex, because we want to \"replicate\" the values ​​of each row in the second database for a large amount of values ​​that belong to the same neighborhood in the main database.\n",
    "Since there is no specific function that can handle this case for us, we will have to handle it \"manually\" using loops"
   ]
  },
  {
   "cell_type": "code",
   "execution_count": 669,
   "id": "869b2a17",
   "metadata": {},
   "outputs": [],
   "source": [
    "# Adding columns from the second database, and resetting them to NaN values\n",
    "new_columns = df_Cities_Env_Avg.columns[2::]\n",
    "df_Cities[new_columns] = np.nan\n",
    "\n",
    "# Loop through all the neighborhoods in the second database,\n",
    "for row in range(len(df_Cities_Env_Avg)):\n",
    "    \n",
    "    # while transferring the data from there to all the records \n",
    "    # in the main database that belong to that neighborhood\n",
    "    for col in df_Cities_Env_Avg.columns.tolist()[2::]:\n",
    "        \n",
    "        df_Cities.loc[df_Cities.Neighborhood==df_Cities_Env_Avg.loc[row,'Neighborhood'],col] = df_Cities_Env_Avg.loc[row,col]"
   ]
  },
  {
   "cell_type": "markdown",
   "id": "cdb2ee5d",
   "metadata": {},
   "source": [
    "**And it works!**"
   ]
  },
  {
   "cell_type": "code",
   "execution_count": 670,
   "id": "263203f4",
   "metadata": {},
   "outputs": [
    {
     "name": "stdout",
     "output_type": "stream",
     "text": [
      "<class 'pandas.core.frame.DataFrame'>\n",
      "RangeIndex: 203191 entries, 0 to 203190\n",
      "Data columns (total 21 columns):\n",
      " #   Column                               Non-Null Count   Dtype   \n",
      "---  ------                               --------------   -----   \n",
      " 0   Sale_Year                            203191 non-null  int64   \n",
      " 1   City                                 203191 non-null  category\n",
      " 2   Neighborhood                         203191 non-null  object  \n",
      " 3   Street                               203191 non-null  object  \n",
      " 4   Property_Type                        203191 non-null  int64   \n",
      " 5   Rooms                                203191 non-null  int64   \n",
      " 6   Floor                                203191 non-null  int64   \n",
      " 7   Square_Meter                         203191 non-null  float64 \n",
      " 8   Price                                203191 non-null  int64   \n",
      " 9   Schools                              200147 non-null  float64 \n",
      " 10  Kindergartens_And_Dormitories        200147 non-null  float64 \n",
      " 11  Non_Formal_Educational_Institutions  200147 non-null  float64 \n",
      " 12  Education_Average_Distance           200147 non-null  float64 \n",
      " 13  Green_Areas_SQM                      200147 non-null  float64 \n",
      " 14  Parks_And_Gardens                    200147 non-null  float64 \n",
      " 15  Green_Areas_Average_Distance         200147 non-null  float64 \n",
      " 16  Parks_And_Gardens_Average_Distance   200147 non-null  float64 \n",
      " 17  Public_Institutions                  200147 non-null  float64 \n",
      " 18  Community_Institutions               200147 non-null  float64 \n",
      " 19  Religious_Institutions               200147 non-null  float64 \n",
      " 20  Public_Building_Average_Distance     200147 non-null  float64 \n",
      "dtypes: category(1), float64(13), int64(5), object(2)\n",
      "memory usage: 31.2+ MB\n"
     ]
    }
   ],
   "source": [
    "df_Cities.Floor = df_Cities.Floor.astype('int64')\n",
    "df_Cities.Rooms = df_Cities.Rooms.astype('int64')\n",
    "df_Cities.Property_Type = df_Cities.Property_Type.astype('int64')\n",
    "df_Cities.info()"
   ]
  },
  {
   "cell_type": "markdown",
   "id": "5aedbf1c",
   "metadata": {},
   "source": [
    "### Uniting the information of the two databases - Conclusions:\n",
    "+ We understood the importance of removing the apartments that do not have a street name\n",
    "\n",
    "\n",
    "\n",
    "+ It can be seen that after merging the two databases, there are about 3K missing values ​​in columns 9 to 20. The reason is that these values ​​are probably under a neighborhood that **did not have** such data on the site\n",
    "\n",
    "Therefore, we will have to delete this data in the next step"
   ]
  },
  {
   "cell_type": "markdown",
   "id": "b2268a2d",
   "metadata": {},
   "source": [
    "# "
   ]
  },
  {
   "cell_type": "markdown",
   "id": "d44a3949",
   "metadata": {},
   "source": [
    "## 1.3: Final treatment of the data"
   ]
  },
  {
   "cell_type": "code",
   "execution_count": 671,
   "id": "84d4947f",
   "metadata": {
    "scrolled": true
   },
   "outputs": [],
   "source": [
    "df_Cities.dropna(axis=0,inplace=True)\n",
    "df_Cities.reset_index(drop=True,inplace=True)\n",
    "\n",
    "\n",
    "df_Cities.Neighborhood = df_Cities.Neighborhood.astype('category')\n",
    "df_Cities.Street = df_Cities.Street.astype('category')\n",
    "\n",
    "df_Cities.Rooms = df_Cities.Rooms.astype('int64')\n",
    "df_Cities.Rooms = df_Cities.Rooms.astype('category')\n",
    "df_Cities.Floor = df_Cities.Floor.astype('int64')"
   ]
  },
  {
   "cell_type": "markdown",
   "id": "f9382695",
   "metadata": {},
   "source": [
    "## Feature Engineering"
   ]
  },
  {
   "cell_type": "code",
   "execution_count": 672,
   "id": "ec2bdd2e",
   "metadata": {},
   "outputs": [],
   "source": [
    "df_Cities['Institutions'] = df_Cities['Public_Institutions'] + df_Cities['Community_Institutions'] + df_Cities['Religious_Institutions']\n",
    "df_Cities['Schools_Institutions'] = df_Cities['Schools'] + df_Cities['Non_Formal_Educational_Institutions']\n",
    "df_Cities.drop(columns=['Public_Institutions','Community_Institutions','Religious_Institutions',\n",
    "                       'Schools','Non_Formal_Educational_Institutions',],inplace=True)\n"
   ]
  },
  {
   "cell_type": "code",
   "execution_count": 673,
   "id": "c6c4f8be",
   "metadata": {},
   "outputs": [
    {
     "name": "stdout",
     "output_type": "stream",
     "text": [
      "<class 'pandas.core.frame.DataFrame'>\n",
      "RangeIndex: 200147 entries, 0 to 200146\n",
      "Data columns (total 18 columns):\n",
      " #   Column                              Non-Null Count   Dtype   \n",
      "---  ------                              --------------   -----   \n",
      " 0   Sale_Year                           200147 non-null  int64   \n",
      " 1   City                                200147 non-null  category\n",
      " 2   Neighborhood                        200147 non-null  category\n",
      " 3   Street                              200147 non-null  category\n",
      " 4   Property_Type                       200147 non-null  int64   \n",
      " 5   Rooms                               200147 non-null  category\n",
      " 6   Floor                               200147 non-null  int64   \n",
      " 7   Square_Meter                        200147 non-null  float64 \n",
      " 8   Price                               200147 non-null  int64   \n",
      " 9   Kindergartens_And_Dormitories       200147 non-null  float64 \n",
      " 10  Education_Average_Distance          200147 non-null  float64 \n",
      " 11  Green_Areas_SQM                     200147 non-null  float64 \n",
      " 12  Parks_And_Gardens                   200147 non-null  float64 \n",
      " 13  Green_Areas_Average_Distance        200147 non-null  float64 \n",
      " 14  Parks_And_Gardens_Average_Distance  200147 non-null  float64 \n",
      " 15  Public_Building_Average_Distance    200147 non-null  float64 \n",
      " 16  Institutions                        200147 non-null  float64 \n",
      " 17  Schools_Institutions                200147 non-null  float64 \n",
      "dtypes: category(4), float64(10), int64(4)\n",
      "memory usage: 22.6 MB\n"
     ]
    }
   ],
   "source": [
    "df_Cities.info()"
   ]
  },
  {
   "cell_type": "code",
   "execution_count": 674,
   "id": "b2801b48",
   "metadata": {},
   "outputs": [],
   "source": [
    "df_Cities.to_csv(\"Save 1.csv\")\n",
    "df_Cities2 = df_Cities.copy()\n",
    "df_Cities2 = pd.get_dummies(df_Cities2,columns=['City'])\n",
    "df_Cities2 = pd.get_dummies(df_Cities2,columns=['Property_Type'])\n",
    "\n",
    "df_Cities2.drop(columns=['Neighborhood','Street'],inplace=True)"
   ]
  },
  {
   "cell_type": "code",
   "execution_count": 552,
   "id": "e51c9104",
   "metadata": {},
   "outputs": [
    {
     "name": "stdout",
     "output_type": "stream",
     "text": [
      "<class 'pandas.core.frame.DataFrame'>\n",
      "RangeIndex: 200147 entries, 0 to 200146\n",
      "Data columns (total 36 columns):\n",
      " #   Column                              Non-Null Count   Dtype  \n",
      "---  ------                              --------------   -----  \n",
      " 0   Sale_Year                           200147 non-null  int64  \n",
      " 1   Rooms                               200147 non-null  int64  \n",
      " 2   Floor                               200147 non-null  int64  \n",
      " 3   Square_Meter                        200147 non-null  float64\n",
      " 4   Price                               200147 non-null  int64  \n",
      " 5   Kindergartens_And_Dormitories       200147 non-null  float64\n",
      " 6   Education_Average_Distance          200147 non-null  float64\n",
      " 7   Green_Areas_SQM                     200147 non-null  float64\n",
      " 8   Parks_And_Gardens                   200147 non-null  float64\n",
      " 9   Green_Areas_Average_Distance        200147 non-null  float64\n",
      " 10  Parks_And_Gardens_Average_Distance  200147 non-null  float64\n",
      " 11  Public_Building_Average_Distance    200147 non-null  float64\n",
      " 12  Institutions                        200147 non-null  float64\n",
      " 13  Schools_Institutions                200147 non-null  float64\n",
      " 14  City_אופקים                         200147 non-null  uint8  \n",
      " 15  City_אור יהודה                      200147 non-null  uint8  \n",
      " 16  City_אור עקיבא                      200147 non-null  uint8  \n",
      " 17  City_אילת                           200147 non-null  uint8  \n",
      " 18  City_אשדוד                          200147 non-null  uint8  \n",
      " 19  City_בת ים                          200147 non-null  uint8  \n",
      " 20  City_גבעת זאב                       200147 non-null  uint8  \n",
      " 21  City_גבעתיים                        200147 non-null  uint8  \n",
      " 22  City_הוד השרון                      200147 non-null  uint8  \n",
      " 23  City_הרצלייה                        200147 non-null  uint8  \n",
      " 24  City_חולון                          200147 non-null  uint8  \n",
      " 25  City_נס ציונה                       200147 non-null  uint8  \n",
      " 26  City_ראש העין                       200147 non-null  uint8  \n",
      " 27  City_רמת השרון                      200147 non-null  uint8  \n",
      " 28  City_רעננה                          200147 non-null  uint8  \n",
      " 29  City_שדרות                          200147 non-null  uint8  \n",
      " 30  City_תל אביב -יפו                   200147 non-null  uint8  \n",
      " 31  Property_Type_0                     200147 non-null  uint8  \n",
      " 32  Property_Type_1                     200147 non-null  uint8  \n",
      " 33  Property_Type_2                     200147 non-null  uint8  \n",
      " 34  Property_Type_3                     200147 non-null  uint8  \n",
      " 35  Property_Type_4                     200147 non-null  uint8  \n",
      "dtypes: float64(10), int64(4), uint8(22)\n",
      "memory usage: 25.6 MB\n"
     ]
    }
   ],
   "source": [
    "df_Cities2.Rooms = df_Cities2.Rooms.astype('int64')\n",
    "df_Cities2.info()"
   ]
  },
  {
   "cell_type": "markdown",
   "id": "7c1e4395",
   "metadata": {},
   "source": [
    "# Step 2: The Machine Learning Process"
   ]
  },
  {
   "cell_type": "markdown",
   "id": "a72a19c5",
   "metadata": {},
   "source": [
    "## In this part we will perform the machine learning process\n",
    "+ we will extract the target column from the database\n",
    "+ we will divide the data into train and test in a ratio of 80-20\n",
    "+ we will train the model"
   ]
  },
  {
   "cell_type": "markdown",
   "id": "7efb81d6",
   "metadata": {},
   "source": [
    "## Multiple Linear Regression "
   ]
  },
  {
   "cell_type": "markdown",
   "id": "2de5e508",
   "metadata": {},
   "source": [
    "### 2.0.1: Extracting the target column from the database "
   ]
  },
  {
   "cell_type": "code",
   "execution_count": 601,
   "id": "b79ce220",
   "metadata": {},
   "outputs": [],
   "source": [
    "scaler = MinMaxScaler(feature_range=(0,1))\n",
    "\n",
    "columns = df_Cities2.columns[df_Cities2.columns != 'Price']\n",
    "X = df_Cities2[columns]\n",
    "y = df_Cities2['Price']"
   ]
  },
  {
   "cell_type": "markdown",
   "id": "6356cd77",
   "metadata": {},
   "source": [
    "### 2.0.2: Dividing the data into train and test in a ratio of 80-20"
   ]
  },
  {
   "cell_type": "code",
   "execution_count": 602,
   "id": "8c4c533b",
   "metadata": {},
   "outputs": [],
   "source": [
    "X_train,X_test,Y_train,Y_test = train_test_split(X,y,test_size=0.2)\n",
    "\n",
    "num_vars = ['Sale_Year', 'Rooms', 'Square_Meter', 'Kindergartens_And_Dormitories', 'Education_Average_Distance','Green_Areas_SQM',\n",
    "           'Parks_And_Gardens','Green_Areas_Average_Distance','Parks_And_Gardens_Average_Distance','Public_Building_Average_Distance',\n",
    "           'Institutions','Schools_Institutions']\n",
    "\n",
    "X_train[num_vars] = scaler.fit_transform(X_train[num_vars])\n",
    "X_test[num_vars] = scaler.fit_transform(X_test[num_vars])"
   ]
  },
  {
   "cell_type": "markdown",
   "id": "7964f85a",
   "metadata": {},
   "source": [
    "### 2.0.3: Training the model"
   ]
  },
  {
   "cell_type": "code",
   "execution_count": 603,
   "id": "6795cde8",
   "metadata": {},
   "outputs": [
    {
     "name": "stdout",
     "output_type": "stream",
     "text": [
      "First Result: 0.6362717748570688\n"
     ]
    }
   ],
   "source": [
    "model = LinearRegression().fit(X_train,Y_train)\n",
    "y_pred = model.predict(X_test)\n",
    "\n",
    "print(\"First Result:\",r2_score(Y_test,y_pred))"
   ]
  },
  {
   "cell_type": "markdown",
   "id": "8d06d717",
   "metadata": {},
   "source": [
    "### 2.0.4: Performance Evaluation"
   ]
  },
  {
   "cell_type": "code",
   "execution_count": 604,
   "id": "933bf69c",
   "metadata": {},
   "outputs": [
    {
     "name": "stdout",
     "output_type": "stream",
     "text": [
      "SCORE: 0.7092980835320352\n"
     ]
    }
   ],
   "source": [
    "scores = cross_val_score(model, X_train, Y_train, scoring='r2', cv=100)\n",
    "print('SCORE:',max(scores))"
   ]
  },
  {
   "cell_type": "markdown",
   "id": "84223580",
   "metadata": {},
   "source": [
    "**You can see that in the main model we got up to 70% success, which is not bad in relation to housing price forecasting!**"
   ]
  },
  {
   "cell_type": "markdown",
   "id": "dfbe3044",
   "metadata": {},
   "source": [
    "Summary:\n",
    "+ In machine learning, we performed a linear regression to predict apartment prices based on their prices.\n",
    "+ In order to get a general picture of the quality of the model itself, we performed 200-cross-validation.\n",
    "+ We chose a criterion of 200 so that our database is quite large, so we wanted to find the balance between the quality of the performance evaluation and the quality of the data variance when dividing into groups\n",
    "+ These results indicate that predicting apartment prices is definitely not simple, there are many parameters that add to or subtract from the apartment price that are not necessarily in our database, and it will probably be impossible to put the influencing parameters into one database\n",
    "\n",
    "\n",
    "\n",
    "**This model was the main model of our project, now we will move to other models based on additional hypotheses that we wanted to test**"
   ]
  },
  {
   "cell_type": "markdown",
   "id": "9f059a54",
   "metadata": {},
   "source": [
    "# "
   ]
  },
  {
   "cell_type": "markdown",
   "id": "06a5c3ff",
   "metadata": {},
   "source": [
    "# "
   ]
  },
  {
   "cell_type": "markdown",
   "id": "68fd5a96",
   "metadata": {},
   "source": [
    "Now, we will try to build all kinds of models and evaluate their performance.\n",
    "\n",
    "### Logistic Regression Models:\n",
    "+ 1) Prediction if the house has more than a 4 room apartment given the price\n",
    "+ 2) Prediction if the house has more then a 5 room apartment given the square_meter\n",
    "\n",
    "### GNB\\KNN\\DT\\RF Models:\n",
    "+ 3) Predicting how many rooms there are in an apartment given all its data\n",
    "+ 4) Predicting what type of apartment given all its data"
   ]
  },
  {
   "cell_type": "markdown",
   "id": "be8a8fc1",
   "metadata": {},
   "source": [
    "For each model we are going to perform a general performance evaluation, and a specific performance evaluation for one result that we will receive"
   ]
  },
  {
   "cell_type": "code",
   "execution_count": 636,
   "id": "ab2098c5",
   "metadata": {},
   "outputs": [],
   "source": [
    "df_Cities = pd.read_csv(\"Save 1.csv\",index=False)"
   ]
  },
  {
   "cell_type": "markdown",
   "id": "e854b39b",
   "metadata": {},
   "source": [
    "## Extras: Other Models"
   ]
  },
  {
   "cell_type": "markdown",
   "id": "68224084",
   "metadata": {},
   "source": [
    "### First Prediction:"
   ]
  },
  {
   "cell_type": "code",
   "execution_count": 608,
   "id": "e39f9d88",
   "metadata": {},
   "outputs": [],
   "source": [
    "# 2.0.1\n",
    "df_Cities['Above 4 rooms'] = [1 if rooms>=4 else 0 for rooms in df_Cities['Rooms']]\n",
    "X = df_Cities[['Price']]\n",
    "Y = df_Cities['Above 4 rooms']\n",
    "\n",
    "# 2.0.2\n",
    "X_train,X_test,Y_train,Y_test = train_test_split(X,Y,test_size=0.2)\n",
    "\n",
    "scaler = StandardScaler().fit(X_train)\n",
    "X_train = scaler.transform(X_train)\n",
    "X_test = scaler.transform(X_test)\n",
    "\n",
    "# 2.0.3\n",
    "model = LogisticRegression().fit(X_train,Y_train)\n",
    "y_pred = model.predict(X_test)\n",
    "\n",
    "# 2.0.4\n",
    "scores = cross_val_score(model, X_train, Y_train, scoring='f1', cv=20)\n",
    "\n",
    "df_Cities.drop(columns = 'Above 4 rooms',inplace=True)"
   ]
  },
  {
   "cell_type": "markdown",
   "id": "d30ad70e",
   "metadata": {},
   "source": [
    "### Performance Evaluation"
   ]
  },
  {
   "cell_type": "code",
   "execution_count": 609,
   "id": "3d679709",
   "metadata": {},
   "outputs": [
    {
     "name": "stdout",
     "output_type": "stream",
     "text": [
      "SUCCESS RATE: 0.7121852210238134\n",
      "PRECISION RATE: 0.7299820987952973\n",
      "RECALL RATE: 0.6952354621693854\n",
      "CONF MAT:\n"
     ]
    },
    {
     "data": {
      "text/html": [
       "<div>\n",
       "<style scoped>\n",
       "    .dataframe tbody tr th:only-of-type {\n",
       "        vertical-align: middle;\n",
       "    }\n",
       "\n",
       "    .dataframe tbody tr th {\n",
       "        vertical-align: top;\n",
       "    }\n",
       "\n",
       "    .dataframe thead th {\n",
       "        text-align: right;\n",
       "    }\n",
       "</style>\n",
       "<table border=\"1\" class=\"dataframe\">\n",
       "  <thead>\n",
       "    <tr style=\"text-align: right;\">\n",
       "      <th></th>\n",
       "      <th>Actual Above 4</th>\n",
       "      <th>Actual Below 4</th>\n",
       "    </tr>\n",
       "  </thead>\n",
       "  <tbody>\n",
       "    <tr>\n",
       "      <th>Predicted Above 4</th>\n",
       "      <td>12747</td>\n",
       "      <td>5581</td>\n",
       "    </tr>\n",
       "    <tr>\n",
       "      <th>Predicted Below 4</th>\n",
       "      <td>6614</td>\n",
       "      <td>15088</td>\n",
       "    </tr>\n",
       "  </tbody>\n",
       "</table>\n",
       "</div>"
      ],
      "text/plain": [
       "                   Actual Above 4  Actual Below 4\n",
       "Predicted Above 4           12747            5581\n",
       "Predicted Below 4            6614           15088"
      ]
     },
     "execution_count": 609,
     "metadata": {},
     "output_type": "execute_result"
    }
   ],
   "source": [
    "print(\"SUCCESS RATE:\",f1_score(Y_test,y_pred))\n",
    "print(\"PRECISION RATE:\",precision_score(Y_test,y_pred))\n",
    "print(\"RECALL RATE:\",recall_score(Y_test,y_pred))\n",
    "print(\"CONF MAT:\")\n",
    "\n",
    "cm = pd.DataFrame(confusion_matrix(Y_test,y_pred),index=['Predicted Above 4','Predicted Below 4'])\n",
    "cm = cm.rename(columns={0: 'Actual Above 4',1:\"Actual Below 4\"})\n",
    "cm"
   ]
  },
  {
   "cell_type": "markdown",
   "id": "2cb631dd",
   "metadata": {},
   "source": [
    "+ We got about 71 percent success\n",
    "+ Out of about 18K apartments in which the model predicted that they had more than 4 rooms, he was right in only 13K of them. (72%)\n",
    "+ Out of about 19K apartments that have more than 4 rooms, the model selected 13K of them (69%)"
   ]
  },
  {
   "cell_type": "code",
   "execution_count": 610,
   "id": "5404fc77",
   "metadata": {},
   "outputs": [
    {
     "name": "stdout",
     "output_type": "stream",
     "text": [
      "BEST SUCCESS RATE: 0.7208278815272986\n",
      "MEAN SUCCESS RATE: 0.7089188267063367\n"
     ]
    }
   ],
   "source": [
    "print(\"BEST SUCCESS RATE:\",max(scores))\n",
    "print(\"MEAN SUCCESS RATE:\",scores.mean())"
   ]
  },
  {
   "cell_type": "markdown",
   "id": "8bf3b6d0",
   "metadata": {},
   "source": [
    "# "
   ]
  },
  {
   "cell_type": "markdown",
   "id": "57f235ca",
   "metadata": {},
   "source": [
    "### Second Prediction"
   ]
  },
  {
   "cell_type": "code",
   "execution_count": 611,
   "id": "b181871f",
   "metadata": {},
   "outputs": [],
   "source": [
    "df_Cities['Above 4 rooms'] = [1 if rooms>=4 else 0 for rooms in df_Cities['Rooms']]\n",
    "X = df_Cities[['Square_Meter']]\n",
    "Y = df_Cities['Above 4 rooms']\n",
    "\n",
    "X_train,X_test,Y_train,Y_test = train_test_split(X,Y,test_size=0.2)\n",
    "\n",
    "\n",
    "scaler = StandardScaler().fit(X_train)\n",
    "X_train = scaler.transform(X_train)\n",
    "X_test = scaler.transform(X_test)\n",
    "\n",
    "\n",
    "model = LogisticRegression().fit(X_train,Y_train)\n",
    "y_pred = model.predict(X_test)\n",
    "\n",
    "scores = cross_val_score(model, X_train, Y_train, scoring='f1', cv=20)\n",
    "\n",
    "df_Cities.drop(columns = 'Above 4 rooms',inplace=True)"
   ]
  },
  {
   "cell_type": "markdown",
   "id": "414896ad",
   "metadata": {},
   "source": [
    "### Performance Evaluation"
   ]
  },
  {
   "cell_type": "code",
   "execution_count": 612,
   "id": "ad0418ef",
   "metadata": {},
   "outputs": [
    {
     "name": "stdout",
     "output_type": "stream",
     "text": [
      "SUCCESS RATE: 0.9132124653804082\n",
      "PRECISION RATE: 0.9191379714218787\n",
      "RECALL RATE: 0.9073628711497549\n",
      "CONF MAT:\n"
     ]
    },
    {
     "data": {
      "text/html": [
       "<div>\n",
       "<style scoped>\n",
       "    .dataframe tbody tr th:only-of-type {\n",
       "        vertical-align: middle;\n",
       "    }\n",
       "\n",
       "    .dataframe tbody tr th {\n",
       "        vertical-align: top;\n",
       "    }\n",
       "\n",
       "    .dataframe thead th {\n",
       "        text-align: right;\n",
       "    }\n",
       "</style>\n",
       "<table border=\"1\" class=\"dataframe\">\n",
       "  <thead>\n",
       "    <tr style=\"text-align: right;\">\n",
       "      <th></th>\n",
       "      <th>Actual Above 4</th>\n",
       "      <th>Actual Below 4</th>\n",
       "    </tr>\n",
       "  </thead>\n",
       "  <tbody>\n",
       "    <tr>\n",
       "      <th>Predicted Above 4</th>\n",
       "      <td>16682</td>\n",
       "      <td>1726</td>\n",
       "    </tr>\n",
       "    <tr>\n",
       "      <th>Predicted Below 4</th>\n",
       "      <td>2003</td>\n",
       "      <td>19619</td>\n",
       "    </tr>\n",
       "  </tbody>\n",
       "</table>\n",
       "</div>"
      ],
      "text/plain": [
       "                   Actual Above 4  Actual Below 4\n",
       "Predicted Above 4           16682            1726\n",
       "Predicted Below 4            2003           19619"
      ]
     },
     "execution_count": 612,
     "metadata": {},
     "output_type": "execute_result"
    }
   ],
   "source": [
    "print(\"SUCCESS RATE:\",f1_score(Y_test,y_pred))\n",
    "print(\"PRECISION RATE:\",precision_score(Y_test,y_pred))\n",
    "print(\"RECALL RATE:\",recall_score(Y_test,y_pred))\n",
    "print(\"CONF MAT:\")\n",
    "cm = pd.DataFrame(confusion_matrix(Y_test,y_pred),index=['Predicted Above 4','Predicted Below 4'])\n",
    "cm = cm.rename(columns={0: 'Actual Above 4',1:\"Actual Below 4\"})\n",
    "cm"
   ]
  },
  {
   "cell_type": "markdown",
   "id": "b9b2af4f",
   "metadata": {},
   "source": [
    "+ We got about 91 percent success\n",
    "+ Out of about 18K apartments in which the model predicted that they had more than 4 rooms, he was right in 16K of them. (92%)\n",
    "+ Out of about 18K apartments that have more than 4 rooms, the model selected 16K of them (90%)"
   ]
  },
  {
   "cell_type": "code",
   "execution_count": 622,
   "id": "350a5642",
   "metadata": {},
   "outputs": [
    {
     "name": "stdout",
     "output_type": "stream",
     "text": [
      "BEST SUCCESS RATE: 0.918184983172798\n",
      "MEAN SUCCESS RATE: 0.9121724815152461\n"
     ]
    }
   ],
   "source": [
    "print(\"BEST SUCCESS RATE:\",max(scores))\n",
    "print(\"MEAN SUCCESS RATE:\",scores.mean())"
   ]
  },
  {
   "cell_type": "markdown",
   "id": "f89e826e",
   "metadata": {},
   "source": [
    "# "
   ]
  },
  {
   "cell_type": "code",
   "execution_count": 675,
   "id": "f501a366",
   "metadata": {},
   "outputs": [],
   "source": [
    "df_Cities2 = pd.read_csv(\"Save 1.csv\")"
   ]
  },
  {
   "cell_type": "markdown",
   "id": "7a17a8c6",
   "metadata": {},
   "source": [
    "### Third Prediction"
   ]
  },
  {
   "cell_type": "code",
   "execution_count": 676,
   "id": "0c9654b5",
   "metadata": {},
   "outputs": [],
   "source": [
    "df_Cities2 = pd.get_dummies(df_Cities2,columns=['City'])\n",
    "df_Cities2 = pd.get_dummies(df_Cities2,columns=['Property_Type'])\n",
    "\n",
    "df_Cities2.drop(columns=['Neighborhood','Street'],inplace=True)\n",
    "\n",
    "X = df_Cities2[df_Cities2.columns[df_Cities2.columns!='Rooms']]\n",
    "Y = df_Cities2['Rooms']\n",
    "\n",
    "X_train,X_test,Y_train,Y_test = train_test_split(X,Y,test_size=0.2)\n",
    "\n",
    "num_vars = ['Sale_Year', 'Square_Meter', 'Kindergartens_And_Dormitories', 'Education_Average_Distance','Green_Areas_SQM',\n",
    "           'Parks_And_Gardens','Green_Areas_Average_Distance','Parks_And_Gardens_Average_Distance','Public_Building_Average_Distance',\n",
    "           'Institutions','Schools_Institutions']\n",
    "\n",
    "X_train[num_vars] = scaler.fit_transform(X_train[num_vars])\n",
    "X_test[num_vars] = scaler.fit_transform(X_test[num_vars])\n",
    "\n",
    "KNN = KNeighborsClassifier(n_neighbors=10).fit(X_train,Y_train)\n",
    "RandomForest = RandomForestClassifier().fit(X_train,Y_train)\n",
    "GuassianNB = GaussianNB().fit(X_train,Y_train)\n",
    "DT = DecisionTreeClassifier(max_depth=10).fit(X_train,Y_train)\n",
    "\n",
    "KNN_pred = KNN.predict(X_test)\n",
    "RandomForest_pred = RandomForest.predict(X_test)\n",
    "GuassianNB_pred = GuassianNB.predict(X_test)\n",
    "DT_pred = DT.predict(X_test)"
   ]
  },
  {
   "cell_type": "markdown",
   "id": "cfb3e046",
   "metadata": {},
   "source": [
    "#### KNN: "
   ]
  },
  {
   "cell_type": "code",
   "execution_count": 677,
   "id": "d5e07964",
   "metadata": {},
   "outputs": [
    {
     "data": {
      "text/html": [
       "<div>\n",
       "<style scoped>\n",
       "    .dataframe tbody tr th:only-of-type {\n",
       "        vertical-align: middle;\n",
       "    }\n",
       "\n",
       "    .dataframe tbody tr th {\n",
       "        vertical-align: top;\n",
       "    }\n",
       "\n",
       "    .dataframe thead th {\n",
       "        text-align: right;\n",
       "    }\n",
       "</style>\n",
       "<table border=\"1\" class=\"dataframe\">\n",
       "  <thead>\n",
       "    <tr style=\"text-align: right;\">\n",
       "      <th></th>\n",
       "      <th>(Pred , 1,  Rooms)</th>\n",
       "      <th>(Pred , 2,  Rooms)</th>\n",
       "      <th>(Pred , 3,  Rooms)</th>\n",
       "      <th>(Pred , 4,  Rooms)</th>\n",
       "      <th>(Pred , 5,  Rooms)</th>\n",
       "      <th>(Pred , 6,  Rooms)</th>\n",
       "      <th>(Pred , 7,  Rooms)</th>\n",
       "      <th>(Pred , 8,  Rooms)</th>\n",
       "      <th>(Pred , 9,  Rooms)</th>\n",
       "      <th>(Pred , 10,  Rooms)</th>\n",
       "    </tr>\n",
       "  </thead>\n",
       "  <tbody>\n",
       "    <tr>\n",
       "      <th>(Actual , 1,  Rooms)</th>\n",
       "      <td>5</td>\n",
       "      <td>159</td>\n",
       "      <td>71</td>\n",
       "      <td>18</td>\n",
       "      <td>24</td>\n",
       "      <td>3</td>\n",
       "      <td>1</td>\n",
       "      <td>0</td>\n",
       "      <td>0</td>\n",
       "      <td>0</td>\n",
       "    </tr>\n",
       "    <tr>\n",
       "      <th>(Actual , 2,  Rooms)</th>\n",
       "      <td>9</td>\n",
       "      <td>3294</td>\n",
       "      <td>2413</td>\n",
       "      <td>532</td>\n",
       "      <td>81</td>\n",
       "      <td>5</td>\n",
       "      <td>0</td>\n",
       "      <td>0</td>\n",
       "      <td>0</td>\n",
       "      <td>0</td>\n",
       "    </tr>\n",
       "    <tr>\n",
       "      <th>(Actual , 3,  Rooms)</th>\n",
       "      <td>10</td>\n",
       "      <td>2512</td>\n",
       "      <td>5992</td>\n",
       "      <td>2696</td>\n",
       "      <td>510</td>\n",
       "      <td>32</td>\n",
       "      <td>1</td>\n",
       "      <td>0</td>\n",
       "      <td>0</td>\n",
       "      <td>0</td>\n",
       "    </tr>\n",
       "    <tr>\n",
       "      <th>(Actual , 4,  Rooms)</th>\n",
       "      <td>2</td>\n",
       "      <td>855</td>\n",
       "      <td>3618</td>\n",
       "      <td>5876</td>\n",
       "      <td>1810</td>\n",
       "      <td>75</td>\n",
       "      <td>2</td>\n",
       "      <td>0</td>\n",
       "      <td>0</td>\n",
       "      <td>0</td>\n",
       "    </tr>\n",
       "    <tr>\n",
       "      <th>(Actual , 5,  Rooms)</th>\n",
       "      <td>2</td>\n",
       "      <td>151</td>\n",
       "      <td>849</td>\n",
       "      <td>2782</td>\n",
       "      <td>3614</td>\n",
       "      <td>284</td>\n",
       "      <td>9</td>\n",
       "      <td>0</td>\n",
       "      <td>0</td>\n",
       "      <td>0</td>\n",
       "    </tr>\n",
       "    <tr>\n",
       "      <th>(Actual , 6,  Rooms)</th>\n",
       "      <td>0</td>\n",
       "      <td>13</td>\n",
       "      <td>87</td>\n",
       "      <td>284</td>\n",
       "      <td>838</td>\n",
       "      <td>208</td>\n",
       "      <td>9</td>\n",
       "      <td>0</td>\n",
       "      <td>0</td>\n",
       "      <td>0</td>\n",
       "    </tr>\n",
       "    <tr>\n",
       "      <th>(Actual , 7,  Rooms)</th>\n",
       "      <td>0</td>\n",
       "      <td>4</td>\n",
       "      <td>8</td>\n",
       "      <td>31</td>\n",
       "      <td>118</td>\n",
       "      <td>56</td>\n",
       "      <td>1</td>\n",
       "      <td>0</td>\n",
       "      <td>0</td>\n",
       "      <td>0</td>\n",
       "    </tr>\n",
       "    <tr>\n",
       "      <th>(Actual , 8,  Rooms)</th>\n",
       "      <td>0</td>\n",
       "      <td>1</td>\n",
       "      <td>2</td>\n",
       "      <td>11</td>\n",
       "      <td>37</td>\n",
       "      <td>11</td>\n",
       "      <td>1</td>\n",
       "      <td>0</td>\n",
       "      <td>0</td>\n",
       "      <td>0</td>\n",
       "    </tr>\n",
       "    <tr>\n",
       "      <th>(Actual , 9,  Rooms)</th>\n",
       "      <td>0</td>\n",
       "      <td>0</td>\n",
       "      <td>1</td>\n",
       "      <td>1</td>\n",
       "      <td>8</td>\n",
       "      <td>2</td>\n",
       "      <td>0</td>\n",
       "      <td>0</td>\n",
       "      <td>0</td>\n",
       "      <td>0</td>\n",
       "    </tr>\n",
       "    <tr>\n",
       "      <th>(Actual , 10,  Rooms)</th>\n",
       "      <td>0</td>\n",
       "      <td>0</td>\n",
       "      <td>0</td>\n",
       "      <td>1</td>\n",
       "      <td>0</td>\n",
       "      <td>0</td>\n",
       "      <td>0</td>\n",
       "      <td>0</td>\n",
       "      <td>0</td>\n",
       "      <td>0</td>\n",
       "    </tr>\n",
       "  </tbody>\n",
       "</table>\n",
       "</div>"
      ],
      "text/plain": [
       "                       (Pred , 1,  Rooms)  (Pred , 2,  Rooms)  \\\n",
       "(Actual , 1,  Rooms)                    5                 159   \n",
       "(Actual , 2,  Rooms)                    9                3294   \n",
       "(Actual , 3,  Rooms)                   10                2512   \n",
       "(Actual , 4,  Rooms)                    2                 855   \n",
       "(Actual , 5,  Rooms)                    2                 151   \n",
       "(Actual , 6,  Rooms)                    0                  13   \n",
       "(Actual , 7,  Rooms)                    0                   4   \n",
       "(Actual , 8,  Rooms)                    0                   1   \n",
       "(Actual , 9,  Rooms)                    0                   0   \n",
       "(Actual , 10,  Rooms)                   0                   0   \n",
       "\n",
       "                       (Pred , 3,  Rooms)  (Pred , 4,  Rooms)  \\\n",
       "(Actual , 1,  Rooms)                   71                  18   \n",
       "(Actual , 2,  Rooms)                 2413                 532   \n",
       "(Actual , 3,  Rooms)                 5992                2696   \n",
       "(Actual , 4,  Rooms)                 3618                5876   \n",
       "(Actual , 5,  Rooms)                  849                2782   \n",
       "(Actual , 6,  Rooms)                   87                 284   \n",
       "(Actual , 7,  Rooms)                    8                  31   \n",
       "(Actual , 8,  Rooms)                    2                  11   \n",
       "(Actual , 9,  Rooms)                    1                   1   \n",
       "(Actual , 10,  Rooms)                   0                   1   \n",
       "\n",
       "                       (Pred , 5,  Rooms)  (Pred , 6,  Rooms)  \\\n",
       "(Actual , 1,  Rooms)                   24                   3   \n",
       "(Actual , 2,  Rooms)                   81                   5   \n",
       "(Actual , 3,  Rooms)                  510                  32   \n",
       "(Actual , 4,  Rooms)                 1810                  75   \n",
       "(Actual , 5,  Rooms)                 3614                 284   \n",
       "(Actual , 6,  Rooms)                  838                 208   \n",
       "(Actual , 7,  Rooms)                  118                  56   \n",
       "(Actual , 8,  Rooms)                   37                  11   \n",
       "(Actual , 9,  Rooms)                    8                   2   \n",
       "(Actual , 10,  Rooms)                   0                   0   \n",
       "\n",
       "                       (Pred , 7,  Rooms)  (Pred , 8,  Rooms)  \\\n",
       "(Actual , 1,  Rooms)                    1                   0   \n",
       "(Actual , 2,  Rooms)                    0                   0   \n",
       "(Actual , 3,  Rooms)                    1                   0   \n",
       "(Actual , 4,  Rooms)                    2                   0   \n",
       "(Actual , 5,  Rooms)                    9                   0   \n",
       "(Actual , 6,  Rooms)                    9                   0   \n",
       "(Actual , 7,  Rooms)                    1                   0   \n",
       "(Actual , 8,  Rooms)                    1                   0   \n",
       "(Actual , 9,  Rooms)                    0                   0   \n",
       "(Actual , 10,  Rooms)                   0                   0   \n",
       "\n",
       "                       (Pred , 9,  Rooms)  (Pred , 10,  Rooms)  \n",
       "(Actual , 1,  Rooms)                    0                    0  \n",
       "(Actual , 2,  Rooms)                    0                    0  \n",
       "(Actual , 3,  Rooms)                    0                    0  \n",
       "(Actual , 4,  Rooms)                    0                    0  \n",
       "(Actual , 5,  Rooms)                    0                    0  \n",
       "(Actual , 6,  Rooms)                    0                    0  \n",
       "(Actual , 7,  Rooms)                    0                    0  \n",
       "(Actual , 8,  Rooms)                    0                    0  \n",
       "(Actual , 9,  Rooms)                    0                    0  \n",
       "(Actual , 10,  Rooms)                   0                    0  "
      ]
     },
     "execution_count": 677,
     "metadata": {},
     "output_type": "execute_result"
    }
   ],
   "source": [
    "def get_labels(shape_row,shape_col):\n",
    "    Act = []\n",
    "    Pred = {}\n",
    "    for i in range(1,shape_row+1):\n",
    "        Act.append((\"Actual \",i,' Rooms'))\n",
    "    for i in range(1,shape_col+1):\n",
    "        Pred[i-1] = (\"Pred \",i,' Rooms')\n",
    "    return (Act,Pred)\n",
    "\n",
    "\n",
    "labels=  get_labels(confusion_matrix(Y_test,KNN_pred).shape[0],confusion_matrix(Y_test,KNN_pred).shape[1])\n",
    "cm = pd.DataFrame(confusion_matrix(Y_test,KNN_pred),index=labels[0])\n",
    "cm = cm.rename(columns=labels[1])\n",
    "cm"
   ]
  },
  {
   "cell_type": "code",
   "execution_count": 678,
   "id": "d8d5be4c",
   "metadata": {},
   "outputs": [
    {
     "name": "stdout",
     "output_type": "stream",
     "text": [
      "SCORE:  0.47439420434673996\n"
     ]
    }
   ],
   "source": [
    "print(\"SCORE: \",accuracy_score(Y_test,KNN_pred))"
   ]
  },
  {
   "cell_type": "markdown",
   "id": "b1184a41",
   "metadata": {},
   "source": [
    "#### RandomForest:"
   ]
  },
  {
   "cell_type": "code",
   "execution_count": 679,
   "id": "15c641c2",
   "metadata": {},
   "outputs": [
    {
     "data": {
      "text/html": [
       "<div>\n",
       "<style scoped>\n",
       "    .dataframe tbody tr th:only-of-type {\n",
       "        vertical-align: middle;\n",
       "    }\n",
       "\n",
       "    .dataframe tbody tr th {\n",
       "        vertical-align: top;\n",
       "    }\n",
       "\n",
       "    .dataframe thead th {\n",
       "        text-align: right;\n",
       "    }\n",
       "</style>\n",
       "<table border=\"1\" class=\"dataframe\">\n",
       "  <thead>\n",
       "    <tr style=\"text-align: right;\">\n",
       "      <th></th>\n",
       "      <th>(Pred , 1,  Rooms)</th>\n",
       "      <th>(Pred , 2,  Rooms)</th>\n",
       "      <th>(Pred , 3,  Rooms)</th>\n",
       "      <th>(Pred , 4,  Rooms)</th>\n",
       "      <th>(Pred , 5,  Rooms)</th>\n",
       "      <th>(Pred , 6,  Rooms)</th>\n",
       "      <th>(Pred , 7,  Rooms)</th>\n",
       "      <th>(Pred , 8,  Rooms)</th>\n",
       "      <th>(Pred , 9,  Rooms)</th>\n",
       "      <th>(Pred , 10,  Rooms)</th>\n",
       "    </tr>\n",
       "  </thead>\n",
       "  <tbody>\n",
       "    <tr>\n",
       "      <th>(Actual , 1,  Rooms)</th>\n",
       "      <td>30</td>\n",
       "      <td>185</td>\n",
       "      <td>18</td>\n",
       "      <td>15</td>\n",
       "      <td>21</td>\n",
       "      <td>10</td>\n",
       "      <td>1</td>\n",
       "      <td>1</td>\n",
       "      <td>0</td>\n",
       "      <td>0</td>\n",
       "    </tr>\n",
       "    <tr>\n",
       "      <th>(Actual , 2,  Rooms)</th>\n",
       "      <td>39</td>\n",
       "      <td>5123</td>\n",
       "      <td>1158</td>\n",
       "      <td>12</td>\n",
       "      <td>2</td>\n",
       "      <td>0</td>\n",
       "      <td>0</td>\n",
       "      <td>0</td>\n",
       "      <td>0</td>\n",
       "      <td>0</td>\n",
       "    </tr>\n",
       "    <tr>\n",
       "      <th>(Actual , 3,  Rooms)</th>\n",
       "      <td>0</td>\n",
       "      <td>1028</td>\n",
       "      <td>9321</td>\n",
       "      <td>1379</td>\n",
       "      <td>25</td>\n",
       "      <td>0</td>\n",
       "      <td>0</td>\n",
       "      <td>0</td>\n",
       "      <td>0</td>\n",
       "      <td>0</td>\n",
       "    </tr>\n",
       "    <tr>\n",
       "      <th>(Actual , 4,  Rooms)</th>\n",
       "      <td>1</td>\n",
       "      <td>14</td>\n",
       "      <td>1280</td>\n",
       "      <td>9992</td>\n",
       "      <td>943</td>\n",
       "      <td>7</td>\n",
       "      <td>1</td>\n",
       "      <td>0</td>\n",
       "      <td>0</td>\n",
       "      <td>0</td>\n",
       "    </tr>\n",
       "    <tr>\n",
       "      <th>(Actual , 5,  Rooms)</th>\n",
       "      <td>3</td>\n",
       "      <td>0</td>\n",
       "      <td>15</td>\n",
       "      <td>1086</td>\n",
       "      <td>6210</td>\n",
       "      <td>352</td>\n",
       "      <td>22</td>\n",
       "      <td>3</td>\n",
       "      <td>0</td>\n",
       "      <td>0</td>\n",
       "    </tr>\n",
       "    <tr>\n",
       "      <th>(Actual , 6,  Rooms)</th>\n",
       "      <td>1</td>\n",
       "      <td>0</td>\n",
       "      <td>2</td>\n",
       "      <td>52</td>\n",
       "      <td>702</td>\n",
       "      <td>639</td>\n",
       "      <td>34</td>\n",
       "      <td>8</td>\n",
       "      <td>1</td>\n",
       "      <td>0</td>\n",
       "    </tr>\n",
       "    <tr>\n",
       "      <th>(Actual , 7,  Rooms)</th>\n",
       "      <td>0</td>\n",
       "      <td>0</td>\n",
       "      <td>0</td>\n",
       "      <td>7</td>\n",
       "      <td>71</td>\n",
       "      <td>104</td>\n",
       "      <td>27</td>\n",
       "      <td>8</td>\n",
       "      <td>1</td>\n",
       "      <td>0</td>\n",
       "    </tr>\n",
       "    <tr>\n",
       "      <th>(Actual , 8,  Rooms)</th>\n",
       "      <td>2</td>\n",
       "      <td>0</td>\n",
       "      <td>0</td>\n",
       "      <td>2</td>\n",
       "      <td>23</td>\n",
       "      <td>32</td>\n",
       "      <td>4</td>\n",
       "      <td>0</td>\n",
       "      <td>0</td>\n",
       "      <td>0</td>\n",
       "    </tr>\n",
       "    <tr>\n",
       "      <th>(Actual , 9,  Rooms)</th>\n",
       "      <td>0</td>\n",
       "      <td>0</td>\n",
       "      <td>0</td>\n",
       "      <td>1</td>\n",
       "      <td>6</td>\n",
       "      <td>4</td>\n",
       "      <td>1</td>\n",
       "      <td>0</td>\n",
       "      <td>0</td>\n",
       "      <td>0</td>\n",
       "    </tr>\n",
       "    <tr>\n",
       "      <th>(Actual , 10,  Rooms)</th>\n",
       "      <td>0</td>\n",
       "      <td>0</td>\n",
       "      <td>0</td>\n",
       "      <td>1</td>\n",
       "      <td>0</td>\n",
       "      <td>0</td>\n",
       "      <td>0</td>\n",
       "      <td>0</td>\n",
       "      <td>0</td>\n",
       "      <td>0</td>\n",
       "    </tr>\n",
       "  </tbody>\n",
       "</table>\n",
       "</div>"
      ],
      "text/plain": [
       "                       (Pred , 1,  Rooms)  (Pred , 2,  Rooms)  \\\n",
       "(Actual , 1,  Rooms)                   30                 185   \n",
       "(Actual , 2,  Rooms)                   39                5123   \n",
       "(Actual , 3,  Rooms)                    0                1028   \n",
       "(Actual , 4,  Rooms)                    1                  14   \n",
       "(Actual , 5,  Rooms)                    3                   0   \n",
       "(Actual , 6,  Rooms)                    1                   0   \n",
       "(Actual , 7,  Rooms)                    0                   0   \n",
       "(Actual , 8,  Rooms)                    2                   0   \n",
       "(Actual , 9,  Rooms)                    0                   0   \n",
       "(Actual , 10,  Rooms)                   0                   0   \n",
       "\n",
       "                       (Pred , 3,  Rooms)  (Pred , 4,  Rooms)  \\\n",
       "(Actual , 1,  Rooms)                   18                  15   \n",
       "(Actual , 2,  Rooms)                 1158                  12   \n",
       "(Actual , 3,  Rooms)                 9321                1379   \n",
       "(Actual , 4,  Rooms)                 1280                9992   \n",
       "(Actual , 5,  Rooms)                   15                1086   \n",
       "(Actual , 6,  Rooms)                    2                  52   \n",
       "(Actual , 7,  Rooms)                    0                   7   \n",
       "(Actual , 8,  Rooms)                    0                   2   \n",
       "(Actual , 9,  Rooms)                    0                   1   \n",
       "(Actual , 10,  Rooms)                   0                   1   \n",
       "\n",
       "                       (Pred , 5,  Rooms)  (Pred , 6,  Rooms)  \\\n",
       "(Actual , 1,  Rooms)                   21                  10   \n",
       "(Actual , 2,  Rooms)                    2                   0   \n",
       "(Actual , 3,  Rooms)                   25                   0   \n",
       "(Actual , 4,  Rooms)                  943                   7   \n",
       "(Actual , 5,  Rooms)                 6210                 352   \n",
       "(Actual , 6,  Rooms)                  702                 639   \n",
       "(Actual , 7,  Rooms)                   71                 104   \n",
       "(Actual , 8,  Rooms)                   23                  32   \n",
       "(Actual , 9,  Rooms)                    6                   4   \n",
       "(Actual , 10,  Rooms)                   0                   0   \n",
       "\n",
       "                       (Pred , 7,  Rooms)  (Pred , 8,  Rooms)  \\\n",
       "(Actual , 1,  Rooms)                    1                   1   \n",
       "(Actual , 2,  Rooms)                    0                   0   \n",
       "(Actual , 3,  Rooms)                    0                   0   \n",
       "(Actual , 4,  Rooms)                    1                   0   \n",
       "(Actual , 5,  Rooms)                   22                   3   \n",
       "(Actual , 6,  Rooms)                   34                   8   \n",
       "(Actual , 7,  Rooms)                   27                   8   \n",
       "(Actual , 8,  Rooms)                    4                   0   \n",
       "(Actual , 9,  Rooms)                    1                   0   \n",
       "(Actual , 10,  Rooms)                   0                   0   \n",
       "\n",
       "                       (Pred , 9,  Rooms)  (Pred , 10,  Rooms)  \n",
       "(Actual , 1,  Rooms)                    0                    0  \n",
       "(Actual , 2,  Rooms)                    0                    0  \n",
       "(Actual , 3,  Rooms)                    0                    0  \n",
       "(Actual , 4,  Rooms)                    0                    0  \n",
       "(Actual , 5,  Rooms)                    0                    0  \n",
       "(Actual , 6,  Rooms)                    1                    0  \n",
       "(Actual , 7,  Rooms)                    1                    0  \n",
       "(Actual , 8,  Rooms)                    0                    0  \n",
       "(Actual , 9,  Rooms)                    0                    0  \n",
       "(Actual , 10,  Rooms)                   0                    0  "
      ]
     },
     "execution_count": 679,
     "metadata": {},
     "output_type": "execute_result"
    }
   ],
   "source": [
    "labels=  get_labels(confusion_matrix(Y_test,RandomForest_pred).shape[0],confusion_matrix(Y_test,RandomForest_pred).shape[1])\n",
    "cm = pd.DataFrame(confusion_matrix(Y_test,RandomForest_pred),index=labels[0])\n",
    "cm = cm.rename(columns=labels[1])\n",
    "cm"
   ]
  },
  {
   "cell_type": "code",
   "execution_count": 680,
   "id": "70f490d5",
   "metadata": {},
   "outputs": [
    {
     "name": "stdout",
     "output_type": "stream",
     "text": [
      "SCORE:  0.7829627779165625\n"
     ]
    }
   ],
   "source": [
    "print(\"SCORE: \",accuracy_score(Y_test,RandomForest_pred))"
   ]
  },
  {
   "cell_type": "markdown",
   "id": "285d6046",
   "metadata": {},
   "source": [
    "#### GuassianNB"
   ]
  },
  {
   "cell_type": "code",
   "execution_count": 681,
   "id": "dc797a5a",
   "metadata": {},
   "outputs": [
    {
     "data": {
      "text/html": [
       "<div>\n",
       "<style scoped>\n",
       "    .dataframe tbody tr th:only-of-type {\n",
       "        vertical-align: middle;\n",
       "    }\n",
       "\n",
       "    .dataframe tbody tr th {\n",
       "        vertical-align: top;\n",
       "    }\n",
       "\n",
       "    .dataframe thead th {\n",
       "        text-align: right;\n",
       "    }\n",
       "</style>\n",
       "<table border=\"1\" class=\"dataframe\">\n",
       "  <thead>\n",
       "    <tr style=\"text-align: right;\">\n",
       "      <th></th>\n",
       "      <th>(Pred , 1,  Rooms)</th>\n",
       "      <th>(Pred , 2,  Rooms)</th>\n",
       "      <th>(Pred , 3,  Rooms)</th>\n",
       "      <th>(Pred , 4,  Rooms)</th>\n",
       "      <th>(Pred , 5,  Rooms)</th>\n",
       "      <th>(Pred , 6,  Rooms)</th>\n",
       "      <th>(Pred , 7,  Rooms)</th>\n",
       "      <th>(Pred , 8,  Rooms)</th>\n",
       "      <th>(Pred , 9,  Rooms)</th>\n",
       "      <th>(Pred , 10,  Rooms)</th>\n",
       "    </tr>\n",
       "  </thead>\n",
       "  <tbody>\n",
       "    <tr>\n",
       "      <th>(Actual , 1,  Rooms)</th>\n",
       "      <td>0</td>\n",
       "      <td>19</td>\n",
       "      <td>216</td>\n",
       "      <td>18</td>\n",
       "      <td>14</td>\n",
       "      <td>6</td>\n",
       "      <td>3</td>\n",
       "      <td>5</td>\n",
       "      <td>0</td>\n",
       "      <td>0</td>\n",
       "    </tr>\n",
       "    <tr>\n",
       "      <th>(Actual , 2,  Rooms)</th>\n",
       "      <td>0</td>\n",
       "      <td>438</td>\n",
       "      <td>5306</td>\n",
       "      <td>548</td>\n",
       "      <td>42</td>\n",
       "      <td>0</td>\n",
       "      <td>0</td>\n",
       "      <td>0</td>\n",
       "      <td>0</td>\n",
       "      <td>0</td>\n",
       "    </tr>\n",
       "    <tr>\n",
       "      <th>(Actual , 3,  Rooms)</th>\n",
       "      <td>0</td>\n",
       "      <td>374</td>\n",
       "      <td>9140</td>\n",
       "      <td>1596</td>\n",
       "      <td>621</td>\n",
       "      <td>21</td>\n",
       "      <td>1</td>\n",
       "      <td>0</td>\n",
       "      <td>0</td>\n",
       "      <td>0</td>\n",
       "    </tr>\n",
       "    <tr>\n",
       "      <th>(Actual , 4,  Rooms)</th>\n",
       "      <td>0</td>\n",
       "      <td>355</td>\n",
       "      <td>7973</td>\n",
       "      <td>2818</td>\n",
       "      <td>999</td>\n",
       "      <td>86</td>\n",
       "      <td>7</td>\n",
       "      <td>0</td>\n",
       "      <td>0</td>\n",
       "      <td>0</td>\n",
       "    </tr>\n",
       "    <tr>\n",
       "      <th>(Actual , 5,  Rooms)</th>\n",
       "      <td>0</td>\n",
       "      <td>150</td>\n",
       "      <td>3072</td>\n",
       "      <td>2878</td>\n",
       "      <td>1356</td>\n",
       "      <td>148</td>\n",
       "      <td>50</td>\n",
       "      <td>37</td>\n",
       "      <td>0</td>\n",
       "      <td>0</td>\n",
       "    </tr>\n",
       "    <tr>\n",
       "      <th>(Actual , 6,  Rooms)</th>\n",
       "      <td>0</td>\n",
       "      <td>34</td>\n",
       "      <td>220</td>\n",
       "      <td>563</td>\n",
       "      <td>513</td>\n",
       "      <td>75</td>\n",
       "      <td>14</td>\n",
       "      <td>20</td>\n",
       "      <td>0</td>\n",
       "      <td>0</td>\n",
       "    </tr>\n",
       "    <tr>\n",
       "      <th>(Actual , 7,  Rooms)</th>\n",
       "      <td>0</td>\n",
       "      <td>1</td>\n",
       "      <td>24</td>\n",
       "      <td>54</td>\n",
       "      <td>113</td>\n",
       "      <td>21</td>\n",
       "      <td>1</td>\n",
       "      <td>4</td>\n",
       "      <td>0</td>\n",
       "      <td>0</td>\n",
       "    </tr>\n",
       "    <tr>\n",
       "      <th>(Actual , 8,  Rooms)</th>\n",
       "      <td>0</td>\n",
       "      <td>0</td>\n",
       "      <td>2</td>\n",
       "      <td>10</td>\n",
       "      <td>28</td>\n",
       "      <td>7</td>\n",
       "      <td>5</td>\n",
       "      <td>11</td>\n",
       "      <td>0</td>\n",
       "      <td>0</td>\n",
       "    </tr>\n",
       "    <tr>\n",
       "      <th>(Actual , 9,  Rooms)</th>\n",
       "      <td>0</td>\n",
       "      <td>0</td>\n",
       "      <td>0</td>\n",
       "      <td>4</td>\n",
       "      <td>4</td>\n",
       "      <td>3</td>\n",
       "      <td>1</td>\n",
       "      <td>0</td>\n",
       "      <td>0</td>\n",
       "      <td>0</td>\n",
       "    </tr>\n",
       "    <tr>\n",
       "      <th>(Actual , 10,  Rooms)</th>\n",
       "      <td>0</td>\n",
       "      <td>0</td>\n",
       "      <td>1</td>\n",
       "      <td>0</td>\n",
       "      <td>0</td>\n",
       "      <td>0</td>\n",
       "      <td>0</td>\n",
       "      <td>0</td>\n",
       "      <td>0</td>\n",
       "      <td>0</td>\n",
       "    </tr>\n",
       "  </tbody>\n",
       "</table>\n",
       "</div>"
      ],
      "text/plain": [
       "                       (Pred , 1,  Rooms)  (Pred , 2,  Rooms)  \\\n",
       "(Actual , 1,  Rooms)                    0                  19   \n",
       "(Actual , 2,  Rooms)                    0                 438   \n",
       "(Actual , 3,  Rooms)                    0                 374   \n",
       "(Actual , 4,  Rooms)                    0                 355   \n",
       "(Actual , 5,  Rooms)                    0                 150   \n",
       "(Actual , 6,  Rooms)                    0                  34   \n",
       "(Actual , 7,  Rooms)                    0                   1   \n",
       "(Actual , 8,  Rooms)                    0                   0   \n",
       "(Actual , 9,  Rooms)                    0                   0   \n",
       "(Actual , 10,  Rooms)                   0                   0   \n",
       "\n",
       "                       (Pred , 3,  Rooms)  (Pred , 4,  Rooms)  \\\n",
       "(Actual , 1,  Rooms)                  216                  18   \n",
       "(Actual , 2,  Rooms)                 5306                 548   \n",
       "(Actual , 3,  Rooms)                 9140                1596   \n",
       "(Actual , 4,  Rooms)                 7973                2818   \n",
       "(Actual , 5,  Rooms)                 3072                2878   \n",
       "(Actual , 6,  Rooms)                  220                 563   \n",
       "(Actual , 7,  Rooms)                   24                  54   \n",
       "(Actual , 8,  Rooms)                    2                  10   \n",
       "(Actual , 9,  Rooms)                    0                   4   \n",
       "(Actual , 10,  Rooms)                   1                   0   \n",
       "\n",
       "                       (Pred , 5,  Rooms)  (Pred , 6,  Rooms)  \\\n",
       "(Actual , 1,  Rooms)                   14                   6   \n",
       "(Actual , 2,  Rooms)                   42                   0   \n",
       "(Actual , 3,  Rooms)                  621                  21   \n",
       "(Actual , 4,  Rooms)                  999                  86   \n",
       "(Actual , 5,  Rooms)                 1356                 148   \n",
       "(Actual , 6,  Rooms)                  513                  75   \n",
       "(Actual , 7,  Rooms)                  113                  21   \n",
       "(Actual , 8,  Rooms)                   28                   7   \n",
       "(Actual , 9,  Rooms)                    4                   3   \n",
       "(Actual , 10,  Rooms)                   0                   0   \n",
       "\n",
       "                       (Pred , 7,  Rooms)  (Pred , 8,  Rooms)  \\\n",
       "(Actual , 1,  Rooms)                    3                   5   \n",
       "(Actual , 2,  Rooms)                    0                   0   \n",
       "(Actual , 3,  Rooms)                    1                   0   \n",
       "(Actual , 4,  Rooms)                    7                   0   \n",
       "(Actual , 5,  Rooms)                   50                  37   \n",
       "(Actual , 6,  Rooms)                   14                  20   \n",
       "(Actual , 7,  Rooms)                    1                   4   \n",
       "(Actual , 8,  Rooms)                    5                  11   \n",
       "(Actual , 9,  Rooms)                    1                   0   \n",
       "(Actual , 10,  Rooms)                   0                   0   \n",
       "\n",
       "                       (Pred , 9,  Rooms)  (Pred , 10,  Rooms)  \n",
       "(Actual , 1,  Rooms)                    0                    0  \n",
       "(Actual , 2,  Rooms)                    0                    0  \n",
       "(Actual , 3,  Rooms)                    0                    0  \n",
       "(Actual , 4,  Rooms)                    0                    0  \n",
       "(Actual , 5,  Rooms)                    0                    0  \n",
       "(Actual , 6,  Rooms)                    0                    0  \n",
       "(Actual , 7,  Rooms)                    0                    0  \n",
       "(Actual , 8,  Rooms)                    0                    0  \n",
       "(Actual , 9,  Rooms)                    0                    0  \n",
       "(Actual , 10,  Rooms)                   0                    0  "
      ]
     },
     "execution_count": 681,
     "metadata": {},
     "output_type": "execute_result"
    }
   ],
   "source": [
    "labels=  get_labels(confusion_matrix(Y_test,GuassianNB_pred).shape[0],confusion_matrix(Y_test,GuassianNB_pred).shape[1])\n",
    "cm = pd.DataFrame(confusion_matrix(Y_test,GuassianNB_pred),index=labels[0])\n",
    "cm = cm.rename(columns=labels[1])\n",
    "cm"
   ]
  },
  {
   "cell_type": "code",
   "execution_count": 682,
   "id": "f61e6efe",
   "metadata": {},
   "outputs": [
    {
     "name": "stdout",
     "output_type": "stream",
     "text": [
      "SCORE:  0.3457157132150887\n"
     ]
    }
   ],
   "source": [
    "print(\"SCORE: \",accuracy_score(Y_test,GuassianNB_pred))"
   ]
  },
  {
   "cell_type": "markdown",
   "id": "ab6e3fce",
   "metadata": {},
   "source": [
    "#### Decision Tree"
   ]
  },
  {
   "cell_type": "code",
   "execution_count": 683,
   "id": "42fcca76",
   "metadata": {},
   "outputs": [
    {
     "data": {
      "text/html": [
       "<div>\n",
       "<style scoped>\n",
       "    .dataframe tbody tr th:only-of-type {\n",
       "        vertical-align: middle;\n",
       "    }\n",
       "\n",
       "    .dataframe tbody tr th {\n",
       "        vertical-align: top;\n",
       "    }\n",
       "\n",
       "    .dataframe thead th {\n",
       "        text-align: right;\n",
       "    }\n",
       "</style>\n",
       "<table border=\"1\" class=\"dataframe\">\n",
       "  <thead>\n",
       "    <tr style=\"text-align: right;\">\n",
       "      <th></th>\n",
       "      <th>(Pred , 1,  Rooms)</th>\n",
       "      <th>(Pred , 2,  Rooms)</th>\n",
       "      <th>(Pred , 3,  Rooms)</th>\n",
       "      <th>(Pred , 4,  Rooms)</th>\n",
       "      <th>(Pred , 5,  Rooms)</th>\n",
       "      <th>(Pred , 6,  Rooms)</th>\n",
       "      <th>(Pred , 7,  Rooms)</th>\n",
       "      <th>(Pred , 8,  Rooms)</th>\n",
       "      <th>(Pred , 9,  Rooms)</th>\n",
       "      <th>(Pred , 10,  Rooms)</th>\n",
       "    </tr>\n",
       "  </thead>\n",
       "  <tbody>\n",
       "    <tr>\n",
       "      <th>(Actual , 1,  Rooms)</th>\n",
       "      <td>32</td>\n",
       "      <td>181</td>\n",
       "      <td>14</td>\n",
       "      <td>17</td>\n",
       "      <td>22</td>\n",
       "      <td>15</td>\n",
       "      <td>0</td>\n",
       "      <td>0</td>\n",
       "      <td>0</td>\n",
       "      <td>0</td>\n",
       "    </tr>\n",
       "    <tr>\n",
       "      <th>(Actual , 2,  Rooms)</th>\n",
       "      <td>36</td>\n",
       "      <td>4913</td>\n",
       "      <td>1370</td>\n",
       "      <td>12</td>\n",
       "      <td>3</td>\n",
       "      <td>0</td>\n",
       "      <td>0</td>\n",
       "      <td>0</td>\n",
       "      <td>0</td>\n",
       "      <td>0</td>\n",
       "    </tr>\n",
       "    <tr>\n",
       "      <th>(Actual , 3,  Rooms)</th>\n",
       "      <td>1</td>\n",
       "      <td>1099</td>\n",
       "      <td>8931</td>\n",
       "      <td>1690</td>\n",
       "      <td>31</td>\n",
       "      <td>1</td>\n",
       "      <td>0</td>\n",
       "      <td>0</td>\n",
       "      <td>0</td>\n",
       "      <td>0</td>\n",
       "    </tr>\n",
       "    <tr>\n",
       "      <th>(Actual , 4,  Rooms)</th>\n",
       "      <td>0</td>\n",
       "      <td>14</td>\n",
       "      <td>1408</td>\n",
       "      <td>9460</td>\n",
       "      <td>1348</td>\n",
       "      <td>8</td>\n",
       "      <td>0</td>\n",
       "      <td>0</td>\n",
       "      <td>0</td>\n",
       "      <td>0</td>\n",
       "    </tr>\n",
       "    <tr>\n",
       "      <th>(Actual , 5,  Rooms)</th>\n",
       "      <td>0</td>\n",
       "      <td>0</td>\n",
       "      <td>10</td>\n",
       "      <td>1340</td>\n",
       "      <td>6034</td>\n",
       "      <td>305</td>\n",
       "      <td>2</td>\n",
       "      <td>0</td>\n",
       "      <td>0</td>\n",
       "      <td>0</td>\n",
       "    </tr>\n",
       "    <tr>\n",
       "      <th>(Actual , 6,  Rooms)</th>\n",
       "      <td>0</td>\n",
       "      <td>0</td>\n",
       "      <td>1</td>\n",
       "      <td>65</td>\n",
       "      <td>859</td>\n",
       "      <td>514</td>\n",
       "      <td>0</td>\n",
       "      <td>0</td>\n",
       "      <td>0</td>\n",
       "      <td>0</td>\n",
       "    </tr>\n",
       "    <tr>\n",
       "      <th>(Actual , 7,  Rooms)</th>\n",
       "      <td>0</td>\n",
       "      <td>0</td>\n",
       "      <td>1</td>\n",
       "      <td>5</td>\n",
       "      <td>80</td>\n",
       "      <td>132</td>\n",
       "      <td>0</td>\n",
       "      <td>0</td>\n",
       "      <td>0</td>\n",
       "      <td>0</td>\n",
       "    </tr>\n",
       "    <tr>\n",
       "      <th>(Actual , 8,  Rooms)</th>\n",
       "      <td>0</td>\n",
       "      <td>0</td>\n",
       "      <td>0</td>\n",
       "      <td>2</td>\n",
       "      <td>21</td>\n",
       "      <td>40</td>\n",
       "      <td>0</td>\n",
       "      <td>0</td>\n",
       "      <td>0</td>\n",
       "      <td>0</td>\n",
       "    </tr>\n",
       "    <tr>\n",
       "      <th>(Actual , 9,  Rooms)</th>\n",
       "      <td>0</td>\n",
       "      <td>0</td>\n",
       "      <td>0</td>\n",
       "      <td>0</td>\n",
       "      <td>5</td>\n",
       "      <td>7</td>\n",
       "      <td>0</td>\n",
       "      <td>0</td>\n",
       "      <td>0</td>\n",
       "      <td>0</td>\n",
       "    </tr>\n",
       "    <tr>\n",
       "      <th>(Actual , 10,  Rooms)</th>\n",
       "      <td>0</td>\n",
       "      <td>0</td>\n",
       "      <td>0</td>\n",
       "      <td>1</td>\n",
       "      <td>0</td>\n",
       "      <td>0</td>\n",
       "      <td>0</td>\n",
       "      <td>0</td>\n",
       "      <td>0</td>\n",
       "      <td>0</td>\n",
       "    </tr>\n",
       "  </tbody>\n",
       "</table>\n",
       "</div>"
      ],
      "text/plain": [
       "                       (Pred , 1,  Rooms)  (Pred , 2,  Rooms)  \\\n",
       "(Actual , 1,  Rooms)                   32                 181   \n",
       "(Actual , 2,  Rooms)                   36                4913   \n",
       "(Actual , 3,  Rooms)                    1                1099   \n",
       "(Actual , 4,  Rooms)                    0                  14   \n",
       "(Actual , 5,  Rooms)                    0                   0   \n",
       "(Actual , 6,  Rooms)                    0                   0   \n",
       "(Actual , 7,  Rooms)                    0                   0   \n",
       "(Actual , 8,  Rooms)                    0                   0   \n",
       "(Actual , 9,  Rooms)                    0                   0   \n",
       "(Actual , 10,  Rooms)                   0                   0   \n",
       "\n",
       "                       (Pred , 3,  Rooms)  (Pred , 4,  Rooms)  \\\n",
       "(Actual , 1,  Rooms)                   14                  17   \n",
       "(Actual , 2,  Rooms)                 1370                  12   \n",
       "(Actual , 3,  Rooms)                 8931                1690   \n",
       "(Actual , 4,  Rooms)                 1408                9460   \n",
       "(Actual , 5,  Rooms)                   10                1340   \n",
       "(Actual , 6,  Rooms)                    1                  65   \n",
       "(Actual , 7,  Rooms)                    1                   5   \n",
       "(Actual , 8,  Rooms)                    0                   2   \n",
       "(Actual , 9,  Rooms)                    0                   0   \n",
       "(Actual , 10,  Rooms)                   0                   1   \n",
       "\n",
       "                       (Pred , 5,  Rooms)  (Pred , 6,  Rooms)  \\\n",
       "(Actual , 1,  Rooms)                   22                  15   \n",
       "(Actual , 2,  Rooms)                    3                   0   \n",
       "(Actual , 3,  Rooms)                   31                   1   \n",
       "(Actual , 4,  Rooms)                 1348                   8   \n",
       "(Actual , 5,  Rooms)                 6034                 305   \n",
       "(Actual , 6,  Rooms)                  859                 514   \n",
       "(Actual , 7,  Rooms)                   80                 132   \n",
       "(Actual , 8,  Rooms)                   21                  40   \n",
       "(Actual , 9,  Rooms)                    5                   7   \n",
       "(Actual , 10,  Rooms)                   0                   0   \n",
       "\n",
       "                       (Pred , 7,  Rooms)  (Pred , 8,  Rooms)  \\\n",
       "(Actual , 1,  Rooms)                    0                   0   \n",
       "(Actual , 2,  Rooms)                    0                   0   \n",
       "(Actual , 3,  Rooms)                    0                   0   \n",
       "(Actual , 4,  Rooms)                    0                   0   \n",
       "(Actual , 5,  Rooms)                    2                   0   \n",
       "(Actual , 6,  Rooms)                    0                   0   \n",
       "(Actual , 7,  Rooms)                    0                   0   \n",
       "(Actual , 8,  Rooms)                    0                   0   \n",
       "(Actual , 9,  Rooms)                    0                   0   \n",
       "(Actual , 10,  Rooms)                   0                   0   \n",
       "\n",
       "                       (Pred , 9,  Rooms)  (Pred , 10,  Rooms)  \n",
       "(Actual , 1,  Rooms)                    0                    0  \n",
       "(Actual , 2,  Rooms)                    0                    0  \n",
       "(Actual , 3,  Rooms)                    0                    0  \n",
       "(Actual , 4,  Rooms)                    0                    0  \n",
       "(Actual , 5,  Rooms)                    0                    0  \n",
       "(Actual , 6,  Rooms)                    0                    0  \n",
       "(Actual , 7,  Rooms)                    0                    0  \n",
       "(Actual , 8,  Rooms)                    0                    0  \n",
       "(Actual , 9,  Rooms)                    0                    0  \n",
       "(Actual , 10,  Rooms)                   0                    0  "
      ]
     },
     "execution_count": 683,
     "metadata": {},
     "output_type": "execute_result"
    }
   ],
   "source": [
    "labels=  get_labels(confusion_matrix(Y_test,DT_pred).shape[0],confusion_matrix(Y_test,DT_pred).shape[1])\n",
    "cm = pd.DataFrame(confusion_matrix(Y_test,DT_pred),index=labels[0])\n",
    "cm = cm.rename(columns=labels[1])\n",
    "cm"
   ]
  },
  {
   "cell_type": "code",
   "execution_count": 684,
   "id": "86251aac",
   "metadata": {},
   "outputs": [
    {
     "name": "stdout",
     "output_type": "stream",
     "text": [
      "SCORE:  0.7465400949288034\n"
     ]
    }
   ],
   "source": [
    "print(\"SCORE: \",accuracy_score(Y_test,DT_pred))"
   ]
  },
  {
   "cell_type": "markdown",
   "id": "ae453acc",
   "metadata": {},
   "source": [
    "### Performance Evaluation"
   ]
  },
  {
   "cell_type": "markdown",
   "id": "2fb8006a",
   "metadata": {},
   "source": [
    "**The models with the highest accuracy percentage**:\n",
    "+ 1) RandomForest: 78.07%\n",
    "+ 2) DecisionTree: 74.67%\n",
    "+ 3) KNN: 47.50%\n",
    "+ 4) GNB: 38.97%\n",
    "\n",
    "\n",
    "(Please note that these indices are not precise and constitute only one experiment, with the help of finding the highest hyperparameter with the SearchGridCV function we would get higher accuracy percentages.\n",
    "Since these models are not our main focus in this project, we will be okay with that)"
   ]
  },
  {
   "cell_type": "code",
   "execution_count": 688,
   "id": "d22bc987",
   "metadata": {},
   "outputs": [],
   "source": [
    "df_Cities2 = pd.read_csv(\"Save 1.csv\")"
   ]
  },
  {
   "cell_type": "markdown",
   "id": "e472467e",
   "metadata": {},
   "source": [
    "### Fourth Prediction"
   ]
  },
  {
   "cell_type": "code",
   "execution_count": 689,
   "id": "890cf0b8",
   "metadata": {},
   "outputs": [],
   "source": [
    "df_Cities2 = pd.get_dummies(df_Cities2,columns=['City'])\n",
    "\n",
    "df_Cities2.drop(columns=['Neighborhood','Street'],inplace=True)\n",
    "\n",
    "X = df_Cities2[df_Cities2.columns[df_Cities2.columns!='Property_Type']]\n",
    "Y = df_Cities2['Property_Type']\n",
    "\n",
    "X_train,X_test,Y_train,Y_test = train_test_split(X,Y,test_size=0.2)\n",
    "\n",
    "\n",
    "num_vars = ['Sale_Year', 'Square_Meter', 'Kindergartens_And_Dormitories', 'Education_Average_Distance','Green_Areas_SQM',\n",
    "           'Parks_And_Gardens','Green_Areas_Average_Distance','Parks_And_Gardens_Average_Distance','Public_Building_Average_Distance',\n",
    "           'Institutions','Schools_Institutions']\n",
    "\n",
    "X_train[num_vars] = scaler.fit_transform(X_train[num_vars])\n",
    "X_test[num_vars] = scaler.fit_transform(X_test[num_vars])\n",
    "\n",
    "KNN = KNeighborsClassifier(n_neighbors=10).fit(X_train,Y_train)\n",
    "RandomForest = RandomForestClassifier().fit(X_train,Y_train)\n",
    "GuassianNB = GaussianNB().fit(X_train,Y_train)\n",
    "DT = DecisionTreeClassifier(max_depth=10).fit(X_train,Y_train)\n",
    "\n",
    "KNN_pred = KNN.predict(X_test)\n",
    "RandomForest_pred = RandomForest.predict(X_test)\n",
    "GuassianNB_pred = GuassianNB.predict(X_test)\n",
    "DT_pred = DT.predict(X_test)"
   ]
  },
  {
   "cell_type": "markdown",
   "id": "c93328c4",
   "metadata": {},
   "source": [
    "#### KNN:"
   ]
  },
  {
   "cell_type": "code",
   "execution_count": 690,
   "id": "79aa6a66",
   "metadata": {},
   "outputs": [
    {
     "data": {
      "text/html": [
       "<div>\n",
       "<style scoped>\n",
       "    .dataframe tbody tr th:only-of-type {\n",
       "        vertical-align: middle;\n",
       "    }\n",
       "\n",
       "    .dataframe tbody tr th {\n",
       "        vertical-align: top;\n",
       "    }\n",
       "\n",
       "    .dataframe thead th {\n",
       "        text-align: right;\n",
       "    }\n",
       "</style>\n",
       "<table border=\"1\" class=\"dataframe\">\n",
       "  <thead>\n",
       "    <tr style=\"text-align: right;\">\n",
       "      <th></th>\n",
       "      <th>Pred בית פרטי</th>\n",
       "      <th>Pred דירה בבניין</th>\n",
       "      <th>Pred דירת גג</th>\n",
       "      <th>Pred דירת גן</th>\n",
       "      <th>Pred קוטג</th>\n",
       "    </tr>\n",
       "  </thead>\n",
       "  <tbody>\n",
       "    <tr>\n",
       "      <th>Actual בית פרטי</th>\n",
       "      <td>11</td>\n",
       "      <td>206</td>\n",
       "      <td>0</td>\n",
       "      <td>0</td>\n",
       "      <td>10</td>\n",
       "    </tr>\n",
       "    <tr>\n",
       "      <th>Actual דירה בבניין</th>\n",
       "      <td>10</td>\n",
       "      <td>37762</td>\n",
       "      <td>3</td>\n",
       "      <td>0</td>\n",
       "      <td>153</td>\n",
       "    </tr>\n",
       "    <tr>\n",
       "      <th>Actual דירת גג</th>\n",
       "      <td>0</td>\n",
       "      <td>255</td>\n",
       "      <td>0</td>\n",
       "      <td>0</td>\n",
       "      <td>4</td>\n",
       "    </tr>\n",
       "    <tr>\n",
       "      <th>Actual דירת גן</th>\n",
       "      <td>0</td>\n",
       "      <td>264</td>\n",
       "      <td>0</td>\n",
       "      <td>0</td>\n",
       "      <td>14</td>\n",
       "    </tr>\n",
       "    <tr>\n",
       "      <th>Actual קוטג</th>\n",
       "      <td>0</td>\n",
       "      <td>1142</td>\n",
       "      <td>0</td>\n",
       "      <td>0</td>\n",
       "      <td>196</td>\n",
       "    </tr>\n",
       "  </tbody>\n",
       "</table>\n",
       "</div>"
      ],
      "text/plain": [
       "                    Pred בית פרטי  Pred דירה בבניין  Pred דירת גג  \\\n",
       "Actual בית פרטי                11               206             0   \n",
       "Actual דירה בבניין             10             37762             3   \n",
       "Actual דירת גג                  0               255             0   \n",
       "Actual דירת גן                  0               264             0   \n",
       "Actual קוטג                     0              1142             0   \n",
       "\n",
       "                    Pred דירת גן  Pred קוטג  \n",
       "Actual בית פרטי                0         10  \n",
       "Actual דירה בבניין             0        153  \n",
       "Actual דירת גג                 0          4  \n",
       "Actual דירת גן                 0         14  \n",
       "Actual קוטג                    0        196  "
      ]
     },
     "execution_count": 690,
     "metadata": {},
     "output_type": "execute_result"
    }
   ],
   "source": [
    "labels = ['Actual בית פרטי','Actual דירה בבניין','Actual דירת גג','Actual דירת גן','Actual קוטג']\n",
    "labels2 = {0:'Pred בית פרטי',\n",
    "          1:'Pred דירה בבניין',\n",
    "          2:'Pred דירת גג',\n",
    "          3: 'Pred דירת גן',\n",
    "          4: 'Pred קוטג'}\n",
    "cm = pd.DataFrame(confusion_matrix(Y_test,KNN_pred),index=labels)\n",
    "cm = cm.rename(columns=labels2)\n",
    "cm"
   ]
  },
  {
   "cell_type": "code",
   "execution_count": 691,
   "id": "a8b2d147",
   "metadata": {},
   "outputs": [
    {
     "name": "stdout",
     "output_type": "stream",
     "text": [
      "SCORE:  0.9485136147889083\n"
     ]
    }
   ],
   "source": [
    "print(\"SCORE: \",accuracy_score(Y_test,KNN_pred))"
   ]
  },
  {
   "cell_type": "markdown",
   "id": "0fdb8289",
   "metadata": {},
   "source": [
    "#### RandomForest"
   ]
  },
  {
   "cell_type": "code",
   "execution_count": 692,
   "id": "bb7131ec",
   "metadata": {},
   "outputs": [
    {
     "data": {
      "text/html": [
       "<div>\n",
       "<style scoped>\n",
       "    .dataframe tbody tr th:only-of-type {\n",
       "        vertical-align: middle;\n",
       "    }\n",
       "\n",
       "    .dataframe tbody tr th {\n",
       "        vertical-align: top;\n",
       "    }\n",
       "\n",
       "    .dataframe thead th {\n",
       "        text-align: right;\n",
       "    }\n",
       "</style>\n",
       "<table border=\"1\" class=\"dataframe\">\n",
       "  <thead>\n",
       "    <tr style=\"text-align: right;\">\n",
       "      <th></th>\n",
       "      <th>Pred בית פרטי</th>\n",
       "      <th>Pred דירה בבניין</th>\n",
       "      <th>Pred דירת גג</th>\n",
       "      <th>Pred דירת גן</th>\n",
       "      <th>Pred קוטג</th>\n",
       "    </tr>\n",
       "  </thead>\n",
       "  <tbody>\n",
       "    <tr>\n",
       "      <th>Actual בית פרטי</th>\n",
       "      <td>120</td>\n",
       "      <td>53</td>\n",
       "      <td>0</td>\n",
       "      <td>0</td>\n",
       "      <td>54</td>\n",
       "    </tr>\n",
       "    <tr>\n",
       "      <th>Actual דירה בבניין</th>\n",
       "      <td>12</td>\n",
       "      <td>37602</td>\n",
       "      <td>18</td>\n",
       "      <td>37</td>\n",
       "      <td>259</td>\n",
       "    </tr>\n",
       "    <tr>\n",
       "      <th>Actual דירת גג</th>\n",
       "      <td>0</td>\n",
       "      <td>247</td>\n",
       "      <td>9</td>\n",
       "      <td>0</td>\n",
       "      <td>3</td>\n",
       "    </tr>\n",
       "    <tr>\n",
       "      <th>Actual דירת גן</th>\n",
       "      <td>0</td>\n",
       "      <td>233</td>\n",
       "      <td>0</td>\n",
       "      <td>31</td>\n",
       "      <td>14</td>\n",
       "    </tr>\n",
       "    <tr>\n",
       "      <th>Actual קוטג</th>\n",
       "      <td>14</td>\n",
       "      <td>529</td>\n",
       "      <td>1</td>\n",
       "      <td>6</td>\n",
       "      <td>788</td>\n",
       "    </tr>\n",
       "  </tbody>\n",
       "</table>\n",
       "</div>"
      ],
      "text/plain": [
       "                    Pred בית פרטי  Pred דירה בבניין  Pred דירת גג  \\\n",
       "Actual בית פרטי               120                53             0   \n",
       "Actual דירה בבניין             12             37602            18   \n",
       "Actual דירת גג                  0               247             9   \n",
       "Actual דירת גן                  0               233             0   \n",
       "Actual קוטג                    14               529             1   \n",
       "\n",
       "                    Pred דירת גן  Pred קוטג  \n",
       "Actual בית פרטי                0         54  \n",
       "Actual דירה בבניין            37        259  \n",
       "Actual דירת גג                 0          3  \n",
       "Actual דירת גן                31         14  \n",
       "Actual קוטג                    6        788  "
      ]
     },
     "execution_count": 692,
     "metadata": {},
     "output_type": "execute_result"
    }
   ],
   "source": [
    "cm = pd.DataFrame(confusion_matrix(Y_test,RandomForest_pred),index=labels)\n",
    "cm = cm.rename(columns=labels2)\n",
    "cm"
   ]
  },
  {
   "cell_type": "code",
   "execution_count": 693,
   "id": "35fc729a",
   "metadata": {},
   "outputs": [
    {
     "name": "stdout",
     "output_type": "stream",
     "text": [
      "SCORE:  0.9630277292030976\n"
     ]
    }
   ],
   "source": [
    "print(\"SCORE: \",accuracy_score(Y_test,RandomForest_pred))"
   ]
  },
  {
   "cell_type": "markdown",
   "id": "b724213a",
   "metadata": {},
   "source": [
    "#### GuassianNB"
   ]
  },
  {
   "cell_type": "code",
   "execution_count": 694,
   "id": "1ec89bea",
   "metadata": {},
   "outputs": [
    {
     "data": {
      "text/html": [
       "<div>\n",
       "<style scoped>\n",
       "    .dataframe tbody tr th:only-of-type {\n",
       "        vertical-align: middle;\n",
       "    }\n",
       "\n",
       "    .dataframe tbody tr th {\n",
       "        vertical-align: top;\n",
       "    }\n",
       "\n",
       "    .dataframe thead th {\n",
       "        text-align: right;\n",
       "    }\n",
       "</style>\n",
       "<table border=\"1\" class=\"dataframe\">\n",
       "  <thead>\n",
       "    <tr style=\"text-align: right;\">\n",
       "      <th></th>\n",
       "      <th>Pred בית פרטי</th>\n",
       "      <th>Pred דירה בבניין</th>\n",
       "      <th>Pred דירת גג</th>\n",
       "      <th>Pred דירת גן</th>\n",
       "      <th>Pred קוטג</th>\n",
       "    </tr>\n",
       "  </thead>\n",
       "  <tbody>\n",
       "    <tr>\n",
       "      <th>Actual בית פרטי</th>\n",
       "      <td>0</td>\n",
       "      <td>212</td>\n",
       "      <td>0</td>\n",
       "      <td>0</td>\n",
       "      <td>15</td>\n",
       "    </tr>\n",
       "    <tr>\n",
       "      <th>Actual דירה בבניין</th>\n",
       "      <td>0</td>\n",
       "      <td>37476</td>\n",
       "      <td>4</td>\n",
       "      <td>0</td>\n",
       "      <td>448</td>\n",
       "    </tr>\n",
       "    <tr>\n",
       "      <th>Actual דירת גג</th>\n",
       "      <td>0</td>\n",
       "      <td>240</td>\n",
       "      <td>0</td>\n",
       "      <td>0</td>\n",
       "      <td>19</td>\n",
       "    </tr>\n",
       "    <tr>\n",
       "      <th>Actual דירת גן</th>\n",
       "      <td>0</td>\n",
       "      <td>270</td>\n",
       "      <td>0</td>\n",
       "      <td>0</td>\n",
       "      <td>8</td>\n",
       "    </tr>\n",
       "    <tr>\n",
       "      <th>Actual קוטג</th>\n",
       "      <td>0</td>\n",
       "      <td>1228</td>\n",
       "      <td>0</td>\n",
       "      <td>0</td>\n",
       "      <td>110</td>\n",
       "    </tr>\n",
       "  </tbody>\n",
       "</table>\n",
       "</div>"
      ],
      "text/plain": [
       "                    Pred בית פרטי  Pred דירה בבניין  Pred דירת גג  \\\n",
       "Actual בית פרטי                 0               212             0   \n",
       "Actual דירה בבניין              0             37476             4   \n",
       "Actual דירת גג                  0               240             0   \n",
       "Actual דירת גן                  0               270             0   \n",
       "Actual קוטג                     0              1228             0   \n",
       "\n",
       "                    Pred דירת גן  Pred קוטג  \n",
       "Actual בית פרטי                0         15  \n",
       "Actual דירה בבניין             0        448  \n",
       "Actual דירת גג                 0         19  \n",
       "Actual דירת גן                 0          8  \n",
       "Actual קוטג                    0        110  "
      ]
     },
     "execution_count": 694,
     "metadata": {},
     "output_type": "execute_result"
    }
   ],
   "source": [
    "cm = pd.DataFrame(confusion_matrix(Y_test,GuassianNB_pred),index=labels)\n",
    "cm = cm.rename(columns=labels2)\n",
    "cm"
   ]
  },
  {
   "cell_type": "code",
   "execution_count": 695,
   "id": "684eb7fe",
   "metadata": {},
   "outputs": [
    {
     "name": "stdout",
     "output_type": "stream",
     "text": [
      "SCORE:  0.9389457906570072\n"
     ]
    }
   ],
   "source": [
    "print(\"SCORE: \",accuracy_score(Y_test,GuassianNB_pred))"
   ]
  },
  {
   "cell_type": "markdown",
   "id": "40336e72",
   "metadata": {},
   "source": [
    "#### Decision Tree"
   ]
  },
  {
   "cell_type": "code",
   "execution_count": 696,
   "id": "290ee872",
   "metadata": {},
   "outputs": [
    {
     "data": {
      "text/html": [
       "<div>\n",
       "<style scoped>\n",
       "    .dataframe tbody tr th:only-of-type {\n",
       "        vertical-align: middle;\n",
       "    }\n",
       "\n",
       "    .dataframe tbody tr th {\n",
       "        vertical-align: top;\n",
       "    }\n",
       "\n",
       "    .dataframe thead th {\n",
       "        text-align: right;\n",
       "    }\n",
       "</style>\n",
       "<table border=\"1\" class=\"dataframe\">\n",
       "  <thead>\n",
       "    <tr style=\"text-align: right;\">\n",
       "      <th></th>\n",
       "      <th>Pred בית פרטי</th>\n",
       "      <th>Pred דירה בבניין</th>\n",
       "      <th>Pred דירת גג</th>\n",
       "      <th>Pred דירת גן</th>\n",
       "      <th>Pred קוטג</th>\n",
       "    </tr>\n",
       "  </thead>\n",
       "  <tbody>\n",
       "    <tr>\n",
       "      <th>Actual בית פרטי</th>\n",
       "      <td>119</td>\n",
       "      <td>52</td>\n",
       "      <td>2</td>\n",
       "      <td>0</td>\n",
       "      <td>54</td>\n",
       "    </tr>\n",
       "    <tr>\n",
       "      <th>Actual דירה בבניין</th>\n",
       "      <td>10</td>\n",
       "      <td>37552</td>\n",
       "      <td>20</td>\n",
       "      <td>11</td>\n",
       "      <td>335</td>\n",
       "    </tr>\n",
       "    <tr>\n",
       "      <th>Actual דירת גג</th>\n",
       "      <td>1</td>\n",
       "      <td>242</td>\n",
       "      <td>8</td>\n",
       "      <td>0</td>\n",
       "      <td>8</td>\n",
       "    </tr>\n",
       "    <tr>\n",
       "      <th>Actual דירת גן</th>\n",
       "      <td>1</td>\n",
       "      <td>245</td>\n",
       "      <td>1</td>\n",
       "      <td>7</td>\n",
       "      <td>24</td>\n",
       "    </tr>\n",
       "    <tr>\n",
       "      <th>Actual קוטג</th>\n",
       "      <td>15</td>\n",
       "      <td>572</td>\n",
       "      <td>2</td>\n",
       "      <td>1</td>\n",
       "      <td>748</td>\n",
       "    </tr>\n",
       "  </tbody>\n",
       "</table>\n",
       "</div>"
      ],
      "text/plain": [
       "                    Pred בית פרטי  Pred דירה בבניין  Pred דירת גג  \\\n",
       "Actual בית פרטי               119                52             2   \n",
       "Actual דירה בבניין             10             37552            20   \n",
       "Actual דירת גג                  1               242             8   \n",
       "Actual דירת גן                  1               245             1   \n",
       "Actual קוטג                    15               572             2   \n",
       "\n",
       "                    Pred דירת גן  Pred קוטג  \n",
       "Actual בית פרטי                0         54  \n",
       "Actual דירה בבניין            11        335  \n",
       "Actual דירת גג                 0          8  \n",
       "Actual דירת גן                 7         24  \n",
       "Actual קוטג                    1        748  "
      ]
     },
     "execution_count": 696,
     "metadata": {},
     "output_type": "execute_result"
    }
   ],
   "source": [
    "cm = pd.DataFrame(confusion_matrix(Y_test,DT_pred),index=labels)\n",
    "cm = cm.rename(columns=labels2)\n",
    "cm"
   ]
  },
  {
   "cell_type": "code",
   "execution_count": 697,
   "id": "9f03478f",
   "metadata": {},
   "outputs": [
    {
     "name": "stdout",
     "output_type": "stream",
     "text": [
      "SCORE:  0.9601299025730702\n"
     ]
    }
   ],
   "source": [
    "print(\"SCORE: \",accuracy_score(Y_test,DT_pred))"
   ]
  },
  {
   "cell_type": "markdown",
   "id": "61329e6b",
   "metadata": {},
   "source": [
    "### Performance Evaluation\n",
    "**The models with the highest accuracy percentage**:\n",
    "+ 1) RandomForest: 96.14%\n",
    "+ 2) DecisionTree: 96.01%\n",
    "+ 3) KNN: 95.82%\n",
    "+ 4) GNB: 89.67%\n",
    "\n",
    "\n",
    "(Please note that these indices are not precise and constitute only one experiment, with the help of finding the highest hyperparameter with the SearchGridCV function we would get higher accuracy percentages.\n",
    "Since these models are not our main focus in this project, we will be okay with that)"
   ]
  },
  {
   "cell_type": "code",
   "execution_count": null,
   "id": "0b09e012",
   "metadata": {},
   "outputs": [],
   "source": []
  }
 ],
 "metadata": {
  "kernelspec": {
   "display_name": "Python 3 (ipykernel)",
   "language": "python",
   "name": "python3"
  },
  "language_info": {
   "codemirror_mode": {
    "name": "ipython",
    "version": 3
   },
   "file_extension": ".py",
   "mimetype": "text/x-python",
   "name": "python",
   "nbconvert_exporter": "python",
   "pygments_lexer": "ipython3",
   "version": "3.9.12"
  }
 },
 "nbformat": 4,
 "nbformat_minor": 5
}
