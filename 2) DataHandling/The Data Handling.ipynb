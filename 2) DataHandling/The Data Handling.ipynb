{
 "cells": [
  {
   "cell_type": "markdown",
   "metadata": {},
   "source": [
    "# Data Handling:\n",
    "\n",
    "### In this section, we will focus on data handling. This Python notebook is designed to explain what we did to handle the data and why.\n",
    "\n",
    "**Written by: Nadav Bitran Numa and Maor Bezalel**"
   ]
  },
  {
   "cell_type": "markdown",
   "metadata": {},
   "source": [
    "## Preceding Step - import modules (packages)\n",
    "This step is necessary in order to use external packages.\n",
    "\n",
    "**Using the following libraries:**"
   ]
  },
  {
   "cell_type": "code",
   "execution_count": 44,
   "metadata": {},
   "outputs": [],
   "source": [
    "import pandas as pd\n",
    "import numpy as np\n",
    "import matplotlib.pyplot as plt\n",
    "import seaborn as sns\n",
    "%matplotlib inline"
   ]
  },
  {
   "cell_type": "markdown",
   "metadata": {},
   "source": [
    "## Loading the main dataset"
   ]
  },
  {
   "cell_type": "code",
   "execution_count": 45,
   "metadata": {},
   "outputs": [],
   "source": [
    "nadlan_df = pd.read_csv(\"Raw Data\\AllCities.csv\")"
   ]
  },
  {
   "cell_type": "markdown",
   "metadata": {},
   "source": [
    "## Basic data Exploration\n",
    "\n",
    "In this section, we will look at how many records we received for the city of Holon"
   ]
  },
  {
   "cell_type": "code",
   "execution_count": 46,
   "metadata": {},
   "outputs": [
    {
     "data": {
      "text/plain": [
       "(314402, 10)"
      ]
     },
     "execution_count": 46,
     "metadata": {},
     "output_type": "execute_result"
    }
   ],
   "source": [
    "nadlan_df.shape"
   ]
  },
  {
   "cell_type": "code",
   "execution_count": 47,
   "metadata": {},
   "outputs": [
    {
     "name": "stdout",
     "output_type": "stream",
     "text": [
      "<class 'pandas.core.frame.DataFrame'>\n",
      "RangeIndex: 314402 entries, 0 to 314401\n",
      "Data columns (total 10 columns):\n",
      " #   Column           Non-Null Count   Dtype  \n",
      "---  ------           --------------   -----  \n",
      " 0   Sale_Date        314402 non-null  object \n",
      " 1   City             314402 non-null  object \n",
      " 2   Neighborhood     314402 non-null  object \n",
      " 3   Street           277358 non-null  object \n",
      " 4   Building_Number  277358 non-null  float64\n",
      " 5   Property_Type    279421 non-null  object \n",
      " 6   Rooms            314402 non-null  float64\n",
      " 7   Floor            284786 non-null  object \n",
      " 8   Square_Meter     314402 non-null  float64\n",
      " 9   Price            314402 non-null  object \n",
      "dtypes: float64(3), object(7)\n",
      "memory usage: 24.0+ MB\n"
     ]
    }
   ],
   "source": [
    "nadlan_df.info()"
   ]
  },
  {
   "cell_type": "markdown",
   "metadata": {},
   "source": [
    "#### Table:"
   ]
  },
  {
   "cell_type": "code",
   "execution_count": 48,
   "metadata": {},
   "outputs": [
    {
     "data": {
      "text/html": [
       "<div>\n",
       "<style scoped>\n",
       "    .dataframe tbody tr th:only-of-type {\n",
       "        vertical-align: middle;\n",
       "    }\n",
       "\n",
       "    .dataframe tbody tr th {\n",
       "        vertical-align: top;\n",
       "    }\n",
       "\n",
       "    .dataframe thead th {\n",
       "        text-align: right;\n",
       "    }\n",
       "</style>\n",
       "<table border=\"1\" class=\"dataframe\">\n",
       "  <thead>\n",
       "    <tr style=\"text-align: right;\">\n",
       "      <th></th>\n",
       "      <th>City</th>\n",
       "      <th>Number_Of_Housing_Units</th>\n",
       "    </tr>\n",
       "  </thead>\n",
       "  <tbody>\n",
       "    <tr>\n",
       "      <th>0</th>\n",
       "      <td>אשדוד</td>\n",
       "      <td>28443</td>\n",
       "    </tr>\n",
       "    <tr>\n",
       "      <th>1</th>\n",
       "      <td>בת ים</td>\n",
       "      <td>29548</td>\n",
       "    </tr>\n",
       "    <tr>\n",
       "      <th>2</th>\n",
       "      <td>אילת</td>\n",
       "      <td>1318</td>\n",
       "    </tr>\n",
       "    <tr>\n",
       "      <th>3</th>\n",
       "      <td>גבעתיים</td>\n",
       "      <td>13353</td>\n",
       "    </tr>\n",
       "    <tr>\n",
       "      <th>4</th>\n",
       "      <td>גבעת זאב</td>\n",
       "      <td>448</td>\n",
       "    </tr>\n",
       "    <tr>\n",
       "      <th>5</th>\n",
       "      <td>הרצלייה</td>\n",
       "      <td>19762</td>\n",
       "    </tr>\n",
       "    <tr>\n",
       "      <th>6</th>\n",
       "      <td>הוד השרון</td>\n",
       "      <td>12553</td>\n",
       "    </tr>\n",
       "    <tr>\n",
       "      <th>7</th>\n",
       "      <td>חולון</td>\n",
       "      <td>36901</td>\n",
       "    </tr>\n",
       "    <tr>\n",
       "      <th>8</th>\n",
       "      <td>נס ציונה</td>\n",
       "      <td>8771</td>\n",
       "    </tr>\n",
       "    <tr>\n",
       "      <th>9</th>\n",
       "      <td>אופקים</td>\n",
       "      <td>4137</td>\n",
       "    </tr>\n",
       "    <tr>\n",
       "      <th>10</th>\n",
       "      <td>אור עקיבא</td>\n",
       "      <td>2486</td>\n",
       "    </tr>\n",
       "    <tr>\n",
       "      <th>11</th>\n",
       "      <td>אור יהודה</td>\n",
       "      <td>5500</td>\n",
       "    </tr>\n",
       "    <tr>\n",
       "      <th>12</th>\n",
       "      <td>רעננה</td>\n",
       "      <td>16597</td>\n",
       "    </tr>\n",
       "    <tr>\n",
       "      <th>13</th>\n",
       "      <td>רמת השרון</td>\n",
       "      <td>9013</td>\n",
       "    </tr>\n",
       "    <tr>\n",
       "      <th>14</th>\n",
       "      <td>ראש העין</td>\n",
       "      <td>11189</td>\n",
       "    </tr>\n",
       "    <tr>\n",
       "      <th>15</th>\n",
       "      <td>שדרות</td>\n",
       "      <td>3461</td>\n",
       "    </tr>\n",
       "    <tr>\n",
       "      <th>16</th>\n",
       "      <td>תל אביב -יפו</td>\n",
       "      <td>110922</td>\n",
       "    </tr>\n",
       "  </tbody>\n",
       "</table>\n",
       "</div>"
      ],
      "text/plain": [
       "            City  Number_Of_Housing_Units\n",
       "0          אשדוד                    28443\n",
       "1          בת ים                    29548\n",
       "2           אילת                     1318\n",
       "3        גבעתיים                    13353\n",
       "4       גבעת זאב                      448\n",
       "5        הרצלייה                    19762\n",
       "6      הוד השרון                    12553\n",
       "7          חולון                    36901\n",
       "8       נס ציונה                     8771\n",
       "9         אופקים                     4137\n",
       "10     אור עקיבא                     2486\n",
       "11     אור יהודה                     5500\n",
       "12         רעננה                    16597\n",
       "13     רמת השרון                     9013\n",
       "14      ראש העין                    11189\n",
       "15         שדרות                     3461\n",
       "16  תל אביב -יפו                   110922"
      ]
     },
     "execution_count": 48,
     "metadata": {},
     "output_type": "execute_result"
    }
   ],
   "source": [
    "cities_len_dict = {city:len(nadlan_df[nadlan_df[\"City\"] == city]) for city in nadlan_df[\"City\"].unique()}\n",
    "cities_len_df = pd.DataFrame({\"City\":cities_len_dict.keys(), \"Number_Of_Housing_Units\":cities_len_dict.values()})\n",
    "cities_len_df"
   ]
  },
  {
   "cell_type": "markdown",
   "metadata": {},
   "source": [
    "#### Visualization:"
   ]
  },
  {
   "cell_type": "code",
   "execution_count": 49,
   "metadata": {},
   "outputs": [
    {
     "data": {
      "text/plain": [
       "<matplotlib.legend.Legend at 0x27fd71906d0>"
      ]
     },
     "execution_count": 49,
     "metadata": {},
     "output_type": "execute_result"
    },
    {
     "data": {
      "image/png": "[encoded data removed]",
      "text/plain": [
       "<Figure size 720x360 with 1 Axes>"
      ]
     },
     "metadata": {},
     "output_type": "display_data"
    }
   ],
   "source": [
    "cities_len_df = cities_len_df.sort_values(by=['Number_Of_Housing_Units'],ascending=False)\n",
    "cities_len_df.reset_index(drop=True,inplace=True)\n",
    "\n",
    "figure = plt.figure(figsize = (10,5))\n",
    "ax = plt.gca()\n",
    "# The cities names written in hebrew and for some reason they are displayed\n",
    "# in the pie chart in reverse order. In order to overcome that, we\n",
    "# created a labels list with the reversed cities names, so that it will be displayed\n",
    "# properly\n",
    "labels = []\n",
    "for key in range(len(cities_len_df)):\n",
    "    labels.append(cities_len_df['City'][key][::-1])\n",
    "\n",
    "nadlan_df.City.value_counts().plot(kind=\"pie\",labels=None)\n",
    "ax.legend(labels , bbox_to_anchor=(0,1), fontsize=10)"
   ]
  },
  {
   "cell_type": "code",
   "execution_count": 50,
   "metadata": {},
   "outputs": [
    {
     "data": {
      "text/plain": [
       "[Text(0, 0, 'ופי- ביבא לת'),\n",
       " Text(0, 1, 'ןולוח'),\n",
       " Text(0, 2, 'םי תב'),\n",
       " Text(0, 3, 'דודשא'),\n",
       " Text(0, 4, 'היילצרה'),\n",
       " Text(0, 5, 'הננער'),\n",
       " Text(0, 6, 'םייתעבג'),\n",
       " Text(0, 7, 'ןורשה דוה'),\n",
       " Text(0, 8, 'ןיעה שאר'),\n",
       " Text(0, 9, 'ןורשה תמר'),\n",
       " Text(0, 10, 'הנויצ סנ'),\n",
       " Text(0, 11, 'הדוהי רוא'),\n",
       " Text(0, 12, 'םיקפוא'),\n",
       " Text(0, 13, 'תורדש'),\n",
       " Text(0, 14, 'אביקע רוא'),\n",
       " Text(0, 15, 'תליא'),\n",
       " Text(0, 16, 'באז תעבג')]"
      ]
     },
     "execution_count": 50,
     "metadata": {},
     "output_type": "execute_result"
    },
    {
     "data": {
      "image/png": "[encoded data removed]",
      "text/plain": [
       "<Figure size 720x360 with 1 Axes>"
      ]
     },
     "metadata": {
      "needs_background": "light"
     },
     "output_type": "display_data"
    }
   ],
   "source": [
    "figure = plt.figure(figsize = (10,5))\n",
    "ax2 = plt.gca()\n",
    "nadlan_df.City.value_counts().plot(kind=\"barh\")\n",
    "ax2.set_yticklabels(labels)"
   ]
  },
  {
   "cell_type": "markdown",
   "metadata": {},
   "source": [
    "## Basic data Exploration: Conclusions\n",
    "\n",
    "1) As we can see, we have about 314,402 records \n",
    "\n",
    "2) But now we have reached an important conclusion that will accompany us later on: \n",
    " **as you can see, the column \"Street\" and the column \"Building_Number\" are the only ones in which there is no shortage of data. But is this really true?... The answer is no!!!**\n",
    "For all other columns, the missing data is hidden under an empty string consisting solely of a space.\n",
    "\n",
    "key.e. that even before starting the treatment, we need to locate all this data and turn it into NaN values:"
   ]
  },
  {
   "cell_type": "markdown",
   "metadata": {},
   "source": [
    "## Replacing spaces into NaN values:"
   ]
  },
  {
   "cell_type": "code",
   "execution_count": 51,
   "metadata": {},
   "outputs": [],
   "source": [
    "for column in nadlan_df.columns:\n",
    "    nadlan_df[column].replace(to_replace=' ', value=np.nan, inplace=True)"
   ]
  },
  {
   "cell_type": "code",
   "execution_count": 52,
   "metadata": {},
   "outputs": [
    {
     "name": "stdout",
     "output_type": "stream",
     "text": [
      "<class 'pandas.core.frame.DataFrame'>\n",
      "RangeIndex: 314402 entries, 0 to 314401\n",
      "Data columns (total 10 columns):\n",
      " #   Column           Non-Null Count   Dtype  \n",
      "---  ------           --------------   -----  \n",
      " 0   Sale_Date        314402 non-null  object \n",
      " 1   City             314402 non-null  object \n",
      " 2   Neighborhood     314402 non-null  object \n",
      " 3   Street           277358 non-null  object \n",
      " 4   Building_Number  277358 non-null  float64\n",
      " 5   Property_Type    279421 non-null  object \n",
      " 6   Rooms            314402 non-null  float64\n",
      " 7   Floor            284786 non-null  object \n",
      " 8   Square_Meter     314402 non-null  float64\n",
      " 9   Price            314402 non-null  object \n",
      "dtypes: float64(3), object(7)\n",
      "memory usage: 24.0+ MB\n"
     ]
    }
   ],
   "source": [
    "nadlan_df.info()"
   ]
  },
  {
   "cell_type": "markdown",
   "metadata": {},
   "source": [
    "## Replacing spaces into NaN values: Conclusions\n",
    "Once we've sorted out the issue before, we can officially begin the data handling process!. And the first thing we will start with is: removing data that we are not interested in"
   ]
  },
  {
   "cell_type": "markdown",
   "metadata": {},
   "source": [
    "# "
   ]
  },
  {
   "cell_type": "markdown",
   "metadata": {},
   "source": [
    "# "
   ]
  },
  {
   "cell_type": "markdown",
   "metadata": {},
   "source": [
    "# Step 1: The data handling - Duplication Phase"
   ]
  },
  {
   "cell_type": "markdown",
   "metadata": {},
   "source": [
    "## 1.1: Removing Fully Duplicated Rows:"
   ]
  },
  {
   "cell_type": "code",
   "execution_count": 53,
   "metadata": {},
   "outputs": [
    {
     "name": "stdout",
     "output_type": "stream",
     "text": [
      "Number Of Duplicated Rows (Before Handling): 1252\n",
      "Number Of Duplicated Rows (After Handling): 0\n",
      "<class 'pandas.core.frame.DataFrame'>\n",
      "Int64Index: 313150 entries, 0 to 314401\n",
      "Data columns (total 10 columns):\n",
      " #   Column           Non-Null Count   Dtype  \n",
      "---  ------           --------------   -----  \n",
      " 0   Sale_Date        313150 non-null  object \n",
      " 1   City             313150 non-null  object \n",
      " 2   Neighborhood     313150 non-null  object \n",
      " 3   Street           276181 non-null  object \n",
      " 4   Building_Number  276181 non-null  float64\n",
      " 5   Property_Type    278293 non-null  object \n",
      " 6   Rooms            313150 non-null  float64\n",
      " 7   Floor            283821 non-null  object \n",
      " 8   Square_Meter     313150 non-null  float64\n",
      " 9   Price            313150 non-null  object \n",
      "dtypes: float64(3), object(7)\n",
      "memory usage: 26.3+ MB\n"
     ]
    }
   ],
   "source": [
    "print(f\"Number Of Duplicated Rows (Before Handling): {sum(nadlan_df.duplicated())}\")\n",
    "nadlan_df.drop_duplicates(subset=None,keep=\"first\",inplace=True)\n",
    "print(f\"Number Of Duplicated Rows (After Handling): {sum(nadlan_df.duplicated())}\")\n",
    "\n",
    "nadlan_df.info()"
   ]
  },
  {
   "cell_type": "markdown",
   "metadata": {},
   "source": [
    "# Step 2: The data handling - Main Phase"
   ]
  },
  {
   "cell_type": "markdown",
   "metadata": {},
   "source": [
    "Because the date of sale columns, and the city name column are full (*and will always be filled according to the way we redeemed our scraper*). We can start straight from handling the neighbors column:"
   ]
  },
  {
   "cell_type": "markdown",
   "metadata": {},
   "source": [
    "## 2.1: Neighborhood Column"
   ]
  },
  {
   "cell_type": "markdown",
   "metadata": {},
   "source": [
    "### 2.1.1: Removing Data About Neighborhoods Industrial Zones\n",
    "\n",
    "The first thing we need to do, is to get rid of all the records belonging to the neighborhoods of industrial zones. **From the simple assumption that all records from there are not related to residential apartments**"
   ]
  },
  {
   "cell_type": "code",
   "execution_count": 54,
   "metadata": {},
   "outputs": [
    {
     "name": "stdout",
     "output_type": "stream",
     "text": [
      "Before:\n"
     ]
    },
    {
     "data": {
      "text/html": [
       "<div>\n",
       "<style scoped>\n",
       "    .dataframe tbody tr th:only-of-type {\n",
       "        vertical-align: middle;\n",
       "    }\n",
       "\n",
       "    .dataframe tbody tr th {\n",
       "        vertical-align: top;\n",
       "    }\n",
       "\n",
       "    .dataframe thead th {\n",
       "        text-align: right;\n",
       "    }\n",
       "</style>\n",
       "<table border=\"1\" class=\"dataframe\">\n",
       "  <thead>\n",
       "    <tr style=\"text-align: right;\">\n",
       "      <th></th>\n",
       "      <th>Sale_Date</th>\n",
       "      <th>City</th>\n",
       "      <th>Neighborhood</th>\n",
       "      <th>Street</th>\n",
       "      <th>Building_Number</th>\n",
       "      <th>Property_Type</th>\n",
       "      <th>Rooms</th>\n",
       "      <th>Floor</th>\n",
       "      <th>Square_Meter</th>\n",
       "      <th>Price</th>\n",
       "    </tr>\n",
       "  </thead>\n",
       "  <tbody>\n",
       "    <tr>\n",
       "      <th>0</th>\n",
       "      <td>13.03.2022</td>\n",
       "      <td>אשדוד</td>\n",
       "      <td>אזור תעשיה הצפוני</td>\n",
       "      <td>NaN</td>\n",
       "      <td>NaN</td>\n",
       "      <td>ללא תיכנון</td>\n",
       "      <td>0.0</td>\n",
       "      <td>NaN</td>\n",
       "      <td>187.0</td>\n",
       "      <td>3,454,000</td>\n",
       "    </tr>\n",
       "    <tr>\n",
       "      <th>1</th>\n",
       "      <td>10.03.2022</td>\n",
       "      <td>אשדוד</td>\n",
       "      <td>אזור תעשיה הצפוני</td>\n",
       "      <td>NaN</td>\n",
       "      <td>NaN</td>\n",
       "      <td>ללא תיכנון</td>\n",
       "      <td>0.0</td>\n",
       "      <td>NaN</td>\n",
       "      <td>250.0</td>\n",
       "      <td>4,041,000</td>\n",
       "    </tr>\n",
       "    <tr>\n",
       "      <th>2</th>\n",
       "      <td>09.03.2022</td>\n",
       "      <td>אשדוד</td>\n",
       "      <td>אזור תעשיה הצפוני</td>\n",
       "      <td>NaN</td>\n",
       "      <td>NaN</td>\n",
       "      <td>ללא תיכנון</td>\n",
       "      <td>0.0</td>\n",
       "      <td>NaN</td>\n",
       "      <td>250.0</td>\n",
       "      <td>323,000</td>\n",
       "    </tr>\n",
       "    <tr>\n",
       "      <th>3</th>\n",
       "      <td>28.12.2021</td>\n",
       "      <td>אשדוד</td>\n",
       "      <td>אזור תעשיה הצפוני</td>\n",
       "      <td>החרושת</td>\n",
       "      <td>229.0</td>\n",
       "      <td>תעשיה</td>\n",
       "      <td>0.0</td>\n",
       "      <td>NaN</td>\n",
       "      <td>3542.0</td>\n",
       "      <td>31,888,000</td>\n",
       "    </tr>\n",
       "    <tr>\n",
       "      <th>4</th>\n",
       "      <td>04.10.2021</td>\n",
       "      <td>אשדוד</td>\n",
       "      <td>אזור תעשיה הצפוני</td>\n",
       "      <td>הפלדה</td>\n",
       "      <td>345.0</td>\n",
       "      <td>משרד</td>\n",
       "      <td>0.0</td>\n",
       "      <td>ראשונה</td>\n",
       "      <td>1063.0</td>\n",
       "      <td>4,450,000</td>\n",
       "    </tr>\n",
       "    <tr>\n",
       "      <th>...</th>\n",
       "      <td>...</td>\n",
       "      <td>...</td>\n",
       "      <td>...</td>\n",
       "      <td>...</td>\n",
       "      <td>...</td>\n",
       "      <td>...</td>\n",
       "      <td>...</td>\n",
       "      <td>...</td>\n",
       "      <td>...</td>\n",
       "      <td>...</td>\n",
       "    </tr>\n",
       "    <tr>\n",
       "      <th>298748</th>\n",
       "      <td>14.03.2018</td>\n",
       "      <td>הרצלייה</td>\n",
       "      <td>אזור תעשיה</td>\n",
       "      <td>גלגל הפלדה</td>\n",
       "      <td>10.0</td>\n",
       "      <td>דירה בבית קומות</td>\n",
       "      <td>3.0</td>\n",
       "      <td>NaN</td>\n",
       "      <td>84.0</td>\n",
       "      <td>1,805,000</td>\n",
       "    </tr>\n",
       "    <tr>\n",
       "      <th>298749</th>\n",
       "      <td>13.03.2018</td>\n",
       "      <td>הרצלייה</td>\n",
       "      <td>אזור תעשיה</td>\n",
       "      <td>גלגל הפלדה</td>\n",
       "      <td>10.0</td>\n",
       "      <td>דירה בבית קומות</td>\n",
       "      <td>3.0</td>\n",
       "      <td>NaN</td>\n",
       "      <td>84.0</td>\n",
       "      <td>1,643,000</td>\n",
       "    </tr>\n",
       "    <tr>\n",
       "      <th>298750</th>\n",
       "      <td>13.03.2018</td>\n",
       "      <td>הרצלייה</td>\n",
       "      <td>אזור תעשיה</td>\n",
       "      <td>גלגל הפלדה</td>\n",
       "      <td>10.0</td>\n",
       "      <td>דירה בבית קומות</td>\n",
       "      <td>3.0</td>\n",
       "      <td>NaN</td>\n",
       "      <td>85.0</td>\n",
       "      <td>1,661,000</td>\n",
       "    </tr>\n",
       "    <tr>\n",
       "      <th>298751</th>\n",
       "      <td>12.03.2018</td>\n",
       "      <td>הרצלייה</td>\n",
       "      <td>אזור תעשיה</td>\n",
       "      <td>גלגל הפלדה</td>\n",
       "      <td>10.0</td>\n",
       "      <td>דירה בבית קומות</td>\n",
       "      <td>3.0</td>\n",
       "      <td>NaN</td>\n",
       "      <td>78.0</td>\n",
       "      <td>1,554,000</td>\n",
       "    </tr>\n",
       "    <tr>\n",
       "      <th>298752</th>\n",
       "      <td>12.03.2018</td>\n",
       "      <td>הרצלייה</td>\n",
       "      <td>אזור תעשיה</td>\n",
       "      <td>גלגל הפלדה</td>\n",
       "      <td>10.0</td>\n",
       "      <td>דירה בבית קומות</td>\n",
       "      <td>3.0</td>\n",
       "      <td>NaN</td>\n",
       "      <td>84.0</td>\n",
       "      <td>1,648,000</td>\n",
       "    </tr>\n",
       "  </tbody>\n",
       "</table>\n",
       "<p>4381 rows × 10 columns</p>\n",
       "</div>"
      ],
      "text/plain": [
       "         Sale_Date     City       Neighborhood      Street  Building_Number  \\\n",
       "0       13.03.2022    אשדוד  אזור תעשיה הצפוני         NaN              NaN   \n",
       "1       10.03.2022    אשדוד  אזור תעשיה הצפוני         NaN              NaN   \n",
       "2       09.03.2022    אשדוד  אזור תעשיה הצפוני         NaN              NaN   \n",
       "3       28.12.2021    אשדוד  אזור תעשיה הצפוני      החרושת            229.0   \n",
       "4       04.10.2021    אשדוד  אזור תעשיה הצפוני       הפלדה            345.0   \n",
       "...            ...      ...                ...         ...              ...   \n",
       "298748  14.03.2018  הרצלייה         אזור תעשיה  גלגל הפלדה             10.0   \n",
       "298749  13.03.2018  הרצלייה         אזור תעשיה  גלגל הפלדה             10.0   \n",
       "298750  13.03.2018  הרצלייה         אזור תעשיה  גלגל הפלדה             10.0   \n",
       "298751  12.03.2018  הרצלייה         אזור תעשיה  גלגל הפלדה             10.0   \n",
       "298752  12.03.2018  הרצלייה         אזור תעשיה  גלגל הפלדה             10.0   \n",
       "\n",
       "          Property_Type  Rooms   Floor  Square_Meter       Price  \n",
       "0            ללא תיכנון    0.0     NaN         187.0   3,454,000  \n",
       "1            ללא תיכנון    0.0     NaN         250.0   4,041,000  \n",
       "2            ללא תיכנון    0.0     NaN         250.0     323,000  \n",
       "3                 תעשיה    0.0     NaN        3542.0  31,888,000  \n",
       "4                  משרד    0.0  ראשונה        1063.0   4,450,000  \n",
       "...                 ...    ...     ...           ...         ...  \n",
       "298748  דירה בבית קומות    3.0     NaN          84.0   1,805,000  \n",
       "298749  דירה בבית קומות    3.0     NaN          84.0   1,643,000  \n",
       "298750  דירה בבית קומות    3.0     NaN          85.0   1,661,000  \n",
       "298751  דירה בבית קומות    3.0     NaN          78.0   1,554,000  \n",
       "298752  דירה בבית קומות    3.0     NaN          84.0   1,648,000  \n",
       "\n",
       "[4381 rows x 10 columns]"
      ]
     },
     "execution_count": 54,
     "metadata": {},
     "output_type": "execute_result"
    }
   ],
   "source": [
    "print(\"Before:\")\n",
    "nadlan_df[nadlan_df[\"Neighborhood\"].str.contains(\"אזור תעשיה\") == True]"
   ]
  },
  {
   "cell_type": "code",
   "execution_count": 55,
   "metadata": {},
   "outputs": [],
   "source": [
    "# Dropping process\n",
    "nadlan_df.drop(index=nadlan_df[nadlan_df['Neighborhood'].str.contains(\"אזור תעשיה\")==True].index, inplace=True)"
   ]
  },
  {
   "cell_type": "code",
   "execution_count": 56,
   "metadata": {},
   "outputs": [
    {
     "name": "stdout",
     "output_type": "stream",
     "text": [
      "After:\n"
     ]
    },
    {
     "data": {
      "text/html": [
       "<div>\n",
       "<style scoped>\n",
       "    .dataframe tbody tr th:only-of-type {\n",
       "        vertical-align: middle;\n",
       "    }\n",
       "\n",
       "    .dataframe tbody tr th {\n",
       "        vertical-align: top;\n",
       "    }\n",
       "\n",
       "    .dataframe thead th {\n",
       "        text-align: right;\n",
       "    }\n",
       "</style>\n",
       "<table border=\"1\" class=\"dataframe\">\n",
       "  <thead>\n",
       "    <tr style=\"text-align: right;\">\n",
       "      <th></th>\n",
       "      <th>Sale_Date</th>\n",
       "      <th>City</th>\n",
       "      <th>Neighborhood</th>\n",
       "      <th>Street</th>\n",
       "      <th>Building_Number</th>\n",
       "      <th>Property_Type</th>\n",
       "      <th>Rooms</th>\n",
       "      <th>Floor</th>\n",
       "      <th>Square_Meter</th>\n",
       "      <th>Price</th>\n",
       "    </tr>\n",
       "  </thead>\n",
       "  <tbody>\n",
       "  </tbody>\n",
       "</table>\n",
       "</div>"
      ],
      "text/plain": [
       "Empty DataFrame\n",
       "Columns: [Sale_Date, City, Neighborhood, Street, Building_Number, Property_Type, Rooms, Floor, Square_Meter, Price]\n",
       "Index: []"
      ]
     },
     "execution_count": 56,
     "metadata": {},
     "output_type": "execute_result"
    }
   ],
   "source": [
    "print(\"After:\")\n",
    "nadlan_df[nadlan_df['Neighborhood'].str.contains(\"אזור תעשיה\")==True]"
   ]
  },
  {
   "cell_type": "code",
   "execution_count": 57,
   "metadata": {},
   "outputs": [
    {
     "name": "stdout",
     "output_type": "stream",
     "text": [
      "<class 'pandas.core.frame.DataFrame'>\n",
      "Int64Index: 308769 entries, 1028 to 314401\n",
      "Data columns (total 10 columns):\n",
      " #   Column           Non-Null Count   Dtype  \n",
      "---  ------           --------------   -----  \n",
      " 0   Sale_Date        308769 non-null  object \n",
      " 1   City             308769 non-null  object \n",
      " 2   Neighborhood     308769 non-null  object \n",
      " 3   Street           273047 non-null  object \n",
      " 4   Building_Number  273047 non-null  float64\n",
      " 5   Property_Type    274339 non-null  object \n",
      " 6   Rooms            308769 non-null  float64\n",
      " 7   Floor            280292 non-null  object \n",
      " 8   Square_Meter     308769 non-null  float64\n",
      " 9   Price            308769 non-null  object \n",
      "dtypes: float64(3), object(7)\n",
      "memory usage: 25.9+ MB\n"
     ]
    }
   ],
   "source": [
    "nadlan_df.info()"
   ]
  },
  {
   "cell_type": "markdown",
   "metadata": {},
   "source": [
    "## Neighborhood Column: Conclusions\n",
    "Apart from removing the industrial zones, there is no need for additional handling of this column. So we can move on to the street name column"
   ]
  },
  {
   "cell_type": "markdown",
   "metadata": {},
   "source": [
    "# "
   ]
  },
  {
   "cell_type": "markdown",
   "metadata": {},
   "source": [
    "##  2.2: Street Column & Building_Number Column"
   ]
  },
  {
   "cell_type": "markdown",
   "metadata": {},
   "source": [
    "### 2.2.1: Replacing NaN values in Street column with Unknown"
   ]
  },
  {
   "cell_type": "code",
   "execution_count": 58,
   "metadata": {},
   "outputs": [],
   "source": [
    "nadlan_df.Street.fillna(\"Unknown\",inplace=True)"
   ]
  },
  {
   "cell_type": "markdown",
   "metadata": {},
   "source": [
    "### 2.2.2: Replacing NaN values in Building_Number column with -1"
   ]
  },
  {
   "cell_type": "code",
   "execution_count": 59,
   "metadata": {},
   "outputs": [],
   "source": [
    "nadlan_df.Building_Number.fillna(-1, inplace=True)"
   ]
  },
  {
   "cell_type": "markdown",
   "metadata": {},
   "source": [
    "## Street Column & Building_Number Column: Conclustions\n",
    "Apart from substituting the NaN value to Unknown and -1, there is no need to provide special care for these columns. Therefore, we can move on to the first column where we will have to start with a more advanced treatment: the propety type column"
   ]
  },
  {
   "cell_type": "markdown",
   "metadata": {},
   "source": [
    "# "
   ]
  },
  {
   "cell_type": "markdown",
   "metadata": {},
   "source": [
    "## 2.3: Property_Type Column:"
   ]
  },
  {
   "cell_type": "markdown",
   "metadata": {},
   "source": [
    "### 2.3.1: Removing all other unwanted building types"
   ]
  },
  {
   "cell_type": "markdown",
   "metadata": {},
   "source": [
    "### In the \"Property_Type\" column, we have a lot of property types that do not represent residential residences.\n",
    "### To get rid of them, we will only keep those who do."
   ]
  },
  {
   "cell_type": "code",
   "execution_count": 60,
   "metadata": {},
   "outputs": [],
   "source": [
    "to_keep_list = [\n",
    "    \"דירה בבית קומות\",\n",
    "    \"בית פרטי\",\n",
    "    \"קוטג' דו משפחתי\",\n",
    "    \"קוטג' חד משפחתי\",\n",
    "    \"קוטג' טורי\",\n",
    "    \"בית בודד\",\n",
    "    \"דירת גן\",\n",
    "    \"דירת גג\",\n",
    "    \"דירת גג (פנטהאוז)\",\n",
    "    \"דופלקס\",\n",
    "    \"מיני פנטהאוז\",\n",
    "    \"חד משפחתי (וילה)\"\n",
    "]\n",
    "nadlan_df = nadlan_df[nadlan_df[\"Property_Type\"].isin(to_keep_list)]"
   ]
  },
  {
   "cell_type": "code",
   "execution_count": 61,
   "metadata": {},
   "outputs": [
    {
     "name": "stdout",
     "output_type": "stream",
     "text": [
      "<class 'pandas.core.frame.DataFrame'>\n",
      "Int64Index: 254893 entries, 1031 to 314401\n",
      "Data columns (total 10 columns):\n",
      " #   Column           Non-Null Count   Dtype  \n",
      "---  ------           --------------   -----  \n",
      " 0   Sale_Date        254893 non-null  object \n",
      " 1   City             254893 non-null  object \n",
      " 2   Neighborhood     254893 non-null  object \n",
      " 3   Street           254893 non-null  object \n",
      " 4   Building_Number  254893 non-null  float64\n",
      " 5   Property_Type    254893 non-null  object \n",
      " 6   Rooms            254893 non-null  float64\n",
      " 7   Floor            238429 non-null  object \n",
      " 8   Square_Meter     254893 non-null  float64\n",
      " 9   Price            254893 non-null  object \n",
      "dtypes: float64(3), object(7)\n",
      "memory usage: 21.4+ MB\n"
     ]
    }
   ],
   "source": [
    "nadlan_df.info()"
   ]
  },
  {
   "cell_type": "markdown",
   "metadata": {},
   "source": [
    "### 2.3.2: Removing any remaining NaN values"
   ]
  },
  {
   "cell_type": "code",
   "execution_count": 62,
   "metadata": {},
   "outputs": [],
   "source": [
    "nadlan_df.dropna(subset=[\"Property_Type\"], how='any', axis=0, inplace=True)"
   ]
  },
  {
   "cell_type": "markdown",
   "metadata": {},
   "source": [
    "### 2.3.3: Uniting all similar apartment types into one type"
   ]
  },
  {
   "cell_type": "code",
   "execution_count": 63,
   "metadata": {},
   "outputs": [
    {
     "data": {
      "text/plain": [
       "דירה בבניין    236775\n",
       "קוטג'           11732\n",
       "בית פרטי         2421\n",
       "דירת גן          2198\n",
       "דירת גג          1767\n",
       "Name: Property_Type, dtype: int64"
      ]
     },
     "execution_count": 63,
     "metadata": {},
     "output_type": "execute_result"
    }
   ],
   "source": [
    "to_replace_dict = {\n",
    "    'דירת גג (פנטהאוז)': \"דירת גג\",\n",
    "    \"מיני פנטהאוז\": \"דירת גג\",\n",
    "    \"קוטג' חד משפחתי\": \"קוטג'\",\n",
    "    \"קוטג' דו משפחתי\": \"קוטג'\",\n",
    "    \"קוטג' טורי\": \"קוטג'\",\n",
    "    \"בית בודד\": \"בית פרטי\",\n",
    "    \"חד משפחתי (וילה)\": \"בית פרטי\",\n",
    "    \"דופלקס\": \"דירת גג\",\n",
    "    \"דירה בבית קומות\": \"דירה בבניין\"\n",
    "}\n",
    "\n",
    "nadlan_df.replace(to_replace_dict, inplace=True)\n",
    "\n",
    "nadlan_df.Property_Type.value_counts()\n"
   ]
  },
  {
   "cell_type": "markdown",
   "metadata": {},
   "source": [
    "### 2.3.4: Turning the column from a string to a categorical variable type"
   ]
  },
  {
   "cell_type": "code",
   "execution_count": 64,
   "metadata": {},
   "outputs": [
    {
     "data": {
      "text/plain": [
       "array([1, 2, 3, 4, 0], dtype=int64)"
      ]
     },
     "execution_count": 64,
     "metadata": {},
     "output_type": "execute_result"
    }
   ],
   "source": [
    "temp = list(nadlan_df.Property_Type.unique())\n",
    "temp.sort(reverse=False)\n",
    "temp_range = range(len(temp))\n",
    "replace_map = dict(zip(temp, temp_range))\n",
    "\n",
    "nadlan_df.replace(replace_map, inplace=True)\n",
    "nadlan_df.Property_Type.unique()"
   ]
  },
  {
   "cell_type": "code",
   "execution_count": 65,
   "metadata": {},
   "outputs": [
    {
     "data": {
      "text/plain": [
       "1    236775\n",
       "4     11732\n",
       "0      2421\n",
       "3      2198\n",
       "2      1767\n",
       "Name: Property_Type, dtype: int64"
      ]
     },
     "execution_count": 65,
     "metadata": {},
     "output_type": "execute_result"
    }
   ],
   "source": [
    "nadlan_df.Property_Type.value_counts()"
   ]
  },
  {
   "cell_type": "code",
   "execution_count": 66,
   "metadata": {},
   "outputs": [
    {
     "name": "stdout",
     "output_type": "stream",
     "text": [
      "<class 'pandas.core.frame.DataFrame'>\n",
      "Int64Index: 254893 entries, 1031 to 314401\n",
      "Data columns (total 10 columns):\n",
      " #   Column           Non-Null Count   Dtype  \n",
      "---  ------           --------------   -----  \n",
      " 0   Sale_Date        254893 non-null  object \n",
      " 1   City             254893 non-null  object \n",
      " 2   Neighborhood     254893 non-null  object \n",
      " 3   Street           254893 non-null  object \n",
      " 4   Building_Number  254893 non-null  float64\n",
      " 5   Property_Type    254893 non-null  int64  \n",
      " 6   Rooms            254893 non-null  float64\n",
      " 7   Floor            238429 non-null  object \n",
      " 8   Square_Meter     254893 non-null  float64\n",
      " 9   Price            254893 non-null  object \n",
      "dtypes: float64(3), int64(1), object(6)\n",
      "memory usage: 21.4+ MB\n"
     ]
    }
   ],
   "source": [
    "nadlan_df.info()"
   ]
  },
  {
   "cell_type": "markdown",
   "metadata": {},
   "source": [
    "## Property_Type Column: Conclusions\n",
    "In this column, we made the following changes: \n",
    "1) We created a dictionary data structure, to filter so that only records on the type of residential buildings remain\n",
    "2) We removed all NaN values in favor of step 3-4\n",
    "3) Now that there are a small number of types of structures left, we will unite the types that are similar to one type.\n",
    "4) Now that there are 6 types of apartments left, we will convert the column to a categorical variable\n",
    "\n",
    "0: בית פרטי\n",
    "\n",
    "1: דירה בבניין\n",
    "\n",
    "2: דירת גג\n",
    "\n",
    "3: דירת גן\n",
    "\n",
    "4: קוטג'"
   ]
  },
  {
   "cell_type": "markdown",
   "metadata": {},
   "source": [
    "# "
   ]
  },
  {
   "cell_type": "markdown",
   "metadata": {},
   "source": [
    "## 2.4: Rooms Column:"
   ]
  },
  {
   "cell_type": "markdown",
   "metadata": {},
   "source": [
    "### 2.4.1: Removing all apartments that contain 0 rooms"
   ]
  },
  {
   "cell_type": "code",
   "execution_count": 67,
   "metadata": {},
   "outputs": [],
   "source": [
    "nadlan_df.drop(index=nadlan_df[nadlan_df['Rooms']==0].index, inplace=True)"
   ]
  },
  {
   "cell_type": "code",
   "execution_count": 68,
   "metadata": {},
   "outputs": [
    {
     "name": "stdout",
     "output_type": "stream",
     "text": [
      "<class 'pandas.core.frame.DataFrame'>\n",
      "Int64Index: 254575 entries, 1031 to 314401\n",
      "Data columns (total 10 columns):\n",
      " #   Column           Non-Null Count   Dtype  \n",
      "---  ------           --------------   -----  \n",
      " 0   Sale_Date        254575 non-null  object \n",
      " 1   City             254575 non-null  object \n",
      " 2   Neighborhood     254575 non-null  object \n",
      " 3   Street           254575 non-null  object \n",
      " 4   Building_Number  254575 non-null  float64\n",
      " 5   Property_Type    254575 non-null  int64  \n",
      " 6   Rooms            254575 non-null  float64\n",
      " 7   Floor            238253 non-null  object \n",
      " 8   Square_Meter     254575 non-null  float64\n",
      " 9   Price            254575 non-null  object \n",
      "dtypes: float64(3), int64(1), object(6)\n",
      "memory usage: 21.4+ MB\n"
     ]
    }
   ],
   "source": [
    "nadlan_df.info()"
   ]
  },
  {
   "cell_type": "markdown",
   "metadata": {},
   "source": [
    "## Rooms Column: Conclusions\n",
    "The removal was due to the following conclusion: 0-room apartments can happen for two reasons: \n",
    "\n",
    "first, when it is not an apartment at all, but a purchased area in which it is planned to build housing units in the future. \n",
    "\n",
    "second reason, some error. \n",
    "\n",
    "Whatever the reason, in both situations we will not be able to use these records "
   ]
  },
  {
   "cell_type": "markdown",
   "metadata": {},
   "source": [
    "# "
   ]
  },
  {
   "cell_type": "markdown",
   "metadata": {},
   "source": [
    "## 2.5: Floor Column:\n",
    "\n",
    "#### This is by far was our most challenging task. \n",
    "#### The simple reason for that was because in that simple column there were atleast\n",
    "\n",
    "## **+1500 unique Hebrew named variables!!!**\n",
    "\n",
    "#### This was no mere task, but we handled it as shown below...\n",
    "\n"
   ]
  },
  {
   "cell_type": "markdown",
   "metadata": {},
   "source": [
    "### 2.5.1: Switching all values in the floor column to a numeric value"
   ]
  },
  {
   "cell_type": "code",
   "execution_count": 69,
   "metadata": {},
   "outputs": [],
   "source": [
    "# Unfortunately, since we are talking about the values written in the Hebrew, \n",
    "# we had to write this long piece code shown here before you\n",
    "floor_dict =  {\n",
    "    \"קרקע\": 0,\n",
    "    \"ראשונה\": 1,\n",
    "    \"שניה\": 2,\n",
    "    \"שלישית\": 3,\n",
    "    \"רביעית\": 4,\n",
    "    \"חמישית\": 5,\n",
    "    \"שישית\": 6,\n",
    "    \"שביעית\": 7,\n",
    "    \"שמינית\": 8,\n",
    "    \"תשיעית\": 9,\n",
    "    \"עשירית\": 10,\n",
    "    \"אחת עשרה\": 11,\n",
    "    \"שתים עשרה\": 12,\n",
    "    \"שלוש עשרה\": 13,\n",
    "    \"ארבע עשרה\": 14,\n",
    "    \"חמש עשרה\": 15,\n",
    "    \"שש עשרה\": 16,\n",
    "    \"שבע עשרה\": 17,\n",
    "    \"שמונה עשרה\": 18,\n",
    "    \"תשע עשרה\": 19,\n",
    "    \"עשרים\": 20,\n",
    "    \"עשרים ואחת\": 21,\n",
    "    \"עשרים ושתיים\": 22,\n",
    "    \"עשרים ושלוש\": 23,\n",
    "    \"עשרים וארבע\": 24,\n",
    "    \"עשרים וחמש\": 25,\n",
    "    \"עשרים ושש\": 26,\n",
    "    \"עשרים ושבע\": 27,\n",
    "    \"עשרים ושמונה\":28,\n",
    "    \"עשרים ותשע\":29,\n",
    "    \"שלושים\":30,\n",
    "    \"שלושים ואחת\":31,\n",
    "    \"שלושים ושתים\":32,\n",
    "    \"שלושים ושלוש\":33,\n",
    "    \"שלושים וארבע\":34,\n",
    "    \"שלושים וחמש\":35,\n",
    "    \"שלושים ושש\":36,\n",
    "    \"שלושים ושבע\":37,\n",
    "    \"שלושים ושמונה\":38,\n",
    "    \"שלושים ותשע\":39,\n",
    "    \"ארבעים\":40,\n",
    "    \"ארבעים ואחת\":41,\n",
    "    \"ארבעים ושתיים\":42,\n",
    "    \"ארבעים ושלוש\":43,\n",
    "    \"ארבעים וארבע\":44,\n",
    "    \"ארבעים וחמש\":45,\n",
    "    \"ארבעים ושש\":46,\n",
    "    \"ארבעים ושבע\":47,\n",
    "    \"ארבעים ושמונה\":48,\n",
    "    \"ארבעים ותשע\":49,\n",
    "    \"חמישים\":50,\n",
    "    \"חמישים ואחת\":51,\n",
    "    \"חמישים ושתיים\":52,\n",
    "    \"חמישים ושלוש\":53,\n",
    "    \"חמישים וארבע\":54,\n",
    "}\n",
    "floor_dict2 = {}\n",
    "\n",
    "# Some floors are written as followed: קומה 1, קומה 2 etc'.\n",
    "for key in range(54):\n",
    "    floor_dict2[ f\"קומה {key}\"] = key\n",
    "    \n",
    "nadlan_df['Floor'].replace(floor_dict,inplace=True)\n",
    "nadlan_df['Floor'].replace(floor_dict2,inplace=True)\n",
    "\n",
    "nadlan_df.dropna(subset=['Floor'],how=\"any\",axis=0,inplace=True)"
   ]
  },
  {
   "cell_type": "code",
   "execution_count": 70,
   "metadata": {},
   "outputs": [
    {
     "name": "stdout",
     "output_type": "stream",
     "text": [
      "<class 'pandas.core.frame.DataFrame'>\n",
      "Int64Index: 238253 entries, 1031 to 314401\n",
      "Data columns (total 10 columns):\n",
      " #   Column           Non-Null Count   Dtype  \n",
      "---  ------           --------------   -----  \n",
      " 0   Sale_Date        238253 non-null  object \n",
      " 1   City             238253 non-null  object \n",
      " 2   Neighborhood     238253 non-null  object \n",
      " 3   Street           238253 non-null  object \n",
      " 4   Building_Number  238253 non-null  float64\n",
      " 5   Property_Type    238253 non-null  int64  \n",
      " 6   Rooms            238253 non-null  float64\n",
      " 7   Floor            238253 non-null  object \n",
      " 8   Square_Meter     238253 non-null  float64\n",
      " 9   Price            238253 non-null  object \n",
      "dtypes: float64(3), int64(1), object(6)\n",
      "memory usage: 20.0+ MB\n"
     ]
    }
   ],
   "source": [
    "nadlan_df.info()"
   ]
  },
  {
   "cell_type": "markdown",
   "metadata": {},
   "source": [
    "As you can see, we did handle a significant part of the floor column, but you can see that there are values ​​that have not changed yet, this is due to the strange way in which the floor number is written on the website"
   ]
  },
  {
   "cell_type": "code",
   "execution_count": 71,
   "metadata": {},
   "outputs": [
    {
     "data": {
      "text/html": [
       "<div>\n",
       "<style scoped>\n",
       "    .dataframe tbody tr th:only-of-type {\n",
       "        vertical-align: middle;\n",
       "    }\n",
       "\n",
       "    .dataframe tbody tr th {\n",
       "        vertical-align: top;\n",
       "    }\n",
       "\n",
       "    .dataframe thead th {\n",
       "        text-align: right;\n",
       "    }\n",
       "</style>\n",
       "<table border=\"1\" class=\"dataframe\">\n",
       "  <thead>\n",
       "    <tr style=\"text-align: right;\">\n",
       "      <th></th>\n",
       "      <th>Sale_Date</th>\n",
       "      <th>City</th>\n",
       "      <th>Neighborhood</th>\n",
       "      <th>Street</th>\n",
       "      <th>Building_Number</th>\n",
       "      <th>Property_Type</th>\n",
       "      <th>Rooms</th>\n",
       "      <th>Floor</th>\n",
       "      <th>Square_Meter</th>\n",
       "      <th>Price</th>\n",
       "    </tr>\n",
       "  </thead>\n",
       "  <tbody>\n",
       "    <tr>\n",
       "      <th>2351</th>\n",
       "      <td>07.08.2022</td>\n",
       "      <td>אשדוד</td>\n",
       "      <td>מרינה</td>\n",
       "      <td>אקסודוס</td>\n",
       "      <td>18.0</td>\n",
       "      <td>1</td>\n",
       "      <td>5.0</td>\n",
       "      <td>קומה 1, קומה 2</td>\n",
       "      <td>242.1</td>\n",
       "      <td>4,300,000</td>\n",
       "    </tr>\n",
       "    <tr>\n",
       "      <th>2357</th>\n",
       "      <td>20.02.2022</td>\n",
       "      <td>אשדוד</td>\n",
       "      <td>מרינה</td>\n",
       "      <td>אקסודוס</td>\n",
       "      <td>14.0</td>\n",
       "      <td>3</td>\n",
       "      <td>6.0</td>\n",
       "      <td>מרתף -1, קומה 0</td>\n",
       "      <td>176.8</td>\n",
       "      <td>2,125,000</td>\n",
       "    </tr>\n",
       "    <tr>\n",
       "      <th>2360</th>\n",
       "      <td>25.01.2022</td>\n",
       "      <td>אשדוד</td>\n",
       "      <td>מרינה</td>\n",
       "      <td>אקסודוס</td>\n",
       "      <td>10.0</td>\n",
       "      <td>4</td>\n",
       "      <td>5.0</td>\n",
       "      <td>מרתף+קרקע+ראשונה</td>\n",
       "      <td>170.8</td>\n",
       "      <td>3,700,000</td>\n",
       "    </tr>\n",
       "    <tr>\n",
       "      <th>2400</th>\n",
       "      <td>23.10.2020</td>\n",
       "      <td>אשדוד</td>\n",
       "      <td>מרינה</td>\n",
       "      <td>אקסודוס</td>\n",
       "      <td>3.0</td>\n",
       "      <td>1</td>\n",
       "      <td>5.0</td>\n",
       "      <td>שמינית, תשיעית</td>\n",
       "      <td>153.3</td>\n",
       "      <td>2,850,000</td>\n",
       "    </tr>\n",
       "    <tr>\n",
       "      <th>2417</th>\n",
       "      <td>23.03.2020</td>\n",
       "      <td>אשדוד</td>\n",
       "      <td>מרינה</td>\n",
       "      <td>אקסודוס</td>\n",
       "      <td>8.0</td>\n",
       "      <td>4</td>\n",
       "      <td>5.0</td>\n",
       "      <td>מרתף+קרקע+ראשונה</td>\n",
       "      <td>170.8</td>\n",
       "      <td>3,500,000</td>\n",
       "    </tr>\n",
       "    <tr>\n",
       "      <th>...</th>\n",
       "      <td>...</td>\n",
       "      <td>...</td>\n",
       "      <td>...</td>\n",
       "      <td>...</td>\n",
       "      <td>...</td>\n",
       "      <td>...</td>\n",
       "      <td>...</td>\n",
       "      <td>...</td>\n",
       "      <td>...</td>\n",
       "      <td>...</td>\n",
       "    </tr>\n",
       "    <tr>\n",
       "      <th>312217</th>\n",
       "      <td>22.11.2021</td>\n",
       "      <td>תל אביב -יפו</td>\n",
       "      <td>נווה שאנן</td>\n",
       "      <td>וולפסון</td>\n",
       "      <td>54.0</td>\n",
       "      <td>1</td>\n",
       "      <td>3.0</td>\n",
       "      <td>מרתף</td>\n",
       "      <td>76.0</td>\n",
       "      <td>4,300,000</td>\n",
       "    </tr>\n",
       "    <tr>\n",
       "      <th>313148</th>\n",
       "      <td>08.11.2018</td>\n",
       "      <td>תל אביב -יפו</td>\n",
       "      <td>עג'מי וגבעת עליה</td>\n",
       "      <td>הדולפין</td>\n",
       "      <td>15.0</td>\n",
       "      <td>1</td>\n",
       "      <td>3.0</td>\n",
       "      <td>קומה 2, קומה 3</td>\n",
       "      <td>78.0</td>\n",
       "      <td>3,000,000</td>\n",
       "    </tr>\n",
       "    <tr>\n",
       "      <th>313173</th>\n",
       "      <td>12.08.2021</td>\n",
       "      <td>תל אביב -יפו</td>\n",
       "      <td>פלורנטין</td>\n",
       "      <td>פלורנטין</td>\n",
       "      <td>48.0</td>\n",
       "      <td>1</td>\n",
       "      <td>4.0</td>\n",
       "      <td>רביעית, חמישית</td>\n",
       "      <td>105.0</td>\n",
       "      <td>4,800,000</td>\n",
       "    </tr>\n",
       "    <tr>\n",
       "      <th>313781</th>\n",
       "      <td>13.12.2009</td>\n",
       "      <td>תל אביב -יפו</td>\n",
       "      <td>פלורנטין</td>\n",
       "      <td>Unknown</td>\n",
       "      <td>-1.0</td>\n",
       "      <td>1</td>\n",
       "      <td>2.0</td>\n",
       "      <td>שישית, שביעית</td>\n",
       "      <td>40.0</td>\n",
       "      <td>1,220,000</td>\n",
       "    </tr>\n",
       "    <tr>\n",
       "      <th>313883</th>\n",
       "      <td>28.03.2011</td>\n",
       "      <td>תל אביב -יפו</td>\n",
       "      <td>צמרות איילון</td>\n",
       "      <td>הרב גורן שלמה</td>\n",
       "      <td>2.0</td>\n",
       "      <td>1</td>\n",
       "      <td>5.0</td>\n",
       "      <td>שלושים ושתיים</td>\n",
       "      <td>322.0</td>\n",
       "      <td>9,693,000</td>\n",
       "    </tr>\n",
       "  </tbody>\n",
       "</table>\n",
       "<p>16410 rows × 10 columns</p>\n",
       "</div>"
      ],
      "text/plain": [
       "         Sale_Date          City      Neighborhood         Street  \\\n",
       "2351    07.08.2022         אשדוד             מרינה        אקסודוס   \n",
       "2357    20.02.2022         אשדוד             מרינה        אקסודוס   \n",
       "2360    25.01.2022         אשדוד             מרינה        אקסודוס   \n",
       "2400    23.10.2020         אשדוד             מרינה        אקסודוס   \n",
       "2417    23.03.2020         אשדוד             מרינה        אקסודוס   \n",
       "...            ...           ...               ...            ...   \n",
       "312217  22.11.2021  תל אביב -יפו         נווה שאנן        וולפסון   \n",
       "313148  08.11.2018  תל אביב -יפו  עג'מי וגבעת עליה        הדולפין   \n",
       "313173  12.08.2021  תל אביב -יפו          פלורנטין       פלורנטין   \n",
       "313781  13.12.2009  תל אביב -יפו          פלורנטין        Unknown   \n",
       "313883  28.03.2011  תל אביב -יפו      צמרות איילון  הרב גורן שלמה   \n",
       "\n",
       "        Building_Number  Property_Type  Rooms             Floor  Square_Meter  \\\n",
       "2351               18.0              1    5.0    קומה 1, קומה 2         242.1   \n",
       "2357               14.0              3    6.0   מרתף -1, קומה 0         176.8   \n",
       "2360               10.0              4    5.0  מרתף+קרקע+ראשונה         170.8   \n",
       "2400                3.0              1    5.0    שמינית, תשיעית         153.3   \n",
       "2417                8.0              4    5.0  מרתף+קרקע+ראשונה         170.8   \n",
       "...                 ...            ...    ...               ...           ...   \n",
       "312217             54.0              1    3.0              מרתף          76.0   \n",
       "313148             15.0              1    3.0    קומה 2, קומה 3          78.0   \n",
       "313173             48.0              1    4.0    רביעית, חמישית         105.0   \n",
       "313781             -1.0              1    2.0     שישית, שביעית          40.0   \n",
       "313883              2.0              1    5.0     שלושים ושתיים         322.0   \n",
       "\n",
       "            Price  \n",
       "2351    4,300,000  \n",
       "2357    2,125,000  \n",
       "2360    3,700,000  \n",
       "2400    2,850,000  \n",
       "2417    3,500,000  \n",
       "...           ...  \n",
       "312217  4,300,000  \n",
       "313148  3,000,000  \n",
       "313173  4,800,000  \n",
       "313781  1,220,000  \n",
       "313883  9,693,000  \n",
       "\n",
       "[16410 rows x 10 columns]"
      ]
     },
     "execution_count": 71,
     "metadata": {},
     "output_type": "execute_result"
    }
   ],
   "source": [
    "nadlan_df[nadlan_df['Floor'].str[0].isin(list('-אבגדהוזחטיכלמנסעפצקרשת'))]"
   ]
  },
  {
   "cell_type": "markdown",
   "metadata": {},
   "source": [
    "The other types were written in a very cumbersome way, **how can we know what the floor number is???**\n",
    "\n",
    "Let's start with the simple things:\n",
    "It is enough that a house's floor contains the word קרקע to know that it is a house on the ground floor."
   ]
  },
  {
   "cell_type": "code",
   "execution_count": 72,
   "metadata": {},
   "outputs": [],
   "source": [
    "# A dataframe without all the 'weird' Hebrew named variables in the 'Floor' column\n",
    "nadlan_df_FloorHandled = nadlan_df[nadlan_df['Floor'].str[0].isin(list('-אבגדהוזחטיכלמנסעפצקרשת'))==False]\n",
    "\n",
    "# A dataframe with all the 'weird' Hebrew named variables in the 'Floor' column, \n",
    "# and also contain the word 'קרקע' inside of them\n",
    "nadlan_df_FloorYetHandled_Ver1 = nadlan_df[(nadlan_df['Floor'].str[0].isin(list('-אבגדהוזחטיכלמנסעפצקרשת'))==True) \n",
    "& (nadlan_df['Floor'].str.contains('קרקע')==True)]\n",
    "\n",
    "# A dataframe with all the 'weird' Hebrew named variables in the 'Floor' column, \n",
    "# but don't contain the word 'קרקע' inside of them\n",
    "nadlan_df_FloorYetHandled_Ver2 = nadlan_df[(nadlan_df['Floor'].str[0].isin(list('-אבגדהוזחטיכלמנסעפצקרשת'))==True) \n",
    "& (nadlan_df['Floor'].str.contains('קרקע')==False)]"
   ]
  },
  {
   "cell_type": "code",
   "execution_count": 73,
   "metadata": {},
   "outputs": [
    {
     "name": "stdout",
     "output_type": "stream",
     "text": [
      "len(nadlan_df_FloorYetHandled_Ver1) =  5804\n"
     ]
    }
   ],
   "source": [
    "print(\"len(nadlan_df_FloorYetHandled_Ver1) = \", len(nadlan_df_FloorYetHandled_Ver1)) # with the word 'קרקע'"
   ]
  },
  {
   "cell_type": "markdown",
   "metadata": {},
   "source": [
    "It can be easily seen that all the records of **'nadlan_df_FloorYetHandled_Ver1'** are indeed private houses.\n",
    "\n",
    "Therefore, we will put them under the category: 0 "
   ]
  },
  {
   "cell_type": "code",
   "execution_count": 74,
   "metadata": {},
   "outputs": [],
   "source": [
    "# We use 'DataFrame.assign' because it is more recommended to use\n",
    "# it when it comes to making a big value changes\n",
    "nadlan_df_FloorYetHandled_Ver1 = nadlan_df_FloorYetHandled_Ver1.assign(Floor=0)\n",
    "\n",
    "# We then combine it back with the dataframe that doesn't contain 'strange' floor values\n",
    "nadlan_df_FloorHandled = pd.concat([nadlan_df_FloorHandled,nadlan_df_FloorYetHandled_Ver1],ignore_index=True)"
   ]
  },
  {
   "cell_type": "code",
   "execution_count": 75,
   "metadata": {},
   "outputs": [
    {
     "name": "stdout",
     "output_type": "stream",
     "text": [
      "len(nadlan_df_FloorYetHandled_Ver2) =  10606\n"
     ]
    }
   ],
   "source": [
    "print(\"len(nadlan_df_FloorYetHandled_Ver2) = \", len(nadlan_df_FloorYetHandled_Ver2)) # without the word 'קרקע'"
   ]
  },
  {
   "cell_type": "markdown",
   "metadata": {},
   "source": [
    "**Now, We Have About 10K left to go**\n",
    "How do we proceed?\n",
    "It can be seen that all the other types of floors that remained the same in terms of their structure.\n",
    "They contain several floors.\n",
    "But we should not jump to conclusions and declare that this is a private house on floor number 0, because there are non-private houses that can occupy two floors and even more."
   ]
  },
  {
   "cell_type": "markdown",
   "metadata": {},
   "source": [
    "**For the continuation we will go with the following rule:**\n",
    "\n",
    "**The floor of apartment X will be determined by the minimum floor value that appears in its sequence**\n",
    "\n",
    "<u>for example</u>:\n",
    "    \n",
    "    X.Floor = ראשונה, שנייה \n",
    "    \n",
    "        |\n",
    "        |\n",
    "        V\n",
    "\n",
    "    X.Floor = ראשונה\n"
   ]
  },
  {
   "cell_type": "code",
   "execution_count": 76,
   "metadata": {},
   "outputs": [],
   "source": [
    "# We use our previously created 'floor_dict' and we swap every key with it's value\n",
    "floor_dict_reverse1 = dict((value, key) for key, value in floor_dict.items())\n",
    "# We also do the same for the dict we created inside a for-loop (the one with the קומה 1, קןמה 2 etc')\n",
    "floor_dict_reverse2 = dict((value,key) for key, value in floor_dict2.items())\n",
    "\n",
    "# This is a bit complicated so bare with me:\n",
    "# In the following loop, we iterate through all 54 keys (which represent building floor numbers as we explanied previously)\n",
    "for key in range(54):\n",
    "    # We extract the sub-dataframe that contains in the 'Floor' column the values from 'floor_dict_reverse1'\n",
    "    # which is (ראשונה, שנייה, שלישית etc') \n",
    "    nadlan_df_FloorYetHandled_Ver2_SubVer1 = nadlan_df_FloorYetHandled_Ver2[(nadlan_df_FloorYetHandled_Ver2['Floor'].str.contains(\n",
    "        floor_dict_reverse1[key])==True)]\n",
    "\n",
    "    # We extract the sub-dataframe that contains in the 'Floor' column the values from 'floor_dict_reverse2'\n",
    "    # which is (קומה 1, קומה 2, קומה 3 etc')\n",
    "    nadlan_df_FloorYetHandled_Ver2_SubVer2 = nadlan_df_FloorYetHandled_Ver2[(nadlan_df_FloorYetHandled_Ver2['Floor'].str.contains(\n",
    "        floor_dict_reverse2[key]))==True]\n",
    "\n",
    "    # We extract the sub-dataframe that doesn't contain in the 'Floor' column the values from 'floor_dict_reverse1' and 'floor_dict_reverse2'\n",
    "    nadlan_df_FloorYetHandled_Ver2_SubVer3 = nadlan_df_FloorYetHandled_Ver2[(nadlan_df_FloorYetHandled_Ver2['Floor'].str.contains(\n",
    "        floor_dict_reverse1[key])==False) & (nadlan_df_FloorYetHandled_Ver2['Floor'].str.contains(floor_dict_reverse2[key])==False)]\n",
    "\n",
    "    # We now change the values in the first 2 sub-dataframes from the hebrew one to\n",
    "    # the categorical one (for example: ראשונה -> 1, קומה 1 -> 1 etc')\n",
    "    nadlan_df_FloorYetHandled_Ver2_SubVer1 = nadlan_df_FloorYetHandled_Ver2_SubVer1.assign(Floor=key)\n",
    "    nadlan_df_FloorYetHandled_Ver2_SubVer2 = nadlan_df_FloorYetHandled_Ver2_SubVer2.assign(Floor=key)\n",
    "\n",
    "    # We add the first sub-dataframes to the main dataframe \n",
    "    # (the one from which we initially removed all the rows that contain in the 'Floor' column 'weird' values in Hebrew). \n",
    "    nadlan_df_FloorHandled = pd.concat([nadlan_df_FloorHandled,nadlan_df_FloorYetHandled_Ver2_SubVer1,\n",
    "    nadlan_df_FloorYetHandled_Ver2_SubVer2],axis=0,ignore_index=True)\n",
    "\n",
    "    # We then update the 'nadlan_df_FloorYetHandled_Ver2' dataframe (to avoid collecting the same housing units)\n",
    "    nadlan_df_FloorYetHandled_Ver2 = nadlan_df_FloorYetHandled_Ver2_SubVer3"
   ]
  },
  {
   "cell_type": "markdown",
   "metadata": {},
   "source": [
    "**Now, we are left with only about 3000 entries!**"
   ]
  },
  {
   "cell_type": "code",
   "execution_count": 77,
   "metadata": {},
   "outputs": [
    {
     "data": {
      "text/html": [
       "<div>\n",
       "<style scoped>\n",
       "    .dataframe tbody tr th:only-of-type {\n",
       "        vertical-align: middle;\n",
       "    }\n",
       "\n",
       "    .dataframe tbody tr th {\n",
       "        vertical-align: top;\n",
       "    }\n",
       "\n",
       "    .dataframe thead th {\n",
       "        text-align: right;\n",
       "    }\n",
       "</style>\n",
       "<table border=\"1\" class=\"dataframe\">\n",
       "  <thead>\n",
       "    <tr style=\"text-align: right;\">\n",
       "      <th></th>\n",
       "      <th>Sale_Date</th>\n",
       "      <th>City</th>\n",
       "      <th>Neighborhood</th>\n",
       "      <th>Street</th>\n",
       "      <th>Building_Number</th>\n",
       "      <th>Property_Type</th>\n",
       "      <th>Rooms</th>\n",
       "      <th>Floor</th>\n",
       "      <th>Square_Meter</th>\n",
       "      <th>Price</th>\n",
       "    </tr>\n",
       "  </thead>\n",
       "  <tbody>\n",
       "    <tr>\n",
       "      <th>4464</th>\n",
       "      <td>14.08.2014</td>\n",
       "      <td>אשדוד</td>\n",
       "      <td>רובע א</td>\n",
       "      <td>נורדאו</td>\n",
       "      <td>14.0</td>\n",
       "      <td>1</td>\n",
       "      <td>4.5</td>\n",
       "      <td>גג</td>\n",
       "      <td>116.00</td>\n",
       "      <td>1,290,000</td>\n",
       "    </tr>\n",
       "    <tr>\n",
       "      <th>21092</th>\n",
       "      <td>27.04.2015</td>\n",
       "      <td>אשדוד</td>\n",
       "      <td>רובע י\"ב</td>\n",
       "      <td>אדר</td>\n",
       "      <td>4.0</td>\n",
       "      <td>1</td>\n",
       "      <td>4.0</td>\n",
       "      <td>מרתף -2</td>\n",
       "      <td>124.00</td>\n",
       "      <td>1,420,000</td>\n",
       "    </tr>\n",
       "    <tr>\n",
       "      <th>21213</th>\n",
       "      <td>22.06.2014</td>\n",
       "      <td>אשדוד</td>\n",
       "      <td>רובע י\"ב</td>\n",
       "      <td>אדר</td>\n",
       "      <td>4.0</td>\n",
       "      <td>1</td>\n",
       "      <td>4.0</td>\n",
       "      <td>מרתף -2</td>\n",
       "      <td>96.00</td>\n",
       "      <td>1,345,000</td>\n",
       "    </tr>\n",
       "    <tr>\n",
       "      <th>22146</th>\n",
       "      <td>28.02.2005</td>\n",
       "      <td>אשדוד</td>\n",
       "      <td>רובע י\"ב</td>\n",
       "      <td>תמוז</td>\n",
       "      <td>14.0</td>\n",
       "      <td>1</td>\n",
       "      <td>4.0</td>\n",
       "      <td>מרתף -1</td>\n",
       "      <td>96.00</td>\n",
       "      <td>680,000</td>\n",
       "    </tr>\n",
       "    <tr>\n",
       "      <th>27984</th>\n",
       "      <td>08.06.2022</td>\n",
       "      <td>בת ים</td>\n",
       "      <td>בית וגן</td>\n",
       "      <td>Unknown</td>\n",
       "      <td>-1.0</td>\n",
       "      <td>1</td>\n",
       "      <td>3.0</td>\n",
       "      <td>העמודים</td>\n",
       "      <td>76.00</td>\n",
       "      <td>1,745,000</td>\n",
       "    </tr>\n",
       "    <tr>\n",
       "      <th>...</th>\n",
       "      <td>...</td>\n",
       "      <td>...</td>\n",
       "      <td>...</td>\n",
       "      <td>...</td>\n",
       "      <td>...</td>\n",
       "      <td>...</td>\n",
       "      <td>...</td>\n",
       "      <td>...</td>\n",
       "      <td>...</td>\n",
       "      <td>...</td>\n",
       "    </tr>\n",
       "    <tr>\n",
       "      <th>309709</th>\n",
       "      <td>22.09.2021</td>\n",
       "      <td>תל אביב -יפו</td>\n",
       "      <td>שכונת הצפון הישן החלק הדרומי</td>\n",
       "      <td>מאפו</td>\n",
       "      <td>14.0</td>\n",
       "      <td>1</td>\n",
       "      <td>4.0</td>\n",
       "      <td>מרתף -1</td>\n",
       "      <td>123.13</td>\n",
       "      <td>8,550,000</td>\n",
       "    </tr>\n",
       "    <tr>\n",
       "      <th>309824</th>\n",
       "      <td>02.11.2021</td>\n",
       "      <td>תל אביב -יפו</td>\n",
       "      <td>הצפון הישן-החלק הצפוני</td>\n",
       "      <td>דיזנגוף</td>\n",
       "      <td>223.0</td>\n",
       "      <td>1</td>\n",
       "      <td>3.0</td>\n",
       "      <td>----</td>\n",
       "      <td>65.00</td>\n",
       "      <td>3,782,000</td>\n",
       "    </tr>\n",
       "    <tr>\n",
       "      <th>309825</th>\n",
       "      <td>02.11.2021</td>\n",
       "      <td>תל אביב -יפו</td>\n",
       "      <td>הצפון הישן-החלק הצפוני</td>\n",
       "      <td>דיזנגוף</td>\n",
       "      <td>223.0</td>\n",
       "      <td>1</td>\n",
       "      <td>2.0</td>\n",
       "      <td>----</td>\n",
       "      <td>68.00</td>\n",
       "      <td>3,932,000</td>\n",
       "    </tr>\n",
       "    <tr>\n",
       "      <th>310846</th>\n",
       "      <td>18.08.2021</td>\n",
       "      <td>תל אביב -יפו</td>\n",
       "      <td>לב העיר</td>\n",
       "      <td>יוסף הנשיא</td>\n",
       "      <td>13.0</td>\n",
       "      <td>1</td>\n",
       "      <td>3.0</td>\n",
       "      <td>מרתף -1</td>\n",
       "      <td>67.00</td>\n",
       "      <td>3,800,000</td>\n",
       "    </tr>\n",
       "    <tr>\n",
       "      <th>312217</th>\n",
       "      <td>22.11.2021</td>\n",
       "      <td>תל אביב -יפו</td>\n",
       "      <td>נווה שאנן</td>\n",
       "      <td>וולפסון</td>\n",
       "      <td>54.0</td>\n",
       "      <td>1</td>\n",
       "      <td>3.0</td>\n",
       "      <td>מרתף</td>\n",
       "      <td>76.00</td>\n",
       "      <td>4,300,000</td>\n",
       "    </tr>\n",
       "  </tbody>\n",
       "</table>\n",
       "<p>2926 rows × 10 columns</p>\n",
       "</div>"
      ],
      "text/plain": [
       "         Sale_Date          City                  Neighborhood      Street  \\\n",
       "4464    14.08.2014         אשדוד                        רובע א      נורדאו   \n",
       "21092   27.04.2015         אשדוד                      רובע י\"ב         אדר   \n",
       "21213   22.06.2014         אשדוד                      רובע י\"ב         אדר   \n",
       "22146   28.02.2005         אשדוד                      רובע י\"ב        תמוז   \n",
       "27984   08.06.2022         בת ים                       בית וגן     Unknown   \n",
       "...            ...           ...                           ...         ...   \n",
       "309709  22.09.2021  תל אביב -יפו  שכונת הצפון הישן החלק הדרומי        מאפו   \n",
       "309824  02.11.2021  תל אביב -יפו        הצפון הישן-החלק הצפוני     דיזנגוף   \n",
       "309825  02.11.2021  תל אביב -יפו        הצפון הישן-החלק הצפוני     דיזנגוף   \n",
       "310846  18.08.2021  תל אביב -יפו                       לב העיר  יוסף הנשיא   \n",
       "312217  22.11.2021  תל אביב -יפו                     נווה שאנן     וולפסון   \n",
       "\n",
       "        Building_Number  Property_Type  Rooms    Floor  Square_Meter  \\\n",
       "4464               14.0              1    4.5       גג        116.00   \n",
       "21092               4.0              1    4.0  מרתף -2        124.00   \n",
       "21213               4.0              1    4.0  מרתף -2         96.00   \n",
       "22146              14.0              1    4.0  מרתף -1         96.00   \n",
       "27984              -1.0              1    3.0  העמודים         76.00   \n",
       "...                 ...            ...    ...      ...           ...   \n",
       "309709             14.0              1    4.0  מרתף -1        123.13   \n",
       "309824            223.0              1    3.0     ----         65.00   \n",
       "309825            223.0              1    2.0     ----         68.00   \n",
       "310846             13.0              1    3.0  מרתף -1         67.00   \n",
       "312217             54.0              1    3.0     מרתף         76.00   \n",
       "\n",
       "            Price  \n",
       "4464    1,290,000  \n",
       "21092   1,420,000  \n",
       "21213   1,345,000  \n",
       "22146     680,000  \n",
       "27984   1,745,000  \n",
       "...           ...  \n",
       "309709  8,550,000  \n",
       "309824  3,782,000  \n",
       "309825  3,932,000  \n",
       "310846  3,800,000  \n",
       "312217  4,300,000  \n",
       "\n",
       "[2926 rows x 10 columns]"
      ]
     },
     "execution_count": 77,
     "metadata": {},
     "output_type": "execute_result"
    }
   ],
   "source": [
    "nadlan_df_FloorYetHandled_Ver2"
   ]
  },
  {
   "cell_type": "markdown",
   "metadata": {},
   "source": [
    "You can see that all the remaining records contain values ​​we don't want,\n",
    "We can't use the top floor because we don't know what the floor number is\n",
    "Therefore, We'll not use them"
   ]
  },
  {
   "cell_type": "code",
   "execution_count": 78,
   "metadata": {},
   "outputs": [],
   "source": [
    "nadlan_df = nadlan_df_FloorHandled\n",
    "nadlan_df['Floor'] = pd.to_numeric(nadlan_df['Floor'],errors='coerce')\n",
    "nadlan_df.dropna(subset=['Floor'],inplace=True)"
   ]
  },
  {
   "cell_type": "markdown",
   "metadata": {},
   "source": [
    "## Floor Column: Conclusions:\n",
    "**We managed to take care of the Floor values, we minimized to the maximum the amount of \"losses\" of the data that happened as a result of this treatment.**"
   ]
  },
  {
   "cell_type": "markdown",
   "metadata": {},
   "source": [
    "# "
   ]
  },
  {
   "cell_type": "markdown",
   "metadata": {},
   "source": [
    "## 2.6: Square_Meter Column"
   ]
  },
  {
   "cell_type": "markdown",
   "metadata": {},
   "source": [
    "### 2.6.1: Removing all apartments that do not have the square area specified"
   ]
  },
  {
   "cell_type": "code",
   "execution_count": 79,
   "metadata": {},
   "outputs": [],
   "source": [
    "nadlan_df.dropna(subset = ['Square_Meter'],how=\"any\",axis=0,inplace=True)"
   ]
  },
  {
   "cell_type": "code",
   "execution_count": 80,
   "metadata": {},
   "outputs": [
    {
     "name": "stdout",
     "output_type": "stream",
     "text": [
      "<class 'pandas.core.frame.DataFrame'>\n",
      "Int64Index: 235301 entries, 0 to 235326\n",
      "Data columns (total 10 columns):\n",
      " #   Column           Non-Null Count   Dtype  \n",
      "---  ------           --------------   -----  \n",
      " 0   Sale_Date        235301 non-null  object \n",
      " 1   City             235301 non-null  object \n",
      " 2   Neighborhood     235301 non-null  object \n",
      " 3   Street           235301 non-null  object \n",
      " 4   Building_Number  235301 non-null  float64\n",
      " 5   Property_Type    235301 non-null  int64  \n",
      " 6   Rooms            235301 non-null  float64\n",
      " 7   Floor            235301 non-null  float64\n",
      " 8   Square_Meter     235301 non-null  float64\n",
      " 9   Price            235301 non-null  object \n",
      "dtypes: float64(4), int64(1), object(5)\n",
      "memory usage: 19.7+ MB\n"
     ]
    }
   ],
   "source": [
    "nadlan_df.info()"
   ]
  },
  {
   "cell_type": "markdown",
   "metadata": {},
   "source": [
    "## Square_Meter Column: Conclusions\n",
    "There was no missing value in this column"
   ]
  },
  {
   "cell_type": "markdown",
   "metadata": {},
   "source": [
    "# "
   ]
  },
  {
   "cell_type": "markdown",
   "metadata": {},
   "source": [
    "## 2.7 Price Column"
   ]
  },
  {
   "cell_type": "markdown",
   "metadata": {},
   "source": [
    "### 2.7.1: Switching price values to numeric values only (removing the commas)"
   ]
  },
  {
   "cell_type": "code",
   "execution_count": 81,
   "metadata": {},
   "outputs": [],
   "source": [
    "nadlan_df['Price'] = nadlan_df['Price'].str.replace(',','')"
   ]
  },
  {
   "cell_type": "code",
   "execution_count": 82,
   "metadata": {},
   "outputs": [
    {
     "name": "stdout",
     "output_type": "stream",
     "text": [
      "<class 'pandas.core.frame.DataFrame'>\n",
      "Int64Index: 235301 entries, 0 to 235326\n",
      "Data columns (total 10 columns):\n",
      " #   Column           Non-Null Count   Dtype  \n",
      "---  ------           --------------   -----  \n",
      " 0   Sale_Date        235301 non-null  object \n",
      " 1   City             235301 non-null  object \n",
      " 2   Neighborhood     235301 non-null  object \n",
      " 3   Street           235301 non-null  object \n",
      " 4   Building_Number  235301 non-null  float64\n",
      " 5   Property_Type    235301 non-null  int64  \n",
      " 6   Rooms            235301 non-null  float64\n",
      " 7   Floor            235301 non-null  float64\n",
      " 8   Square_Meter     235301 non-null  float64\n",
      " 9   Price            235301 non-null  object \n",
      "dtypes: float64(4), int64(1), object(5)\n",
      "memory usage: 19.7+ MB\n"
     ]
    }
   ],
   "source": [
    "nadlan_df.info()"
   ]
  },
  {
   "cell_type": "markdown",
   "metadata": {},
   "source": [
    "# "
   ]
  },
  {
   "cell_type": "markdown",
   "metadata": {},
   "source": [
    "# Step 2: Conclusions\n",
    "**At this point, we finished handling most of the columns ,we:**\n",
    "\n",
    "**handled duplicates**\n",
    "\n",
    "**handeled missing values**\n",
    "\n",
    "**filled in missing values if necessary**\n",
    "\n",
    "**and preformed various manipulations on the columns to change them to numeric values or categorical variables.**\n",
    "\n",
    "**You can see that the number of records has been reduced by about 25%! (from 315k to 235k)**\n",
    "\n",
    "What do we have left now?\n",
    "You can see that most columns are defined as an object, so now that we've done the handling, we can define the column types "
   ]
  },
  {
   "cell_type": "code",
   "execution_count": 83,
   "metadata": {},
   "outputs": [
    {
     "data": {
      "text/html": [
       "<div>\n",
       "<style scoped>\n",
       "    .dataframe tbody tr th:only-of-type {\n",
       "        vertical-align: middle;\n",
       "    }\n",
       "\n",
       "    .dataframe tbody tr th {\n",
       "        vertical-align: top;\n",
       "    }\n",
       "\n",
       "    .dataframe thead th {\n",
       "        text-align: right;\n",
       "    }\n",
       "</style>\n",
       "<table border=\"1\" class=\"dataframe\">\n",
       "  <thead>\n",
       "    <tr style=\"text-align: right;\">\n",
       "      <th></th>\n",
       "      <th>Sale_Date</th>\n",
       "      <th>City</th>\n",
       "      <th>Neighborhood</th>\n",
       "      <th>Street</th>\n",
       "      <th>Building_Number</th>\n",
       "      <th>Property_Type</th>\n",
       "      <th>Rooms</th>\n",
       "      <th>Floor</th>\n",
       "      <th>Square_Meter</th>\n",
       "      <th>Price</th>\n",
       "    </tr>\n",
       "  </thead>\n",
       "  <tbody>\n",
       "    <tr>\n",
       "      <th>0</th>\n",
       "      <td>2022-12-20</td>\n",
       "      <td>אשדוד</td>\n",
       "      <td>הקריה מע\"ר</td>\n",
       "      <td>Unknown</td>\n",
       "      <td>-1</td>\n",
       "      <td>1</td>\n",
       "      <td>5.0</td>\n",
       "      <td>8</td>\n",
       "      <td>227.0</td>\n",
       "      <td>3500000</td>\n",
       "    </tr>\n",
       "    <tr>\n",
       "      <th>1</th>\n",
       "      <td>2022-12-05</td>\n",
       "      <td>אשדוד</td>\n",
       "      <td>הקריה מע\"ר</td>\n",
       "      <td>Unknown</td>\n",
       "      <td>-1</td>\n",
       "      <td>1</td>\n",
       "      <td>3.0</td>\n",
       "      <td>3</td>\n",
       "      <td>81.0</td>\n",
       "      <td>2370000</td>\n",
       "    </tr>\n",
       "    <tr>\n",
       "      <th>2</th>\n",
       "      <td>2022-11-30</td>\n",
       "      <td>אשדוד</td>\n",
       "      <td>הקריה מע\"ר</td>\n",
       "      <td>כינור</td>\n",
       "      <td>4</td>\n",
       "      <td>1</td>\n",
       "      <td>5.0</td>\n",
       "      <td>4</td>\n",
       "      <td>201.0</td>\n",
       "      <td>3100000</td>\n",
       "    </tr>\n",
       "    <tr>\n",
       "      <th>3</th>\n",
       "      <td>2022-11-24</td>\n",
       "      <td>אשדוד</td>\n",
       "      <td>הקריה מע\"ר</td>\n",
       "      <td>Unknown</td>\n",
       "      <td>-1</td>\n",
       "      <td>1</td>\n",
       "      <td>5.0</td>\n",
       "      <td>13</td>\n",
       "      <td>137.0</td>\n",
       "      <td>3550000</td>\n",
       "    </tr>\n",
       "    <tr>\n",
       "      <th>4</th>\n",
       "      <td>2022-11-23</td>\n",
       "      <td>אשדוד</td>\n",
       "      <td>הקריה מע\"ר</td>\n",
       "      <td>Unknown</td>\n",
       "      <td>-1</td>\n",
       "      <td>1</td>\n",
       "      <td>3.0</td>\n",
       "      <td>1</td>\n",
       "      <td>77.0</td>\n",
       "      <td>2099000</td>\n",
       "    </tr>\n",
       "  </tbody>\n",
       "</table>\n",
       "</div>"
      ],
      "text/plain": [
       "   Sale_Date   City Neighborhood   Street  Building_Number Property_Type  \\\n",
       "0 2022-12-20  אשדוד   הקריה מע\"ר  Unknown               -1             1   \n",
       "1 2022-12-05  אשדוד   הקריה מע\"ר  Unknown               -1             1   \n",
       "2 2022-11-30  אשדוד   הקריה מע\"ר    כינור                4             1   \n",
       "3 2022-11-24  אשדוד   הקריה מע\"ר  Unknown               -1             1   \n",
       "4 2022-11-23  אשדוד   הקריה מע\"ר  Unknown               -1             1   \n",
       "\n",
       "   Rooms  Floor  Square_Meter    Price  \n",
       "0    5.0      8         227.0  3500000  \n",
       "1    3.0      3          81.0  2370000  \n",
       "2    5.0      4         201.0  3100000  \n",
       "3    5.0     13         137.0  3550000  \n",
       "4    3.0      1          77.0  2099000  "
      ]
     },
     "execution_count": 83,
     "metadata": {},
     "output_type": "execute_result"
    }
   ],
   "source": [
    "nadlan_df.Property_Type = nadlan_df.Property_Type.astype('category')\n",
    "\n",
    "nadlan_df['Building_Number'] = pd.to_numeric(nadlan_df['Building_Number'])\n",
    "nadlan_df.Building_Number = nadlan_df.Building_Number.astype('int32')\n",
    "\n",
    "nadlan_df['Rooms'] = pd.to_numeric(nadlan_df['Rooms'])\n",
    "nadlan_df.Rooms = nadlan_df.Rooms.astype(\"float32\")\n",
    "\n",
    "nadlan_df['Floor'] = pd.to_numeric(nadlan_df['Floor'])\n",
    "nadlan_df.Floor = nadlan_df.Floor.astype(\"int32\")\n",
    "\n",
    "nadlan_df['Square_Meter'] = pd.to_numeric(nadlan_df['Square_Meter'])\n",
    "nadlan_df.Square_Meter = nadlan_df.Square_Meter.astype(\"float32\")\n",
    "\n",
    "nadlan_df['Price'] = pd.to_numeric(nadlan_df['Price'])\n",
    "nadlan_df.Price = nadlan_df.Price.astype('int32')\n",
    "\n",
    "nadlan_df['Sale_Date'] = pd.to_datetime(nadlan_df['Sale_Date'],format='%d.%m.%Y',errors=\"coerce\")\n",
    "\n",
    "nadlan_df.reset_index(drop=True,inplace=True)\n",
    "nadlan_df.head()"
   ]
  },
  {
   "cell_type": "code",
   "execution_count": 84,
   "metadata": {},
   "outputs": [
    {
     "name": "stdout",
     "output_type": "stream",
     "text": [
      "<class 'pandas.core.frame.DataFrame'>\n",
      "RangeIndex: 235301 entries, 0 to 235300\n",
      "Data columns (total 10 columns):\n",
      " #   Column           Non-Null Count   Dtype         \n",
      "---  ------           --------------   -----         \n",
      " 0   Sale_Date        235301 non-null  datetime64[ns]\n",
      " 1   City             235301 non-null  object        \n",
      " 2   Neighborhood     235301 non-null  object        \n",
      " 3   Street           235301 non-null  object        \n",
      " 4   Building_Number  235301 non-null  int32         \n",
      " 5   Property_Type    235301 non-null  category      \n",
      " 6   Rooms            235301 non-null  float32       \n",
      " 7   Floor            235301 non-null  int32         \n",
      " 8   Square_Meter     235301 non-null  float32       \n",
      " 9   Price            235301 non-null  int32         \n",
      "dtypes: category(1), datetime64[ns](1), float32(2), int32(3), object(3)\n",
      "memory usage: 11.9+ MB\n"
     ]
    }
   ],
   "source": [
    "nadlan_df.info()"
   ]
  },
  {
   "cell_type": "markdown",
   "metadata": {},
   "source": [
    "You can see that almost all the columns we moved to basic variables, int,float,string, etc. But only the field of sale of the apartment we converted to a Datetime object. This will serve us later in extracting the year of sale of the apartment"
   ]
  },
  {
   "cell_type": "markdown",
   "metadata": {},
   "source": [
    "# "
   ]
  },
  {
   "cell_type": "markdown",
   "metadata": {},
   "source": [
    "Now, we will try to address abnormal values, our treatment will focus on both columns: apartment price and square meter"
   ]
  },
  {
   "cell_type": "markdown",
   "metadata": {},
   "source": [
    "# Step 3: The Data Handling - Outliers"
   ]
  },
  {
   "cell_type": "markdown",
   "metadata": {},
   "source": [
    "## 3.1: Square_Meter Column Outliers:"
   ]
  },
  {
   "cell_type": "code",
   "execution_count": 85,
   "metadata": {},
   "outputs": [
    {
     "data": {
      "text/plain": [
       "[Text(0.5, 1.0, 'Square_Meter Outliers Check - BoxPlot')]"
      ]
     },
     "execution_count": 85,
     "metadata": {},
     "output_type": "execute_result"
    },
    {
     "data": {
      "image/png": "[encoded data removed]",
      "text/plain": [
       "<Figure size 432x288 with 1 Axes>"
      ]
     },
     "metadata": {
      "needs_background": "light"
     },
     "output_type": "display_data"
    }
   ],
   "source": [
    "sns.boxplot(\n",
    "    data = nadlan_df,\n",
    "    x=nadlan_df['Square_Meter'],\n",
    "    color='g',\n",
    "    whis=2,\n",
    "    width=0.8\n",
    ").set(title=\"Square_Meter Outliers Check - BoxPlot\")"
   ]
  },
  {
   "cell_type": "code",
   "execution_count": 86,
   "metadata": {},
   "outputs": [
    {
     "data": {
      "text/plain": [
       "[Text(0.5, 1.0, 'Square Meter Outliers - ViolinPlot')]"
      ]
     },
     "execution_count": 86,
     "metadata": {},
     "output_type": "execute_result"
    },
    {
     "data": {
      "image/png": "[encoded data removed]",
      "text/plain": [
       "<Figure size 432x288 with 1 Axes>"
      ]
     },
     "metadata": {
      "needs_background": "light"
     },
     "output_type": "display_data"
    }
   ],
   "source": [
    "sns.violinplot(\n",
    "    data = nadlan_df,\n",
    "    y=nadlan_df['Square_Meter'],\n",
    "    color='g',\n",
    "    whis=2,\n",
    "    width=0.8\n",
    ").set(title=\"Square Meter Outliers - ViolinPlot\")"
   ]
  },
  {
   "cell_type": "markdown",
   "metadata": {},
   "source": [
    "#### You can clearly see that there is a long tail to the exceptional values, some of which reach even more than 1000 square meters, of course these records are not really apartments but probably areas "
   ]
  },
  {
   "cell_type": "code",
   "execution_count": 87,
   "metadata": {},
   "outputs": [
    {
     "data": {
      "text/plain": [
       "count    235301.000000\n",
       "mean         92.549026\n",
       "std          52.466209\n",
       "min          20.040001\n",
       "25%          61.500000\n",
       "50%          86.000000\n",
       "75%         112.000000\n",
       "max        3800.000000\n",
       "Name: Square_Meter, dtype: float64"
      ]
     },
     "execution_count": 87,
     "metadata": {},
     "output_type": "execute_result"
    }
   ],
   "source": [
    "nadlan_df['Square_Meter'].describe()"
   ]
  },
  {
   "cell_type": "code",
   "execution_count": 88,
   "metadata": {},
   "outputs": [
    {
     "name": "stdout",
     "output_type": "stream",
     "text": [
      "Max 'Normal' Value By Deault Of 1.5IQR 161.75\n",
      "Min 'Normal' Value By Deault Of 1.5IQR 10.25\n"
     ]
    }
   ],
   "source": [
    "IQR = np.percentile(nadlan_df['Square_Meter'],75) - np.percentile(nadlan_df['Square_Meter'],25)\n",
    "print(f\"Max 'Normal' Value By Deault Of 1.5IQR {nadlan_df['Square_Meter'].median() + 1.5*IQR}\")\n",
    "print(f\"Min 'Normal' Value By Deault Of 1.5IQR {nadlan_df['Square_Meter'].median() - 1.5*IQR}\")"
   ]
  },
  {
   "cell_type": "markdown",
   "metadata": {},
   "source": [
    "#### We Can See That A Max Normal Value By 1.5IQR Is 157, Which isn't enough.\n",
    "#### Becasue There's Indeed Some Special 150+ Squere_Meter Appartments, Lets Assume that 300 is the maximum for an appartment to not be an outlier\n",
    "#### Also, We'll Set The minimum for an appartment to be at least 30 Squere_Meter"
   ]
  },
  {
   "cell_type": "code",
   "execution_count": 89,
   "metadata": {},
   "outputs": [
    {
     "data": {
      "text/plain": [
       "3151"
      ]
     },
     "execution_count": 89,
     "metadata": {},
     "output_type": "execute_result"
    }
   ],
   "source": [
    "sum((nadlan_df['Square_Meter']>300) | (nadlan_df['Square_Meter']<30))"
   ]
  },
  {
   "cell_type": "markdown",
   "metadata": {},
   "source": [
    "#### There's Only 3151 Of Them, So We'll Delete Them"
   ]
  },
  {
   "cell_type": "code",
   "execution_count": 90,
   "metadata": {},
   "outputs": [
    {
     "data": {
      "text/html": [
       "<div>\n",
       "<style scoped>\n",
       "    .dataframe tbody tr th:only-of-type {\n",
       "        vertical-align: middle;\n",
       "    }\n",
       "\n",
       "    .dataframe tbody tr th {\n",
       "        vertical-align: top;\n",
       "    }\n",
       "\n",
       "    .dataframe thead th {\n",
       "        text-align: right;\n",
       "    }\n",
       "</style>\n",
       "<table border=\"1\" class=\"dataframe\">\n",
       "  <thead>\n",
       "    <tr style=\"text-align: right;\">\n",
       "      <th></th>\n",
       "      <th>Sale_Date</th>\n",
       "      <th>City</th>\n",
       "      <th>Neighborhood</th>\n",
       "      <th>Street</th>\n",
       "      <th>Building_Number</th>\n",
       "      <th>Property_Type</th>\n",
       "      <th>Rooms</th>\n",
       "      <th>Floor</th>\n",
       "      <th>Square_Meter</th>\n",
       "      <th>Price</th>\n",
       "    </tr>\n",
       "  </thead>\n",
       "  <tbody>\n",
       "  </tbody>\n",
       "</table>\n",
       "</div>"
      ],
      "text/plain": [
       "Empty DataFrame\n",
       "Columns: [Sale_Date, City, Neighborhood, Street, Building_Number, Property_Type, Rooms, Floor, Square_Meter, Price]\n",
       "Index: []"
      ]
     },
     "execution_count": 90,
     "metadata": {},
     "output_type": "execute_result"
    }
   ],
   "source": [
    "nadlan_df.drop(index=nadlan_df[(nadlan_df['Square_Meter']>300) | (nadlan_df['Square_Meter']<30)].index,inplace=True)\n",
    "nadlan_df[(nadlan_df['Square_Meter']>300) | (nadlan_df['Square_Meter']<30)]"
   ]
  },
  {
   "cell_type": "code",
   "execution_count": 91,
   "metadata": {},
   "outputs": [
    {
     "data": {
      "text/plain": [
       "[Text(0.5, 1.0, 'Square_Meter Outliers Check - BoxPlot')]"
      ]
     },
     "execution_count": 91,
     "metadata": {},
     "output_type": "execute_result"
    },
    {
     "data": {
      "image/png": "[encoded data removed]",
      "text/plain": [
       "<Figure size 432x288 with 1 Axes>"
      ]
     },
     "metadata": {
      "needs_background": "light"
     },
     "output_type": "display_data"
    }
   ],
   "source": [
    "sns.boxplot(\n",
    "    data = nadlan_df,\n",
    "    x=nadlan_df['Square_Meter'],\n",
    "    color='g',\n",
    "    whis=2,\n",
    "    width=0.8\n",
    ").set(title=\"Square_Meter Outliers Check - BoxPlot\")"
   ]
  },
  {
   "cell_type": "code",
   "execution_count": 92,
   "metadata": {},
   "outputs": [
    {
     "data": {
      "text/plain": [
       "[Text(0.5, 1.0, 'Square Meter Outliers - ViolinPlot')]"
      ]
     },
     "execution_count": 92,
     "metadata": {},
     "output_type": "execute_result"
    },
    {
     "data": {
      "image/png": "[encoded data removed]",
      "text/plain": [
       "<Figure size 432x288 with 1 Axes>"
      ]
     },
     "metadata": {
      "needs_background": "light"
     },
     "output_type": "display_data"
    }
   ],
   "source": [
    "sns.violinplot(\n",
    "    data = nadlan_df,\n",
    "    y=nadlan_df['Square_Meter'],\n",
    "    color='g',\n",
    "    whis=2,\n",
    "    width=0.8\n",
    ").set(title=\"Square Meter Outliers - ViolinPlot\")"
   ]
  },
  {
   "cell_type": "markdown",
   "metadata": {},
   "source": [
    "Much better."
   ]
  },
  {
   "cell_type": "markdown",
   "metadata": {},
   "source": [
    "## 3.2: Price Column Outliers:"
   ]
  },
  {
   "cell_type": "code",
   "execution_count": 93,
   "metadata": {},
   "outputs": [
    {
     "data": {
      "text/plain": [
       "[Text(0.5, 1.0, 'Price Outliers Check - BoxPlot')]"
      ]
     },
     "execution_count": 93,
     "metadata": {},
     "output_type": "execute_result"
    },
    {
     "data": {
      "image/png": "[encoded data removed]",
      "text/plain": [
       "<Figure size 432x288 with 1 Axes>"
      ]
     },
     "metadata": {
      "needs_background": "light"
     },
     "output_type": "display_data"
    }
   ],
   "source": [
    "sns.boxplot(\n",
    "    data = nadlan_df,\n",
    "    x=nadlan_df['Price'],\n",
    "    color='m',\n",
    "    whis=2,\n",
    "    width=0.8\n",
    ").set(title=\"Price Outliers Check - BoxPlot\")"
   ]
  },
  {
   "cell_type": "code",
   "execution_count": 94,
   "metadata": {
    "scrolled": true
   },
   "outputs": [
    {
     "data": {
      "text/plain": [
       "[Text(0.5, 1.0, 'Price Outliers - ViolinPlot')]"
      ]
     },
     "execution_count": 94,
     "metadata": {},
     "output_type": "execute_result"
    },
    {
     "data": {
      "image/png": "[encoded data removed]",
      "text/plain": [
       "<Figure size 432x288 with 1 Axes>"
      ]
     },
     "metadata": {
      "needs_background": "light"
     },
     "output_type": "display_data"
    }
   ],
   "source": [
    "sns.violinplot(\n",
    "    data = nadlan_df,\n",
    "    y=nadlan_df['Price'],\n",
    "    color='m',\n",
    "    whis=2,\n",
    "    width=0.8\n",
    ").set(title=\"Price Outliers - ViolinPlot\")"
   ]
  },
  {
   "cell_type": "code",
   "execution_count": 95,
   "metadata": {},
   "outputs": [
    {
     "name": "stdout",
     "output_type": "stream",
     "text": [
      "Price Max = 375,000,000\n",
      "Price Mean = 1,957,732.1111565798\n",
      "Price Median = 1,622,000.0\n"
     ]
    }
   ],
   "source": [
    "print(f\"Price Max = {nadlan_df['Price'].max():,}\")\n",
    "print(f\"Price Mean = {nadlan_df['Price'].mean():,}\")\n",
    "print(f\"Price Median = {nadlan_df['Price'].median():,}\")"
   ]
  },
  {
   "cell_type": "code",
   "execution_count": 96,
   "metadata": {},
   "outputs": [
    {
     "data": {
      "text/html": [
       "<div>\n",
       "<style scoped>\n",
       "    .dataframe tbody tr th:only-of-type {\n",
       "        vertical-align: middle;\n",
       "    }\n",
       "\n",
       "    .dataframe tbody tr th {\n",
       "        vertical-align: top;\n",
       "    }\n",
       "\n",
       "    .dataframe thead th {\n",
       "        text-align: right;\n",
       "    }\n",
       "</style>\n",
       "<table border=\"1\" class=\"dataframe\">\n",
       "  <thead>\n",
       "    <tr style=\"text-align: right;\">\n",
       "      <th></th>\n",
       "      <th>Sale_Date</th>\n",
       "      <th>City</th>\n",
       "      <th>Neighborhood</th>\n",
       "      <th>Street</th>\n",
       "      <th>Building_Number</th>\n",
       "      <th>Property_Type</th>\n",
       "      <th>Rooms</th>\n",
       "      <th>Floor</th>\n",
       "      <th>Square_Meter</th>\n",
       "      <th>Price</th>\n",
       "    </tr>\n",
       "  </thead>\n",
       "  <tbody>\n",
       "    <tr>\n",
       "      <th>35</th>\n",
       "      <td>2022-05-11</td>\n",
       "      <td>אשדוד</td>\n",
       "      <td>הקריה מע\"ר</td>\n",
       "      <td>כינור</td>\n",
       "      <td>10</td>\n",
       "      <td>1</td>\n",
       "      <td>5.0</td>\n",
       "      <td>31</td>\n",
       "      <td>238.0</td>\n",
       "      <td>6500000</td>\n",
       "    </tr>\n",
       "    <tr>\n",
       "      <th>51</th>\n",
       "      <td>2022-02-28</td>\n",
       "      <td>אשדוד</td>\n",
       "      <td>הקריה מע\"ר</td>\n",
       "      <td>צה\"ל</td>\n",
       "      <td>2</td>\n",
       "      <td>1</td>\n",
       "      <td>6.0</td>\n",
       "      <td>39</td>\n",
       "      <td>276.0</td>\n",
       "      <td>5590000</td>\n",
       "    </tr>\n",
       "    <tr>\n",
       "      <th>66</th>\n",
       "      <td>2022-01-13</td>\n",
       "      <td>אשדוד</td>\n",
       "      <td>הקריה מע\"ר</td>\n",
       "      <td>כינור</td>\n",
       "      <td>22</td>\n",
       "      <td>1</td>\n",
       "      <td>5.0</td>\n",
       "      <td>23</td>\n",
       "      <td>255.0</td>\n",
       "      <td>6050000</td>\n",
       "    </tr>\n",
       "    <tr>\n",
       "      <th>118</th>\n",
       "      <td>2021-08-30</td>\n",
       "      <td>אשדוד</td>\n",
       "      <td>הקריה מע\"ר</td>\n",
       "      <td>כינור</td>\n",
       "      <td>10</td>\n",
       "      <td>1</td>\n",
       "      <td>6.0</td>\n",
       "      <td>30</td>\n",
       "      <td>250.0</td>\n",
       "      <td>7350000</td>\n",
       "    </tr>\n",
       "    <tr>\n",
       "      <th>274</th>\n",
       "      <td>2020-06-03</td>\n",
       "      <td>אשדוד</td>\n",
       "      <td>הקריה מע\"ר</td>\n",
       "      <td>צה\"ל</td>\n",
       "      <td>2</td>\n",
       "      <td>1</td>\n",
       "      <td>6.0</td>\n",
       "      <td>38</td>\n",
       "      <td>289.0</td>\n",
       "      <td>5098000</td>\n",
       "    </tr>\n",
       "    <tr>\n",
       "      <th>...</th>\n",
       "      <td>...</td>\n",
       "      <td>...</td>\n",
       "      <td>...</td>\n",
       "      <td>...</td>\n",
       "      <td>...</td>\n",
       "      <td>...</td>\n",
       "      <td>...</td>\n",
       "      <td>...</td>\n",
       "      <td>...</td>\n",
       "      <td>...</td>\n",
       "    </tr>\n",
       "    <tr>\n",
       "      <th>235264</th>\n",
       "      <td>2015-06-08</td>\n",
       "      <td>תל אביב -יפו</td>\n",
       "      <td>צמרות איילון</td>\n",
       "      <td>אלוני ניסים</td>\n",
       "      <td>4</td>\n",
       "      <td>1</td>\n",
       "      <td>5.0</td>\n",
       "      <td>30</td>\n",
       "      <td>213.0</td>\n",
       "      <td>5942000</td>\n",
       "    </tr>\n",
       "    <tr>\n",
       "      <th>235268</th>\n",
       "      <td>2011-03-29</td>\n",
       "      <td>תל אביב -יפו</td>\n",
       "      <td>צמרות איילון</td>\n",
       "      <td>הרב גורן שלמה</td>\n",
       "      <td>2</td>\n",
       "      <td>1</td>\n",
       "      <td>5.0</td>\n",
       "      <td>30</td>\n",
       "      <td>247.0</td>\n",
       "      <td>9693000</td>\n",
       "    </tr>\n",
       "    <tr>\n",
       "      <th>235276</th>\n",
       "      <td>2016-06-25</td>\n",
       "      <td>תל אביב -יפו</td>\n",
       "      <td>בבלי</td>\n",
       "      <td>Unknown</td>\n",
       "      <td>-1</td>\n",
       "      <td>1</td>\n",
       "      <td>5.0</td>\n",
       "      <td>30</td>\n",
       "      <td>179.0</td>\n",
       "      <td>8750000</td>\n",
       "    </tr>\n",
       "    <tr>\n",
       "      <th>235277</th>\n",
       "      <td>2021-06-10</td>\n",
       "      <td>תל אביב -יפו</td>\n",
       "      <td>גני שרונה</td>\n",
       "      <td>קרליבך</td>\n",
       "      <td>4</td>\n",
       "      <td>1</td>\n",
       "      <td>5.0</td>\n",
       "      <td>30</td>\n",
       "      <td>142.0</td>\n",
       "      <td>7530000</td>\n",
       "    </tr>\n",
       "    <tr>\n",
       "      <th>235281</th>\n",
       "      <td>2015-08-11</td>\n",
       "      <td>תל אביב -יפו</td>\n",
       "      <td>גני שרונה</td>\n",
       "      <td>Unknown</td>\n",
       "      <td>-1</td>\n",
       "      <td>1</td>\n",
       "      <td>4.0</td>\n",
       "      <td>30</td>\n",
       "      <td>90.0</td>\n",
       "      <td>6504000</td>\n",
       "    </tr>\n",
       "  </tbody>\n",
       "</table>\n",
       "<p>7526 rows × 10 columns</p>\n",
       "</div>"
      ],
      "text/plain": [
       "        Sale_Date          City  Neighborhood         Street  Building_Number  \\\n",
       "35     2022-05-11         אשדוד    הקריה מע\"ר          כינור               10   \n",
       "51     2022-02-28         אשדוד    הקריה מע\"ר           צה\"ל                2   \n",
       "66     2022-01-13         אשדוד    הקריה מע\"ר          כינור               22   \n",
       "118    2021-08-30         אשדוד    הקריה מע\"ר          כינור               10   \n",
       "274    2020-06-03         אשדוד    הקריה מע\"ר           צה\"ל                2   \n",
       "...           ...           ...           ...            ...              ...   \n",
       "235264 2015-06-08  תל אביב -יפו  צמרות איילון    אלוני ניסים                4   \n",
       "235268 2011-03-29  תל אביב -יפו  צמרות איילון  הרב גורן שלמה                2   \n",
       "235276 2016-06-25  תל אביב -יפו          בבלי        Unknown               -1   \n",
       "235277 2021-06-10  תל אביב -יפו     גני שרונה         קרליבך                4   \n",
       "235281 2015-08-11  תל אביב -יפו     גני שרונה        Unknown               -1   \n",
       "\n",
       "       Property_Type  Rooms  Floor  Square_Meter    Price  \n",
       "35                 1    5.0     31         238.0  6500000  \n",
       "51                 1    6.0     39         276.0  5590000  \n",
       "66                 1    5.0     23         255.0  6050000  \n",
       "118                1    6.0     30         250.0  7350000  \n",
       "274                1    6.0     38         289.0  5098000  \n",
       "...              ...    ...    ...           ...      ...  \n",
       "235264             1    5.0     30         213.0  5942000  \n",
       "235268             1    5.0     30         247.0  9693000  \n",
       "235276             1    5.0     30         179.0  8750000  \n",
       "235277             1    5.0     30         142.0  7530000  \n",
       "235281             1    4.0     30          90.0  6504000  \n",
       "\n",
       "[7526 rows x 10 columns]"
      ]
     },
     "execution_count": 96,
     "metadata": {},
     "output_type": "execute_result"
    }
   ],
   "source": [
    "nadlan_df[nadlan_df['Price']>5_000_000]"
   ]
  },
  {
   "cell_type": "markdown",
   "metadata": {},
   "source": [
    "#### in that table of prices above 5Mil, we can see that most of the apartments have a high squere_meter, number of rooms when the price rises.\n",
    "#### but some of them are not, is it very unusual for an apartments who cost more then 5mil will have 38 squere meter, 47.. and so on "
   ]
  },
  {
   "cell_type": "code",
   "execution_count": 97,
   "metadata": {},
   "outputs": [
    {
     "data": {
      "text/html": [
       "<div>\n",
       "<style scoped>\n",
       "    .dataframe tbody tr th:only-of-type {\n",
       "        vertical-align: middle;\n",
       "    }\n",
       "\n",
       "    .dataframe tbody tr th {\n",
       "        vertical-align: top;\n",
       "    }\n",
       "\n",
       "    .dataframe thead th {\n",
       "        text-align: right;\n",
       "    }\n",
       "</style>\n",
       "<table border=\"1\" class=\"dataframe\">\n",
       "  <thead>\n",
       "    <tr style=\"text-align: right;\">\n",
       "      <th></th>\n",
       "      <th>Sale_Date</th>\n",
       "      <th>City</th>\n",
       "      <th>Neighborhood</th>\n",
       "      <th>Street</th>\n",
       "      <th>Building_Number</th>\n",
       "      <th>Property_Type</th>\n",
       "      <th>Rooms</th>\n",
       "      <th>Floor</th>\n",
       "      <th>Square_Meter</th>\n",
       "      <th>Price</th>\n",
       "    </tr>\n",
       "  </thead>\n",
       "  <tbody>\n",
       "    <tr>\n",
       "      <th>46918</th>\n",
       "      <td>2017-11-02</td>\n",
       "      <td>גבעתיים</td>\n",
       "      <td>הל\"ה</td>\n",
       "      <td>Unknown</td>\n",
       "      <td>-1</td>\n",
       "      <td>1</td>\n",
       "      <td>1.0</td>\n",
       "      <td>1</td>\n",
       "      <td>33.000000</td>\n",
       "      <td>39333000</td>\n",
       "    </tr>\n",
       "    <tr>\n",
       "      <th>47279</th>\n",
       "      <td>2008-03-13</td>\n",
       "      <td>גבעתיים</td>\n",
       "      <td>הל\"ה</td>\n",
       "      <td>לכיש</td>\n",
       "      <td>14</td>\n",
       "      <td>1</td>\n",
       "      <td>1.0</td>\n",
       "      <td>1</td>\n",
       "      <td>32.000000</td>\n",
       "      <td>18333000</td>\n",
       "    </tr>\n",
       "    <tr>\n",
       "      <th>49471</th>\n",
       "      <td>2019-09-26</td>\n",
       "      <td>גבעתיים</td>\n",
       "      <td>שיכון חברת חשמל</td>\n",
       "      <td>המאבק</td>\n",
       "      <td>38</td>\n",
       "      <td>1</td>\n",
       "      <td>3.0</td>\n",
       "      <td>0</td>\n",
       "      <td>58.000000</td>\n",
       "      <td>5200000</td>\n",
       "    </tr>\n",
       "    <tr>\n",
       "      <th>49869</th>\n",
       "      <td>2020-12-14</td>\n",
       "      <td>גבעתיים</td>\n",
       "      <td>שינקין</td>\n",
       "      <td>כצנלסון</td>\n",
       "      <td>106</td>\n",
       "      <td>1</td>\n",
       "      <td>1.0</td>\n",
       "      <td>4</td>\n",
       "      <td>30.000000</td>\n",
       "      <td>72000000</td>\n",
       "    </tr>\n",
       "    <tr>\n",
       "      <th>50500</th>\n",
       "      <td>2013-05-29</td>\n",
       "      <td>גבעתיים</td>\n",
       "      <td>שינקין</td>\n",
       "      <td>כצנלסון</td>\n",
       "      <td>104</td>\n",
       "      <td>1</td>\n",
       "      <td>2.0</td>\n",
       "      <td>3</td>\n",
       "      <td>38.000000</td>\n",
       "      <td>80000000</td>\n",
       "    </tr>\n",
       "    <tr>\n",
       "      <th>...</th>\n",
       "      <td>...</td>\n",
       "      <td>...</td>\n",
       "      <td>...</td>\n",
       "      <td>...</td>\n",
       "      <td>...</td>\n",
       "      <td>...</td>\n",
       "      <td>...</td>\n",
       "      <td>...</td>\n",
       "      <td>...</td>\n",
       "      <td>...</td>\n",
       "    </tr>\n",
       "    <tr>\n",
       "      <th>198599</th>\n",
       "      <td>2014-11-18</td>\n",
       "      <td>תל אביב -יפו</td>\n",
       "      <td>רמת אביב</td>\n",
       "      <td>גרונימן</td>\n",
       "      <td>4</td>\n",
       "      <td>4</td>\n",
       "      <td>2.5</td>\n",
       "      <td>1</td>\n",
       "      <td>55.500000</td>\n",
       "      <td>5300000</td>\n",
       "    </tr>\n",
       "    <tr>\n",
       "      <th>198823</th>\n",
       "      <td>2010-03-11</td>\n",
       "      <td>תל אביב -יפו</td>\n",
       "      <td>רמת אביב</td>\n",
       "      <td>גרונימן</td>\n",
       "      <td>6</td>\n",
       "      <td>1</td>\n",
       "      <td>3.0</td>\n",
       "      <td>1</td>\n",
       "      <td>55.500000</td>\n",
       "      <td>6000000</td>\n",
       "    </tr>\n",
       "    <tr>\n",
       "      <th>219005</th>\n",
       "      <td>2016-02-27</td>\n",
       "      <td>תל אביב -יפו</td>\n",
       "      <td>לב העיר</td>\n",
       "      <td>Unknown</td>\n",
       "      <td>-1</td>\n",
       "      <td>1</td>\n",
       "      <td>3.0</td>\n",
       "      <td>9</td>\n",
       "      <td>33.000000</td>\n",
       "      <td>10163000</td>\n",
       "    </tr>\n",
       "    <tr>\n",
       "      <th>231728</th>\n",
       "      <td>2017-02-06</td>\n",
       "      <td>הרצלייה</td>\n",
       "      <td>הרצליה פיתוח</td>\n",
       "      <td>זבולון</td>\n",
       "      <td>2</td>\n",
       "      <td>1</td>\n",
       "      <td>2.0</td>\n",
       "      <td>4</td>\n",
       "      <td>50.349998</td>\n",
       "      <td>5920000</td>\n",
       "    </tr>\n",
       "    <tr>\n",
       "      <th>233992</th>\n",
       "      <td>2022-11-04</td>\n",
       "      <td>תל אביב -יפו</td>\n",
       "      <td>לב העיר</td>\n",
       "      <td>בית השואבה</td>\n",
       "      <td>10</td>\n",
       "      <td>1</td>\n",
       "      <td>2.5</td>\n",
       "      <td>6</td>\n",
       "      <td>58.000000</td>\n",
       "      <td>5150000</td>\n",
       "    </tr>\n",
       "  </tbody>\n",
       "</table>\n",
       "<p>121 rows × 10 columns</p>\n",
       "</div>"
      ],
      "text/plain": [
       "        Sale_Date          City     Neighborhood      Street  Building_Number  \\\n",
       "46918  2017-11-02       גבעתיים             הל\"ה     Unknown               -1   \n",
       "47279  2008-03-13       גבעתיים             הל\"ה        לכיש               14   \n",
       "49471  2019-09-26       גבעתיים  שיכון חברת חשמל       המאבק               38   \n",
       "49869  2020-12-14       גבעתיים           שינקין     כצנלסון              106   \n",
       "50500  2013-05-29       גבעתיים           שינקין     כצנלסון              104   \n",
       "...           ...           ...              ...         ...              ...   \n",
       "198599 2014-11-18  תל אביב -יפו         רמת אביב     גרונימן                4   \n",
       "198823 2010-03-11  תל אביב -יפו         רמת אביב     גרונימן                6   \n",
       "219005 2016-02-27  תל אביב -יפו          לב העיר     Unknown               -1   \n",
       "231728 2017-02-06       הרצלייה     הרצליה פיתוח      זבולון                2   \n",
       "233992 2022-11-04  תל אביב -יפו          לב העיר  בית השואבה               10   \n",
       "\n",
       "       Property_Type  Rooms  Floor  Square_Meter     Price  \n",
       "46918              1    1.0      1     33.000000  39333000  \n",
       "47279              1    1.0      1     32.000000  18333000  \n",
       "49471              1    3.0      0     58.000000   5200000  \n",
       "49869              1    1.0      4     30.000000  72000000  \n",
       "50500              1    2.0      3     38.000000  80000000  \n",
       "...              ...    ...    ...           ...       ...  \n",
       "198599             4    2.5      1     55.500000   5300000  \n",
       "198823             1    3.0      1     55.500000   6000000  \n",
       "219005             1    3.0      9     33.000000  10163000  \n",
       "231728             1    2.0      4     50.349998   5920000  \n",
       "233992             1    2.5      6     58.000000   5150000  \n",
       "\n",
       "[121 rows x 10 columns]"
      ]
     },
     "execution_count": 97,
     "metadata": {},
     "output_type": "execute_result"
    }
   ],
   "source": [
    "nadlan_df[(nadlan_df['Price']>5_000_000) & (nadlan_df['Square_Meter']<60)]"
   ]
  },
  {
   "cell_type": "markdown",
   "metadata": {},
   "source": [
    "#### So, We'll Need to find a way to delete apartment with a very high price and very low squere_Meter & number of rooms"
   ]
  },
  {
   "cell_type": "code",
   "execution_count": 98,
   "metadata": {},
   "outputs": [
    {
     "name": "stdout",
     "output_type": "stream",
     "text": [
      "<class 'pandas.core.frame.DataFrame'>\n",
      "Int64Index: 229106 entries, 0 to 235299\n",
      "Data columns (total 10 columns):\n",
      " #   Column           Non-Null Count   Dtype         \n",
      "---  ------           --------------   -----         \n",
      " 0   Sale_Date        229106 non-null  datetime64[ns]\n",
      " 1   City             229106 non-null  object        \n",
      " 2   Neighborhood     229106 non-null  object        \n",
      " 3   Street           229106 non-null  object        \n",
      " 4   Building_Number  229106 non-null  int32         \n",
      " 5   Property_Type    229106 non-null  category      \n",
      " 6   Rooms            229106 non-null  float32       \n",
      " 7   Floor            229106 non-null  int32         \n",
      " 8   Square_Meter     229106 non-null  float32       \n",
      " 9   Price            229106 non-null  int32         \n",
      "dtypes: category(1), datetime64[ns](1), float32(2), int32(3), object(3)\n",
      "memory usage: 13.3+ MB\n"
     ]
    }
   ],
   "source": [
    "nadlan_df.drop(index=nadlan_df[(nadlan_df['Square_Meter']<60) & (nadlan_df['Rooms']<4) & (nadlan_df['Price']>2_500_000)].index,inplace=True)\n",
    "nadlan_df.info()"
   ]
  },
  {
   "cell_type": "markdown",
   "metadata": {},
   "source": [
    "# Final Conclusions\n",
    "**At this point, we finished handling everthing there is to handle, we:**\n",
    "\n",
    "**examined the raw information** \n",
    "\n",
    "**exposed all the NaN values**\n",
    "\n",
    "**handled duplicates**\n",
    "\n",
    "**handeled missing values**\n",
    "\n",
    "**filled in missing values if necessary**\n",
    "\n",
    "**and preformed various manipulations on the columns to change them to numeric values or categorical variables.**\n",
    "\n",
    "**discovered multiple outliers and had them removed**\n",
    "\n",
    "**handled environmental data of all the cities neighborhoods so that it will serve us later for EDA and machine learning\n",
    "\n",
    "\n",
    "**You can see that at the end, the total number of records has been reduced by about 27%! (from 315k to 229k)**\n",
    "\n",
    "\n",
    "#### All that is left to do is to save our handled dataset into csv file"
   ]
  },
  {
   "cell_type": "code",
   "execution_count": 99,
   "metadata": {},
   "outputs": [],
   "source": [
    "nadlan_df.to_csv(\"Processed Data\\AllCities.csv\", index=False)"
   ]
  },
  {
   "cell_type": "markdown",
   "id": "5a2da3ee",
   "metadata": {
    "slideshow": {
     "slide_type": "-"
    }
   },
   "source": [
    "# Step 4: The Data Handling - Environment Data"
   ]
  },
  {
   "cell_type": "markdown",
   "id": "f7b5fcc1",
   "metadata": {},
   "source": [
    "## At this point, we will handle additional data. \n",
    "## This data constitutes additional information for the neighborhoods that we have taken.\n",
    "## Below is the data we acquired:\n",
    "\n",
    "#### The amount of schools in the neighborhood\n",
    "#### The amount of kindergartens and dormitories in the neighborhood\n",
    "#### The amount of informal educational institutions in the neighborhood\n",
    "#### The amount of parks and gardens in the neighborhood\n",
    "#### The amount of public institutions in the neighborhood\n",
    "#### The amount of community institutions in the neighborhood\n",
    "#### The amount of religious institutions in the neighborhood\n",
    "#### The amount of green areas in square meters\n",
    "\n",
    "#### Average distance from a school in the neighborhood\n",
    "#### Average distance to a public building in the neighborhood\n",
    "#### Average distance to public parks and gardens\n",
    "#### Average distance from green areas in the neighborhood"
   ]
  },
  {
   "cell_type": "code",
   "execution_count": 120,
   "id": "f77771a4",
   "metadata": {},
   "outputs": [
    {
     "data": {
      "text/html": [
       "<div>\n",
       "<style scoped>\n",
       "    .dataframe tbody tr th:only-of-type {\n",
       "        vertical-align: middle;\n",
       "    }\n",
       "\n",
       "    .dataframe tbody tr th {\n",
       "        vertical-align: top;\n",
       "    }\n",
       "\n",
       "    .dataframe thead th {\n",
       "        text-align: right;\n",
       "    }\n",
       "</style>\n",
       "<table border=\"1\" class=\"dataframe\">\n",
       "  <thead>\n",
       "    <tr style=\"text-align: right;\">\n",
       "      <th></th>\n",
       "      <th>City</th>\n",
       "      <th>Neighborhood</th>\n",
       "      <th>Schools</th>\n",
       "      <th>Kindergartens_And_Dormitories</th>\n",
       "      <th>Non_Formal_Educational_Institutions</th>\n",
       "      <th>Education_Average_Distance</th>\n",
       "      <th>Green_Areas_SQM</th>\n",
       "      <th>Parks_And_Gardens</th>\n",
       "      <th>Green_Areas_Average_Distance</th>\n",
       "      <th>Parks_And_Gardens_Average_Distance</th>\n",
       "      <th>Public_Institutions</th>\n",
       "      <th>Community_Institutions</th>\n",
       "      <th>Religious_Institutions</th>\n",
       "      <th>Public_Building_Average_Distance</th>\n",
       "    </tr>\n",
       "  </thead>\n",
       "  <tbody>\n",
       "    <tr>\n",
       "      <th>0</th>\n",
       "      <td>אופקים</td>\n",
       "      <td>אזור תעשיה</td>\n",
       "      <td>0 בתי ספר</td>\n",
       "      <td>0 גני ילדים ומעונות</td>\n",
       "      <td>0 מוסדות חינוך בלתי פורמלי</td>\n",
       "      <td>0 מטר</td>\n",
       "      <td>7,595 מ\"ר</td>\n",
       "      <td>NaN</td>\n",
       "      <td>316 מטר</td>\n",
       "      <td>228 מטר</td>\n",
       "      <td>5 מוסדות ציבור</td>\n",
       "      <td>34 מוסדות קהילתיים</td>\n",
       "      <td>0 מוסדות דת</td>\n",
       "      <td>46 מ״ר\\nמרחק ממוצע למבנה ציבור</td>\n",
       "    </tr>\n",
       "    <tr>\n",
       "      <th>1</th>\n",
       "      <td>אופקים</td>\n",
       "      <td>בן גוריון</td>\n",
       "      <td>4 בתי ספר</td>\n",
       "      <td>12 גני ילדים ומעונות</td>\n",
       "      <td>3 מוסדות חינוך בלתי פורמלי</td>\n",
       "      <td>720 מטר</td>\n",
       "      <td>18,272 מ\"ר</td>\n",
       "      <td>1.0</td>\n",
       "      <td>334 מטר</td>\n",
       "      <td>376 מטר</td>\n",
       "      <td>5 מוסדות ציבור</td>\n",
       "      <td>5 מוסדות קהילתיים</td>\n",
       "      <td>4 מוסדות דת</td>\n",
       "      <td>98 מ״ר\\nמרחק ממוצע למבנה ציבור</td>\n",
       "    </tr>\n",
       "    <tr>\n",
       "      <th>2</th>\n",
       "      <td>אופקים</td>\n",
       "      <td>דדו</td>\n",
       "      <td>2 בתי ספר</td>\n",
       "      <td>0 גני ילדים ומעונות</td>\n",
       "      <td>0 מוסדות חינוך בלתי פורמלי</td>\n",
       "      <td>687 מטר</td>\n",
       "      <td>6,602 מ\"ר</td>\n",
       "      <td>1.0</td>\n",
       "      <td>342 מטר</td>\n",
       "      <td>211 מטר</td>\n",
       "      <td>7 מוסדות ציבור</td>\n",
       "      <td>2 מוסדות קהילתיים</td>\n",
       "      <td>1 מוסדות דת</td>\n",
       "      <td>108 מ״ר\\nמרחק ממוצע למבנה ציבור</td>\n",
       "    </tr>\n",
       "    <tr>\n",
       "      <th>3</th>\n",
       "      <td>אופקים</td>\n",
       "      <td>הארזים</td>\n",
       "      <td>0 בתי ספר</td>\n",
       "      <td>15 גני ילדים ומעונות</td>\n",
       "      <td>5 מוסדות חינוך בלתי פורמלי</td>\n",
       "      <td>0 מטר</td>\n",
       "      <td>18,294 מ\"ר</td>\n",
       "      <td>2.0</td>\n",
       "      <td>324 מטר</td>\n",
       "      <td>372 מטר</td>\n",
       "      <td>18 מוסדות ציבור</td>\n",
       "      <td>14 מוסדות קהילתיים</td>\n",
       "      <td>4 מוסדות דת</td>\n",
       "      <td>117 מ״ר\\nמרחק ממוצע למבנה ציבור</td>\n",
       "    </tr>\n",
       "    <tr>\n",
       "      <th>4</th>\n",
       "      <td>אופקים</td>\n",
       "      <td>הרי\"ף</td>\n",
       "      <td>5 בתי ספר</td>\n",
       "      <td>12 גני ילדים ומעונות</td>\n",
       "      <td>0 מוסדות חינוך בלתי פורמלי</td>\n",
       "      <td>370 מטר</td>\n",
       "      <td>18,294 מ\"ר</td>\n",
       "      <td>1.0</td>\n",
       "      <td>283 מטר</td>\n",
       "      <td>222 מטר</td>\n",
       "      <td>2 מוסדות ציבור</td>\n",
       "      <td>12 מוסדות קהילתיים</td>\n",
       "      <td>5 מוסדות דת</td>\n",
       "      <td>88 מ״ר\\nמרחק ממוצע למבנה ציבור</td>\n",
       "    </tr>\n",
       "  </tbody>\n",
       "</table>\n",
       "</div>"
      ],
      "text/plain": [
       "     City Neighborhood    Schools Kindergartens_And_Dormitories  \\\n",
       "0  אופקים   אזור תעשיה  0 בתי ספר           0 גני ילדים ומעונות   \n",
       "1  אופקים    בן גוריון  4 בתי ספר          12 גני ילדים ומעונות   \n",
       "2  אופקים          דדו  2 בתי ספר           0 גני ילדים ומעונות   \n",
       "3  אופקים       הארזים  0 בתי ספר          15 גני ילדים ומעונות   \n",
       "4  אופקים        הרי\"ף  5 בתי ספר          12 גני ילדים ומעונות   \n",
       "\n",
       "  Non_Formal_Educational_Institutions Education_Average_Distance  \\\n",
       "0          0 מוסדות חינוך בלתי פורמלי                      0 מטר   \n",
       "1          3 מוסדות חינוך בלתי פורמלי                    720 מטר   \n",
       "2          0 מוסדות חינוך בלתי פורמלי                    687 מטר   \n",
       "3          5 מוסדות חינוך בלתי פורמלי                      0 מטר   \n",
       "4          0 מוסדות חינוך בלתי פורמלי                    370 מטר   \n",
       "\n",
       "  Green_Areas_SQM  Parks_And_Gardens Green_Areas_Average_Distance  \\\n",
       "0       7,595 מ\"ר                NaN                      316 מטר   \n",
       "1      18,272 מ\"ר                1.0                      334 מטר   \n",
       "2       6,602 מ\"ר                1.0                      342 מטר   \n",
       "3      18,294 מ\"ר                2.0                      324 מטר   \n",
       "4      18,294 מ\"ר                1.0                      283 מטר   \n",
       "\n",
       "  Parks_And_Gardens_Average_Distance Public_Institutions  \\\n",
       "0                            228 מטר      5 מוסדות ציבור   \n",
       "1                            376 מטר      5 מוסדות ציבור   \n",
       "2                            211 מטר      7 מוסדות ציבור   \n",
       "3                            372 מטר     18 מוסדות ציבור   \n",
       "4                            222 מטר      2 מוסדות ציבור   \n",
       "\n",
       "  Community_Institutions Religious_Institutions  \\\n",
       "0     34 מוסדות קהילתיים            0 מוסדות דת   \n",
       "1      5 מוסדות קהילתיים            4 מוסדות דת   \n",
       "2      2 מוסדות קהילתיים            1 מוסדות דת   \n",
       "3     14 מוסדות קהילתיים            4 מוסדות דת   \n",
       "4     12 מוסדות קהילתיים            5 מוסדות דת   \n",
       "\n",
       "  Public_Building_Average_Distance  \n",
       "0   46 מ״ר\\nמרחק ממוצע למבנה ציבור  \n",
       "1   98 מ״ר\\nמרחק ממוצע למבנה ציבור  \n",
       "2  108 מ״ר\\nמרחק ממוצע למבנה ציבור  \n",
       "3  117 מ״ר\\nמרחק ממוצע למבנה ציבור  \n",
       "4   88 מ״ר\\nמרחק ממוצע למבנה ציבור  "
      ]
     },
     "execution_count": 120,
     "metadata": {},
     "output_type": "execute_result"
    }
   ],
   "source": [
    "file_name2 = \"Raw Data\\AllCitiesEnvironment.csv\"\n",
    "df_Env = pd.read_csv(file_name2)\n",
    "df_Env.head()"
   ]
  },
  {
   "cell_type": "markdown",
   "id": "f6acf455",
   "metadata": {},
   "source": [
    "***as you can see, we have some problems with current data.***\n",
    "\n",
    "***1) All data is accompanied by strings, which we would like to delete.***\n",
    "\n",
    "***2) In addition, there are many 0 values, which we would not necessarily want to leave as they are.***"
   ]
  },
  {
   "cell_type": "markdown",
   "id": "2a339d39",
   "metadata": {},
   "source": [
    "# "
   ]
  },
  {
   "cell_type": "markdown",
   "id": "4a61e0a2",
   "metadata": {},
   "source": [
    "### 4.0.1: Removing all information about industrial zones"
   ]
  },
  {
   "cell_type": "code",
   "execution_count": 121,
   "id": "43c2ab79",
   "metadata": {},
   "outputs": [],
   "source": [
    "df_Env.drop(index=df_Env[df_Env.Neighborhood.str.startswith(\"אזור תעשיה\")].index,inplace=True)\n",
    "df_Env.reset_index(inplace=True,drop=True)"
   ]
  },
  {
   "cell_type": "code",
   "execution_count": 122,
   "id": "90a955a4",
   "metadata": {},
   "outputs": [
    {
     "name": "stdout",
     "output_type": "stream",
     "text": [
      "<class 'pandas.core.frame.DataFrame'>\n",
      "RangeIndex: 288 entries, 0 to 287\n",
      "Data columns (total 14 columns):\n",
      " #   Column                               Non-Null Count  Dtype  \n",
      "---  ------                               --------------  -----  \n",
      " 0   City                                 288 non-null    object \n",
      " 1   Neighborhood                         288 non-null    object \n",
      " 2   Schools                              288 non-null    object \n",
      " 3   Kindergartens_And_Dormitories        288 non-null    object \n",
      " 4   Non_Formal_Educational_Institutions  288 non-null    object \n",
      " 5   Education_Average_Distance           288 non-null    object \n",
      " 6   Green_Areas_SQM                      288 non-null    object \n",
      " 7   Parks_And_Gardens                    194 non-null    float64\n",
      " 8   Green_Areas_Average_Distance         288 non-null    object \n",
      " 9   Parks_And_Gardens_Average_Distance   288 non-null    object \n",
      " 10  Public_Institutions                  288 non-null    object \n",
      " 11  Community_Institutions               288 non-null    object \n",
      " 12  Religious_Institutions               288 non-null    object \n",
      " 13  Public_Building_Average_Distance     288 non-null    object \n",
      "dtypes: float64(1), object(13)\n",
      "memory usage: 31.6+ KB\n"
     ]
    }
   ],
   "source": [
    "df_Env.info()"
   ]
  },
  {
   "cell_type": "markdown",
   "id": "4e0a7cc9",
   "metadata": {},
   "source": [
    "You can see that there are almost no deficiencies in the data, except in the column for the number of gardens and parks"
   ]
  },
  {
   "cell_type": "markdown",
   "id": "8e60e7eb",
   "metadata": {},
   "source": [
    "Therefore, we will now extract all the numerical values ​​in the columns that are not the amount of parks and gardens"
   ]
  },
  {
   "cell_type": "markdown",
   "id": "6e6c845a",
   "metadata": {},
   "source": [
    "### 4.0.2: Extracting numeric values from the columns"
   ]
  },
  {
   "cell_type": "code",
   "execution_count": 123,
   "id": "5fdb9714",
   "metadata": {},
   "outputs": [],
   "source": [
    "column = df_Env.columns[2::]\n",
    "for i in range(len(df_Env)):\n",
    "    for col in column:\n",
    "        if col!='Parks_And_Gardens':\n",
    "            df_Env.loc[i, col] = df_Env[col][i].rsplit(' ')[0]\n",
    "df_Env['Green_Areas_SQM'] = df_Env['Green_Areas_SQM'].str.replace(',','')"
   ]
  },
  {
   "cell_type": "code",
   "execution_count": 124,
   "id": "4f95aada",
   "metadata": {},
   "outputs": [
    {
     "data": {
      "text/html": [
       "<div>\n",
       "<style scoped>\n",
       "    .dataframe tbody tr th:only-of-type {\n",
       "        vertical-align: middle;\n",
       "    }\n",
       "\n",
       "    .dataframe tbody tr th {\n",
       "        vertical-align: top;\n",
       "    }\n",
       "\n",
       "    .dataframe thead th {\n",
       "        text-align: right;\n",
       "    }\n",
       "</style>\n",
       "<table border=\"1\" class=\"dataframe\">\n",
       "  <thead>\n",
       "    <tr style=\"text-align: right;\">\n",
       "      <th></th>\n",
       "      <th>City</th>\n",
       "      <th>Neighborhood</th>\n",
       "      <th>Schools</th>\n",
       "      <th>Kindergartens_And_Dormitories</th>\n",
       "      <th>Non_Formal_Educational_Institutions</th>\n",
       "      <th>Education_Average_Distance</th>\n",
       "      <th>Green_Areas_SQM</th>\n",
       "      <th>Parks_And_Gardens</th>\n",
       "      <th>Green_Areas_Average_Distance</th>\n",
       "      <th>Parks_And_Gardens_Average_Distance</th>\n",
       "      <th>Public_Institutions</th>\n",
       "      <th>Community_Institutions</th>\n",
       "      <th>Religious_Institutions</th>\n",
       "      <th>Public_Building_Average_Distance</th>\n",
       "    </tr>\n",
       "  </thead>\n",
       "  <tbody>\n",
       "    <tr>\n",
       "      <th>0</th>\n",
       "      <td>אופקים</td>\n",
       "      <td>בן גוריון</td>\n",
       "      <td>4</td>\n",
       "      <td>12</td>\n",
       "      <td>3</td>\n",
       "      <td>720</td>\n",
       "      <td>18272</td>\n",
       "      <td>1.0</td>\n",
       "      <td>334</td>\n",
       "      <td>376</td>\n",
       "      <td>5</td>\n",
       "      <td>5</td>\n",
       "      <td>4</td>\n",
       "      <td>98</td>\n",
       "    </tr>\n",
       "    <tr>\n",
       "      <th>1</th>\n",
       "      <td>אופקים</td>\n",
       "      <td>דדו</td>\n",
       "      <td>2</td>\n",
       "      <td>0</td>\n",
       "      <td>0</td>\n",
       "      <td>687</td>\n",
       "      <td>6602</td>\n",
       "      <td>1.0</td>\n",
       "      <td>342</td>\n",
       "      <td>211</td>\n",
       "      <td>7</td>\n",
       "      <td>2</td>\n",
       "      <td>1</td>\n",
       "      <td>108</td>\n",
       "    </tr>\n",
       "    <tr>\n",
       "      <th>2</th>\n",
       "      <td>אופקים</td>\n",
       "      <td>הארזים</td>\n",
       "      <td>0</td>\n",
       "      <td>15</td>\n",
       "      <td>5</td>\n",
       "      <td>0</td>\n",
       "      <td>18294</td>\n",
       "      <td>2.0</td>\n",
       "      <td>324</td>\n",
       "      <td>372</td>\n",
       "      <td>18</td>\n",
       "      <td>14</td>\n",
       "      <td>4</td>\n",
       "      <td>117</td>\n",
       "    </tr>\n",
       "    <tr>\n",
       "      <th>3</th>\n",
       "      <td>אופקים</td>\n",
       "      <td>הרי\"ף</td>\n",
       "      <td>5</td>\n",
       "      <td>12</td>\n",
       "      <td>0</td>\n",
       "      <td>370</td>\n",
       "      <td>18294</td>\n",
       "      <td>1.0</td>\n",
       "      <td>283</td>\n",
       "      <td>222</td>\n",
       "      <td>2</td>\n",
       "      <td>12</td>\n",
       "      <td>5</td>\n",
       "      <td>88</td>\n",
       "    </tr>\n",
       "    <tr>\n",
       "      <th>4</th>\n",
       "      <td>אופקים</td>\n",
       "      <td>יעקב מסיקה</td>\n",
       "      <td>9</td>\n",
       "      <td>10</td>\n",
       "      <td>2</td>\n",
       "      <td>285</td>\n",
       "      <td>21177</td>\n",
       "      <td>1.0</td>\n",
       "      <td>326</td>\n",
       "      <td>377</td>\n",
       "      <td>4</td>\n",
       "      <td>11</td>\n",
       "      <td>7</td>\n",
       "      <td>106</td>\n",
       "    </tr>\n",
       "    <tr>\n",
       "      <th>...</th>\n",
       "      <td>...</td>\n",
       "      <td>...</td>\n",
       "      <td>...</td>\n",
       "      <td>...</td>\n",
       "      <td>...</td>\n",
       "      <td>...</td>\n",
       "      <td>...</td>\n",
       "      <td>...</td>\n",
       "      <td>...</td>\n",
       "      <td>...</td>\n",
       "      <td>...</td>\n",
       "      <td>...</td>\n",
       "      <td>...</td>\n",
       "      <td>...</td>\n",
       "    </tr>\n",
       "    <tr>\n",
       "      <th>283</th>\n",
       "      <td>ראש העין</td>\n",
       "      <td>פסגת טל</td>\n",
       "      <td>0</td>\n",
       "      <td>0</td>\n",
       "      <td>0</td>\n",
       "      <td>0</td>\n",
       "      <td>136</td>\n",
       "      <td>NaN</td>\n",
       "      <td>331</td>\n",
       "      <td>622</td>\n",
       "      <td>0</td>\n",
       "      <td>0</td>\n",
       "      <td>0</td>\n",
       "      <td>105</td>\n",
       "    </tr>\n",
       "    <tr>\n",
       "      <th>284</th>\n",
       "      <td>ראש העין</td>\n",
       "      <td>צה\"ל</td>\n",
       "      <td>1</td>\n",
       "      <td>10</td>\n",
       "      <td>1</td>\n",
       "      <td>356</td>\n",
       "      <td>98175</td>\n",
       "      <td>4.0</td>\n",
       "      <td>356</td>\n",
       "      <td>405</td>\n",
       "      <td>6</td>\n",
       "      <td>20</td>\n",
       "      <td>12</td>\n",
       "      <td>102</td>\n",
       "    </tr>\n",
       "    <tr>\n",
       "      <th>285</th>\n",
       "      <td>ראש העין</td>\n",
       "      <td>ראש העין צפון</td>\n",
       "      <td>בתי</td>\n",
       "      <td>גני</td>\n",
       "      <td>מוסדות</td>\n",
       "      <td>מטר</td>\n",
       "      <td>מ\"ר</td>\n",
       "      <td>NaN</td>\n",
       "      <td>מטר</td>\n",
       "      <td>מטר</td>\n",
       "      <td>מוסדות</td>\n",
       "      <td>מוסדות</td>\n",
       "      <td>מוסדות</td>\n",
       "      <td>מ״ר\\nמרחק</td>\n",
       "    </tr>\n",
       "    <tr>\n",
       "      <th>286</th>\n",
       "      <td>ראש העין</td>\n",
       "      <td>רמב\"ם</td>\n",
       "      <td>3</td>\n",
       "      <td>15</td>\n",
       "      <td>1</td>\n",
       "      <td>290</td>\n",
       "      <td>87814</td>\n",
       "      <td>3.0</td>\n",
       "      <td>437</td>\n",
       "      <td>434</td>\n",
       "      <td>4</td>\n",
       "      <td>25</td>\n",
       "      <td>23</td>\n",
       "      <td>77</td>\n",
       "    </tr>\n",
       "    <tr>\n",
       "      <th>287</th>\n",
       "      <td>ראש העין</td>\n",
       "      <td>שבזי</td>\n",
       "      <td>2</td>\n",
       "      <td>9</td>\n",
       "      <td>2</td>\n",
       "      <td>303</td>\n",
       "      <td>88086</td>\n",
       "      <td>1.0</td>\n",
       "      <td>326</td>\n",
       "      <td>384</td>\n",
       "      <td>5</td>\n",
       "      <td>21</td>\n",
       "      <td>5</td>\n",
       "      <td>91</td>\n",
       "    </tr>\n",
       "  </tbody>\n",
       "</table>\n",
       "<p>288 rows × 14 columns</p>\n",
       "</div>"
      ],
      "text/plain": [
       "         City   Neighborhood Schools Kindergartens_And_Dormitories  \\\n",
       "0      אופקים      בן גוריון       4                            12   \n",
       "1      אופקים            דדו       2                             0   \n",
       "2      אופקים         הארזים       0                            15   \n",
       "3      אופקים          הרי\"ף       5                            12   \n",
       "4      אופקים     יעקב מסיקה       9                            10   \n",
       "..        ...            ...     ...                           ...   \n",
       "283  ראש העין        פסגת טל       0                             0   \n",
       "284  ראש העין           צה\"ל       1                            10   \n",
       "285  ראש העין  ראש העין צפון     בתי                           גני   \n",
       "286  ראש העין          רמב\"ם       3                            15   \n",
       "287  ראש העין           שבזי       2                             9   \n",
       "\n",
       "    Non_Formal_Educational_Institutions Education_Average_Distance  \\\n",
       "0                                     3                        720   \n",
       "1                                     0                        687   \n",
       "2                                     5                          0   \n",
       "3                                     0                        370   \n",
       "4                                     2                        285   \n",
       "..                                  ...                        ...   \n",
       "283                                   0                          0   \n",
       "284                                   1                        356   \n",
       "285                              מוסדות                        מטר   \n",
       "286                                   1                        290   \n",
       "287                                   2                        303   \n",
       "\n",
       "    Green_Areas_SQM  Parks_And_Gardens Green_Areas_Average_Distance  \\\n",
       "0             18272                1.0                          334   \n",
       "1              6602                1.0                          342   \n",
       "2             18294                2.0                          324   \n",
       "3             18294                1.0                          283   \n",
       "4             21177                1.0                          326   \n",
       "..              ...                ...                          ...   \n",
       "283             136                NaN                          331   \n",
       "284           98175                4.0                          356   \n",
       "285             מ\"ר                NaN                          מטר   \n",
       "286           87814                3.0                          437   \n",
       "287           88086                1.0                          326   \n",
       "\n",
       "    Parks_And_Gardens_Average_Distance Public_Institutions  \\\n",
       "0                                  376                   5   \n",
       "1                                  211                   7   \n",
       "2                                  372                  18   \n",
       "3                                  222                   2   \n",
       "4                                  377                   4   \n",
       "..                                 ...                 ...   \n",
       "283                                622                   0   \n",
       "284                                405                   6   \n",
       "285                                מטר              מוסדות   \n",
       "286                                434                   4   \n",
       "287                                384                   5   \n",
       "\n",
       "    Community_Institutions Religious_Institutions  \\\n",
       "0                        5                      4   \n",
       "1                        2                      1   \n",
       "2                       14                      4   \n",
       "3                       12                      5   \n",
       "4                       11                      7   \n",
       "..                     ...                    ...   \n",
       "283                      0                      0   \n",
       "284                     20                     12   \n",
       "285                 מוסדות                 מוסדות   \n",
       "286                     25                     23   \n",
       "287                     21                      5   \n",
       "\n",
       "    Public_Building_Average_Distance  \n",
       "0                                 98  \n",
       "1                                108  \n",
       "2                                117  \n",
       "3                                 88  \n",
       "4                                106  \n",
       "..                               ...  \n",
       "283                              105  \n",
       "284                              102  \n",
       "285                        מ״ר\\nמרחק  \n",
       "286                               77  \n",
       "287                               91  \n",
       "\n",
       "[288 rows x 14 columns]"
      ]
     },
     "execution_count": 124,
     "metadata": {},
     "output_type": "execute_result"
    }
   ],
   "source": [
    "df_Env"
   ]
  },
  {
   "cell_type": "markdown",
   "id": "53b12c59",
   "metadata": {},
   "source": [
    "**You can see that we have now arranged all the numerical values, but there are two problems:**\n",
    "\n",
    "**1) There are values that do not contain numeric values at all, as a result we are left with strings.**\n",
    "\n",
    "**2) There are still values that contain zeros, and we will have to replace them**\n",
    "\n",
    "**The solution: First, we will convert all these values to NaN**"
   ]
  },
  {
   "cell_type": "markdown",
   "id": "f3b9f289",
   "metadata": {},
   "source": [
    "### 4.0.3: Converts the desired data to NaN values"
   ]
  },
  {
   "cell_type": "code",
   "execution_count": 125,
   "id": "f4eda0d5",
   "metadata": {},
   "outputs": [
    {
     "data": {
      "text/html": [
       "<div>\n",
       "<style scoped>\n",
       "    .dataframe tbody tr th:only-of-type {\n",
       "        vertical-align: middle;\n",
       "    }\n",
       "\n",
       "    .dataframe tbody tr th {\n",
       "        vertical-align: top;\n",
       "    }\n",
       "\n",
       "    .dataframe thead th {\n",
       "        text-align: right;\n",
       "    }\n",
       "</style>\n",
       "<table border=\"1\" class=\"dataframe\">\n",
       "  <thead>\n",
       "    <tr style=\"text-align: right;\">\n",
       "      <th></th>\n",
       "      <th>City</th>\n",
       "      <th>Neighborhood</th>\n",
       "      <th>Schools</th>\n",
       "      <th>Kindergartens_And_Dormitories</th>\n",
       "      <th>Non_Formal_Educational_Institutions</th>\n",
       "      <th>Education_Average_Distance</th>\n",
       "      <th>Green_Areas_SQM</th>\n",
       "      <th>Parks_And_Gardens</th>\n",
       "      <th>Green_Areas_Average_Distance</th>\n",
       "      <th>Parks_And_Gardens_Average_Distance</th>\n",
       "      <th>Public_Institutions</th>\n",
       "      <th>Community_Institutions</th>\n",
       "      <th>Religious_Institutions</th>\n",
       "      <th>Public_Building_Average_Distance</th>\n",
       "    </tr>\n",
       "  </thead>\n",
       "  <tbody>\n",
       "    <tr>\n",
       "      <th>0</th>\n",
       "      <td>אופקים</td>\n",
       "      <td>בן גוריון</td>\n",
       "      <td>4.0</td>\n",
       "      <td>12.0</td>\n",
       "      <td>3.0</td>\n",
       "      <td>720.0</td>\n",
       "      <td>18272.0</td>\n",
       "      <td>1.0</td>\n",
       "      <td>334.0</td>\n",
       "      <td>376.0</td>\n",
       "      <td>5.0</td>\n",
       "      <td>5.0</td>\n",
       "      <td>4.0</td>\n",
       "      <td>98.0</td>\n",
       "    </tr>\n",
       "    <tr>\n",
       "      <th>1</th>\n",
       "      <td>אופקים</td>\n",
       "      <td>דדו</td>\n",
       "      <td>2.0</td>\n",
       "      <td>NaN</td>\n",
       "      <td>NaN</td>\n",
       "      <td>687.0</td>\n",
       "      <td>6602.0</td>\n",
       "      <td>1.0</td>\n",
       "      <td>342.0</td>\n",
       "      <td>211.0</td>\n",
       "      <td>7.0</td>\n",
       "      <td>2.0</td>\n",
       "      <td>1.0</td>\n",
       "      <td>108.0</td>\n",
       "    </tr>\n",
       "    <tr>\n",
       "      <th>2</th>\n",
       "      <td>אופקים</td>\n",
       "      <td>הארזים</td>\n",
       "      <td>NaN</td>\n",
       "      <td>15.0</td>\n",
       "      <td>5.0</td>\n",
       "      <td>NaN</td>\n",
       "      <td>18294.0</td>\n",
       "      <td>2.0</td>\n",
       "      <td>324.0</td>\n",
       "      <td>372.0</td>\n",
       "      <td>18.0</td>\n",
       "      <td>14.0</td>\n",
       "      <td>4.0</td>\n",
       "      <td>117.0</td>\n",
       "    </tr>\n",
       "    <tr>\n",
       "      <th>3</th>\n",
       "      <td>אופקים</td>\n",
       "      <td>הרי\"ף</td>\n",
       "      <td>5.0</td>\n",
       "      <td>12.0</td>\n",
       "      <td>NaN</td>\n",
       "      <td>370.0</td>\n",
       "      <td>18294.0</td>\n",
       "      <td>1.0</td>\n",
       "      <td>283.0</td>\n",
       "      <td>222.0</td>\n",
       "      <td>2.0</td>\n",
       "      <td>12.0</td>\n",
       "      <td>5.0</td>\n",
       "      <td>88.0</td>\n",
       "    </tr>\n",
       "    <tr>\n",
       "      <th>4</th>\n",
       "      <td>אופקים</td>\n",
       "      <td>יעקב מסיקה</td>\n",
       "      <td>9.0</td>\n",
       "      <td>10.0</td>\n",
       "      <td>2.0</td>\n",
       "      <td>285.0</td>\n",
       "      <td>21177.0</td>\n",
       "      <td>1.0</td>\n",
       "      <td>326.0</td>\n",
       "      <td>377.0</td>\n",
       "      <td>4.0</td>\n",
       "      <td>11.0</td>\n",
       "      <td>7.0</td>\n",
       "      <td>106.0</td>\n",
       "    </tr>\n",
       "    <tr>\n",
       "      <th>...</th>\n",
       "      <td>...</td>\n",
       "      <td>...</td>\n",
       "      <td>...</td>\n",
       "      <td>...</td>\n",
       "      <td>...</td>\n",
       "      <td>...</td>\n",
       "      <td>...</td>\n",
       "      <td>...</td>\n",
       "      <td>...</td>\n",
       "      <td>...</td>\n",
       "      <td>...</td>\n",
       "      <td>...</td>\n",
       "      <td>...</td>\n",
       "      <td>...</td>\n",
       "    </tr>\n",
       "    <tr>\n",
       "      <th>283</th>\n",
       "      <td>ראש העין</td>\n",
       "      <td>פסגת טל</td>\n",
       "      <td>NaN</td>\n",
       "      <td>NaN</td>\n",
       "      <td>NaN</td>\n",
       "      <td>NaN</td>\n",
       "      <td>136.0</td>\n",
       "      <td>NaN</td>\n",
       "      <td>331.0</td>\n",
       "      <td>622.0</td>\n",
       "      <td>NaN</td>\n",
       "      <td>NaN</td>\n",
       "      <td>NaN</td>\n",
       "      <td>105.0</td>\n",
       "    </tr>\n",
       "    <tr>\n",
       "      <th>284</th>\n",
       "      <td>ראש העין</td>\n",
       "      <td>צה\"ל</td>\n",
       "      <td>1.0</td>\n",
       "      <td>10.0</td>\n",
       "      <td>1.0</td>\n",
       "      <td>356.0</td>\n",
       "      <td>98175.0</td>\n",
       "      <td>4.0</td>\n",
       "      <td>356.0</td>\n",
       "      <td>405.0</td>\n",
       "      <td>6.0</td>\n",
       "      <td>20.0</td>\n",
       "      <td>12.0</td>\n",
       "      <td>102.0</td>\n",
       "    </tr>\n",
       "    <tr>\n",
       "      <th>285</th>\n",
       "      <td>ראש העין</td>\n",
       "      <td>ראש העין צפון</td>\n",
       "      <td>NaN</td>\n",
       "      <td>NaN</td>\n",
       "      <td>NaN</td>\n",
       "      <td>NaN</td>\n",
       "      <td>NaN</td>\n",
       "      <td>NaN</td>\n",
       "      <td>NaN</td>\n",
       "      <td>NaN</td>\n",
       "      <td>NaN</td>\n",
       "      <td>NaN</td>\n",
       "      <td>NaN</td>\n",
       "      <td>NaN</td>\n",
       "    </tr>\n",
       "    <tr>\n",
       "      <th>286</th>\n",
       "      <td>ראש העין</td>\n",
       "      <td>רמב\"ם</td>\n",
       "      <td>3.0</td>\n",
       "      <td>15.0</td>\n",
       "      <td>1.0</td>\n",
       "      <td>290.0</td>\n",
       "      <td>87814.0</td>\n",
       "      <td>3.0</td>\n",
       "      <td>437.0</td>\n",
       "      <td>434.0</td>\n",
       "      <td>4.0</td>\n",
       "      <td>25.0</td>\n",
       "      <td>23.0</td>\n",
       "      <td>77.0</td>\n",
       "    </tr>\n",
       "    <tr>\n",
       "      <th>287</th>\n",
       "      <td>ראש העין</td>\n",
       "      <td>שבזי</td>\n",
       "      <td>2.0</td>\n",
       "      <td>9.0</td>\n",
       "      <td>2.0</td>\n",
       "      <td>303.0</td>\n",
       "      <td>88086.0</td>\n",
       "      <td>1.0</td>\n",
       "      <td>326.0</td>\n",
       "      <td>384.0</td>\n",
       "      <td>5.0</td>\n",
       "      <td>21.0</td>\n",
       "      <td>5.0</td>\n",
       "      <td>91.0</td>\n",
       "    </tr>\n",
       "  </tbody>\n",
       "</table>\n",
       "<p>288 rows × 14 columns</p>\n",
       "</div>"
      ],
      "text/plain": [
       "         City   Neighborhood  Schools  Kindergartens_And_Dormitories  \\\n",
       "0      אופקים      בן גוריון      4.0                           12.0   \n",
       "1      אופקים            דדו      2.0                            NaN   \n",
       "2      אופקים         הארזים      NaN                           15.0   \n",
       "3      אופקים          הרי\"ף      5.0                           12.0   \n",
       "4      אופקים     יעקב מסיקה      9.0                           10.0   \n",
       "..        ...            ...      ...                            ...   \n",
       "283  ראש העין        פסגת טל      NaN                            NaN   \n",
       "284  ראש העין           צה\"ל      1.0                           10.0   \n",
       "285  ראש העין  ראש העין צפון      NaN                            NaN   \n",
       "286  ראש העין          רמב\"ם      3.0                           15.0   \n",
       "287  ראש העין           שבזי      2.0                            9.0   \n",
       "\n",
       "     Non_Formal_Educational_Institutions  Education_Average_Distance  \\\n",
       "0                                    3.0                       720.0   \n",
       "1                                    NaN                       687.0   \n",
       "2                                    5.0                         NaN   \n",
       "3                                    NaN                       370.0   \n",
       "4                                    2.0                       285.0   \n",
       "..                                   ...                         ...   \n",
       "283                                  NaN                         NaN   \n",
       "284                                  1.0                       356.0   \n",
       "285                                  NaN                         NaN   \n",
       "286                                  1.0                       290.0   \n",
       "287                                  2.0                       303.0   \n",
       "\n",
       "     Green_Areas_SQM  Parks_And_Gardens  Green_Areas_Average_Distance  \\\n",
       "0            18272.0                1.0                         334.0   \n",
       "1             6602.0                1.0                         342.0   \n",
       "2            18294.0                2.0                         324.0   \n",
       "3            18294.0                1.0                         283.0   \n",
       "4            21177.0                1.0                         326.0   \n",
       "..               ...                ...                           ...   \n",
       "283            136.0                NaN                         331.0   \n",
       "284          98175.0                4.0                         356.0   \n",
       "285              NaN                NaN                           NaN   \n",
       "286          87814.0                3.0                         437.0   \n",
       "287          88086.0                1.0                         326.0   \n",
       "\n",
       "     Parks_And_Gardens_Average_Distance  Public_Institutions  \\\n",
       "0                                 376.0                  5.0   \n",
       "1                                 211.0                  7.0   \n",
       "2                                 372.0                 18.0   \n",
       "3                                 222.0                  2.0   \n",
       "4                                 377.0                  4.0   \n",
       "..                                  ...                  ...   \n",
       "283                               622.0                  NaN   \n",
       "284                               405.0                  6.0   \n",
       "285                                 NaN                  NaN   \n",
       "286                               434.0                  4.0   \n",
       "287                               384.0                  5.0   \n",
       "\n",
       "     Community_Institutions  Religious_Institutions  \\\n",
       "0                       5.0                     4.0   \n",
       "1                       2.0                     1.0   \n",
       "2                      14.0                     4.0   \n",
       "3                      12.0                     5.0   \n",
       "4                      11.0                     7.0   \n",
       "..                      ...                     ...   \n",
       "283                     NaN                     NaN   \n",
       "284                    20.0                    12.0   \n",
       "285                     NaN                     NaN   \n",
       "286                    25.0                    23.0   \n",
       "287                    21.0                     5.0   \n",
       "\n",
       "     Public_Building_Average_Distance  \n",
       "0                                98.0  \n",
       "1                               108.0  \n",
       "2                               117.0  \n",
       "3                                88.0  \n",
       "4                               106.0  \n",
       "..                                ...  \n",
       "283                             105.0  \n",
       "284                             102.0  \n",
       "285                               NaN  \n",
       "286                              77.0  \n",
       "287                              91.0  \n",
       "\n",
       "[288 rows x 14 columns]"
      ]
     },
     "execution_count": 125,
     "metadata": {},
     "output_type": "execute_result"
    }
   ],
   "source": [
    "for col in column:\n",
    "    df_Env[col] = pd.to_numeric(df_Env[col],errors='coerce')\n",
    "df_Env.replace(0,np.nan,inplace=True)\n",
    "df_Env"
   ]
  },
  {
   "cell_type": "markdown",
   "id": "585a4c78",
   "metadata": {},
   "source": [
    "Now, we want to replace the NaN values.\n",
    "But should it be done according to the median or the average?\n",
    "To answer this question, right now we will fill in according to the median and also according to the average.\n",
    "We will save the data in two separate DataSets.\n",
    "In the machine learning phase we can compare training with median and training with average."
   ]
  },
  {
   "cell_type": "markdown",
   "id": "913cc50f",
   "metadata": {},
   "source": [
    "### 4.0.4: Filling NaN values according to median and according to average"
   ]
  },
  {
   "cell_type": "markdown",
   "metadata": {},
   "source": [
    "***Note: The missing values ​​will be filled in according to the average and median data from the same city***"
   ]
  },
  {
   "cell_type": "code",
   "execution_count": 147,
   "metadata": {},
   "outputs": [],
   "source": [
    "df_Env_MedFill = df_Env.copy()\n",
    "df_Env_AvgFill = df_Env.copy()\n",
    "for i in range(len(df_Env)):\n",
    "    for col in column:\n",
    "        if pd.isna(df_Env.loc[i,col]):\n",
    "            df_Env_MedFill.loc[i,col] = df_Env_MedFill[df_Env_MedFill['City']==df_Env_MedFill.loc[i,'City']][col].median()\n",
    "            df_Env_AvgFill.loc[i,col] = df_Env_AvgFill[df_Env_AvgFill['City']==df_Env_AvgFill.loc[i,'City']][col].mean()"
   ]
  },
  {
   "cell_type": "code",
   "execution_count": 149,
   "id": "59c71cdd",
   "metadata": {},
   "outputs": [],
   "source": [
    "for col in column:\n",
    "    df_Env_MedFill[col] = df_Env_MedFill[col].astype('int32')\n",
    "    df_Env_AvgFill[col] = df_Env_AvgFill[col].astype('int32')"
   ]
  },
  {
   "cell_type": "code",
   "execution_count": 158,
   "id": "4552002f",
   "metadata": {},
   "outputs": [
    {
     "data": {
      "text/html": [
       "<div>\n",
       "<style scoped>\n",
       "    .dataframe tbody tr th:only-of-type {\n",
       "        vertical-align: middle;\n",
       "    }\n",
       "\n",
       "    .dataframe tbody tr th {\n",
       "        vertical-align: top;\n",
       "    }\n",
       "\n",
       "    .dataframe thead th {\n",
       "        text-align: right;\n",
       "    }\n",
       "</style>\n",
       "<table border=\"1\" class=\"dataframe\">\n",
       "  <thead>\n",
       "    <tr style=\"text-align: right;\">\n",
       "      <th></th>\n",
       "      <th>City</th>\n",
       "      <th>Neighborhood</th>\n",
       "      <th>Schools</th>\n",
       "      <th>Kindergartens_And_Dormitories</th>\n",
       "      <th>Non_Formal_Educational_Institutions</th>\n",
       "      <th>Education_Average_Distance</th>\n",
       "      <th>Green_Areas_SQM</th>\n",
       "      <th>Parks_And_Gardens</th>\n",
       "      <th>Green_Areas_Average_Distance</th>\n",
       "      <th>Parks_And_Gardens_Average_Distance</th>\n",
       "      <th>Public_Institutions</th>\n",
       "      <th>Community_Institutions</th>\n",
       "      <th>Religious_Institutions</th>\n",
       "      <th>Public_Building_Average_Distance</th>\n",
       "    </tr>\n",
       "  </thead>\n",
       "  <tbody>\n",
       "    <tr>\n",
       "      <th>0</th>\n",
       "      <td>אופקים</td>\n",
       "      <td>בן גוריון</td>\n",
       "      <td>4</td>\n",
       "      <td>12</td>\n",
       "      <td>3</td>\n",
       "      <td>720</td>\n",
       "      <td>18272</td>\n",
       "      <td>1</td>\n",
       "      <td>334</td>\n",
       "      <td>376</td>\n",
       "      <td>5</td>\n",
       "      <td>5</td>\n",
       "      <td>4</td>\n",
       "      <td>98</td>\n",
       "    </tr>\n",
       "    <tr>\n",
       "      <th>1</th>\n",
       "      <td>אופקים</td>\n",
       "      <td>דדו</td>\n",
       "      <td>2</td>\n",
       "      <td>11</td>\n",
       "      <td>2</td>\n",
       "      <td>687</td>\n",
       "      <td>6602</td>\n",
       "      <td>1</td>\n",
       "      <td>342</td>\n",
       "      <td>211</td>\n",
       "      <td>7</td>\n",
       "      <td>2</td>\n",
       "      <td>1</td>\n",
       "      <td>108</td>\n",
       "    </tr>\n",
       "    <tr>\n",
       "      <th>2</th>\n",
       "      <td>אופקים</td>\n",
       "      <td>הארזים</td>\n",
       "      <td>4</td>\n",
       "      <td>15</td>\n",
       "      <td>5</td>\n",
       "      <td>517</td>\n",
       "      <td>18294</td>\n",
       "      <td>2</td>\n",
       "      <td>324</td>\n",
       "      <td>372</td>\n",
       "      <td>18</td>\n",
       "      <td>14</td>\n",
       "      <td>4</td>\n",
       "      <td>117</td>\n",
       "    </tr>\n",
       "    <tr>\n",
       "      <th>3</th>\n",
       "      <td>אופקים</td>\n",
       "      <td>הרי\"ף</td>\n",
       "      <td>5</td>\n",
       "      <td>12</td>\n",
       "      <td>2</td>\n",
       "      <td>370</td>\n",
       "      <td>18294</td>\n",
       "      <td>1</td>\n",
       "      <td>283</td>\n",
       "      <td>222</td>\n",
       "      <td>2</td>\n",
       "      <td>12</td>\n",
       "      <td>5</td>\n",
       "      <td>88</td>\n",
       "    </tr>\n",
       "    <tr>\n",
       "      <th>4</th>\n",
       "      <td>אופקים</td>\n",
       "      <td>יעקב מסיקה</td>\n",
       "      <td>9</td>\n",
       "      <td>10</td>\n",
       "      <td>2</td>\n",
       "      <td>285</td>\n",
       "      <td>21177</td>\n",
       "      <td>1</td>\n",
       "      <td>326</td>\n",
       "      <td>377</td>\n",
       "      <td>4</td>\n",
       "      <td>11</td>\n",
       "      <td>7</td>\n",
       "      <td>106</td>\n",
       "    </tr>\n",
       "    <tr>\n",
       "      <th>...</th>\n",
       "      <td>...</td>\n",
       "      <td>...</td>\n",
       "      <td>...</td>\n",
       "      <td>...</td>\n",
       "      <td>...</td>\n",
       "      <td>...</td>\n",
       "      <td>...</td>\n",
       "      <td>...</td>\n",
       "      <td>...</td>\n",
       "      <td>...</td>\n",
       "      <td>...</td>\n",
       "      <td>...</td>\n",
       "      <td>...</td>\n",
       "      <td>...</td>\n",
       "    </tr>\n",
       "    <tr>\n",
       "      <th>283</th>\n",
       "      <td>ראש העין</td>\n",
       "      <td>פסגת טל</td>\n",
       "      <td>2</td>\n",
       "      <td>7</td>\n",
       "      <td>1</td>\n",
       "      <td>303</td>\n",
       "      <td>136</td>\n",
       "      <td>1</td>\n",
       "      <td>331</td>\n",
       "      <td>622</td>\n",
       "      <td>4</td>\n",
       "      <td>7</td>\n",
       "      <td>5</td>\n",
       "      <td>105</td>\n",
       "    </tr>\n",
       "    <tr>\n",
       "      <th>284</th>\n",
       "      <td>ראש העין</td>\n",
       "      <td>צה\"ל</td>\n",
       "      <td>1</td>\n",
       "      <td>10</td>\n",
       "      <td>1</td>\n",
       "      <td>356</td>\n",
       "      <td>98175</td>\n",
       "      <td>4</td>\n",
       "      <td>356</td>\n",
       "      <td>405</td>\n",
       "      <td>6</td>\n",
       "      <td>20</td>\n",
       "      <td>12</td>\n",
       "      <td>102</td>\n",
       "    </tr>\n",
       "    <tr>\n",
       "      <th>285</th>\n",
       "      <td>ראש העין</td>\n",
       "      <td>ראש העין צפון</td>\n",
       "      <td>2</td>\n",
       "      <td>7</td>\n",
       "      <td>1</td>\n",
       "      <td>303</td>\n",
       "      <td>87433</td>\n",
       "      <td>1</td>\n",
       "      <td>312</td>\n",
       "      <td>434</td>\n",
       "      <td>4</td>\n",
       "      <td>7</td>\n",
       "      <td>5</td>\n",
       "      <td>112</td>\n",
       "    </tr>\n",
       "    <tr>\n",
       "      <th>286</th>\n",
       "      <td>ראש העין</td>\n",
       "      <td>רמב\"ם</td>\n",
       "      <td>3</td>\n",
       "      <td>15</td>\n",
       "      <td>1</td>\n",
       "      <td>290</td>\n",
       "      <td>87814</td>\n",
       "      <td>3</td>\n",
       "      <td>437</td>\n",
       "      <td>434</td>\n",
       "      <td>4</td>\n",
       "      <td>25</td>\n",
       "      <td>23</td>\n",
       "      <td>77</td>\n",
       "    </tr>\n",
       "    <tr>\n",
       "      <th>287</th>\n",
       "      <td>ראש העין</td>\n",
       "      <td>שבזי</td>\n",
       "      <td>2</td>\n",
       "      <td>9</td>\n",
       "      <td>2</td>\n",
       "      <td>303</td>\n",
       "      <td>88086</td>\n",
       "      <td>1</td>\n",
       "      <td>326</td>\n",
       "      <td>384</td>\n",
       "      <td>5</td>\n",
       "      <td>21</td>\n",
       "      <td>5</td>\n",
       "      <td>91</td>\n",
       "    </tr>\n",
       "  </tbody>\n",
       "</table>\n",
       "<p>288 rows × 14 columns</p>\n",
       "</div>"
      ],
      "text/plain": [
       "         City   Neighborhood  Schools  Kindergartens_And_Dormitories  \\\n",
       "0      אופקים      בן גוריון        4                             12   \n",
       "1      אופקים            דדו        2                             11   \n",
       "2      אופקים         הארזים        4                             15   \n",
       "3      אופקים          הרי\"ף        5                             12   \n",
       "4      אופקים     יעקב מסיקה        9                             10   \n",
       "..        ...            ...      ...                            ...   \n",
       "283  ראש העין        פסגת טל        2                              7   \n",
       "284  ראש העין           צה\"ל        1                             10   \n",
       "285  ראש העין  ראש העין צפון        2                              7   \n",
       "286  ראש העין          רמב\"ם        3                             15   \n",
       "287  ראש העין           שבזי        2                              9   \n",
       "\n",
       "     Non_Formal_Educational_Institutions  Education_Average_Distance  \\\n",
       "0                                      3                         720   \n",
       "1                                      2                         687   \n",
       "2                                      5                         517   \n",
       "3                                      2                         370   \n",
       "4                                      2                         285   \n",
       "..                                   ...                         ...   \n",
       "283                                    1                         303   \n",
       "284                                    1                         356   \n",
       "285                                    1                         303   \n",
       "286                                    1                         290   \n",
       "287                                    2                         303   \n",
       "\n",
       "     Green_Areas_SQM  Parks_And_Gardens  Green_Areas_Average_Distance  \\\n",
       "0              18272                  1                           334   \n",
       "1               6602                  1                           342   \n",
       "2              18294                  2                           324   \n",
       "3              18294                  1                           283   \n",
       "4              21177                  1                           326   \n",
       "..               ...                ...                           ...   \n",
       "283              136                  1                           331   \n",
       "284            98175                  4                           356   \n",
       "285            87433                  1                           312   \n",
       "286            87814                  3                           437   \n",
       "287            88086                  1                           326   \n",
       "\n",
       "     Parks_And_Gardens_Average_Distance  Public_Institutions  \\\n",
       "0                                   376                    5   \n",
       "1                                   211                    7   \n",
       "2                                   372                   18   \n",
       "3                                   222                    2   \n",
       "4                                   377                    4   \n",
       "..                                  ...                  ...   \n",
       "283                                 622                    4   \n",
       "284                                 405                    6   \n",
       "285                                 434                    4   \n",
       "286                                 434                    4   \n",
       "287                                 384                    5   \n",
       "\n",
       "     Community_Institutions  Religious_Institutions  \\\n",
       "0                         5                       4   \n",
       "1                         2                       1   \n",
       "2                        14                       4   \n",
       "3                        12                       5   \n",
       "4                        11                       7   \n",
       "..                      ...                     ...   \n",
       "283                       7                       5   \n",
       "284                      20                      12   \n",
       "285                       7                       5   \n",
       "286                      25                      23   \n",
       "287                      21                       5   \n",
       "\n",
       "     Public_Building_Average_Distance  \n",
       "0                                  98  \n",
       "1                                 108  \n",
       "2                                 117  \n",
       "3                                  88  \n",
       "4                                 106  \n",
       "..                                ...  \n",
       "283                               105  \n",
       "284                               102  \n",
       "285                               112  \n",
       "286                                77  \n",
       "287                                91  \n",
       "\n",
       "[288 rows x 14 columns]"
      ]
     },
     "execution_count": 158,
     "metadata": {},
     "output_type": "execute_result"
    }
   ],
   "source": [
    "df_Env_MedFill"
   ]
  },
  {
   "cell_type": "code",
   "execution_count": 159,
   "metadata": {},
   "outputs": [
    {
     "data": {
      "text/html": [
       "<div>\n",
       "<style scoped>\n",
       "    .dataframe tbody tr th:only-of-type {\n",
       "        vertical-align: middle;\n",
       "    }\n",
       "\n",
       "    .dataframe tbody tr th {\n",
       "        vertical-align: top;\n",
       "    }\n",
       "\n",
       "    .dataframe thead th {\n",
       "        text-align: right;\n",
       "    }\n",
       "</style>\n",
       "<table border=\"1\" class=\"dataframe\">\n",
       "  <thead>\n",
       "    <tr style=\"text-align: right;\">\n",
       "      <th></th>\n",
       "      <th>City</th>\n",
       "      <th>Neighborhood</th>\n",
       "      <th>Schools</th>\n",
       "      <th>Kindergartens_And_Dormitories</th>\n",
       "      <th>Non_Formal_Educational_Institutions</th>\n",
       "      <th>Education_Average_Distance</th>\n",
       "      <th>Green_Areas_SQM</th>\n",
       "      <th>Parks_And_Gardens</th>\n",
       "      <th>Green_Areas_Average_Distance</th>\n",
       "      <th>Parks_And_Gardens_Average_Distance</th>\n",
       "      <th>Public_Institutions</th>\n",
       "      <th>Community_Institutions</th>\n",
       "      <th>Religious_Institutions</th>\n",
       "      <th>Public_Building_Average_Distance</th>\n",
       "    </tr>\n",
       "  </thead>\n",
       "  <tbody>\n",
       "    <tr>\n",
       "      <th>0</th>\n",
       "      <td>אופקים</td>\n",
       "      <td>בן גוריון</td>\n",
       "      <td>4</td>\n",
       "      <td>12</td>\n",
       "      <td>3</td>\n",
       "      <td>720</td>\n",
       "      <td>18272</td>\n",
       "      <td>1</td>\n",
       "      <td>334</td>\n",
       "      <td>376</td>\n",
       "      <td>5</td>\n",
       "      <td>5</td>\n",
       "      <td>4</td>\n",
       "      <td>98</td>\n",
       "    </tr>\n",
       "    <tr>\n",
       "      <th>1</th>\n",
       "      <td>אופקים</td>\n",
       "      <td>דדו</td>\n",
       "      <td>2</td>\n",
       "      <td>11</td>\n",
       "      <td>2</td>\n",
       "      <td>687</td>\n",
       "      <td>6602</td>\n",
       "      <td>1</td>\n",
       "      <td>342</td>\n",
       "      <td>211</td>\n",
       "      <td>7</td>\n",
       "      <td>2</td>\n",
       "      <td>1</td>\n",
       "      <td>108</td>\n",
       "    </tr>\n",
       "    <tr>\n",
       "      <th>2</th>\n",
       "      <td>אופקים</td>\n",
       "      <td>הארזים</td>\n",
       "      <td>4</td>\n",
       "      <td>15</td>\n",
       "      <td>5</td>\n",
       "      <td>515</td>\n",
       "      <td>18294</td>\n",
       "      <td>2</td>\n",
       "      <td>324</td>\n",
       "      <td>372</td>\n",
       "      <td>18</td>\n",
       "      <td>14</td>\n",
       "      <td>4</td>\n",
       "      <td>117</td>\n",
       "    </tr>\n",
       "    <tr>\n",
       "      <th>3</th>\n",
       "      <td>אופקים</td>\n",
       "      <td>הרי\"ף</td>\n",
       "      <td>5</td>\n",
       "      <td>12</td>\n",
       "      <td>2</td>\n",
       "      <td>370</td>\n",
       "      <td>18294</td>\n",
       "      <td>1</td>\n",
       "      <td>283</td>\n",
       "      <td>222</td>\n",
       "      <td>2</td>\n",
       "      <td>12</td>\n",
       "      <td>5</td>\n",
       "      <td>88</td>\n",
       "    </tr>\n",
       "    <tr>\n",
       "      <th>4</th>\n",
       "      <td>אופקים</td>\n",
       "      <td>יעקב מסיקה</td>\n",
       "      <td>9</td>\n",
       "      <td>10</td>\n",
       "      <td>2</td>\n",
       "      <td>285</td>\n",
       "      <td>21177</td>\n",
       "      <td>1</td>\n",
       "      <td>326</td>\n",
       "      <td>377</td>\n",
       "      <td>4</td>\n",
       "      <td>11</td>\n",
       "      <td>7</td>\n",
       "      <td>106</td>\n",
       "    </tr>\n",
       "    <tr>\n",
       "      <th>...</th>\n",
       "      <td>...</td>\n",
       "      <td>...</td>\n",
       "      <td>...</td>\n",
       "      <td>...</td>\n",
       "      <td>...</td>\n",
       "      <td>...</td>\n",
       "      <td>...</td>\n",
       "      <td>...</td>\n",
       "      <td>...</td>\n",
       "      <td>...</td>\n",
       "      <td>...</td>\n",
       "      <td>...</td>\n",
       "      <td>...</td>\n",
       "      <td>...</td>\n",
       "    </tr>\n",
       "    <tr>\n",
       "      <th>283</th>\n",
       "      <td>ראש העין</td>\n",
       "      <td>פסגת טל</td>\n",
       "      <td>2</td>\n",
       "      <td>8</td>\n",
       "      <td>2</td>\n",
       "      <td>353</td>\n",
       "      <td>136</td>\n",
       "      <td>2</td>\n",
       "      <td>331</td>\n",
       "      <td>622</td>\n",
       "      <td>5</td>\n",
       "      <td>13</td>\n",
       "      <td>8</td>\n",
       "      <td>105</td>\n",
       "    </tr>\n",
       "    <tr>\n",
       "      <th>284</th>\n",
       "      <td>ראש העין</td>\n",
       "      <td>צה\"ל</td>\n",
       "      <td>1</td>\n",
       "      <td>10</td>\n",
       "      <td>1</td>\n",
       "      <td>356</td>\n",
       "      <td>98175</td>\n",
       "      <td>4</td>\n",
       "      <td>356</td>\n",
       "      <td>405</td>\n",
       "      <td>6</td>\n",
       "      <td>20</td>\n",
       "      <td>12</td>\n",
       "      <td>102</td>\n",
       "    </tr>\n",
       "    <tr>\n",
       "      <th>285</th>\n",
       "      <td>ראש העין</td>\n",
       "      <td>ראש העין צפון</td>\n",
       "      <td>2</td>\n",
       "      <td>8</td>\n",
       "      <td>2</td>\n",
       "      <td>353</td>\n",
       "      <td>50030</td>\n",
       "      <td>2</td>\n",
       "      <td>309</td>\n",
       "      <td>476</td>\n",
       "      <td>5</td>\n",
       "      <td>13</td>\n",
       "      <td>8</td>\n",
       "      <td>192</td>\n",
       "    </tr>\n",
       "    <tr>\n",
       "      <th>286</th>\n",
       "      <td>ראש העין</td>\n",
       "      <td>רמב\"ם</td>\n",
       "      <td>3</td>\n",
       "      <td>15</td>\n",
       "      <td>1</td>\n",
       "      <td>290</td>\n",
       "      <td>87814</td>\n",
       "      <td>3</td>\n",
       "      <td>437</td>\n",
       "      <td>434</td>\n",
       "      <td>4</td>\n",
       "      <td>25</td>\n",
       "      <td>23</td>\n",
       "      <td>77</td>\n",
       "    </tr>\n",
       "    <tr>\n",
       "      <th>287</th>\n",
       "      <td>ראש העין</td>\n",
       "      <td>שבזי</td>\n",
       "      <td>2</td>\n",
       "      <td>9</td>\n",
       "      <td>2</td>\n",
       "      <td>303</td>\n",
       "      <td>88086</td>\n",
       "      <td>1</td>\n",
       "      <td>326</td>\n",
       "      <td>384</td>\n",
       "      <td>5</td>\n",
       "      <td>21</td>\n",
       "      <td>5</td>\n",
       "      <td>91</td>\n",
       "    </tr>\n",
       "  </tbody>\n",
       "</table>\n",
       "<p>288 rows × 14 columns</p>\n",
       "</div>"
      ],
      "text/plain": [
       "         City   Neighborhood  Schools  Kindergartens_And_Dormitories  \\\n",
       "0      אופקים      בן גוריון        4                             12   \n",
       "1      אופקים            דדו        2                             11   \n",
       "2      אופקים         הארזים        4                             15   \n",
       "3      אופקים          הרי\"ף        5                             12   \n",
       "4      אופקים     יעקב מסיקה        9                             10   \n",
       "..        ...            ...      ...                            ...   \n",
       "283  ראש העין        פסגת טל        2                              8   \n",
       "284  ראש העין           צה\"ל        1                             10   \n",
       "285  ראש העין  ראש העין צפון        2                              8   \n",
       "286  ראש העין          רמב\"ם        3                             15   \n",
       "287  ראש העין           שבזי        2                              9   \n",
       "\n",
       "     Non_Formal_Educational_Institutions  Education_Average_Distance  \\\n",
       "0                                      3                         720   \n",
       "1                                      2                         687   \n",
       "2                                      5                         515   \n",
       "3                                      2                         370   \n",
       "4                                      2                         285   \n",
       "..                                   ...                         ...   \n",
       "283                                    2                         353   \n",
       "284                                    1                         356   \n",
       "285                                    2                         353   \n",
       "286                                    1                         290   \n",
       "287                                    2                         303   \n",
       "\n",
       "     Green_Areas_SQM  Parks_And_Gardens  Green_Areas_Average_Distance  \\\n",
       "0              18272                  1                           334   \n",
       "1               6602                  1                           342   \n",
       "2              18294                  2                           324   \n",
       "3              18294                  1                           283   \n",
       "4              21177                  1                           326   \n",
       "..               ...                ...                           ...   \n",
       "283              136                  2                           331   \n",
       "284            98175                  4                           356   \n",
       "285            50030                  2                           309   \n",
       "286            87814                  3                           437   \n",
       "287            88086                  1                           326   \n",
       "\n",
       "     Parks_And_Gardens_Average_Distance  Public_Institutions  \\\n",
       "0                                   376                    5   \n",
       "1                                   211                    7   \n",
       "2                                   372                   18   \n",
       "3                                   222                    2   \n",
       "4                                   377                    4   \n",
       "..                                  ...                  ...   \n",
       "283                                 622                    5   \n",
       "284                                 405                    6   \n",
       "285                                 476                    5   \n",
       "286                                 434                    4   \n",
       "287                                 384                    5   \n",
       "\n",
       "     Community_Institutions  Religious_Institutions  \\\n",
       "0                         5                       4   \n",
       "1                         2                       1   \n",
       "2                        14                       4   \n",
       "3                        12                       5   \n",
       "4                        11                       7   \n",
       "..                      ...                     ...   \n",
       "283                      13                       8   \n",
       "284                      20                      12   \n",
       "285                      13                       8   \n",
       "286                      25                      23   \n",
       "287                      21                       5   \n",
       "\n",
       "     Public_Building_Average_Distance  \n",
       "0                                  98  \n",
       "1                                 108  \n",
       "2                                 117  \n",
       "3                                  88  \n",
       "4                                 106  \n",
       "..                                ...  \n",
       "283                               105  \n",
       "284                               102  \n",
       "285                               192  \n",
       "286                                77  \n",
       "287                                91  \n",
       "\n",
       "[288 rows x 14 columns]"
      ]
     },
     "execution_count": 159,
     "metadata": {},
     "output_type": "execute_result"
    }
   ],
   "source": [
    "df_Env_AvgFill"
   ]
  },
  {
   "cell_type": "code",
   "execution_count": 155,
   "id": "0ae6bd15",
   "metadata": {},
   "outputs": [
    {
     "data": {
      "image/png": "[encoded data removed]",
      "text/plain": [
       "<Figure size 3600x7200 with 12 Axes>"
      ]
     },
     "metadata": {
      "needs_background": "light"
     },
     "output_type": "display_data"
    }
   ],
   "source": [
    "figure,axis = plt.subplots(6,2,figsize=(50,100))\n",
    "i=0\n",
    "for col in df_Env_MedFill.columns[2::]:\n",
    "    sb.boxplot(data=df_Env_MedFill,x=col,ax=axis[int(i/2),int(i%2)],color='r')\n",
    "    axis[int(i/2),int(i%2)].set_title(col,fontsize=30)\n",
    "    i+=1"
   ]
  },
  {
   "cell_type": "code",
   "execution_count": 156,
   "id": "e92b2c91",
   "metadata": {},
   "outputs": [
    {
     "data": {
      "image/png": "[encoded data removed]",
      "text/plain": [
       "<Figure size 3600x7200 with 12 Axes>"
      ]
     },
     "metadata": {
      "needs_background": "light"
     },
     "output_type": "display_data"
    }
   ],
   "source": [
    "figure,axis = plt.subplots(6,2,figsize=(50,100))\n",
    "i=0\n",
    "for col in df_Env_AvgFill.columns[2::]:\n",
    "    sb.boxplot(data=df_Env_AvgFill,x=col,ax=axis[int(i/2),int(i%2)],color='b')\n",
    "    axis[int(i/2),int(i%2)].set_title(col,fontsize=30)\n",
    "    i+=1"
   ]
  },
  {
   "cell_type": "markdown",
   "id": "84bf1d96",
   "metadata": {},
   "source": [
    "#### as you can see, There are almost no differences in terms of completing the average and completing the median."
   ]
  },
  {
   "cell_type": "code",
   "execution_count": 153,
   "id": "882dfd57",
   "metadata": {},
   "outputs": [],
   "source": [
    "df_Env_MedFill.to_csv('Processed Data\\AllCitiesEnvironment (MedianFill).csv', index=False)\n",
    "df_Env_AvgFill.to_csv('Processed Data\\AllCitiesEnvorinment (AverageFill).csv', index=False)"
   ]
  }
 ],
 "metadata": {
  "kernelspec": {
   "display_name": "Python 3 (ipykernel)",
   "language": "python",
   "name": "python3"
  },
  "language_info": {
   "codemirror_mode": {
    "name": "ipython",
    "version": 3
   },
   "file_extension": ".py",
   "mimetype": "text/x-python",
   "name": "python",
   "nbconvert_exporter": "python",
   "pygments_lexer": "ipython3",
   "version": "3.9.12"
  },
  "vscode": {
   "interpreter": {
    "hash": "6ba4e124e809167fae3d453b9e38b913849b4217f32f51bace9f1e9bc6d1f243"
   }
  }
 },
 "nbformat": 4,
 "nbformat_minor": 2
}
